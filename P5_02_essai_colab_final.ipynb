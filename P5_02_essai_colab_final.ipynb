{
 "cells": [
  {
   "cell_type": "markdown",
   "metadata": {
    "id": "b54oJFIFVe9B"
   },
   "source": [
    "# P5_02_Testing\n",
    "executé sur Colab"
   ]
  },
  {
   "cell_type": "code",
   "execution_count": 1,
   "metadata": {
    "colab": {
     "base_uri": "https://localhost:8080/",
     "height": 35
    },
    "id": "T-YM3lo0zpsK",
    "outputId": "43569e71-0ed9-4939-867a-015444e8db72"
   },
   "outputs": [
    {
     "data": {
      "application/vnd.google.colaboratory.intrinsic+json": {
       "type": "string"
      },
      "text/plain": [
       "'/device:GPU:0'"
      ]
     },
     "execution_count": 1,
     "metadata": {},
     "output_type": "execute_result"
    }
   ],
   "source": [
    "import tensorflow as tf\n",
    "tf.test.gpu_device_name()"
   ]
  },
  {
   "cell_type": "code",
   "execution_count": 2,
   "metadata": {
    "colab": {
     "base_uri": "https://localhost:8080/"
    },
    "id": "VGZcVWRJvKa_",
    "outputId": "004aeb14-de9b-4844-f7d9-c70c9cd64576"
   },
   "outputs": [
    {
     "name": "stdout",
     "output_type": "stream",
     "text": [
      "Collecting glove-python-binary\n",
      "  Downloading glove_python_binary-0.2.0-cp37-cp37m-manylinux1_x86_64.whl (948 kB)\n",
      "\u001b[K     |████████████████████████████████| 948 kB 5.0 MB/s \n",
      "\u001b[?25hRequirement already satisfied: numpy in /usr/local/lib/python3.7/dist-packages (from glove-python-binary) (1.21.6)\n",
      "Requirement already satisfied: scipy in /usr/local/lib/python3.7/dist-packages (from glove-python-binary) (1.4.1)\n",
      "Installing collected packages: glove-python-binary\n",
      "Successfully installed glove-python-binary-0.2.0\n"
     ]
    }
   ],
   "source": [
    "#install de glove\n",
    "!pip install glove-python-binary"
   ]
  },
  {
   "cell_type": "code",
   "execution_count": 3,
   "metadata": {
    "colab": {
     "base_uri": "https://localhost:8080/"
    },
    "id": "_gmVmfBJwEbD",
    "outputId": "0f494ec0-e686-4bbb-8a90-05dfea8221f3"
   },
   "outputs": [
    {
     "name": "stdout",
     "output_type": "stream",
     "text": [
      "Collecting transformers\n",
      "  Downloading transformers-4.18.0-py3-none-any.whl (4.0 MB)\n",
      "\u001b[K     |████████████████████████████████| 4.0 MB 5.4 MB/s \n",
      "\u001b[?25hRequirement already satisfied: tqdm>=4.27 in /usr/local/lib/python3.7/dist-packages (from transformers) (4.64.0)\n",
      "Requirement already satisfied: importlib-metadata in /usr/local/lib/python3.7/dist-packages (from transformers) (4.11.3)\n",
      "Requirement already satisfied: packaging>=20.0 in /usr/local/lib/python3.7/dist-packages (from transformers) (21.3)\n",
      "Collecting pyyaml>=5.1\n",
      "  Downloading PyYAML-6.0-cp37-cp37m-manylinux_2_5_x86_64.manylinux1_x86_64.manylinux_2_12_x86_64.manylinux2010_x86_64.whl (596 kB)\n",
      "\u001b[K     |████████████████████████████████| 596 kB 42.8 MB/s \n",
      "\u001b[?25hRequirement already satisfied: regex!=2019.12.17 in /usr/local/lib/python3.7/dist-packages (from transformers) (2019.12.20)\n",
      "Requirement already satisfied: filelock in /usr/local/lib/python3.7/dist-packages (from transformers) (3.6.0)\n",
      "Collecting sacremoses\n",
      "  Downloading sacremoses-0.0.53.tar.gz (880 kB)\n",
      "\u001b[K     |████████████████████████████████| 880 kB 47.6 MB/s \n",
      "\u001b[?25hCollecting tokenizers!=0.11.3,<0.13,>=0.11.1\n",
      "  Downloading tokenizers-0.12.1-cp37-cp37m-manylinux_2_12_x86_64.manylinux2010_x86_64.whl (6.6 MB)\n",
      "\u001b[K     |████████████████████████████████| 6.6 MB 26.8 MB/s \n",
      "\u001b[?25hCollecting huggingface-hub<1.0,>=0.1.0\n",
      "  Downloading huggingface_hub-0.5.1-py3-none-any.whl (77 kB)\n",
      "\u001b[K     |████████████████████████████████| 77 kB 5.2 MB/s \n",
      "\u001b[?25hRequirement already satisfied: numpy>=1.17 in /usr/local/lib/python3.7/dist-packages (from transformers) (1.21.6)\n",
      "Requirement already satisfied: requests in /usr/local/lib/python3.7/dist-packages (from transformers) (2.23.0)\n",
      "Requirement already satisfied: typing-extensions>=3.7.4.3 in /usr/local/lib/python3.7/dist-packages (from huggingface-hub<1.0,>=0.1.0->transformers) (4.2.0)\n",
      "Requirement already satisfied: pyparsing!=3.0.5,>=2.0.2 in /usr/local/lib/python3.7/dist-packages (from packaging>=20.0->transformers) (3.0.8)\n",
      "Requirement already satisfied: zipp>=0.5 in /usr/local/lib/python3.7/dist-packages (from importlib-metadata->transformers) (3.8.0)\n",
      "Requirement already satisfied: urllib3!=1.25.0,!=1.25.1,<1.26,>=1.21.1 in /usr/local/lib/python3.7/dist-packages (from requests->transformers) (1.24.3)\n",
      "Requirement already satisfied: idna<3,>=2.5 in /usr/local/lib/python3.7/dist-packages (from requests->transformers) (2.10)\n",
      "Requirement already satisfied: certifi>=2017.4.17 in /usr/local/lib/python3.7/dist-packages (from requests->transformers) (2021.10.8)\n",
      "Requirement already satisfied: chardet<4,>=3.0.2 in /usr/local/lib/python3.7/dist-packages (from requests->transformers) (3.0.4)\n",
      "Requirement already satisfied: six in /usr/local/lib/python3.7/dist-packages (from sacremoses->transformers) (1.15.0)\n",
      "Requirement already satisfied: click in /usr/local/lib/python3.7/dist-packages (from sacremoses->transformers) (7.1.2)\n",
      "Requirement already satisfied: joblib in /usr/local/lib/python3.7/dist-packages (from sacremoses->transformers) (1.1.0)\n",
      "Building wheels for collected packages: sacremoses\n",
      "  Building wheel for sacremoses (setup.py) ... \u001b[?25l\u001b[?25hdone\n",
      "  Created wheel for sacremoses: filename=sacremoses-0.0.53-py3-none-any.whl size=895260 sha256=028d6b389ac62df9873a82a45557a8674add195008dc3a20f82e3fa7b10a8c84\n",
      "  Stored in directory: /root/.cache/pip/wheels/87/39/dd/a83eeef36d0bf98e7a4d1933a4ad2d660295a40613079bafc9\n",
      "Successfully built sacremoses\n",
      "Installing collected packages: pyyaml, tokenizers, sacremoses, huggingface-hub, transformers\n",
      "  Attempting uninstall: pyyaml\n",
      "    Found existing installation: PyYAML 3.13\n",
      "    Uninstalling PyYAML-3.13:\n",
      "      Successfully uninstalled PyYAML-3.13\n",
      "Successfully installed huggingface-hub-0.5.1 pyyaml-6.0 sacremoses-0.0.53 tokenizers-0.12.1 transformers-4.18.0\n"
     ]
    }
   ],
   "source": [
    "#install de BERT\n",
    "!pip install transformers"
   ]
  },
  {
   "cell_type": "code",
   "execution_count": 4,
   "metadata": {
    "colab": {
     "base_uri": "https://localhost:8080/",
     "height": 783
    },
    "id": "w8JmrQEDwFeu",
    "outputId": "e2f8fc46-7c35-424a-e58b-7010f033ae3b"
   },
   "outputs": [
    {
     "name": "stdout",
     "output_type": "stream",
     "text": [
      "Collecting pytorch_pretrained_bert\n",
      "  Downloading pytorch_pretrained_bert-0.6.2-py3-none-any.whl (123 kB)\n",
      "\u001b[?25l\r",
      "\u001b[K     |██▋                             | 10 kB 17.1 MB/s eta 0:00:01\r",
      "\u001b[K     |█████▎                          | 20 kB 12.7 MB/s eta 0:00:01\r",
      "\u001b[K     |████████                        | 30 kB 9.7 MB/s eta 0:00:01\r",
      "\u001b[K     |██████████▋                     | 40 kB 8.8 MB/s eta 0:00:01\r",
      "\u001b[K     |█████████████▎                  | 51 kB 4.3 MB/s eta 0:00:01\r",
      "\u001b[K     |███████████████▉                | 61 kB 5.1 MB/s eta 0:00:01\r",
      "\u001b[K     |██████████████████▌             | 71 kB 5.6 MB/s eta 0:00:01\r",
      "\u001b[K     |█████████████████████▏          | 81 kB 5.8 MB/s eta 0:00:01\r",
      "\u001b[K     |███████████████████████▉        | 92 kB 6.4 MB/s eta 0:00:01\r",
      "\u001b[K     |██████████████████████████▌     | 102 kB 5.3 MB/s eta 0:00:01\r",
      "\u001b[K     |█████████████████████████████▏  | 112 kB 5.3 MB/s eta 0:00:01\r",
      "\u001b[K     |███████████████████████████████▊| 122 kB 5.3 MB/s eta 0:00:01\r",
      "\u001b[K     |████████████████████████████████| 123 kB 5.3 MB/s \n",
      "\u001b[?25hRequirement already satisfied: tqdm in /usr/local/lib/python3.7/dist-packages (from pytorch_pretrained_bert) (4.64.0)\n",
      "Requirement already satisfied: numpy in /usr/local/lib/python3.7/dist-packages (from pytorch_pretrained_bert) (1.21.6)\n",
      "Requirement already satisfied: torch>=0.4.1 in /usr/local/lib/python3.7/dist-packages (from pytorch_pretrained_bert) (1.11.0+cu113)\n",
      "Requirement already satisfied: regex in /usr/local/lib/python3.7/dist-packages (from pytorch_pretrained_bert) (2019.12.20)\n",
      "Collecting boto3\n",
      "  Downloading boto3-1.22.9-py3-none-any.whl (132 kB)\n",
      "\u001b[K     |████████████████████████████████| 132 kB 37.2 MB/s \n",
      "\u001b[?25hRequirement already satisfied: requests in /usr/local/lib/python3.7/dist-packages (from pytorch_pretrained_bert) (2.23.0)\n",
      "Requirement already satisfied: typing-extensions in /usr/local/lib/python3.7/dist-packages (from torch>=0.4.1->pytorch_pretrained_bert) (4.2.0)\n",
      "Collecting botocore<1.26.0,>=1.25.9\n",
      "  Downloading botocore-1.25.9-py3-none-any.whl (8.7 MB)\n",
      "\u001b[K     |████████████████████████████████| 8.7 MB 33.5 MB/s \n",
      "\u001b[?25hCollecting jmespath<2.0.0,>=0.7.1\n",
      "  Downloading jmespath-1.0.0-py3-none-any.whl (23 kB)\n",
      "Collecting s3transfer<0.6.0,>=0.5.0\n",
      "  Downloading s3transfer-0.5.2-py3-none-any.whl (79 kB)\n",
      "\u001b[K     |████████████████████████████████| 79 kB 6.7 MB/s \n",
      "\u001b[?25hRequirement already satisfied: python-dateutil<3.0.0,>=2.1 in /usr/local/lib/python3.7/dist-packages (from botocore<1.26.0,>=1.25.9->boto3->pytorch_pretrained_bert) (2.8.2)\n",
      "Collecting urllib3<1.27,>=1.25.4\n",
      "  Downloading urllib3-1.26.9-py2.py3-none-any.whl (138 kB)\n",
      "\u001b[K     |████████████████████████████████| 138 kB 33.4 MB/s \n",
      "\u001b[?25hRequirement already satisfied: six>=1.5 in /usr/local/lib/python3.7/dist-packages (from python-dateutil<3.0.0,>=2.1->botocore<1.26.0,>=1.25.9->boto3->pytorch_pretrained_bert) (1.15.0)\n",
      "  Downloading urllib3-1.25.11-py2.py3-none-any.whl (127 kB)\n",
      "\u001b[K     |████████████████████████████████| 127 kB 34.7 MB/s \n",
      "\u001b[?25hRequirement already satisfied: idna<3,>=2.5 in /usr/local/lib/python3.7/dist-packages (from requests->pytorch_pretrained_bert) (2.10)\n",
      "Requirement already satisfied: chardet<4,>=3.0.2 in /usr/local/lib/python3.7/dist-packages (from requests->pytorch_pretrained_bert) (3.0.4)\n",
      "Requirement already satisfied: certifi>=2017.4.17 in /usr/local/lib/python3.7/dist-packages (from requests->pytorch_pretrained_bert) (2021.10.8)\n",
      "Installing collected packages: urllib3, jmespath, botocore, s3transfer, boto3, pytorch-pretrained-bert\n",
      "  Attempting uninstall: urllib3\n",
      "    Found existing installation: urllib3 1.24.3\n",
      "    Uninstalling urllib3-1.24.3:\n",
      "      Successfully uninstalled urllib3-1.24.3\n",
      "\u001b[31mERROR: pip's dependency resolver does not currently take into account all the packages that are installed. This behaviour is the source of the following dependency conflicts.\n",
      "datascience 0.10.6 requires folium==0.2.1, but you have folium 0.8.3 which is incompatible.\u001b[0m\n",
      "Successfully installed boto3-1.22.9 botocore-1.25.9 jmespath-1.0.0 pytorch-pretrained-bert-0.6.2 s3transfer-0.5.2 urllib3-1.25.11\n"
     ]
    },
    {
     "data": {
      "application/vnd.colab-display-data+json": {
       "pip_warning": {
        "packages": [
         "urllib3"
        ]
       }
      }
     },
     "metadata": {},
     "output_type": "display_data"
    }
   ],
   "source": [
    "!pip install pytorch_pretrained_bert"
   ]
  },
  {
   "cell_type": "code",
   "execution_count": 5,
   "metadata": {
    "colab": {
     "base_uri": "https://localhost:8080/"
    },
    "id": "0rWuQ_qPyE2T",
    "outputId": "8e9cc315-0d0c-4bdb-c683-09e1a1235139"
   },
   "outputs": [
    {
     "name": "stdout",
     "output_type": "stream",
     "text": [
      "\u001b[?25l\r",
      "\u001b[K     |▏                               | 10 kB 18.9 MB/s eta 0:00:01\r",
      "\u001b[K     |▍                               | 20 kB 20.9 MB/s eta 0:00:01\r",
      "\u001b[K     |▋                               | 30 kB 12.3 MB/s eta 0:00:01\r",
      "\u001b[K     |▉                               | 40 kB 10.7 MB/s eta 0:00:01\r",
      "\u001b[K     |█                               | 51 kB 4.4 MB/s eta 0:00:01\r",
      "\u001b[K     |█▏                              | 61 kB 5.1 MB/s eta 0:00:01\r",
      "\u001b[K     |█▍                              | 71 kB 5.8 MB/s eta 0:00:01\r",
      "\u001b[K     |█▋                              | 81 kB 5.8 MB/s eta 0:00:01\r",
      "\u001b[K     |█▉                              | 92 kB 6.4 MB/s eta 0:00:01\r",
      "\u001b[K     |██                              | 102 kB 5.4 MB/s eta 0:00:01\r",
      "\u001b[K     |██▏                             | 112 kB 5.4 MB/s eta 0:00:01\r",
      "\u001b[K     |██▍                             | 122 kB 5.4 MB/s eta 0:00:01\r",
      "\u001b[K     |██▋                             | 133 kB 5.4 MB/s eta 0:00:01\r",
      "\u001b[K     |██▊                             | 143 kB 5.4 MB/s eta 0:00:01\r",
      "\u001b[K     |███                             | 153 kB 5.4 MB/s eta 0:00:01\r",
      "\u001b[K     |███▏                            | 163 kB 5.4 MB/s eta 0:00:01\r",
      "\u001b[K     |███▍                            | 174 kB 5.4 MB/s eta 0:00:01\r",
      "\u001b[K     |███▋                            | 184 kB 5.4 MB/s eta 0:00:01\r",
      "\u001b[K     |███▊                            | 194 kB 5.4 MB/s eta 0:00:01\r",
      "\u001b[K     |████                            | 204 kB 5.4 MB/s eta 0:00:01\r",
      "\u001b[K     |████▏                           | 215 kB 5.4 MB/s eta 0:00:01\r",
      "\u001b[K     |████▍                           | 225 kB 5.4 MB/s eta 0:00:01\r",
      "\u001b[K     |████▋                           | 235 kB 5.4 MB/s eta 0:00:01\r",
      "\u001b[K     |████▊                           | 245 kB 5.4 MB/s eta 0:00:01\r",
      "\u001b[K     |█████                           | 256 kB 5.4 MB/s eta 0:00:01\r",
      "\u001b[K     |█████▏                          | 266 kB 5.4 MB/s eta 0:00:01\r",
      "\u001b[K     |█████▍                          | 276 kB 5.4 MB/s eta 0:00:01\r",
      "\u001b[K     |█████▌                          | 286 kB 5.4 MB/s eta 0:00:01\r",
      "\u001b[K     |█████▊                          | 296 kB 5.4 MB/s eta 0:00:01\r",
      "\u001b[K     |██████                          | 307 kB 5.4 MB/s eta 0:00:01\r",
      "\u001b[K     |██████▏                         | 317 kB 5.4 MB/s eta 0:00:01\r",
      "\u001b[K     |██████▍                         | 327 kB 5.4 MB/s eta 0:00:01\r",
      "\u001b[K     |██████▌                         | 337 kB 5.4 MB/s eta 0:00:01\r",
      "\u001b[K     |██████▊                         | 348 kB 5.4 MB/s eta 0:00:01\r",
      "\u001b[K     |███████                         | 358 kB 5.4 MB/s eta 0:00:01\r",
      "\u001b[K     |███████▏                        | 368 kB 5.4 MB/s eta 0:00:01\r",
      "\u001b[K     |███████▎                        | 378 kB 5.4 MB/s eta 0:00:01\r",
      "\u001b[K     |███████▌                        | 389 kB 5.4 MB/s eta 0:00:01\r",
      "\u001b[K     |███████▊                        | 399 kB 5.4 MB/s eta 0:00:01\r",
      "\u001b[K     |████████                        | 409 kB 5.4 MB/s eta 0:00:01\r",
      "\u001b[K     |████████▏                       | 419 kB 5.4 MB/s eta 0:00:01\r",
      "\u001b[K     |████████▎                       | 430 kB 5.4 MB/s eta 0:00:01\r",
      "\u001b[K     |████████▌                       | 440 kB 5.4 MB/s eta 0:00:01\r",
      "\u001b[K     |████████▊                       | 450 kB 5.4 MB/s eta 0:00:01\r",
      "\u001b[K     |█████████                       | 460 kB 5.4 MB/s eta 0:00:01\r",
      "\u001b[K     |█████████▏                      | 471 kB 5.4 MB/s eta 0:00:01\r",
      "\u001b[K     |█████████▎                      | 481 kB 5.4 MB/s eta 0:00:01\r",
      "\u001b[K     |█████████▌                      | 491 kB 5.4 MB/s eta 0:00:01\r",
      "\u001b[K     |█████████▊                      | 501 kB 5.4 MB/s eta 0:00:01\r",
      "\u001b[K     |██████████                      | 512 kB 5.4 MB/s eta 0:00:01\r",
      "\u001b[K     |██████████                      | 522 kB 5.4 MB/s eta 0:00:01\r",
      "\u001b[K     |██████████▎                     | 532 kB 5.4 MB/s eta 0:00:01\r",
      "\u001b[K     |██████████▌                     | 542 kB 5.4 MB/s eta 0:00:01\r",
      "\u001b[K     |██████████▊                     | 552 kB 5.4 MB/s eta 0:00:01\r",
      "\u001b[K     |███████████                     | 563 kB 5.4 MB/s eta 0:00:01\r",
      "\u001b[K     |███████████                     | 573 kB 5.4 MB/s eta 0:00:01\r",
      "\u001b[K     |███████████▎                    | 583 kB 5.4 MB/s eta 0:00:01\r",
      "\u001b[K     |███████████▌                    | 593 kB 5.4 MB/s eta 0:00:01\r",
      "\u001b[K     |███████████▊                    | 604 kB 5.4 MB/s eta 0:00:01\r",
      "\u001b[K     |███████████▉                    | 614 kB 5.4 MB/s eta 0:00:01\r",
      "\u001b[K     |████████████                    | 624 kB 5.4 MB/s eta 0:00:01\r",
      "\u001b[K     |████████████▎                   | 634 kB 5.4 MB/s eta 0:00:01\r",
      "\u001b[K     |████████████▌                   | 645 kB 5.4 MB/s eta 0:00:01\r",
      "\u001b[K     |████████████▊                   | 655 kB 5.4 MB/s eta 0:00:01\r",
      "\u001b[K     |████████████▉                   | 665 kB 5.4 MB/s eta 0:00:01\r",
      "\u001b[K     |█████████████                   | 675 kB 5.4 MB/s eta 0:00:01\r",
      "\u001b[K     |█████████████▎                  | 686 kB 5.4 MB/s eta 0:00:01\r",
      "\u001b[K     |█████████████▌                  | 696 kB 5.4 MB/s eta 0:00:01\r",
      "\u001b[K     |█████████████▊                  | 706 kB 5.4 MB/s eta 0:00:01\r",
      "\u001b[K     |█████████████▉                  | 716 kB 5.4 MB/s eta 0:00:01\r",
      "\u001b[K     |██████████████                  | 727 kB 5.4 MB/s eta 0:00:01\r",
      "\u001b[K     |██████████████▎                 | 737 kB 5.4 MB/s eta 0:00:01\r",
      "\u001b[K     |██████████████▌                 | 747 kB 5.4 MB/s eta 0:00:01\r",
      "\u001b[K     |██████████████▋                 | 757 kB 5.4 MB/s eta 0:00:01\r",
      "\u001b[K     |██████████████▉                 | 768 kB 5.4 MB/s eta 0:00:01\r",
      "\u001b[K     |███████████████                 | 778 kB 5.4 MB/s eta 0:00:01\r",
      "\u001b[K     |███████████████▎                | 788 kB 5.4 MB/s eta 0:00:01\r",
      "\u001b[K     |███████████████▌                | 798 kB 5.4 MB/s eta 0:00:01\r",
      "\u001b[K     |███████████████▋                | 808 kB 5.4 MB/s eta 0:00:01\r",
      "\u001b[K     |███████████████▉                | 819 kB 5.4 MB/s eta 0:00:01\r",
      "\u001b[K     |████████████████                | 829 kB 5.4 MB/s eta 0:00:01\r",
      "\u001b[K     |████████████████▎               | 839 kB 5.4 MB/s eta 0:00:01\r",
      "\u001b[K     |████████████████▍               | 849 kB 5.4 MB/s eta 0:00:01\r",
      "\u001b[K     |████████████████▋               | 860 kB 5.4 MB/s eta 0:00:01\r",
      "\u001b[K     |████████████████▉               | 870 kB 5.4 MB/s eta 0:00:01\r",
      "\u001b[K     |█████████████████               | 880 kB 5.4 MB/s eta 0:00:01\r",
      "\u001b[K     |█████████████████▎              | 890 kB 5.4 MB/s eta 0:00:01\r",
      "\u001b[K     |█████████████████▍              | 901 kB 5.4 MB/s eta 0:00:01\r",
      "\u001b[K     |█████████████████▋              | 911 kB 5.4 MB/s eta 0:00:01\r",
      "\u001b[K     |█████████████████▉              | 921 kB 5.4 MB/s eta 0:00:01\r",
      "\u001b[K     |██████████████████              | 931 kB 5.4 MB/s eta 0:00:01\r",
      "\u001b[K     |██████████████████▎             | 942 kB 5.4 MB/s eta 0:00:01\r",
      "\u001b[K     |██████████████████▍             | 952 kB 5.4 MB/s eta 0:00:01\r",
      "\u001b[K     |██████████████████▋             | 962 kB 5.4 MB/s eta 0:00:01\r",
      "\u001b[K     |██████████████████▉             | 972 kB 5.4 MB/s eta 0:00:01\r",
      "\u001b[K     |███████████████████             | 983 kB 5.4 MB/s eta 0:00:01\r",
      "\u001b[K     |███████████████████▏            | 993 kB 5.4 MB/s eta 0:00:01\r",
      "\u001b[K     |███████████████████▍            | 1.0 MB 5.4 MB/s eta 0:00:01\r",
      "\u001b[K     |███████████████████▋            | 1.0 MB 5.4 MB/s eta 0:00:01\r",
      "\u001b[K     |███████████████████▉            | 1.0 MB 5.4 MB/s eta 0:00:01\r",
      "\u001b[K     |████████████████████            | 1.0 MB 5.4 MB/s eta 0:00:01\r",
      "\u001b[K     |████████████████████▏           | 1.0 MB 5.4 MB/s eta 0:00:01\r",
      "\u001b[K     |████████████████████▍           | 1.1 MB 5.4 MB/s eta 0:00:01\r",
      "\u001b[K     |████████████████████▋           | 1.1 MB 5.4 MB/s eta 0:00:01\r",
      "\u001b[K     |████████████████████▉           | 1.1 MB 5.4 MB/s eta 0:00:01\r",
      "\u001b[K     |█████████████████████           | 1.1 MB 5.4 MB/s eta 0:00:01\r",
      "\u001b[K     |█████████████████████▏          | 1.1 MB 5.4 MB/s eta 0:00:01\r",
      "\u001b[K     |█████████████████████▍          | 1.1 MB 5.4 MB/s eta 0:00:01\r",
      "\u001b[K     |█████████████████████▋          | 1.1 MB 5.4 MB/s eta 0:00:01\r",
      "\u001b[K     |█████████████████████▉          | 1.1 MB 5.4 MB/s eta 0:00:01\r",
      "\u001b[K     |██████████████████████          | 1.1 MB 5.4 MB/s eta 0:00:01\r",
      "\u001b[K     |██████████████████████▏         | 1.1 MB 5.4 MB/s eta 0:00:01\r",
      "\u001b[K     |██████████████████████▍         | 1.2 MB 5.4 MB/s eta 0:00:01\r",
      "\u001b[K     |██████████████████████▋         | 1.2 MB 5.4 MB/s eta 0:00:01\r",
      "\u001b[K     |██████████████████████▉         | 1.2 MB 5.4 MB/s eta 0:00:01\r",
      "\u001b[K     |███████████████████████         | 1.2 MB 5.4 MB/s eta 0:00:01\r",
      "\u001b[K     |███████████████████████▏        | 1.2 MB 5.4 MB/s eta 0:00:01\r",
      "\u001b[K     |███████████████████████▍        | 1.2 MB 5.4 MB/s eta 0:00:01\r",
      "\u001b[K     |███████████████████████▋        | 1.2 MB 5.4 MB/s eta 0:00:01\r",
      "\u001b[K     |███████████████████████▊        | 1.2 MB 5.4 MB/s eta 0:00:01\r",
      "\u001b[K     |████████████████████████        | 1.2 MB 5.4 MB/s eta 0:00:01\r",
      "\u001b[K     |████████████████████████▏       | 1.2 MB 5.4 MB/s eta 0:00:01\r",
      "\u001b[K     |████████████████████████▍       | 1.3 MB 5.4 MB/s eta 0:00:01\r",
      "\u001b[K     |████████████████████████▋       | 1.3 MB 5.4 MB/s eta 0:00:01\r",
      "\u001b[K     |████████████████████████▊       | 1.3 MB 5.4 MB/s eta 0:00:01\r",
      "\u001b[K     |█████████████████████████       | 1.3 MB 5.4 MB/s eta 0:00:01\r",
      "\u001b[K     |█████████████████████████▏      | 1.3 MB 5.4 MB/s eta 0:00:01\r",
      "\u001b[K     |█████████████████████████▍      | 1.3 MB 5.4 MB/s eta 0:00:01\r",
      "\u001b[K     |█████████████████████████▌      | 1.3 MB 5.4 MB/s eta 0:00:01\r",
      "\u001b[K     |█████████████████████████▊      | 1.3 MB 5.4 MB/s eta 0:00:01\r",
      "\u001b[K     |██████████████████████████      | 1.3 MB 5.4 MB/s eta 0:00:01\r",
      "\u001b[K     |██████████████████████████▏     | 1.4 MB 5.4 MB/s eta 0:00:01\r",
      "\u001b[K     |██████████████████████████▍     | 1.4 MB 5.4 MB/s eta 0:00:01\r",
      "\u001b[K     |██████████████████████████▌     | 1.4 MB 5.4 MB/s eta 0:00:01\r",
      "\u001b[K     |██████████████████████████▊     | 1.4 MB 5.4 MB/s eta 0:00:01\r",
      "\u001b[K     |███████████████████████████     | 1.4 MB 5.4 MB/s eta 0:00:01\r",
      "\u001b[K     |███████████████████████████▏    | 1.4 MB 5.4 MB/s eta 0:00:01\r",
      "\u001b[K     |███████████████████████████▍    | 1.4 MB 5.4 MB/s eta 0:00:01\r",
      "\u001b[K     |███████████████████████████▌    | 1.4 MB 5.4 MB/s eta 0:00:01\r",
      "\u001b[K     |███████████████████████████▊    | 1.4 MB 5.4 MB/s eta 0:00:01\r",
      "\u001b[K     |████████████████████████████    | 1.4 MB 5.4 MB/s eta 0:00:01\r",
      "\u001b[K     |████████████████████████████▏   | 1.5 MB 5.4 MB/s eta 0:00:01\r",
      "\u001b[K     |████████████████████████████▎   | 1.5 MB 5.4 MB/s eta 0:00:01\r",
      "\u001b[K     |████████████████████████████▌   | 1.5 MB 5.4 MB/s eta 0:00:01\r",
      "\u001b[K     |████████████████████████████▊   | 1.5 MB 5.4 MB/s eta 0:00:01\r",
      "\u001b[K     |█████████████████████████████   | 1.5 MB 5.4 MB/s eta 0:00:01\r",
      "\u001b[K     |█████████████████████████████▏  | 1.5 MB 5.4 MB/s eta 0:00:01\r",
      "\u001b[K     |█████████████████████████████▎  | 1.5 MB 5.4 MB/s eta 0:00:01\r",
      "\u001b[K     |█████████████████████████████▌  | 1.5 MB 5.4 MB/s eta 0:00:01\r",
      "\u001b[K     |█████████████████████████████▊  | 1.5 MB 5.4 MB/s eta 0:00:01\r",
      "\u001b[K     |██████████████████████████████  | 1.5 MB 5.4 MB/s eta 0:00:01\r",
      "\u001b[K     |██████████████████████████████▏ | 1.6 MB 5.4 MB/s eta 0:00:01\r",
      "\u001b[K     |██████████████████████████████▎ | 1.6 MB 5.4 MB/s eta 0:00:01\r",
      "\u001b[K     |██████████████████████████████▌ | 1.6 MB 5.4 MB/s eta 0:00:01\r",
      "\u001b[K     |██████████████████████████████▊ | 1.6 MB 5.4 MB/s eta 0:00:01\r",
      "\u001b[K     |███████████████████████████████ | 1.6 MB 5.4 MB/s eta 0:00:01\r",
      "\u001b[K     |███████████████████████████████ | 1.6 MB 5.4 MB/s eta 0:00:01\r",
      "\u001b[K     |███████████████████████████████▎| 1.6 MB 5.4 MB/s eta 0:00:01\r",
      "\u001b[K     |███████████████████████████████▌| 1.6 MB 5.4 MB/s eta 0:00:01\r",
      "\u001b[K     |███████████████████████████████▊| 1.6 MB 5.4 MB/s eta 0:00:01\r",
      "\u001b[K     |████████████████████████████████| 1.6 MB 5.4 MB/s eta 0:00:01\r",
      "\u001b[K     |████████████████████████████████| 1.7 MB 5.4 MB/s \n",
      "\u001b[?25h  Installing build dependencies ... \u001b[?25l\u001b[?25hdone\n",
      "  Getting requirements to build wheel ... \u001b[?25l\u001b[?25hdone\n",
      "  Installing backend dependencies ... \u001b[?25l\u001b[?25hdone\n",
      "    Preparing wheel metadata ... \u001b[?25l\u001b[?25hdone\n",
      "  Building wheel for pyLDAvis (PEP 517) ... \u001b[?25l\u001b[?25hdone\n"
     ]
    }
   ],
   "source": [
    "!pip install -q pyLDAvis"
   ]
  },
  {
   "cell_type": "code",
   "execution_count": 6,
   "metadata": {
    "colab": {
     "base_uri": "https://localhost:8080/"
    },
    "id": "4YLV5GBg0qxj",
    "outputId": "2cbd433b-b36b-4565-b38a-e21c95bd78fe"
   },
   "outputs": [
    {
     "name": "stdout",
     "output_type": "stream",
     "text": [
      "Collecting pyLDAvis==2.1.2\n",
      "  Downloading pyLDAvis-2.1.2.tar.gz (1.6 MB)\n",
      "\u001b[K     |████████████████████████████████| 1.6 MB 5.5 MB/s \n",
      "\u001b[?25hRequirement already satisfied: wheel>=0.23.0 in /usr/local/lib/python3.7/dist-packages (from pyLDAvis==2.1.2) (0.37.1)\n",
      "Requirement already satisfied: numpy>=1.9.2 in /usr/local/lib/python3.7/dist-packages (from pyLDAvis==2.1.2) (1.21.6)\n",
      "Requirement already satisfied: scipy>=0.18.0 in /usr/local/lib/python3.7/dist-packages (from pyLDAvis==2.1.2) (1.4.1)\n",
      "Requirement already satisfied: pandas>=0.17.0 in /usr/local/lib/python3.7/dist-packages (from pyLDAvis==2.1.2) (1.3.5)\n",
      "Requirement already satisfied: joblib>=0.8.4 in /usr/local/lib/python3.7/dist-packages (from pyLDAvis==2.1.2) (1.1.0)\n",
      "Requirement already satisfied: jinja2>=2.7.2 in /usr/local/lib/python3.7/dist-packages (from pyLDAvis==2.1.2) (2.11.3)\n",
      "Requirement already satisfied: numexpr in /usr/local/lib/python3.7/dist-packages (from pyLDAvis==2.1.2) (2.8.1)\n",
      "Requirement already satisfied: pytest in /usr/local/lib/python3.7/dist-packages (from pyLDAvis==2.1.2) (3.6.4)\n",
      "Requirement already satisfied: future in /usr/local/lib/python3.7/dist-packages (from pyLDAvis==2.1.2) (0.16.0)\n",
      "Requirement already satisfied: funcy in /usr/local/lib/python3.7/dist-packages (from pyLDAvis==2.1.2) (1.17)\n",
      "Requirement already satisfied: MarkupSafe>=0.23 in /usr/local/lib/python3.7/dist-packages (from jinja2>=2.7.2->pyLDAvis==2.1.2) (2.0.1)\n",
      "Requirement already satisfied: python-dateutil>=2.7.3 in /usr/local/lib/python3.7/dist-packages (from pandas>=0.17.0->pyLDAvis==2.1.2) (2.8.2)\n",
      "Requirement already satisfied: pytz>=2017.3 in /usr/local/lib/python3.7/dist-packages (from pandas>=0.17.0->pyLDAvis==2.1.2) (2022.1)\n",
      "Requirement already satisfied: six>=1.5 in /usr/local/lib/python3.7/dist-packages (from python-dateutil>=2.7.3->pandas>=0.17.0->pyLDAvis==2.1.2) (1.15.0)\n",
      "Requirement already satisfied: packaging in /usr/local/lib/python3.7/dist-packages (from numexpr->pyLDAvis==2.1.2) (21.3)\n",
      "Requirement already satisfied: pyparsing!=3.0.5,>=2.0.2 in /usr/local/lib/python3.7/dist-packages (from packaging->numexpr->pyLDAvis==2.1.2) (3.0.8)\n",
      "Requirement already satisfied: py>=1.5.0 in /usr/local/lib/python3.7/dist-packages (from pytest->pyLDAvis==2.1.2) (1.11.0)\n",
      "Requirement already satisfied: atomicwrites>=1.0 in /usr/local/lib/python3.7/dist-packages (from pytest->pyLDAvis==2.1.2) (1.4.0)\n",
      "Requirement already satisfied: setuptools in /usr/local/lib/python3.7/dist-packages (from pytest->pyLDAvis==2.1.2) (57.4.0)\n",
      "Requirement already satisfied: attrs>=17.4.0 in /usr/local/lib/python3.7/dist-packages (from pytest->pyLDAvis==2.1.2) (21.4.0)\n",
      "Requirement already satisfied: more-itertools>=4.0.0 in /usr/local/lib/python3.7/dist-packages (from pytest->pyLDAvis==2.1.2) (8.12.0)\n",
      "Requirement already satisfied: pluggy<0.8,>=0.5 in /usr/local/lib/python3.7/dist-packages (from pytest->pyLDAvis==2.1.2) (0.7.1)\n",
      "Building wheels for collected packages: pyLDAvis\n",
      "  Building wheel for pyLDAvis (setup.py) ... \u001b[?25l\u001b[?25hdone\n",
      "  Created wheel for pyLDAvis: filename=pyLDAvis-2.1.2-py2.py3-none-any.whl size=97738 sha256=3660766bafc2f08304f6aa14088c529c80b73bd71df944ddc343f64628d8eaa7\n",
      "  Stored in directory: /root/.cache/pip/wheels/3b/fb/41/e32e5312da9f440d34c4eff0d2207b46dc9332a7b931ef1e89\n",
      "Successfully built pyLDAvis\n",
      "Installing collected packages: pyLDAvis\n",
      "  Attempting uninstall: pyLDAvis\n",
      "    Found existing installation: pyLDAvis 3.3.1\n",
      "    Uninstalling pyLDAvis-3.3.1:\n",
      "      Successfully uninstalled pyLDAvis-3.3.1\n",
      "Successfully installed pyLDAvis-2.1.2\n"
     ]
    }
   ],
   "source": [
    "!pip install pyLDAvis==2.1.2"
   ]
  },
  {
   "cell_type": "code",
   "execution_count": 7,
   "metadata": {
    "id": "_V3S2ncryJuM"
   },
   "outputs": [],
   "source": [
    "#import des librairies\n",
    "import pandas as pd\n",
    "import numpy as np\n",
    "import matplotlib.pyplot as plt\n",
    "import seaborn as sns\n",
    "import time\n",
    "import warnings\n",
    "import pickle\n",
    "import re\n",
    "from scipy import sparse\n",
    "\n",
    "#vectorisation\n",
    "from sklearn.feature_extraction.text import CountVectorizer\n",
    "from sklearn.feature_extraction.text import TfidfVectorizer\n",
    "from glove import Glove\n",
    "#import fasttext\n",
    "from transformers import DistilBertTokenizer, DistilBertModel\n",
    "from tqdm import tqdm\n",
    "import torch\n",
    "\n",
    "#modélisation\n",
    "from sklearn.preprocessing import MultiLabelBinarizer\n",
    "from sklearn.linear_model import LogisticRegression\n",
    "from sklearn.naive_bayes import MultinomialNB\n",
    "\n",
    "from sklearn.multiclass import OneVsRestClassifier\n",
    "from sklearn.model_selection import train_test_split\n",
    "\n",
    "\n",
    "#lda\n",
    "import gensim\n",
    "import gensim.corpora as corpora\n",
    "from gensim.utils import simple_preprocess\n",
    "from gensim.models import CoherenceModel\n",
    "from gensim.models.ldamodel import LdaModel\n",
    "from gensim.corpora.dictionary import Dictionary\n",
    "import spacy\n",
    "\n",
    "import pyLDAvis\n",
    "import pyLDAvis.gensim\n",
    "%matplotlib inline\n",
    "\n",
    "#options\n",
    "warnings.filterwarnings(\"ignore\",category=DeprecationWarning)\n",
    "warnings.simplefilter(action='ignore', category=FutureWarning)\n",
    "pd.set_option('display.max_colwidth', -1)"
   ]
  },
  {
   "cell_type": "code",
   "execution_count": 1,
   "metadata": {},
   "outputs": [],
   "source": [
    "#Import du fichier"
   ]
  },
  {
   "cell_type": "code",
   "execution_count": 9,
   "metadata": {
    "colab": {
     "base_uri": "https://localhost:8080/"
    },
    "id": "V-syA6DTA33e",
    "outputId": "cf3656eb-f0a8-4fce-96c3-e3129b05840b"
   },
   "outputs": [
    {
     "name": "stdout",
     "output_type": "stream",
     "text": [
      "(15884, 2)\n",
      "                                                                                                                                                                                                                                                                                                                                                                                                                                                                                                                                                                                                                                                                                                                                                                                                                                              Title_Body  \\\n",
      "0  ['set', 'editor', 'work', 'git', 'windows', 'try', 'git', 'windows', 'get', 'point', 'try', 'git', 'commit', 'get', 'error', 'terminal', 'dumb', 'visual', 'editor', 'define', 'please', 'supply', 'message', 'use', 'either', 'f', 'option', 'figure', 'need', 'environment', 'variable', 'call', 'editor', 'problem', 'set', 'point', 'notepad', 'work', 'almost', 'default', 'commit', 'message', 'open', 'notepad', 'notepad', 'support', 'bare', 'line', 'feed', 'go', 'get', 'notepad++', 'figure', 'get', 'notepad++', 'set', 'editor', 'way', 'work', 'git', 'expect', 'marry', 'notepad++', 'point', 'mind', 'editor', 'use', 'want', 'able', 'type', 'commit', 'message', 'editor', 'rather', 'command', 'line', 'use', 'git', 'windows', 'tool', 'use', 'edit', 'commit', 'message', 'make', 'work']                                         \n",
      "1  ['angularjs', 'http', 'post', 'send', 'data', 'could', 'anyone', 'tell', 'follow', 'statement', 'send', 'post', 'data', 'designate', 'url', 'url', 'call', 'server', 'print', 'post', 'get', 'empty', 'array', 'print', 'message', 'console', 'add', 'data', 'show', 'correct', 'content', 'http', 'post', 'request', 'url', 'message', 'message', 'also', 'try', 'data', 'string', 'outcome', 'http', 'post', 'request', 'url', 'message', '+', 'message', 'seem', 'work', 'use', 'follow', 'format', 'http', 'method', 'post', 'url', 'request', 'url', 'data', 'message', '+', 'message', 'headers', 'content', 'type', 'application', 'x', 'www', 'form', 'urlencoded', 'way', 'http', 'post', 'always', 'include', 'header', 'order', 'work', 'believe', 'content', 'type', 'specify', 'format', 'send', 'data', 'send', 'javascript', 'object']   \n",
      "\n",
      "                 Tags  \n",
      "0  ['windows', 'git']  \n",
      "1  ['angularjs']       \n"
     ]
    }
   ],
   "source": [
    "import io\n",
    "df = pd.read_csv(io.BytesIO(data_to_load['export.csv']))\n",
    "\n",
    "print(df.shape)\n",
    "print(df.head(2))"
   ]
  },
  {
   "cell_type": "code",
   "execution_count": 10,
   "metadata": {
    "colab": {
     "base_uri": "https://localhost:8080/",
     "height": 434
    },
    "id": "PprgnEaI2x8q",
    "outputId": "8bff5624-b511-48de-d9ac-ccc35b00fb66"
   },
   "outputs": [
    {
     "data": {
      "text/html": [
       "\n",
       "  <div id=\"df-210f9bce-98d3-42bd-8851-8944881b75b6\">\n",
       "    <div class=\"colab-df-container\">\n",
       "      <div>\n",
       "<style scoped>\n",
       "    .dataframe tbody tr th:only-of-type {\n",
       "        vertical-align: middle;\n",
       "    }\n",
       "\n",
       "    .dataframe tbody tr th {\n",
       "        vertical-align: top;\n",
       "    }\n",
       "\n",
       "    .dataframe thead th {\n",
       "        text-align: right;\n",
       "    }\n",
       "</style>\n",
       "<table border=\"1\" class=\"dataframe\">\n",
       "  <thead>\n",
       "    <tr style=\"text-align: right;\">\n",
       "      <th></th>\n",
       "      <th>Title_Body</th>\n",
       "      <th>Tags</th>\n",
       "      <th>Tags_old</th>\n",
       "      <th>Title_Body_old</th>\n",
       "    </tr>\n",
       "  </thead>\n",
       "  <tbody>\n",
       "    <tr>\n",
       "      <th>0</th>\n",
       "      <td>set editor work git windows try git windows get point try git commit get error terminal dumb visual editor define please supply message use either f option figure need environment variable call editor problem set point notepad work almost default commit message open notepad notepad support bare line feed go get notepad++ figure get notepad++ set editor way work git expect marry notepad++ point mind editor use want able type commit message editor rather command line use git windows tool use edit commit message make work</td>\n",
       "      <td>windows git</td>\n",
       "      <td>['windows', 'git']</td>\n",
       "      <td>['set', 'editor', 'work', 'git', 'windows', 'try', 'git', 'windows', 'get', 'point', 'try', 'git', 'commit', 'get', 'error', 'terminal', 'dumb', 'visual', 'editor', 'define', 'please', 'supply', 'message', 'use', 'either', 'f', 'option', 'figure', 'need', 'environment', 'variable', 'call', 'editor', 'problem', 'set', 'point', 'notepad', 'work', 'almost', 'default', 'commit', 'message', 'open', 'notepad', 'notepad', 'support', 'bare', 'line', 'feed', 'go', 'get', 'notepad++', 'figure', 'get', 'notepad++', 'set', 'editor', 'way', 'work', 'git', 'expect', 'marry', 'notepad++', 'point', 'mind', 'editor', 'use', 'want', 'able', 'type', 'commit', 'message', 'editor', 'rather', 'command', 'line', 'use', 'git', 'windows', 'tool', 'use', 'edit', 'commit', 'message', 'make', 'work']</td>\n",
       "    </tr>\n",
       "    <tr>\n",
       "      <th>1</th>\n",
       "      <td>angularjs http post send data could anyone tell follow statement send post data designate url url call server print post get empty array print message console add data show correct content http post request url message message also try data string outcome http post request url message + message seem work use follow format http method post url request url data message + message headers content type application x www form urlencoded way http post always include header order work believe content type specify format send data send javascript object</td>\n",
       "      <td>angularjs</td>\n",
       "      <td>['angularjs']</td>\n",
       "      <td>['angularjs', 'http', 'post', 'send', 'data', 'could', 'anyone', 'tell', 'follow', 'statement', 'send', 'post', 'data', 'designate', 'url', 'url', 'call', 'server', 'print', 'post', 'get', 'empty', 'array', 'print', 'message', 'console', 'add', 'data', 'show', 'correct', 'content', 'http', 'post', 'request', 'url', 'message', 'message', 'also', 'try', 'data', 'string', 'outcome', 'http', 'post', 'request', 'url', 'message', '+', 'message', 'seem', 'work', 'use', 'follow', 'format', 'http', 'method', 'post', 'url', 'request', 'url', 'data', 'message', '+', 'message', 'headers', 'content', 'type', 'application', 'x', 'www', 'form', 'urlencoded', 'way', 'http', 'post', 'always', 'include', 'header', 'order', 'work', 'believe', 'content', 'type', 'specify', 'format', 'send', 'data', 'send', 'javascript', 'object']</td>\n",
       "    </tr>\n",
       "  </tbody>\n",
       "</table>\n",
       "</div>\n",
       "      <button class=\"colab-df-convert\" onclick=\"convertToInteractive('df-210f9bce-98d3-42bd-8851-8944881b75b6')\"\n",
       "              title=\"Convert this dataframe to an interactive table.\"\n",
       "              style=\"display:none;\">\n",
       "        \n",
       "  <svg xmlns=\"http://www.w3.org/2000/svg\" height=\"24px\"viewBox=\"0 0 24 24\"\n",
       "       width=\"24px\">\n",
       "    <path d=\"M0 0h24v24H0V0z\" fill=\"none\"/>\n",
       "    <path d=\"M18.56 5.44l.94 2.06.94-2.06 2.06-.94-2.06-.94-.94-2.06-.94 2.06-2.06.94zm-11 1L8.5 8.5l.94-2.06 2.06-.94-2.06-.94L8.5 2.5l-.94 2.06-2.06.94zm10 10l.94 2.06.94-2.06 2.06-.94-2.06-.94-.94-2.06-.94 2.06-2.06.94z\"/><path d=\"M17.41 7.96l-1.37-1.37c-.4-.4-.92-.59-1.43-.59-.52 0-1.04.2-1.43.59L10.3 9.45l-7.72 7.72c-.78.78-.78 2.05 0 2.83L4 21.41c.39.39.9.59 1.41.59.51 0 1.02-.2 1.41-.59l7.78-7.78 2.81-2.81c.8-.78.8-2.07 0-2.86zM5.41 20L4 18.59l7.72-7.72 1.47 1.35L5.41 20z\"/>\n",
       "  </svg>\n",
       "      </button>\n",
       "      \n",
       "  <style>\n",
       "    .colab-df-container {\n",
       "      display:flex;\n",
       "      flex-wrap:wrap;\n",
       "      gap: 12px;\n",
       "    }\n",
       "\n",
       "    .colab-df-convert {\n",
       "      background-color: #E8F0FE;\n",
       "      border: none;\n",
       "      border-radius: 50%;\n",
       "      cursor: pointer;\n",
       "      display: none;\n",
       "      fill: #1967D2;\n",
       "      height: 32px;\n",
       "      padding: 0 0 0 0;\n",
       "      width: 32px;\n",
       "    }\n",
       "\n",
       "    .colab-df-convert:hover {\n",
       "      background-color: #E2EBFA;\n",
       "      box-shadow: 0px 1px 2px rgba(60, 64, 67, 0.3), 0px 1px 3px 1px rgba(60, 64, 67, 0.15);\n",
       "      fill: #174EA6;\n",
       "    }\n",
       "\n",
       "    [theme=dark] .colab-df-convert {\n",
       "      background-color: #3B4455;\n",
       "      fill: #D2E3FC;\n",
       "    }\n",
       "\n",
       "    [theme=dark] .colab-df-convert:hover {\n",
       "      background-color: #434B5C;\n",
       "      box-shadow: 0px 1px 3px 1px rgba(0, 0, 0, 0.15);\n",
       "      filter: drop-shadow(0px 1px 2px rgba(0, 0, 0, 0.3));\n",
       "      fill: #FFFFFF;\n",
       "    }\n",
       "  </style>\n",
       "\n",
       "      <script>\n",
       "        const buttonEl =\n",
       "          document.querySelector('#df-210f9bce-98d3-42bd-8851-8944881b75b6 button.colab-df-convert');\n",
       "        buttonEl.style.display =\n",
       "          google.colab.kernel.accessAllowed ? 'block' : 'none';\n",
       "\n",
       "        async function convertToInteractive(key) {\n",
       "          const element = document.querySelector('#df-210f9bce-98d3-42bd-8851-8944881b75b6');\n",
       "          const dataTable =\n",
       "            await google.colab.kernel.invokeFunction('convertToInteractive',\n",
       "                                                     [key], {});\n",
       "          if (!dataTable) return;\n",
       "\n",
       "          const docLinkHtml = 'Like what you see? Visit the ' +\n",
       "            '<a target=\"_blank\" href=https://colab.research.google.com/notebooks/data_table.ipynb>data table notebook</a>'\n",
       "            + ' to learn more about interactive tables.';\n",
       "          element.innerHTML = '';\n",
       "          dataTable['output_type'] = 'display_data';\n",
       "          await google.colab.output.renderOutput(dataTable, element);\n",
       "          const docLink = document.createElement('div');\n",
       "          docLink.innerHTML = docLinkHtml;\n",
       "          element.appendChild(docLink);\n",
       "        }\n",
       "      </script>\n",
       "    </div>\n",
       "  </div>\n",
       "  "
      ],
      "text/plain": [
       "                                                                                                                                                                                                                                                                                                                                                                                                                                                                                                                                                               Title_Body  \\\n",
       "0  set editor work git windows try git windows get point try git commit get error terminal dumb visual editor define please supply message use either f option figure need environment variable call editor problem set point notepad work almost default commit message open notepad notepad support bare line feed go get notepad++ figure get notepad++ set editor way work git expect marry notepad++ point mind editor use want able type commit message editor rather command line use git windows tool use edit commit message make work                             \n",
       "1  angularjs http post send data could anyone tell follow statement send post data designate url url call server print post get empty array print message console add data show correct content http post request url message message also try data string outcome http post request url message + message seem work use follow format http method post url request url data message + message headers content type application x www form urlencoded way http post always include header order work believe content type specify format send data send javascript object   \n",
       "\n",
       "          Tags            Tags_old  \\\n",
       "0  windows git  ['windows', 'git']   \n",
       "1  angularjs    ['angularjs']        \n",
       "\n",
       "                                                                                                                                                                                                                                                                                                                                                                                                                                                                                                                                                                                                                                                                                                                                                                                                                                          Title_Body_old  \n",
       "0  ['set', 'editor', 'work', 'git', 'windows', 'try', 'git', 'windows', 'get', 'point', 'try', 'git', 'commit', 'get', 'error', 'terminal', 'dumb', 'visual', 'editor', 'define', 'please', 'supply', 'message', 'use', 'either', 'f', 'option', 'figure', 'need', 'environment', 'variable', 'call', 'editor', 'problem', 'set', 'point', 'notepad', 'work', 'almost', 'default', 'commit', 'message', 'open', 'notepad', 'notepad', 'support', 'bare', 'line', 'feed', 'go', 'get', 'notepad++', 'figure', 'get', 'notepad++', 'set', 'editor', 'way', 'work', 'git', 'expect', 'marry', 'notepad++', 'point', 'mind', 'editor', 'use', 'want', 'able', 'type', 'commit', 'message', 'editor', 'rather', 'command', 'line', 'use', 'git', 'windows', 'tool', 'use', 'edit', 'commit', 'message', 'make', 'work']                                        \n",
       "1  ['angularjs', 'http', 'post', 'send', 'data', 'could', 'anyone', 'tell', 'follow', 'statement', 'send', 'post', 'data', 'designate', 'url', 'url', 'call', 'server', 'print', 'post', 'get', 'empty', 'array', 'print', 'message', 'console', 'add', 'data', 'show', 'correct', 'content', 'http', 'post', 'request', 'url', 'message', 'message', 'also', 'try', 'data', 'string', 'outcome', 'http', 'post', 'request', 'url', 'message', '+', 'message', 'seem', 'work', 'use', 'follow', 'format', 'http', 'method', 'post', 'url', 'request', 'url', 'data', 'message', '+', 'message', 'headers', 'content', 'type', 'application', 'x', 'www', 'form', 'urlencoded', 'way', 'http', 'post', 'always', 'include', 'header', 'order', 'work', 'believe', 'content', 'type', 'specify', 'format', 'send', 'data', 'send', 'javascript', 'object']  "
      ]
     },
     "metadata": {},
     "output_type": "display_data"
    }
   ],
   "source": [
    "#On supprime les caractères parasites pour pouvoir binariser notre target\n",
    "df['Tags_old'] = df['Tags']\n",
    "df['Title_Body_old'] = df['Title_Body']\n",
    "char = [\"'\", \"[\", \"]\",\",\"]\n",
    "for text in char:\n",
    "    df['Tags'] = df['Tags'].str.replace(text, '')\n",
    "    df['Title_Body'] = df['Title_Body'].str.replace(text, '')\n",
    "\n",
    "df = df[df.Tags!='']\n",
    "df.reset_index(drop=True,inplace=True)\n",
    "\n",
    "display(df.head(2))"
   ]
  },
  {
   "cell_type": "markdown",
   "metadata": {
    "id": "Ko6jVhYXBiKi"
   },
   "source": [
    "## 1. Approche supervisée : Feature Engineering et modélisation"
   ]
  },
  {
   "cell_type": "markdown",
   "metadata": {
    "id": "WSsk05t9B1j7"
   },
   "source": [
    "### 1.1 Transformation de la target \"Tags\"<a class=\"anchor\" id=\"1.1\"></a>"
   ]
  },
  {
   "cell_type": "code",
   "execution_count": 11,
   "metadata": {
    "colab": {
     "base_uri": "https://localhost:8080/",
     "height": 193
    },
    "id": "AypBbVRgB05Y",
    "outputId": "a9dd9892-871b-4830-d125-873b6b01c10b"
   },
   "outputs": [
    {
     "data": {
      "text/plain": [
       "(15879, 36)"
      ]
     },
     "metadata": {},
     "output_type": "display_data"
    },
    {
     "name": "stdout",
     "output_type": "stream",
     "text": [
      "None\n"
     ]
    },
    {
     "data": {
      "text/html": [
       "\n",
       "  <div id=\"df-a31022c8-a93f-4aca-8ddd-01796ed7c683\">\n",
       "    <div class=\"colab-df-container\">\n",
       "      <div>\n",
       "<style scoped>\n",
       "    .dataframe tbody tr th:only-of-type {\n",
       "        vertical-align: middle;\n",
       "    }\n",
       "\n",
       "    .dataframe tbody tr th {\n",
       "        vertical-align: top;\n",
       "    }\n",
       "\n",
       "    .dataframe thead th {\n",
       "        text-align: right;\n",
       "    }\n",
       "</style>\n",
       "<table border=\"1\" class=\"dataframe\">\n",
       "  <thead>\n",
       "    <tr style=\"text-align: right;\">\n",
       "      <th></th>\n",
       "      <th>android</th>\n",
       "      <th>angularjs</th>\n",
       "      <th>array</th>\n",
       "      <th>asp</th>\n",
       "      <th>bash</th>\n",
       "      <th>c</th>\n",
       "      <th>c#</th>\n",
       "      <th>c++</th>\n",
       "      <th>css</th>\n",
       "      <th>database</th>\n",
       "      <th>...</th>\n",
       "      <th>php</th>\n",
       "      <th>python</th>\n",
       "      <th>r</th>\n",
       "      <th>rail</th>\n",
       "      <th>ruby</th>\n",
       "      <th>server</th>\n",
       "      <th>sql</th>\n",
       "      <th>string</th>\n",
       "      <th>studio</th>\n",
       "      <th>windows</th>\n",
       "    </tr>\n",
       "  </thead>\n",
       "  <tbody>\n",
       "    <tr>\n",
       "      <th>0</th>\n",
       "      <td>0</td>\n",
       "      <td>0</td>\n",
       "      <td>0</td>\n",
       "      <td>0</td>\n",
       "      <td>0</td>\n",
       "      <td>0</td>\n",
       "      <td>0</td>\n",
       "      <td>0</td>\n",
       "      <td>0</td>\n",
       "      <td>0</td>\n",
       "      <td>...</td>\n",
       "      <td>0</td>\n",
       "      <td>0</td>\n",
       "      <td>0</td>\n",
       "      <td>0</td>\n",
       "      <td>0</td>\n",
       "      <td>0</td>\n",
       "      <td>0</td>\n",
       "      <td>0</td>\n",
       "      <td>0</td>\n",
       "      <td>1</td>\n",
       "    </tr>\n",
       "    <tr>\n",
       "      <th>1</th>\n",
       "      <td>0</td>\n",
       "      <td>1</td>\n",
       "      <td>0</td>\n",
       "      <td>0</td>\n",
       "      <td>0</td>\n",
       "      <td>0</td>\n",
       "      <td>0</td>\n",
       "      <td>0</td>\n",
       "      <td>0</td>\n",
       "      <td>0</td>\n",
       "      <td>...</td>\n",
       "      <td>0</td>\n",
       "      <td>0</td>\n",
       "      <td>0</td>\n",
       "      <td>0</td>\n",
       "      <td>0</td>\n",
       "      <td>0</td>\n",
       "      <td>0</td>\n",
       "      <td>0</td>\n",
       "      <td>0</td>\n",
       "      <td>0</td>\n",
       "    </tr>\n",
       "  </tbody>\n",
       "</table>\n",
       "<p>2 rows × 36 columns</p>\n",
       "</div>\n",
       "      <button class=\"colab-df-convert\" onclick=\"convertToInteractive('df-a31022c8-a93f-4aca-8ddd-01796ed7c683')\"\n",
       "              title=\"Convert this dataframe to an interactive table.\"\n",
       "              style=\"display:none;\">\n",
       "        \n",
       "  <svg xmlns=\"http://www.w3.org/2000/svg\" height=\"24px\"viewBox=\"0 0 24 24\"\n",
       "       width=\"24px\">\n",
       "    <path d=\"M0 0h24v24H0V0z\" fill=\"none\"/>\n",
       "    <path d=\"M18.56 5.44l.94 2.06.94-2.06 2.06-.94-2.06-.94-.94-2.06-.94 2.06-2.06.94zm-11 1L8.5 8.5l.94-2.06 2.06-.94-2.06-.94L8.5 2.5l-.94 2.06-2.06.94zm10 10l.94 2.06.94-2.06 2.06-.94-2.06-.94-.94-2.06-.94 2.06-2.06.94z\"/><path d=\"M17.41 7.96l-1.37-1.37c-.4-.4-.92-.59-1.43-.59-.52 0-1.04.2-1.43.59L10.3 9.45l-7.72 7.72c-.78.78-.78 2.05 0 2.83L4 21.41c.39.39.9.59 1.41.59.51 0 1.02-.2 1.41-.59l7.78-7.78 2.81-2.81c.8-.78.8-2.07 0-2.86zM5.41 20L4 18.59l7.72-7.72 1.47 1.35L5.41 20z\"/>\n",
       "  </svg>\n",
       "      </button>\n",
       "      \n",
       "  <style>\n",
       "    .colab-df-container {\n",
       "      display:flex;\n",
       "      flex-wrap:wrap;\n",
       "      gap: 12px;\n",
       "    }\n",
       "\n",
       "    .colab-df-convert {\n",
       "      background-color: #E8F0FE;\n",
       "      border: none;\n",
       "      border-radius: 50%;\n",
       "      cursor: pointer;\n",
       "      display: none;\n",
       "      fill: #1967D2;\n",
       "      height: 32px;\n",
       "      padding: 0 0 0 0;\n",
       "      width: 32px;\n",
       "    }\n",
       "\n",
       "    .colab-df-convert:hover {\n",
       "      background-color: #E2EBFA;\n",
       "      box-shadow: 0px 1px 2px rgba(60, 64, 67, 0.3), 0px 1px 3px 1px rgba(60, 64, 67, 0.15);\n",
       "      fill: #174EA6;\n",
       "    }\n",
       "\n",
       "    [theme=dark] .colab-df-convert {\n",
       "      background-color: #3B4455;\n",
       "      fill: #D2E3FC;\n",
       "    }\n",
       "\n",
       "    [theme=dark] .colab-df-convert:hover {\n",
       "      background-color: #434B5C;\n",
       "      box-shadow: 0px 1px 3px 1px rgba(0, 0, 0, 0.15);\n",
       "      filter: drop-shadow(0px 1px 2px rgba(0, 0, 0, 0.3));\n",
       "      fill: #FFFFFF;\n",
       "    }\n",
       "  </style>\n",
       "\n",
       "      <script>\n",
       "        const buttonEl =\n",
       "          document.querySelector('#df-a31022c8-a93f-4aca-8ddd-01796ed7c683 button.colab-df-convert');\n",
       "        buttonEl.style.display =\n",
       "          google.colab.kernel.accessAllowed ? 'block' : 'none';\n",
       "\n",
       "        async function convertToInteractive(key) {\n",
       "          const element = document.querySelector('#df-a31022c8-a93f-4aca-8ddd-01796ed7c683');\n",
       "          const dataTable =\n",
       "            await google.colab.kernel.invokeFunction('convertToInteractive',\n",
       "                                                     [key], {});\n",
       "          if (!dataTable) return;\n",
       "\n",
       "          const docLinkHtml = 'Like what you see? Visit the ' +\n",
       "            '<a target=\"_blank\" href=https://colab.research.google.com/notebooks/data_table.ipynb>data table notebook</a>'\n",
       "            + ' to learn more about interactive tables.';\n",
       "          element.innerHTML = '';\n",
       "          dataTable['output_type'] = 'display_data';\n",
       "          await google.colab.output.renderOutput(dataTable, element);\n",
       "          const docLink = document.createElement('div');\n",
       "          docLink.innerHTML = docLinkHtml;\n",
       "          element.appendChild(docLink);\n",
       "        }\n",
       "      </script>\n",
       "    </div>\n",
       "  </div>\n",
       "  "
      ],
      "text/plain": [
       "   android  angularjs  array  asp  bash  c  c#  c++  css  database  ...  php  \\\n",
       "0  0        0          0      0    0     0  0   0    0    0         ...  0     \n",
       "1  0        1          0      0    0     0  0   0    0    0         ...  0     \n",
       "\n",
       "   python  r  rail  ruby  server  sql  string  studio  windows  \n",
       "0  0       0  0     0     0       0    0       0       1        \n",
       "1  0       0  0     0     0       0    0       0       0        \n",
       "\n",
       "[2 rows x 36 columns]"
      ]
     },
     "metadata": {},
     "output_type": "display_data"
    },
    {
     "name": "stdout",
     "output_type": "stream",
     "text": [
      "None\n"
     ]
    }
   ],
   "source": [
    "mlb = MultiLabelBinarizer()\n",
    "\n",
    "y = pd.DataFrame(mlb.fit_transform(df['Tags'].str.split(\" \")),columns=mlb.classes_)\n",
    "\n",
    "print(display(y.shape))\n",
    "print(display(y.head(2)))"
   ]
  },
  {
   "cell_type": "markdown",
   "metadata": {
    "id": "7LMX88uI6nwT"
   },
   "source": [
    "### 1.2 Vectorisation et modélisation"
   ]
  },
  {
   "cell_type": "markdown",
   "metadata": {
    "id": "XEpZNHVD6xix"
   },
   "source": [
    "#### 1.2.1 Features Engineering"
   ]
  },
  {
   "cell_type": "code",
   "execution_count": 12,
   "metadata": {
    "id": "BV0tEOojEG3l"
   },
   "outputs": [],
   "source": [
    "X = df['Title_Body']"
   ]
  },
  {
   "cell_type": "markdown",
   "metadata": {},
   "source": [
    "##### A CountVectorizer"
   ]
  },
  {
   "cell_type": "code",
   "execution_count": 40,
   "metadata": {
    "colab": {
     "base_uri": "https://localhost:8080/"
    },
    "id": "Z2Q_fIDTUfxW",
    "outputId": "11274066-e943-42da-8f5f-0da83bcc593d"
   },
   "outputs": [
    {
     "name": "stdout",
     "output_type": "stream",
     "text": [
      "(15879, 15225)\n"
     ]
    }
   ],
   "source": [
    "#CountVectorizer\n",
    "count_vectorizer = CountVectorizer(stop_words='english', max_df=0.95, min_df=1)\n",
    "\n",
    "X_CV = count_vectorizer.fit_transform(X)\n",
    "\n",
    "print(X_CV.shape)"
   ]
  },
  {
   "cell_type": "markdown",
   "metadata": {},
   "source": [
    "##### B GloVe Embeddings"
   ]
  },
  {
   "cell_type": "code",
   "execution_count": 41,
   "metadata": {
    "colab": {
     "base_uri": "https://localhost:8080/"
    },
    "id": "nu5UQBj4Ul57",
    "outputId": "e514274d-2af3-46f3-c4af-74b7050ace13"
   },
   "outputs": [
    {
     "name": "stdout",
     "output_type": "stream",
     "text": [
      "(15879, 15225)\n"
     ]
    }
   ],
   "source": [
    "#TfidfVectorizer\n",
    "tfidf_vectorizer = TfidfVectorizer(stop_words='english', max_df=0.95, min_df=1)\n",
    "\n",
    "X_TFIDF = tfidf_vectorizer.fit_transform(X)\n",
    "\n",
    "print(X_TFIDF.shape)"
   ]
  },
  {
   "cell_type": "markdown",
   "metadata": {
    "id": "qTkNr3YAmd_3"
   },
   "source": [
    "##### C Word2VEC: \n",
    "###### GloVe Embeddings"
   ]
  },
  {
   "cell_type": "code",
   "execution_count": 13,
   "metadata": {
    "colab": {
     "base_uri": "https://localhost:8080/"
    },
    "id": "uMXNM3ZZQitQ",
    "outputId": "17a72528-b920-4a84-b8d1-26c8ad59035b"
   },
   "outputs": [
    {
     "name": "stdout",
     "output_type": "stream",
     "text": [
      "Performing 30 training epochs with 4 threads\n",
      "Epoch 0\n",
      "Epoch 1\n",
      "Epoch 2\n",
      "Epoch 3\n",
      "Epoch 4\n",
      "Epoch 5\n",
      "Epoch 6\n",
      "Epoch 7\n",
      "Epoch 8\n",
      "Epoch 9\n",
      "Epoch 10\n",
      "Epoch 11\n",
      "Epoch 12\n",
      "Epoch 13\n",
      "Epoch 14\n",
      "Epoch 15\n",
      "Epoch 16\n",
      "Epoch 17\n",
      "Epoch 18\n",
      "Epoch 19\n",
      "Epoch 20\n",
      "Epoch 21\n",
      "Epoch 22\n",
      "Epoch 23\n",
      "Epoch 24\n",
      "Epoch 25\n",
      "Epoch 26\n",
      "Epoch 27\n",
      "Epoch 28\n",
      "Epoch 29\n"
     ]
    }
   ],
   "source": [
    "#Création du modèle Glove : on le joue qu'une fois puis on sauvegarde le modèle\n",
    "\n",
    "stop = [\",\", \";\", \".\", \"?\", \"!\", \"'\", \":\", \"*\", \"/\", \"\\n\", \"(\", \")\", \"|\", \"_\", \"`\",\">\",\"<\",\"=\", \"$\", \"%\", '\"', \"[\",\"]\",\"{\",\"}\",\"-\"]\n",
    "\n",
    "lines_without_stopwords=[] \n",
    "for line in df['Title_Body'].values: \n",
    "    line = line.lower()\n",
    "    line_by_words = re.split(r'(?:\\s+)', line, flags = re.UNICODE)\n",
    "    new_line=[]\n",
    "    for word in line_by_words:\n",
    "        if word not in stop:\n",
    "            new_line.append(word)\n",
    "    lines_without_stopwords.append(new_line)\n",
    "texts = lines_without_stopwords\n",
    "\n",
    "from glove import Corpus, Glove\n",
    "\n",
    "corpus = Corpus()\n",
    "glove = Glove(no_components=100, learning_rate=0.05)\n",
    "\n",
    "corpus.fit(texts, window=10)\n",
    "\n",
    "glove.fit(corpus.matrix, epochs=30, no_threads=4, verbose=True)\n",
    "glove.add_dictionary(corpus.dictionary)\n",
    "glove.save('API/glove.model')"
   ]
  },
  {
   "cell_type": "code",
   "execution_count": 14,
   "metadata": {
    "colab": {
     "base_uri": "https://localhost:8080/"
    },
    "id": "reIwtJI-oWCA",
    "outputId": "367495f6-f957-4426-ce7e-e038688df331"
   },
   "outputs": [
    {
     "data": {
      "text/plain": [
       "(15879, 100)"
      ]
     },
     "execution_count": 14,
     "metadata": {},
     "output_type": "execute_result"
    }
   ],
   "source": [
    "#Import du modèle Glove\n",
    "model_glove = Glove.load('API/glove.model')\n",
    "\n",
    "vector = {word: model_glove.word_vectors[model_glove.dictionary[word]] for word in model_glove.dictionary.keys()}\n",
    "X_glove = []\n",
    "\n",
    "for i in range(0,X.shape[0]):\n",
    "  phrase = re.split(r'(?:\\s+)',X[i])\n",
    "  feat = sum(vector[w] for w in phrase)\n",
    "  X_glove.append(feat)\n",
    "\n",
    "X_glove = np.vstack(X_glove)\n",
    "X_glove.shape"
   ]
  },
  {
   "cell_type": "markdown",
   "metadata": {
    "id": "dtzcpgDamyGb"
   },
   "source": [
    "##### D BERT Embeddings"
   ]
  },
  {
   "cell_type": "code",
   "execution_count": 15,
   "metadata": {
    "colab": {
     "base_uri": "https://localhost:8080/",
     "height": 145,
     "referenced_widgets": [
      "777980fee491418aa8af96ceaa3966e3",
      "7454506a1ef04847a3364680106e88dc",
      "7c7b7548287c4e7293472a7dc48e8a18",
      "cd4d019492284a54a111d1f168352c10",
      "e0d1c41847c14d55962a8e77e56fef98",
      "85875ed826b14940a427bf1b9225d387",
      "4e5761165db24fda922ff3eeaa5de5eb",
      "096feaef27b142e2bd7273056765aa85",
      "38187d48113f46538bd6176067195793",
      "94c426401b9e437dba06b010ffb6eeda",
      "3e96164236804fec9564697612e06c87",
      "aded8f663e364dcb8f60c4c5401033c2",
      "e7878b941a984171934e25bbc5afc756",
      "f20392faa31444b5bbdb61acc82295fe",
      "0cd7f748ac3c4498a4d50b4aee2630e9",
      "d8dcd4fc33c24b5aa6dc208c8b4f90a7",
      "99aeb31040f5453aa988964792a97331",
      "fe3faae201474b05972ee1c2842d9159",
      "59155b92bc5941a499c11db387332911",
      "e88eed63858940efb5b8de38d2e43f91",
      "ba02a5cf0fa943a897d15c6735c18df6",
      "a798ae487ae34bfaa0f9043c6eac5c31",
      "1e4f7da95d3d48dda69eaafe4814a5a9",
      "7e1efeee29694542a019c7e604f9387d",
      "1a154bc65f9641a5bc93eaa925a41c03",
      "73c6418d411847dca3c4bd0f9ef7fcbc",
      "6f3167ba59fa4a6e940bb3a67877170f",
      "03ec75f4515645209de820407d7ba6e1",
      "6f24d2d53f7e448198da84f56825c3a1",
      "c34e8e2c986946bf8eca93de5e7e6621",
      "9586b97ccc304cdd98c8688761ae3a2b",
      "694aed22def84151848ae3da8116a38b",
      "df95da193c9944f1bba8607cb1089fe0",
      "f4b3a5824d044a1a8a9749e9bf76c843",
      "cf364b2282fe4c1a87cf4e90021e8753",
      "001a05bacf8e4bc4b2d6c8aeb1d76db3",
      "9795a6a169854ac1accf26416b79642d",
      "b12b64cb0d2445b3bec5135574930889",
      "a36c2b97628543a9b5c6b8e81d602102",
      "7c5e6054687a48f4b4b350fe60aff007",
      "5ad8b4b993f2485989e157e0ff2082c5",
      "47508aefbf3145a69c3761f0308379c3",
      "eaf058e9b0484eefb92e968d33b76944",
      "791b1f4a95b14dbeb25bae9c14b8ff6b"
     ]
    },
    "id": "73q1jW9vGlmY",
    "outputId": "0a8a3cfe-ee82-4e6d-fa20-c8f5e30040e2"
   },
   "outputs": [
    {
     "data": {
      "application/vnd.jupyter.widget-view+json": {
       "model_id": "777980fee491418aa8af96ceaa3966e3",
       "version_major": 2,
       "version_minor": 0
      },
      "text/plain": [
       "Downloading:   0%|          | 0.00/226k [00:00<?, ?B/s]"
      ]
     },
     "metadata": {},
     "output_type": "display_data"
    },
    {
     "data": {
      "application/vnd.jupyter.widget-view+json": {
       "model_id": "aded8f663e364dcb8f60c4c5401033c2",
       "version_major": 2,
       "version_minor": 0
      },
      "text/plain": [
       "Downloading:   0%|          | 0.00/28.0 [00:00<?, ?B/s]"
      ]
     },
     "metadata": {},
     "output_type": "display_data"
    },
    {
     "data": {
      "application/vnd.jupyter.widget-view+json": {
       "model_id": "1e4f7da95d3d48dda69eaafe4814a5a9",
       "version_major": 2,
       "version_minor": 0
      },
      "text/plain": [
       "Downloading:   0%|          | 0.00/483 [00:00<?, ?B/s]"
      ]
     },
     "metadata": {},
     "output_type": "display_data"
    },
    {
     "data": {
      "application/vnd.jupyter.widget-view+json": {
       "model_id": "f4b3a5824d044a1a8a9749e9bf76c843",
       "version_major": 2,
       "version_minor": 0
      },
      "text/plain": [
       "Downloading:   0%|          | 0.00/256M [00:00<?, ?B/s]"
      ]
     },
     "metadata": {},
     "output_type": "display_data"
    }
   ],
   "source": [
    "from transformers import DistilBertTokenizer, DistilBertModel\n",
    "from transformers import logging\n",
    "\n",
    "logging.set_verbosity_warning()\n",
    "\n",
    "from transformers import logging\n",
    "logging.set_verbosity_error()\n",
    "\n",
    "tokenizer_db = DistilBertTokenizer.from_pretrained('distilbert-base-uncased')\n",
    "model = DistilBertModel.from_pretrained('distilbert-base-uncased')"
   ]
  },
  {
   "cell_type": "code",
   "execution_count": 16,
   "metadata": {
    "colab": {
     "base_uri": "https://localhost:8080/",
     "height": 49,
     "referenced_widgets": [
      "d92a1ad6a54b40c4a4093e0a9fb9a398",
      "6389ee95f7b94bc4be4ac231c98ef275",
      "259a38ecc5c34a54ab78c7546a36df39",
      "0a19f32063c241b0843f9ec778a08cd1",
      "e6e654b089ac4726aac574ed7a57b07a",
      "1f68d4a5887442ac8bfad388b6f739fd",
      "f21ecde03d5b4cd0978c92960d7e0c36",
      "c5d7a1aaa852473f881aea47c41ac0dc",
      "8ce0d736b089421d9238897bfa9a468b",
      "095826e5df0544b9ac405cae477568ee",
      "a40994f8c11648429d26e5db30bd8155"
     ]
    },
    "id": "EI4KmvtEzSE9",
    "outputId": "44dcc6f5-31c5-4bbb-9716-40e16dc8766c"
   },
   "outputs": [
    {
     "data": {
      "application/vnd.jupyter.widget-view+json": {
       "model_id": "d92a1ad6a54b40c4a4093e0a9fb9a398",
       "version_major": 2,
       "version_minor": 0
      },
      "text/plain": [
       "Downloading:   0%|          | 0.00/455k [00:00<?, ?B/s]"
      ]
     },
     "metadata": {},
     "output_type": "display_data"
    }
   ],
   "source": [
    "#*****\n",
    "from transformers import DistilBertTokenizer, DistilBertModel\n",
    "import torch\n",
    "MODEL_NAME = 'distilbert-base-uncased'\n",
    "\n",
    "from transformers import AutoTokenizer, AutoModelForSequenceClassification\n",
    "tokenizer = AutoTokenizer.from_pretrained(MODEL_NAME)\n",
    "def sentence_input(sentence: str, max_len: int = 512, device = 'cpu'):\n",
    "    encoded = tokenizer.encode_plus(sentence, add_special_tokens=True, \n",
    "                                    pad_to_max_length=True, max_length=max_len, \n",
    "                                    return_tensors=\"pt\",).to(device)\n",
    "    model_input = (encoded['input_ids'], encoded['attention_mask'])\n",
    "    return model_input"
   ]
  },
  {
   "cell_type": "code",
   "execution_count": 17,
   "metadata": {
    "colab": {
     "base_uri": "https://localhost:8080/"
    },
    "id": "yno3q-nQGlha",
    "outputId": "c5831a98-878d-4368-e984-c4fad219887c"
   },
   "outputs": [
    {
     "name": "stdout",
     "output_type": "stream",
     "text": [
      "GPU found!\n"
     ]
    }
   ],
   "source": [
    "model.cuda()\n",
    "print(\"GPU found!\")\n",
    "gpu_detected = 1"
   ]
  },
  {
   "cell_type": "code",
   "execution_count": 18,
   "metadata": {
    "id": "2s3NaWcSGlfR"
   },
   "outputs": [],
   "source": [
    "content_data_ids = df['Title_Body'].str.slice(0, 500).str.lower().apply(tokenizer_db.encode)"
   ]
  },
  {
   "cell_type": "code",
   "execution_count": 19,
   "metadata": {
    "id": "DYRAhZPVGlSH"
   },
   "outputs": [],
   "source": [
    "content_data_vectors = []\n",
    "\n",
    "for cnt_data in content_data_ids:\n",
    "  input_ids = torch.Tensor(cnt_data).to(torch.int64).unsqueeze(0)\n",
    "  if gpu_detected == 1:\n",
    "    outputs = model(input_ids.cuda())\n",
    "    content_data_vectors.append(outputs[0].detach().cpu().numpy().max(axis = 1))"
   ]
  },
  {
   "cell_type": "code",
   "execution_count": 21,
   "metadata": {
    "id": "kwufHZHCip6U"
   },
   "outputs": [],
   "source": [
    "X_bert = np.vstack(content_data_vectors)"
   ]
  },
  {
   "cell_type": "code",
   "execution_count": 22,
   "metadata": {
    "colab": {
     "base_uri": "https://localhost:8080/"
    },
    "id": "HH8ERSFeOTjs",
    "outputId": "ff2d6653-8604-4362-e952-3f3bd1251dc6"
   },
   "outputs": [
    {
     "data": {
      "text/plain": [
       "(15879, 768)"
      ]
     },
     "execution_count": 22,
     "metadata": {},
     "output_type": "execute_result"
    }
   ],
   "source": [
    "X_bert.shape"
   ]
  },
  {
   "cell_type": "code",
   "execution_count": 23,
   "metadata": {
    "colab": {
     "base_uri": "https://localhost:8080/"
    },
    "id": "UBrVwSQa3KyC",
    "outputId": "76034640-4b22-40f4-cdf1-0795950aaefb"
   },
   "outputs": [
    {
     "name": "stdout",
     "output_type": "stream",
     "text": [
      "Requirement already satisfied: transformers in /usr/local/lib/python3.7/dist-packages (4.18.0)\n",
      "Requirement already satisfied: importlib-metadata in /usr/local/lib/python3.7/dist-packages (from transformers) (4.11.3)\n",
      "Requirement already satisfied: filelock in /usr/local/lib/python3.7/dist-packages (from transformers) (3.6.0)\n",
      "Requirement already satisfied: pyyaml>=5.1 in /usr/local/lib/python3.7/dist-packages (from transformers) (6.0)\n",
      "Requirement already satisfied: regex!=2019.12.17 in /usr/local/lib/python3.7/dist-packages (from transformers) (2019.12.20)\n",
      "Requirement already satisfied: packaging>=20.0 in /usr/local/lib/python3.7/dist-packages (from transformers) (21.3)\n",
      "Requirement already satisfied: huggingface-hub<1.0,>=0.1.0 in /usr/local/lib/python3.7/dist-packages (from transformers) (0.5.1)\n",
      "Requirement already satisfied: sacremoses in /usr/local/lib/python3.7/dist-packages (from transformers) (0.0.53)\n",
      "Requirement already satisfied: tokenizers!=0.11.3,<0.13,>=0.11.1 in /usr/local/lib/python3.7/dist-packages (from transformers) (0.12.1)\n",
      "Requirement already satisfied: numpy>=1.17 in /usr/local/lib/python3.7/dist-packages (from transformers) (1.21.6)\n",
      "Requirement already satisfied: tqdm>=4.27 in /usr/local/lib/python3.7/dist-packages (from transformers) (4.64.0)\n",
      "Requirement already satisfied: requests in /usr/local/lib/python3.7/dist-packages (from transformers) (2.23.0)\n",
      "Requirement already satisfied: typing-extensions>=3.7.4.3 in /usr/local/lib/python3.7/dist-packages (from huggingface-hub<1.0,>=0.1.0->transformers) (4.2.0)\n",
      "Requirement already satisfied: pyparsing!=3.0.5,>=2.0.2 in /usr/local/lib/python3.7/dist-packages (from packaging>=20.0->transformers) (3.0.8)\n",
      "Requirement already satisfied: zipp>=0.5 in /usr/local/lib/python3.7/dist-packages (from importlib-metadata->transformers) (3.8.0)\n",
      "Requirement already satisfied: certifi>=2017.4.17 in /usr/local/lib/python3.7/dist-packages (from requests->transformers) (2021.10.8)\n",
      "Requirement already satisfied: urllib3!=1.25.0,!=1.25.1,<1.26,>=1.21.1 in /usr/local/lib/python3.7/dist-packages (from requests->transformers) (1.25.11)\n",
      "Requirement already satisfied: idna<3,>=2.5 in /usr/local/lib/python3.7/dist-packages (from requests->transformers) (2.10)\n",
      "Requirement already satisfied: chardet<4,>=3.0.2 in /usr/local/lib/python3.7/dist-packages (from requests->transformers) (3.0.4)\n",
      "Requirement already satisfied: click in /usr/local/lib/python3.7/dist-packages (from sacremoses->transformers) (7.1.2)\n",
      "Requirement already satisfied: six in /usr/local/lib/python3.7/dist-packages (from sacremoses->transformers) (1.15.0)\n",
      "Requirement already satisfied: joblib in /usr/local/lib/python3.7/dist-packages (from sacremoses->transformers) (1.1.0)\n"
     ]
    }
   ],
   "source": [
    "pip install transformers"
   ]
  },
  {
   "cell_type": "code",
   "execution_count": 24,
   "metadata": {
    "id": "Y_jppghq3K0Z"
   },
   "outputs": [],
   "source": [
    "import tensorflow as tf\n",
    "# import tensorflow_hub as hub\n",
    "import tensorflow.keras\n",
    "from tensorflow.keras import backend as K\n",
    "\n",
    "from tensorflow.keras.preprocessing.text import Tokenizer\n",
    "from tensorflow.keras.preprocessing.sequence import pad_sequences\n",
    "from tensorflow.keras import metrics as kmetrics\n",
    "from tensorflow.keras.layers import *\n",
    "from tensorflow.keras.models import Model\n",
    "\n",
    "# Bert\n",
    "import transformers\n",
    "\n",
    "#from transformers import *\n",
    "import os\n",
    "os.environ['TF_KERAS'] = '1'\n"
   ]
  },
  {
   "cell_type": "code",
   "execution_count": 25,
   "metadata": {
    "colab": {
     "base_uri": "https://localhost:8080/"
    },
    "id": "m2X2_G7U3K3s",
    "outputId": "9ed02252-f836-4430-8900-38da98583025"
   },
   "outputs": [
    {
     "name": "stdout",
     "output_type": "stream",
     "text": [
      "2.8.0\n",
      "2.8.0\n",
      "Num GPUs Available:  1\n",
      "True\n"
     ]
    }
   ],
   "source": [
    "print(tf.__version__)\n",
    "print(tensorflow.__version__)\n",
    "print(\"Num GPUs Available: \", len(tf.config.experimental.list_physical_devices('GPU')))\n",
    "print(tf.test.is_built_with_cuda())"
   ]
  },
  {
   "cell_type": "code",
   "execution_count": 26,
   "metadata": {
    "id": "IuxyVmLK3K6K"
   },
   "outputs": [],
   "source": [
    "import tensorflow_hub as hub\n",
    "\n",
    "embed = hub.load(\"https://tfhub.dev/google/universal-sentence-encoder/4\")"
   ]
  },
  {
   "cell_type": "code",
   "execution_count": 27,
   "metadata": {
    "id": "v_69Fx-h3K79"
   },
   "outputs": [],
   "source": [
    "def feature_USE_fct(sentences, b_size) :\n",
    "    batch_size = b_size\n",
    "    time1 = time.time()\n",
    "\n",
    "    for step in range(len(sentences)//batch_size) :\n",
    "        idx = step*batch_size\n",
    "        feat = embed(sentences[idx:idx+batch_size])\n",
    "\n",
    "        if step ==0 :\n",
    "            features = feat\n",
    "        else :\n",
    "            features = np.concatenate((features,feat))\n",
    "\n",
    "    time2 = np.round(time.time() - time1,0)\n",
    "    return features"
   ]
  },
  {
   "cell_type": "code",
   "execution_count": 28,
   "metadata": {
    "id": "hly-6VkG3K9v"
   },
   "outputs": [],
   "source": [
    "##\n",
    "batch_size = 10\n",
    "#sentences = data_T['sentence_dl'].to_list()\n",
    "sentences = df['Title_Body'].to_list() #.str.slice(0, 500).str.lower().apply(tokenizer_db.encode)"
   ]
  },
  {
   "cell_type": "code",
   "execution_count": 29,
   "metadata": {
    "id": "AY2Pzp213LAZ"
   },
   "outputs": [],
   "source": [
    "features_USE = feature_USE_fct(sentences, batch_size)"
   ]
  },
  {
   "cell_type": "code",
   "execution_count": 30,
   "metadata": {
    "colab": {
     "base_uri": "https://localhost:8080/"
    },
    "id": "ZBFp7wIW6KJd",
    "outputId": "2bdc3554-18c8-4f87-ff65-c701138c3290"
   },
   "outputs": [
    {
     "data": {
      "text/plain": [
       "(15870, 512)"
      ]
     },
     "execution_count": 30,
     "metadata": {},
     "output_type": "execute_result"
    }
   ],
   "source": [
    "features_USE.shape"
   ]
  },
  {
   "cell_type": "code",
   "execution_count": 31,
   "metadata": {
    "id": "9R6IJBET3LDy"
   },
   "outputs": [],
   "source": [
    "X_USE = features_USE"
   ]
  },
  {
   "cell_type": "markdown",
   "metadata": {
    "id": "uApZH_QrEMaU"
   },
   "source": [
    "#### 1.2.2 Réduction de dimension"
   ]
  },
  {
   "cell_type": "code",
   "execution_count": 32,
   "metadata": {
    "id": "iaet_q8bkgxY"
   },
   "outputs": [],
   "source": [
    "def simulation_components(X, n_begin, n_end, step):\n",
    "  var_cum = []\n",
    "\n",
    "  for components in range(n_begin,n_end,step):\n",
    "    tsvd = TruncatedSVD(n_components=components)\n",
    "    X_tsvd = tsvd.fit(X)\n",
    "    var_cum.append([components,sum(tsvd.explained_variance_ratio_)])\n",
    "\n",
    "  df_var_cum = pd.DataFrame(var_cum,columns=['n_components','variance'])\n",
    "  df_var_cum.plot.line('n_components','variance')\n",
    "  plt.show"
   ]
  },
  {
   "cell_type": "code",
   "execution_count": 42,
   "metadata": {
    "colab": {
     "base_uri": "https://localhost:8080/",
     "height": 280
    },
    "id": "dhIYmJZiU384",
    "outputId": "18520bfa-a408-40e0-bfb8-4490c5ee5fa0"
   },
   "outputs": [
    {
     "data": {
      "image/png": "[encoded data removed]",
      "text/plain": [
       "<Figure size 432x288 with 1 Axes>"
      ]
     },
     "metadata": {
      "needs_background": "light"
     },
     "output_type": "display_data"
    }
   ],
   "source": [
    "#X_CV\n",
    "simulation_components(X_CV, 0, 100, 10)"
   ]
  },
  {
   "cell_type": "code",
   "execution_count": 43,
   "metadata": {
    "colab": {
     "base_uri": "https://localhost:8080/",
     "height": 280
    },
    "id": "x9DRD8i6U_IL",
    "outputId": "87d4bde9-6e54-49db-9099-1a2263f64f88"
   },
   "outputs": [
    {
     "data": {
      "image/png": "[encoded data removed]",
      "text/plain": [
       "<Figure size 432x288 with 1 Axes>"
      ]
     },
     "metadata": {
      "needs_background": "light"
     },
     "output_type": "display_data"
    }
   ],
   "source": [
    "#X_TFIDF\n",
    "simulation_components(X_TFIDF, 0, 100, 10)"
   ]
  },
  {
   "cell_type": "code",
   "execution_count": 33,
   "metadata": {
    "colab": {
     "base_uri": "https://localhost:8080/",
     "height": 280
    },
    "id": "lDYPaa6wmAG7",
    "outputId": "0b328c7d-213d-4a2c-9438-2a1f7db7ae3d"
   },
   "outputs": [
    {
     "data": {
      "image/png": "[encoded data removed]",
      "text/plain": [
       "<Figure size 432x288 with 1 Axes>"
      ]
     },
     "metadata": {
      "needs_background": "light"
     },
     "output_type": "display_data"
    }
   ],
   "source": [
    "#Glove\n",
    "simulation_components(X_glove, 0, 100, 10)"
   ]
  },
  {
   "cell_type": "code",
   "execution_count": 34,
   "metadata": {
    "colab": {
     "base_uri": "https://localhost:8080/",
     "height": 280
    },
    "id": "s_CjQS1jmSG4",
    "outputId": "4c3cf6a3-da9f-405b-8f2a-4c712704e69d"
   },
   "outputs": [
    {
     "data": {
      "image/png": "[encoded data removed]",
      "text/plain": [
       "<Figure size 432x288 with 1 Axes>"
      ]
     },
     "metadata": {
      "needs_background": "light"
     },
     "output_type": "display_data"
    }
   ],
   "source": [
    "#Bert\n",
    "simulation_components(X_bert, 0, 800, 100)"
   ]
  },
  {
   "cell_type": "code",
   "execution_count": 35,
   "metadata": {
    "colab": {
     "base_uri": "https://localhost:8080/",
     "height": 280
    },
    "id": "0dYwFUxz6sCS",
    "outputId": "848de135-4af7-4e0f-c3e8-ac90a81e1e00"
   },
   "outputs": [
    {
     "data": {
      "image/png": "[encoded data removed]",
      "text/plain": [
       "<Figure size 432x288 with 1 Axes>"
      ]
     },
     "metadata": {
      "needs_background": "light"
     },
     "output_type": "display_data"
    }
   ],
   "source": [
    "#USE\n",
    "simulation_components(X_USE, 0, 500, 100)"
   ]
  },
  {
   "cell_type": "code",
   "execution_count": 36,
   "metadata": {
    "colab": {
     "base_uri": "https://localhost:8080/",
     "height": 280
    },
    "id": "95y0vmt-Z9iJ",
    "outputId": "0eef32cb-604d-4fbb-8fe3-b7771f843340"
   },
   "outputs": [
    {
     "data": {
      "image/png": "[encoded data removed]",
      "text/plain": [
       "<Figure size 432x288 with 1 Axes>"
      ]
     },
     "metadata": {
      "needs_background": "light"
     },
     "output_type": "display_data"
    }
   ],
   "source": [
    "simulation_components(X_USE, 0, 100, 10)\n"
   ]
  },
  {
   "cell_type": "code",
   "execution_count": 37,
   "metadata": {
    "colab": {
     "base_uri": "https://localhost:8080/",
     "height": 280
    },
    "id": "fJHS_RH3aOsb",
    "outputId": "20f33afa-b250-4d1e-ec71-3f90f5ac7a43"
   },
   "outputs": [
    {
     "data": {
      "image/png": "[encoded data removed]",
      "text/plain": [
       "<Figure size 432x288 with 1 Axes>"
      ]
     },
     "metadata": {
      "needs_background": "light"
     },
     "output_type": "display_data"
    }
   ],
   "source": [
    "simulation_components(X_bert, 0, 100, 10)"
   ]
  },
  {
   "cell_type": "markdown",
   "metadata": {},
   "source": [
    "###### F Comparaison\n",
    "\n",
    "En comparent les figures, nous constatons que sur un même échelle, X_CV présente le meilleur Varience."
   ]
  },
  {
   "cell_type": "markdown",
   "metadata": {},
   "source": [
    "## 1.2 Modélisation"
   ]
  },
  {
   "cell_type": "code",
   "execution_count": 44,
   "metadata": {
    "id": "ubQNQ3RUatNK"
   },
   "outputs": [],
   "source": [
    "# Modélisation\n",
    "import sklearn.metrics as metrics\n",
    "from sklearn.metrics import f1_score\n",
    "from sklearn.metrics import accuracy_score\n",
    "from sklearn.metrics import precision_score\n",
    "from sklearn.metrics import recall_score\n",
    "from sklearn.metrics import jaccard_score\n",
    "\n",
    "#modélisation\n",
    "from sklearn.preprocessing import MultiLabelBinarizer\n",
    "from sklearn.decomposition import TruncatedSVD\n",
    "from sklearn.linear_model import LogisticRegression\n",
    "from sklearn.naive_bayes import MultinomialNB\n",
    "from xgboost import XGBClassifier\n",
    "from sklearn.multiclass import OneVsRestClassifier\n",
    "\n",
    "# list of unique tags\n",
    "categories = list(y.columns.values)\n",
    "\n",
    "# list of metrics used to compare model performance\n",
    "scores = ['f1','accuracy','precision','recall','fitting_duration', 'jaccard']\n",
    "\n"
   ]
  },
  {
   "cell_type": "markdown",
   "metadata": {},
   "source": [
    "#### importer les classifieurs"
   ]
  },
  {
   "cell_type": "code",
   "execution_count": 77,
   "metadata": {
    "id": "qLIJvuhTfObo"
   },
   "outputs": [],
   "source": [
    "#### import des classifieurs\n",
    "from sklearn.multioutput import MultiOutputClassifier\n",
    "from sklearn.naive_bayes import MultinomialNB\n",
    "from sklearn.linear_model import LogisticRegression\n",
    "from sklearn.svm import LinearSVC"
   ]
  },
  {
   "cell_type": "markdown",
   "metadata": {},
   "source": [
    "#### train test split"
   ]
  },
  {
   "cell_type": "code",
   "execution_count": 79,
   "metadata": {
    "id": "XspjjvKSoUPP"
   },
   "outputs": [],
   "source": [
    "#X_CV, X_glove, X_bert, X_use\n",
    "X_train_cv, X_test_cv, y_train_cv, y_test_cv = train_test_split(X_CV, y, test_size=0.2, random_state=42)\n",
    "X_train_bert, X_test_bert, y_train_bert, y_test_bert = train_test_split(X_bert, y, test_size=0.2, random_state=42)\n",
    "X_train_glove, X_test_glove, y_train_glove, y_test_glove = train_test_split(X_glove, y, test_size=0.2, random_state=42)\n",
    "#X_train_use, X_test_use, y_train_use, y_test_use = train_test_split(X_USE, y, test_size=0.2, random_state=42)\n"
   ]
  },
  {
   "cell_type": "markdown",
   "metadata": {},
   "source": [
    "##### Comparison des metrics des X_CV, X_glove et X_Bert sur un même classifieur LinearSCV"
   ]
  },
  {
   "cell_type": "code",
   "execution_count": 81,
   "metadata": {
    "id": "9Q-0SLeLpC_L"
   },
   "outputs": [],
   "source": [
    "#Metrics\n",
    "#LinearSVC\n",
    "from sklearn.multioutput import MultiOutputClassifier\n",
    "from sklearn.svm import LinearSVC\n",
    "clf = MultiOutputClassifier(LinearSVC(random_state=0, tol=1e-5),n_jobs=-1)\n",
    "start = time.time()\n",
    "clf.fit(X_train_cv,y_train_cv)\n",
    "end = time.time()"
   ]
  },
  {
   "cell_type": "code",
   "execution_count": 83,
   "metadata": {
    "id": "Bk6SA_U6Z60v"
   },
   "outputs": [],
   "source": [
    "prediction = clf.predict(X_test_cv)"
   ]
  },
  {
   "cell_type": "code",
   "execution_count": 84,
   "metadata": {
    "id": "Ag6rzPGWZ6yE"
   },
   "outputs": [],
   "source": [
    "LinearSVC_CV = pd.DataFrame(columns=scores)\n",
    "\n",
    "f1 = []\n",
    "accuracy = []\n",
    "precision = []\n",
    "recall = []\n",
    "jaccard = []\n",
    "f1.append(f1_score(y_test_cv,prediction,average='weighted'))\n",
    "accuracy.append(accuracy_score(y_test_cv,prediction))\n",
    "precision.append(precision_score(y_test_cv,prediction,average='weighted'))\n",
    "recall.append(recall_score(y_test_cv,prediction,average='weighted'))\n",
    "#recall.append(recall_score(y_test,prediction,average='weighted'))\n",
    "jaccard.append(jaccard_score(y_test_cv,prediction,average='weighted')) #jaccard_score(y_pred, y_test,average='macro')*100\n",
    "\n",
    "LinearSVC_CV['f1']=f1\n",
    "LinearSVC_CV['accuracy']=accuracy\n",
    "LinearSVC_CV['precision']=precision\n",
    "LinearSVC_CV['recall'] = recall\n",
    "LinearSVC_CV['jaccard'] = jaccard\n",
    "LinearSVC_CV['fitting_duration'] = end-start"
   ]
  },
  {
   "cell_type": "code",
   "execution_count": 87,
   "metadata": {
    "colab": {
     "base_uri": "https://localhost:8080/",
     "height": 98
    },
    "id": "N00LG7zIZ6ug",
    "outputId": "8fe35d58-5820-4d9d-f7bc-ba6b7626376d"
   },
   "outputs": [
    {
     "name": "stdout",
     "output_type": "stream",
     "text": [
      "X_CV: metrics_results\n"
     ]
    },
    {
     "data": {
      "text/html": [
       "\n",
       "  <div id=\"df-2e66e06a-1f25-4be3-90a0-2b5a8281bbec\">\n",
       "    <div class=\"colab-df-container\">\n",
       "      <div>\n",
       "<style scoped>\n",
       "    .dataframe tbody tr th:only-of-type {\n",
       "        vertical-align: middle;\n",
       "    }\n",
       "\n",
       "    .dataframe tbody tr th {\n",
       "        vertical-align: top;\n",
       "    }\n",
       "\n",
       "    .dataframe thead th {\n",
       "        text-align: right;\n",
       "    }\n",
       "</style>\n",
       "<table border=\"1\" class=\"dataframe\">\n",
       "  <thead>\n",
       "    <tr style=\"text-align: right;\">\n",
       "      <th></th>\n",
       "      <th>f1</th>\n",
       "      <th>accuracy</th>\n",
       "      <th>precision</th>\n",
       "      <th>recall</th>\n",
       "      <th>fitting_duration</th>\n",
       "      <th>jaccard</th>\n",
       "    </tr>\n",
       "  </thead>\n",
       "  <tbody>\n",
       "    <tr>\n",
       "      <th>0</th>\n",
       "      <td>0.689878</td>\n",
       "      <td>0.465365</td>\n",
       "      <td>0.687076</td>\n",
       "      <td>0.695872</td>\n",
       "      <td>9.629785</td>\n",
       "      <td>0.55369</td>\n",
       "    </tr>\n",
       "  </tbody>\n",
       "</table>\n",
       "</div>\n",
       "      <button class=\"colab-df-convert\" onclick=\"convertToInteractive('df-2e66e06a-1f25-4be3-90a0-2b5a8281bbec')\"\n",
       "              title=\"Convert this dataframe to an interactive table.\"\n",
       "              style=\"display:none;\">\n",
       "        \n",
       "  <svg xmlns=\"http://www.w3.org/2000/svg\" height=\"24px\"viewBox=\"0 0 24 24\"\n",
       "       width=\"24px\">\n",
       "    <path d=\"M0 0h24v24H0V0z\" fill=\"none\"/>\n",
       "    <path d=\"M18.56 5.44l.94 2.06.94-2.06 2.06-.94-2.06-.94-.94-2.06-.94 2.06-2.06.94zm-11 1L8.5 8.5l.94-2.06 2.06-.94-2.06-.94L8.5 2.5l-.94 2.06-2.06.94zm10 10l.94 2.06.94-2.06 2.06-.94-2.06-.94-.94-2.06-.94 2.06-2.06.94z\"/><path d=\"M17.41 7.96l-1.37-1.37c-.4-.4-.92-.59-1.43-.59-.52 0-1.04.2-1.43.59L10.3 9.45l-7.72 7.72c-.78.78-.78 2.05 0 2.83L4 21.41c.39.39.9.59 1.41.59.51 0 1.02-.2 1.41-.59l7.78-7.78 2.81-2.81c.8-.78.8-2.07 0-2.86zM5.41 20L4 18.59l7.72-7.72 1.47 1.35L5.41 20z\"/>\n",
       "  </svg>\n",
       "      </button>\n",
       "      \n",
       "  <style>\n",
       "    .colab-df-container {\n",
       "      display:flex;\n",
       "      flex-wrap:wrap;\n",
       "      gap: 12px;\n",
       "    }\n",
       "\n",
       "    .colab-df-convert {\n",
       "      background-color: #E8F0FE;\n",
       "      border: none;\n",
       "      border-radius: 50%;\n",
       "      cursor: pointer;\n",
       "      display: none;\n",
       "      fill: #1967D2;\n",
       "      height: 32px;\n",
       "      padding: 0 0 0 0;\n",
       "      width: 32px;\n",
       "    }\n",
       "\n",
       "    .colab-df-convert:hover {\n",
       "      background-color: #E2EBFA;\n",
       "      box-shadow: 0px 1px 2px rgba(60, 64, 67, 0.3), 0px 1px 3px 1px rgba(60, 64, 67, 0.15);\n",
       "      fill: #174EA6;\n",
       "    }\n",
       "\n",
       "    [theme=dark] .colab-df-convert {\n",
       "      background-color: #3B4455;\n",
       "      fill: #D2E3FC;\n",
       "    }\n",
       "\n",
       "    [theme=dark] .colab-df-convert:hover {\n",
       "      background-color: #434B5C;\n",
       "      box-shadow: 0px 1px 3px 1px rgba(0, 0, 0, 0.15);\n",
       "      filter: drop-shadow(0px 1px 2px rgba(0, 0, 0, 0.3));\n",
       "      fill: #FFFFFF;\n",
       "    }\n",
       "  </style>\n",
       "\n",
       "      <script>\n",
       "        const buttonEl =\n",
       "          document.querySelector('#df-2e66e06a-1f25-4be3-90a0-2b5a8281bbec button.colab-df-convert');\n",
       "        buttonEl.style.display =\n",
       "          google.colab.kernel.accessAllowed ? 'block' : 'none';\n",
       "\n",
       "        async function convertToInteractive(key) {\n",
       "          const element = document.querySelector('#df-2e66e06a-1f25-4be3-90a0-2b5a8281bbec');\n",
       "          const dataTable =\n",
       "            await google.colab.kernel.invokeFunction('convertToInteractive',\n",
       "                                                     [key], {});\n",
       "          if (!dataTable) return;\n",
       "\n",
       "          const docLinkHtml = 'Like what you see? Visit the ' +\n",
       "            '<a target=\"_blank\" href=https://colab.research.google.com/notebooks/data_table.ipynb>data table notebook</a>'\n",
       "            + ' to learn more about interactive tables.';\n",
       "          element.innerHTML = '';\n",
       "          dataTable['output_type'] = 'display_data';\n",
       "          await google.colab.output.renderOutput(dataTable, element);\n",
       "          const docLink = document.createElement('div');\n",
       "          docLink.innerHTML = docLinkHtml;\n",
       "          element.appendChild(docLink);\n",
       "        }\n",
       "      </script>\n",
       "    </div>\n",
       "  </div>\n",
       "  "
      ],
      "text/plain": [
       "         f1  accuracy  precision    recall  fitting_duration  jaccard\n",
       "0  0.689878  0.465365  0.687076   0.695872  9.629785          0.55369"
      ]
     },
     "execution_count": 87,
     "metadata": {},
     "output_type": "execute_result"
    }
   ],
   "source": [
    "print(\"X_CV: metrics_results\")\n",
    "LinearSVC_CV"
   ]
  },
  {
   "cell_type": "code",
   "execution_count": 89,
   "metadata": {
    "colab": {
     "base_uri": "https://localhost:8080/",
     "height": 98
    },
    "id": "oKRNEVzsqS93",
    "outputId": "6445f531-fcfd-465f-d495-98a45a4f791f"
   },
   "outputs": [
    {
     "name": "stdout",
     "output_type": "stream",
     "text": [
      "X_Glove: metrics_results\n"
     ]
    },
    {
     "data": {
      "text/html": [
       "\n",
       "  <div id=\"df-580544ee-383f-4f19-a56e-4c9caa3def5f\">\n",
       "    <div class=\"colab-df-container\">\n",
       "      <div>\n",
       "<style scoped>\n",
       "    .dataframe tbody tr th:only-of-type {\n",
       "        vertical-align: middle;\n",
       "    }\n",
       "\n",
       "    .dataframe tbody tr th {\n",
       "        vertical-align: top;\n",
       "    }\n",
       "\n",
       "    .dataframe thead th {\n",
       "        text-align: right;\n",
       "    }\n",
       "</style>\n",
       "<table border=\"1\" class=\"dataframe\">\n",
       "  <thead>\n",
       "    <tr style=\"text-align: right;\">\n",
       "      <th></th>\n",
       "      <th>f1</th>\n",
       "      <th>accuracy</th>\n",
       "      <th>precision</th>\n",
       "      <th>recall</th>\n",
       "      <th>fitting_duration</th>\n",
       "      <th>jaccard</th>\n",
       "    </tr>\n",
       "  </thead>\n",
       "  <tbody>\n",
       "    <tr>\n",
       "      <th>0</th>\n",
       "      <td>0.555085</td>\n",
       "      <td>0.305101</td>\n",
       "      <td>0.655955</td>\n",
       "      <td>0.52156</td>\n",
       "      <td>869.113133</td>\n",
       "      <td>0.411109</td>\n",
       "    </tr>\n",
       "  </tbody>\n",
       "</table>\n",
       "</div>\n",
       "      <button class=\"colab-df-convert\" onclick=\"convertToInteractive('df-580544ee-383f-4f19-a56e-4c9caa3def5f')\"\n",
       "              title=\"Convert this dataframe to an interactive table.\"\n",
       "              style=\"display:none;\">\n",
       "        \n",
       "  <svg xmlns=\"http://www.w3.org/2000/svg\" height=\"24px\"viewBox=\"0 0 24 24\"\n",
       "       width=\"24px\">\n",
       "    <path d=\"M0 0h24v24H0V0z\" fill=\"none\"/>\n",
       "    <path d=\"M18.56 5.44l.94 2.06.94-2.06 2.06-.94-2.06-.94-.94-2.06-.94 2.06-2.06.94zm-11 1L8.5 8.5l.94-2.06 2.06-.94-2.06-.94L8.5 2.5l-.94 2.06-2.06.94zm10 10l.94 2.06.94-2.06 2.06-.94-2.06-.94-.94-2.06-.94 2.06-2.06.94z\"/><path d=\"M17.41 7.96l-1.37-1.37c-.4-.4-.92-.59-1.43-.59-.52 0-1.04.2-1.43.59L10.3 9.45l-7.72 7.72c-.78.78-.78 2.05 0 2.83L4 21.41c.39.39.9.59 1.41.59.51 0 1.02-.2 1.41-.59l7.78-7.78 2.81-2.81c.8-.78.8-2.07 0-2.86zM5.41 20L4 18.59l7.72-7.72 1.47 1.35L5.41 20z\"/>\n",
       "  </svg>\n",
       "      </button>\n",
       "      \n",
       "  <style>\n",
       "    .colab-df-container {\n",
       "      display:flex;\n",
       "      flex-wrap:wrap;\n",
       "      gap: 12px;\n",
       "    }\n",
       "\n",
       "    .colab-df-convert {\n",
       "      background-color: #E8F0FE;\n",
       "      border: none;\n",
       "      border-radius: 50%;\n",
       "      cursor: pointer;\n",
       "      display: none;\n",
       "      fill: #1967D2;\n",
       "      height: 32px;\n",
       "      padding: 0 0 0 0;\n",
       "      width: 32px;\n",
       "    }\n",
       "\n",
       "    .colab-df-convert:hover {\n",
       "      background-color: #E2EBFA;\n",
       "      box-shadow: 0px 1px 2px rgba(60, 64, 67, 0.3), 0px 1px 3px 1px rgba(60, 64, 67, 0.15);\n",
       "      fill: #174EA6;\n",
       "    }\n",
       "\n",
       "    [theme=dark] .colab-df-convert {\n",
       "      background-color: #3B4455;\n",
       "      fill: #D2E3FC;\n",
       "    }\n",
       "\n",
       "    [theme=dark] .colab-df-convert:hover {\n",
       "      background-color: #434B5C;\n",
       "      box-shadow: 0px 1px 3px 1px rgba(0, 0, 0, 0.15);\n",
       "      filter: drop-shadow(0px 1px 2px rgba(0, 0, 0, 0.3));\n",
       "      fill: #FFFFFF;\n",
       "    }\n",
       "  </style>\n",
       "\n",
       "      <script>\n",
       "        const buttonEl =\n",
       "          document.querySelector('#df-580544ee-383f-4f19-a56e-4c9caa3def5f button.colab-df-convert');\n",
       "        buttonEl.style.display =\n",
       "          google.colab.kernel.accessAllowed ? 'block' : 'none';\n",
       "\n",
       "        async function convertToInteractive(key) {\n",
       "          const element = document.querySelector('#df-580544ee-383f-4f19-a56e-4c9caa3def5f');\n",
       "          const dataTable =\n",
       "            await google.colab.kernel.invokeFunction('convertToInteractive',\n",
       "                                                     [key], {});\n",
       "          if (!dataTable) return;\n",
       "\n",
       "          const docLinkHtml = 'Like what you see? Visit the ' +\n",
       "            '<a target=\"_blank\" href=https://colab.research.google.com/notebooks/data_table.ipynb>data table notebook</a>'\n",
       "            + ' to learn more about interactive tables.';\n",
       "          element.innerHTML = '';\n",
       "          dataTable['output_type'] = 'display_data';\n",
       "          await google.colab.output.renderOutput(dataTable, element);\n",
       "          const docLink = document.createElement('div');\n",
       "          docLink.innerHTML = docLinkHtml;\n",
       "          element.appendChild(docLink);\n",
       "        }\n",
       "      </script>\n",
       "    </div>\n",
       "  </div>\n",
       "  "
      ],
      "text/plain": [
       "         f1  accuracy  precision   recall  fitting_duration   jaccard\n",
       "0  0.555085  0.305101  0.655955   0.52156  869.113133        0.411109"
      ]
     },
     "execution_count": 89,
     "metadata": {},
     "output_type": "execute_result"
    }
   ],
   "source": [
    "#glove\n",
    "clf.fit(X_train_glove,y_train_glove)\n",
    "end = time.time()\n",
    "\n",
    "prediction = clf.predict(X_test_glove)\n",
    "\n",
    "LinearSVC_glove = pd.DataFrame(columns=scores)\n",
    "\n",
    "f1 = []\n",
    "accuracy = []\n",
    "precision = []\n",
    "recall = []\n",
    "jaccard = []\n",
    "f1.append(f1_score(y_test_glove,prediction,average='weighted'))\n",
    "accuracy.append(accuracy_score(y_test_glove,prediction))\n",
    "precision.append(precision_score(y_test_glove,prediction,average='weighted'))\n",
    "recall.append(recall_score(y_test_glove,prediction,average='weighted'))\n",
    "#recall.append(recall_score(y_test,prediction,average='weighted'))\n",
    "jaccard.append(jaccard_score(y_test_glove,prediction,average='weighted')) #jaccard_score(y_pred, y_test,average='macro')*100\n",
    "\n",
    "LinearSVC_glove['f1']=f1\n",
    "LinearSVC_glove['accuracy']=accuracy\n",
    "LinearSVC_glove['precision']=precision\n",
    "LinearSVC_glove['recall'] = recall\n",
    "LinearSVC_glove['jaccard'] = jaccard\n",
    "LinearSVC_glove['fitting_duration'] = end-start\n",
    "\n",
    "print(\"X_Glove: metrics_results\")\n",
    "LinearSVC_glove\n"
   ]
  },
  {
   "cell_type": "code",
   "execution_count": 90,
   "metadata": {
    "colab": {
     "base_uri": "https://localhost:8080/",
     "height": 98
    },
    "id": "tCkItCoTqTUP",
    "outputId": "23695f0a-2e69-47a6-c701-4da6fba8ee04"
   },
   "outputs": [
    {
     "name": "stdout",
     "output_type": "stream",
     "text": [
      "X_bert: metrics_results\n"
     ]
    },
    {
     "data": {
      "text/html": [
       "\n",
       "  <div id=\"df-87ae3424-6398-40b6-b946-d3007f5001a8\">\n",
       "    <div class=\"colab-df-container\">\n",
       "      <div>\n",
       "<style scoped>\n",
       "    .dataframe tbody tr th:only-of-type {\n",
       "        vertical-align: middle;\n",
       "    }\n",
       "\n",
       "    .dataframe tbody tr th {\n",
       "        vertical-align: top;\n",
       "    }\n",
       "\n",
       "    .dataframe thead th {\n",
       "        text-align: right;\n",
       "    }\n",
       "</style>\n",
       "<table border=\"1\" class=\"dataframe\">\n",
       "  <thead>\n",
       "    <tr style=\"text-align: right;\">\n",
       "      <th></th>\n",
       "      <th>f1</th>\n",
       "      <th>accuracy</th>\n",
       "      <th>precision</th>\n",
       "      <th>recall</th>\n",
       "      <th>fitting_duration</th>\n",
       "      <th>jaccard</th>\n",
       "    </tr>\n",
       "  </thead>\n",
       "  <tbody>\n",
       "    <tr>\n",
       "      <th>0</th>\n",
       "      <td>0.555085</td>\n",
       "      <td>0.305101</td>\n",
       "      <td>0.655955</td>\n",
       "      <td>0.52156</td>\n",
       "      <td>983.213302</td>\n",
       "      <td>0.411109</td>\n",
       "    </tr>\n",
       "  </tbody>\n",
       "</table>\n",
       "</div>\n",
       "      <button class=\"colab-df-convert\" onclick=\"convertToInteractive('df-87ae3424-6398-40b6-b946-d3007f5001a8')\"\n",
       "              title=\"Convert this dataframe to an interactive table.\"\n",
       "              style=\"display:none;\">\n",
       "        \n",
       "  <svg xmlns=\"http://www.w3.org/2000/svg\" height=\"24px\"viewBox=\"0 0 24 24\"\n",
       "       width=\"24px\">\n",
       "    <path d=\"M0 0h24v24H0V0z\" fill=\"none\"/>\n",
       "    <path d=\"M18.56 5.44l.94 2.06.94-2.06 2.06-.94-2.06-.94-.94-2.06-.94 2.06-2.06.94zm-11 1L8.5 8.5l.94-2.06 2.06-.94-2.06-.94L8.5 2.5l-.94 2.06-2.06.94zm10 10l.94 2.06.94-2.06 2.06-.94-2.06-.94-.94-2.06-.94 2.06-2.06.94z\"/><path d=\"M17.41 7.96l-1.37-1.37c-.4-.4-.92-.59-1.43-.59-.52 0-1.04.2-1.43.59L10.3 9.45l-7.72 7.72c-.78.78-.78 2.05 0 2.83L4 21.41c.39.39.9.59 1.41.59.51 0 1.02-.2 1.41-.59l7.78-7.78 2.81-2.81c.8-.78.8-2.07 0-2.86zM5.41 20L4 18.59l7.72-7.72 1.47 1.35L5.41 20z\"/>\n",
       "  </svg>\n",
       "      </button>\n",
       "      \n",
       "  <style>\n",
       "    .colab-df-container {\n",
       "      display:flex;\n",
       "      flex-wrap:wrap;\n",
       "      gap: 12px;\n",
       "    }\n",
       "\n",
       "    .colab-df-convert {\n",
       "      background-color: #E8F0FE;\n",
       "      border: none;\n",
       "      border-radius: 50%;\n",
       "      cursor: pointer;\n",
       "      display: none;\n",
       "      fill: #1967D2;\n",
       "      height: 32px;\n",
       "      padding: 0 0 0 0;\n",
       "      width: 32px;\n",
       "    }\n",
       "\n",
       "    .colab-df-convert:hover {\n",
       "      background-color: #E2EBFA;\n",
       "      box-shadow: 0px 1px 2px rgba(60, 64, 67, 0.3), 0px 1px 3px 1px rgba(60, 64, 67, 0.15);\n",
       "      fill: #174EA6;\n",
       "    }\n",
       "\n",
       "    [theme=dark] .colab-df-convert {\n",
       "      background-color: #3B4455;\n",
       "      fill: #D2E3FC;\n",
       "    }\n",
       "\n",
       "    [theme=dark] .colab-df-convert:hover {\n",
       "      background-color: #434B5C;\n",
       "      box-shadow: 0px 1px 3px 1px rgba(0, 0, 0, 0.15);\n",
       "      filter: drop-shadow(0px 1px 2px rgba(0, 0, 0, 0.3));\n",
       "      fill: #FFFFFF;\n",
       "    }\n",
       "  </style>\n",
       "\n",
       "      <script>\n",
       "        const buttonEl =\n",
       "          document.querySelector('#df-87ae3424-6398-40b6-b946-d3007f5001a8 button.colab-df-convert');\n",
       "        buttonEl.style.display =\n",
       "          google.colab.kernel.accessAllowed ? 'block' : 'none';\n",
       "\n",
       "        async function convertToInteractive(key) {\n",
       "          const element = document.querySelector('#df-87ae3424-6398-40b6-b946-d3007f5001a8');\n",
       "          const dataTable =\n",
       "            await google.colab.kernel.invokeFunction('convertToInteractive',\n",
       "                                                     [key], {});\n",
       "          if (!dataTable) return;\n",
       "\n",
       "          const docLinkHtml = 'Like what you see? Visit the ' +\n",
       "            '<a target=\"_blank\" href=https://colab.research.google.com/notebooks/data_table.ipynb>data table notebook</a>'\n",
       "            + ' to learn more about interactive tables.';\n",
       "          element.innerHTML = '';\n",
       "          dataTable['output_type'] = 'display_data';\n",
       "          await google.colab.output.renderOutput(dataTable, element);\n",
       "          const docLink = document.createElement('div');\n",
       "          docLink.innerHTML = docLinkHtml;\n",
       "          element.appendChild(docLink);\n",
       "        }\n",
       "      </script>\n",
       "    </div>\n",
       "  </div>\n",
       "  "
      ],
      "text/plain": [
       "         f1  accuracy  precision   recall  fitting_duration   jaccard\n",
       "0  0.555085  0.305101  0.655955   0.52156  983.213302        0.411109"
      ]
     },
     "execution_count": 90,
     "metadata": {},
     "output_type": "execute_result"
    }
   ],
   "source": [
    "#bert\n",
    "clf.fit(X_train_glove,y_train_glove)\n",
    "end = time.time()\n",
    "\n",
    "prediction = clf.predict(X_test_glove)\n",
    "\n",
    "LinearSVC_bert = pd.DataFrame(columns=scores)\n",
    "\n",
    "f1 = []\n",
    "accuracy = []\n",
    "precision = []\n",
    "recall = []\n",
    "jaccard = []\n",
    "f1.append(f1_score(y_test_bert,prediction,average='weighted'))\n",
    "accuracy.append(accuracy_score(y_test_bert,prediction))\n",
    "precision.append(precision_score(y_test_bert,prediction,average='weighted'))\n",
    "recall.append(recall_score(y_test_bert,prediction,average='weighted'))\n",
    "#recall.append(recall_score(y_test,prediction,average='weighted'))\n",
    "jaccard.append(jaccard_score(y_test_bert,prediction,average='weighted')) #jaccard_score(y_pred, y_test,average='macro')*100\n",
    "\n",
    "LinearSVC_bert['f1']=f1\n",
    "LinearSVC_bert['accuracy']=accuracy\n",
    "LinearSVC_bert['precision']=precision\n",
    "LinearSVC_bert['recall'] = recall\n",
    "LinearSVC_bert['jaccard'] = jaccard\n",
    "LinearSVC_bert['fitting_duration'] = end-start\n",
    "\n",
    "print(\"X_bert: metrics_results\")\n",
    "LinearSVC_bert"
   ]
  },
  {
   "cell_type": "markdown",
   "metadata": {},
   "source": [
    "##### La meilleure extraction était avec X_CV "
   ]
  },
  {
   "cell_type": "code",
   "execution_count": 92,
   "metadata": {
    "colab": {
     "base_uri": "https://localhost:8080/"
    },
    "id": "Gbk0q-rQqTYT",
    "outputId": "867889d9-166d-45de-c149-43364f5cce85"
   },
   "outputs": [
    {
     "name": "stdout",
     "output_type": "stream",
     "text": [
      "Les meilleurs résultats ont été avec : X_CV\n",
      "Maintenant je teste d'autes classifieurs : Logistic regression et MNB\n"
     ]
    }
   ],
   "source": [
    "print(\"Les meilleurs résultats ont été avec : X_CV\")\n",
    "print(\"Maintenant je teste d'autes classifieurs : Logistic regression et MNB\")"
   ]
  },
  {
   "cell_type": "markdown",
   "metadata": {},
   "source": [
    "# Tester sur deux autres classifieurs: LogisticRegression et MultinomialNB\n",
    "\n",
    "puis comparer les metrics avec celles données par LinearSVC"
   ]
  },
  {
   "cell_type": "code",
   "execution_count": 95,
   "metadata": {
    "id": "GLVHGaUjqTdz"
   },
   "outputs": [],
   "source": [
    "#Logistic Regression\n",
    "clf = MultiOutputClassifier(LogisticRegression(max_iter=500,tol=1e-5),n_jobs=-1)\n",
    "start = time.time()\n",
    "clf.fit(X_train_cv,y_train_cv)\n",
    "end = time.time()"
   ]
  },
  {
   "cell_type": "code",
   "execution_count": 96,
   "metadata": {
    "id": "r-gGJyn4qTiZ"
   },
   "outputs": [],
   "source": [
    "prediction = clf.predict(X_test_cv)"
   ]
  },
  {
   "cell_type": "code",
   "execution_count": 97,
   "metadata": {
    "colab": {
     "base_uri": "https://localhost:8080/",
     "height": 98
    },
    "id": "n3q7QiftqToQ",
    "outputId": "05638b8a-c4ea-4469-ecc8-1e24d8c0d48c"
   },
   "outputs": [
    {
     "name": "stdout",
     "output_type": "stream",
     "text": [
      "X_CV: LR_metrics\n"
     ]
    },
    {
     "data": {
      "text/html": [
       "\n",
       "  <div id=\"df-1d9b20f5-e64c-4910-afd2-0cd19eb0309d\">\n",
       "    <div class=\"colab-df-container\">\n",
       "      <div>\n",
       "<style scoped>\n",
       "    .dataframe tbody tr th:only-of-type {\n",
       "        vertical-align: middle;\n",
       "    }\n",
       "\n",
       "    .dataframe tbody tr th {\n",
       "        vertical-align: top;\n",
       "    }\n",
       "\n",
       "    .dataframe thead th {\n",
       "        text-align: right;\n",
       "    }\n",
       "</style>\n",
       "<table border=\"1\" class=\"dataframe\">\n",
       "  <thead>\n",
       "    <tr style=\"text-align: right;\">\n",
       "      <th></th>\n",
       "      <th>f1</th>\n",
       "      <th>accuracy</th>\n",
       "      <th>precision</th>\n",
       "      <th>recall</th>\n",
       "      <th>fitting_duration</th>\n",
       "      <th>jaccard</th>\n",
       "    </tr>\n",
       "  </thead>\n",
       "  <tbody>\n",
       "    <tr>\n",
       "      <th>0</th>\n",
       "      <td>0.708653</td>\n",
       "      <td>0.506927</td>\n",
       "      <td>0.77715</td>\n",
       "      <td>0.655963</td>\n",
       "      <td>21.809539</td>\n",
       "      <td>0.575302</td>\n",
       "    </tr>\n",
       "  </tbody>\n",
       "</table>\n",
       "</div>\n",
       "      <button class=\"colab-df-convert\" onclick=\"convertToInteractive('df-1d9b20f5-e64c-4910-afd2-0cd19eb0309d')\"\n",
       "              title=\"Convert this dataframe to an interactive table.\"\n",
       "              style=\"display:none;\">\n",
       "        \n",
       "  <svg xmlns=\"http://www.w3.org/2000/svg\" height=\"24px\"viewBox=\"0 0 24 24\"\n",
       "       width=\"24px\">\n",
       "    <path d=\"M0 0h24v24H0V0z\" fill=\"none\"/>\n",
       "    <path d=\"M18.56 5.44l.94 2.06.94-2.06 2.06-.94-2.06-.94-.94-2.06-.94 2.06-2.06.94zm-11 1L8.5 8.5l.94-2.06 2.06-.94-2.06-.94L8.5 2.5l-.94 2.06-2.06.94zm10 10l.94 2.06.94-2.06 2.06-.94-2.06-.94-.94-2.06-.94 2.06-2.06.94z\"/><path d=\"M17.41 7.96l-1.37-1.37c-.4-.4-.92-.59-1.43-.59-.52 0-1.04.2-1.43.59L10.3 9.45l-7.72 7.72c-.78.78-.78 2.05 0 2.83L4 21.41c.39.39.9.59 1.41.59.51 0 1.02-.2 1.41-.59l7.78-7.78 2.81-2.81c.8-.78.8-2.07 0-2.86zM5.41 20L4 18.59l7.72-7.72 1.47 1.35L5.41 20z\"/>\n",
       "  </svg>\n",
       "      </button>\n",
       "      \n",
       "  <style>\n",
       "    .colab-df-container {\n",
       "      display:flex;\n",
       "      flex-wrap:wrap;\n",
       "      gap: 12px;\n",
       "    }\n",
       "\n",
       "    .colab-df-convert {\n",
       "      background-color: #E8F0FE;\n",
       "      border: none;\n",
       "      border-radius: 50%;\n",
       "      cursor: pointer;\n",
       "      display: none;\n",
       "      fill: #1967D2;\n",
       "      height: 32px;\n",
       "      padding: 0 0 0 0;\n",
       "      width: 32px;\n",
       "    }\n",
       "\n",
       "    .colab-df-convert:hover {\n",
       "      background-color: #E2EBFA;\n",
       "      box-shadow: 0px 1px 2px rgba(60, 64, 67, 0.3), 0px 1px 3px 1px rgba(60, 64, 67, 0.15);\n",
       "      fill: #174EA6;\n",
       "    }\n",
       "\n",
       "    [theme=dark] .colab-df-convert {\n",
       "      background-color: #3B4455;\n",
       "      fill: #D2E3FC;\n",
       "    }\n",
       "\n",
       "    [theme=dark] .colab-df-convert:hover {\n",
       "      background-color: #434B5C;\n",
       "      box-shadow: 0px 1px 3px 1px rgba(0, 0, 0, 0.15);\n",
       "      filter: drop-shadow(0px 1px 2px rgba(0, 0, 0, 0.3));\n",
       "      fill: #FFFFFF;\n",
       "    }\n",
       "  </style>\n",
       "\n",
       "      <script>\n",
       "        const buttonEl =\n",
       "          document.querySelector('#df-1d9b20f5-e64c-4910-afd2-0cd19eb0309d button.colab-df-convert');\n",
       "        buttonEl.style.display =\n",
       "          google.colab.kernel.accessAllowed ? 'block' : 'none';\n",
       "\n",
       "        async function convertToInteractive(key) {\n",
       "          const element = document.querySelector('#df-1d9b20f5-e64c-4910-afd2-0cd19eb0309d');\n",
       "          const dataTable =\n",
       "            await google.colab.kernel.invokeFunction('convertToInteractive',\n",
       "                                                     [key], {});\n",
       "          if (!dataTable) return;\n",
       "\n",
       "          const docLinkHtml = 'Like what you see? Visit the ' +\n",
       "            '<a target=\"_blank\" href=https://colab.research.google.com/notebooks/data_table.ipynb>data table notebook</a>'\n",
       "            + ' to learn more about interactive tables.';\n",
       "          element.innerHTML = '';\n",
       "          dataTable['output_type'] = 'display_data';\n",
       "          await google.colab.output.renderOutput(dataTable, element);\n",
       "          const docLink = document.createElement('div');\n",
       "          docLink.innerHTML = docLinkHtml;\n",
       "          element.appendChild(docLink);\n",
       "        }\n",
       "      </script>\n",
       "    </div>\n",
       "  </div>\n",
       "  "
      ],
      "text/plain": [
       "         f1  accuracy  precision    recall  fitting_duration   jaccard\n",
       "0  0.708653  0.506927  0.77715    0.655963  21.809539         0.575302"
      ]
     },
     "execution_count": 97,
     "metadata": {},
     "output_type": "execute_result"
    }
   ],
   "source": [
    "Logistic_regression_CV=pd.DataFrame(columns=scores)\n",
    "\n",
    "f1 = []\n",
    "accuracy = []\n",
    "precision = []\n",
    "recall = []\n",
    "jaccard = []\n",
    "f1.append(f1_score(y_test_cv,prediction,average='weighted'))\n",
    "accuracy.append(accuracy_score(y_test_cv,prediction))\n",
    "precision.append(precision_score(y_test_cv,prediction,average='weighted'))\n",
    "recall.append(recall_score(y_test_cv,prediction,average='weighted'))\n",
    "jaccard.append(jaccard_score(y_test_cv,prediction,average='weighted'))\n",
    "\n",
    "Logistic_regression_CV['f1']=f1\n",
    "Logistic_regression_CV['accuracy']=accuracy\n",
    "Logistic_regression_CV['precision']=precision\n",
    "Logistic_regression_CV['recall'] = recall\n",
    "Logistic_regression_CV['jaccard'] = jaccard\n",
    "Logistic_regression_CV['fitting_duration'] = end-start\n",
    "\n",
    "print(\"X_CV: LR_metrics\")\n",
    "Logistic_regression_CV"
   ]
  },
  {
   "cell_type": "code",
   "execution_count": 103,
   "metadata": {
    "colab": {
     "base_uri": "https://localhost:8080/",
     "height": 98
    },
    "id": "4_ieu0rOqTrj",
    "outputId": "325864d6-8187-4e35-9243-f3c906e89c4d"
   },
   "outputs": [
    {
     "name": "stdout",
     "output_type": "stream",
     "text": [
      "X_CV: LR_metrics\n"
     ]
    },
    {
     "data": {
      "text/html": [
       "\n",
       "  <div id=\"df-3632fc8c-075d-44c2-b387-bb0d260f48bd\">\n",
       "    <div class=\"colab-df-container\">\n",
       "      <div>\n",
       "<style scoped>\n",
       "    .dataframe tbody tr th:only-of-type {\n",
       "        vertical-align: middle;\n",
       "    }\n",
       "\n",
       "    .dataframe tbody tr th {\n",
       "        vertical-align: top;\n",
       "    }\n",
       "\n",
       "    .dataframe thead th {\n",
       "        text-align: right;\n",
       "    }\n",
       "</style>\n",
       "<table border=\"1\" class=\"dataframe\">\n",
       "  <thead>\n",
       "    <tr style=\"text-align: right;\">\n",
       "      <th></th>\n",
       "      <th>f1</th>\n",
       "      <th>accuracy</th>\n",
       "      <th>precision</th>\n",
       "      <th>recall</th>\n",
       "      <th>fitting_duration</th>\n",
       "      <th>jaccard</th>\n",
       "    </tr>\n",
       "  </thead>\n",
       "  <tbody>\n",
       "    <tr>\n",
       "      <th>0</th>\n",
       "      <td>0.594454</td>\n",
       "      <td>0.362091</td>\n",
       "      <td>0.489434</td>\n",
       "      <td>0.779817</td>\n",
       "      <td>0.385985</td>\n",
       "      <td>0.443976</td>\n",
       "    </tr>\n",
       "  </tbody>\n",
       "</table>\n",
       "</div>\n",
       "      <button class=\"colab-df-convert\" onclick=\"convertToInteractive('df-3632fc8c-075d-44c2-b387-bb0d260f48bd')\"\n",
       "              title=\"Convert this dataframe to an interactive table.\"\n",
       "              style=\"display:none;\">\n",
       "        \n",
       "  <svg xmlns=\"http://www.w3.org/2000/svg\" height=\"24px\"viewBox=\"0 0 24 24\"\n",
       "       width=\"24px\">\n",
       "    <path d=\"M0 0h24v24H0V0z\" fill=\"none\"/>\n",
       "    <path d=\"M18.56 5.44l.94 2.06.94-2.06 2.06-.94-2.06-.94-.94-2.06-.94 2.06-2.06.94zm-11 1L8.5 8.5l.94-2.06 2.06-.94-2.06-.94L8.5 2.5l-.94 2.06-2.06.94zm10 10l.94 2.06.94-2.06 2.06-.94-2.06-.94-.94-2.06-.94 2.06-2.06.94z\"/><path d=\"M17.41 7.96l-1.37-1.37c-.4-.4-.92-.59-1.43-.59-.52 0-1.04.2-1.43.59L10.3 9.45l-7.72 7.72c-.78.78-.78 2.05 0 2.83L4 21.41c.39.39.9.59 1.41.59.51 0 1.02-.2 1.41-.59l7.78-7.78 2.81-2.81c.8-.78.8-2.07 0-2.86zM5.41 20L4 18.59l7.72-7.72 1.47 1.35L5.41 20z\"/>\n",
       "  </svg>\n",
       "      </button>\n",
       "      \n",
       "  <style>\n",
       "    .colab-df-container {\n",
       "      display:flex;\n",
       "      flex-wrap:wrap;\n",
       "      gap: 12px;\n",
       "    }\n",
       "\n",
       "    .colab-df-convert {\n",
       "      background-color: #E8F0FE;\n",
       "      border: none;\n",
       "      border-radius: 50%;\n",
       "      cursor: pointer;\n",
       "      display: none;\n",
       "      fill: #1967D2;\n",
       "      height: 32px;\n",
       "      padding: 0 0 0 0;\n",
       "      width: 32px;\n",
       "    }\n",
       "\n",
       "    .colab-df-convert:hover {\n",
       "      background-color: #E2EBFA;\n",
       "      box-shadow: 0px 1px 2px rgba(60, 64, 67, 0.3), 0px 1px 3px 1px rgba(60, 64, 67, 0.15);\n",
       "      fill: #174EA6;\n",
       "    }\n",
       "\n",
       "    [theme=dark] .colab-df-convert {\n",
       "      background-color: #3B4455;\n",
       "      fill: #D2E3FC;\n",
       "    }\n",
       "\n",
       "    [theme=dark] .colab-df-convert:hover {\n",
       "      background-color: #434B5C;\n",
       "      box-shadow: 0px 1px 3px 1px rgba(0, 0, 0, 0.15);\n",
       "      filter: drop-shadow(0px 1px 2px rgba(0, 0, 0, 0.3));\n",
       "      fill: #FFFFFF;\n",
       "    }\n",
       "  </style>\n",
       "\n",
       "      <script>\n",
       "        const buttonEl =\n",
       "          document.querySelector('#df-3632fc8c-075d-44c2-b387-bb0d260f48bd button.colab-df-convert');\n",
       "        buttonEl.style.display =\n",
       "          google.colab.kernel.accessAllowed ? 'block' : 'none';\n",
       "\n",
       "        async function convertToInteractive(key) {\n",
       "          const element = document.querySelector('#df-3632fc8c-075d-44c2-b387-bb0d260f48bd');\n",
       "          const dataTable =\n",
       "            await google.colab.kernel.invokeFunction('convertToInteractive',\n",
       "                                                     [key], {});\n",
       "          if (!dataTable) return;\n",
       "\n",
       "          const docLinkHtml = 'Like what you see? Visit the ' +\n",
       "            '<a target=\"_blank\" href=https://colab.research.google.com/notebooks/data_table.ipynb>data table notebook</a>'\n",
       "            + ' to learn more about interactive tables.';\n",
       "          element.innerHTML = '';\n",
       "          dataTable['output_type'] = 'display_data';\n",
       "          await google.colab.output.renderOutput(dataTable, element);\n",
       "          const docLink = document.createElement('div');\n",
       "          docLink.innerHTML = docLinkHtml;\n",
       "          element.appendChild(docLink);\n",
       "        }\n",
       "      </script>\n",
       "    </div>\n",
       "  </div>\n",
       "  "
      ],
      "text/plain": [
       "         f1  accuracy  precision    recall  fitting_duration   jaccard\n",
       "0  0.594454  0.362091  0.489434   0.779817  0.385985          0.443976"
      ]
     },
     "execution_count": 103,
     "metadata": {},
     "output_type": "execute_result"
    }
   ],
   "source": [
    "#MultinomailNB\n",
    "clf = MultiOutputClassifier(MultinomialNB())\n",
    "start = time.time()\n",
    "clf.fit(X_train_cv,y_train_cv)\n",
    "end = time.time()\n",
    "\n",
    "prediction = clf.predict(X_test_cv)\n",
    "\n",
    "\n",
    "MNB_CV=pd.DataFrame(columns=scores)\n",
    "\n",
    "f1 = []\n",
    "accuracy = []\n",
    "precision = []\n",
    "recall = []\n",
    "jaccard = []\n",
    "f1.append(f1_score(y_test_cv,prediction,average='weighted'))\n",
    "accuracy.append(accuracy_score(y_test_cv,prediction))\n",
    "precision.append(precision_score(y_test_cv,prediction,average='weighted'))\n",
    "recall.append(recall_score(y_test_cv,prediction,average='weighted'))\n",
    "jaccard.append(jaccard_score(y_test_cv,prediction,average='weighted'))\n",
    "\n",
    "MNB_CV['f1']=f1\n",
    "MNB_CV['accuracy']=accuracy\n",
    "MNB_CV['precision']=precision\n",
    "MNB_CV['recall'] = recall\n",
    "MNB_CV['jaccard'] = jaccard\n",
    "MNB_CV['fitting_duration'] = end-start\n",
    "\n",
    "print(\"X_CV:MultinomialNB_metrics\")\n",
    "MNB_CV"
   ]
  },
  {
   "cell_type": "markdown",
   "metadata": {},
   "source": [
    "### Meilleur classifieur"
   ]
  },
  {
   "cell_type": "code",
   "execution_count": 104,
   "metadata": {
    "colab": {
     "base_uri": "https://localhost:8080/"
    },
    "id": "2h8UtBB9qTun",
    "outputId": "4353ea61-a0f7-41b7-f77e-825406cd8fb4"
   },
   "outputs": [
    {
     "name": "stdout",
     "output_type": "stream",
     "text": [
      "Le meilleur classifieur est le Logistic Regression\n"
     ]
    }
   ],
   "source": [
    "print(\"Le meilleur classifieur est le Logistic Regression\")"
   ]
  },
  {
   "cell_type": "markdown",
   "metadata": {},
   "source": [
    "## 1.3. Optimiser le meilleur modéle supervisé"
   ]
  },
  {
   "cell_type": "code",
   "execution_count": 114,
   "metadata": {
    "id": "LzkXzkdrwLbQ"
   },
   "outputs": [],
   "source": [
    "#Meilleur Modéle\n",
    "X_train, X_test, y_train, y_test = train_test_split(X_CV, y, test_size=0.2, random_state=42) "
   ]
  },
  {
   "cell_type": "code",
   "execution_count": 115,
   "metadata": {
    "colab": {
     "base_uri": "https://localhost:8080/"
    },
    "id": "IkPUSMThwTX1",
    "outputId": "5957ae05-5848-4545-c4df-e90d56767d2c"
   },
   "outputs": [
    {
     "name": "stdout",
     "output_type": "stream",
     "text": [
      "Accuracy Score:  0.506926952141058\n",
      "done in 2708.113s.\n"
     ]
    },
    {
     "data": {
      "text/plain": [
       "Pipeline(steps=[('clf',\n",
       "                 MultiOutputClassifier(estimator=LogisticRegression(C=1,\n",
       "                                                                    max_iter=1000)))])"
      ]
     },
     "execution_count": 115,
     "metadata": {},
     "output_type": "execute_result"
    }
   ],
   "source": [
    "#GridSearchCV\n",
    "from time import time\n",
    "from sklearn.pipeline import Pipeline\n",
    "from sklearn.model_selection import GridSearchCV\n",
    "\n",
    "t0 = time()\n",
    "pipeline = Pipeline([('clf', MultiOutputClassifier(LogisticRegression()))])\n",
    "parameters = {\n",
    "     \"clf__estimator__C\": np.arange(1,20,2),     \n",
    "     \"clf__estimator__max_iter\":[1000, 10000, 20000]\n",
    "}\n",
    "\n",
    "model_tunning = GridSearchCV(pipeline, parameters, cv=3, scoring='accuracy')\n",
    "model_tunning.fit(X_train, y_train)\n",
    "\n",
    "print (\"Accuracy Score: \", accuracy_score(y_test, model_tunning.best_estimator_.predict(X_test)))\n",
    "print(\"done in %0.3fs.\" % (time() - t0))\n",
    "model_tunning.best_estimator_"
   ]
  },
  {
   "cell_type": "code",
   "execution_count": 117,
   "metadata": {
    "colab": {
     "base_uri": "https://localhost:8080/"
    },
    "id": "xOhCao6F9PnV",
    "outputId": "8969fd31-9380-40b3-9fc5-0246a7924ae6"
   },
   "outputs": [
    {
     "name": "stdout",
     "output_type": "stream",
     "text": [
      "Accuracy Score:  0.506926952141058 done in 2708.113s.Pipeline(steps=[(clf, MultiOutputClassifier(estimator=LogisticRegression(C=1,max_iter=1000)))])\n"
     ]
    }
   ],
   "source": [
    "print ('Accuracy Score:  0.506926952141058 done in 2708.113s.Pipeline(steps=[(clf, MultiOutputClassifier(estimator=LogisticRegression(C=1,max_iter=1000)))])')"
   ]
  },
  {
   "cell_type": "code",
   "execution_count": 118,
   "metadata": {
    "id": "gIDDbJAFwTc_"
   },
   "outputs": [],
   "source": [
    "model = LogisticRegression(max_iter=1000, C= 1)"
   ]
  },
  {
   "cell_type": "code",
   "execution_count": 119,
   "metadata": {
    "colab": {
     "base_uri": "https://localhost:8080/"
    },
    "id": "gjgRsbDZwi8n",
    "outputId": "f2f94a56-fa0f-4be0-f12a-c218cab69b3c"
   },
   "outputs": [
    {
     "data": {
      "text/plain": [
       "OneVsRestClassifier(estimator=LogisticRegression(C=1, max_iter=1000))"
      ]
     },
     "execution_count": 119,
     "metadata": {},
     "output_type": "execute_result"
    }
   ],
   "source": [
    "from sklearn.multiclass import OneVsRestClassifier\n",
    "clf = OneVsRestClassifier(model)\n",
    "\n",
    "clf.fit(X_train, y_train)"
   ]
  },
  {
   "cell_type": "markdown",
   "metadata": {},
   "source": [
    "##### Sauvegarde des fichier PKL"
   ]
  },
  {
   "cell_type": "code",
   "execution_count": 121,
   "metadata": {
    "id": "HHFf5c7bwjAe"
   },
   "outputs": [],
   "source": [
    "#Sauvegarde du modèle\n",
    "filename = 'API/model_lr.pkl'\n",
    "pickle.dump(clf, open(filename, 'wb'))"
   ]
  },
  {
   "cell_type": "code",
   "execution_count": 122,
   "metadata": {
    "id": "1Gwy8_aJwjFQ"
   },
   "outputs": [],
   "source": [
    "#Sauvegarde de la vectorisation\n",
    "filename = 'API/vectorization.pkl'\n",
    "pickle.dump(count_vectorizer, open(filename, 'wb'))"
   ]
  },
  {
   "cell_type": "code",
   "execution_count": 123,
   "metadata": {
    "id": "i4BXBglwwjIJ"
   },
   "outputs": [],
   "source": [
    "#Sauvegarde de la binarisation\n",
    "filename = 'API/multiLabBin.pkl'\n",
    "pickle.dump(mlb, open(filename, 'wb'))"
   ]
  },
  {
   "cell_type": "markdown",
   "metadata": {},
   "source": [
    "##### Comparaison des Tags testés/prédits"
   ]
  },
  {
   "cell_type": "code",
   "execution_count": 126,
   "metadata": {
    "colab": {
     "base_uri": "https://localhost:8080/",
     "height": 206
    },
    "id": "gxRrtVNE5RgM",
    "outputId": "13fa4a6b-650c-4b1e-8bb6-2ff52f9c46a7"
   },
   "outputs": [
    {
     "data": {
      "text/html": [
       "\n",
       "  <div id=\"df-1792a24c-c552-42db-be0b-eeea62eee90c\">\n",
       "    <div class=\"colab-df-container\">\n",
       "      <div>\n",
       "<style scoped>\n",
       "    .dataframe tbody tr th:only-of-type {\n",
       "        vertical-align: middle;\n",
       "    }\n",
       "\n",
       "    .dataframe tbody tr th {\n",
       "        vertical-align: top;\n",
       "    }\n",
       "\n",
       "    .dataframe thead th {\n",
       "        text-align: right;\n",
       "    }\n",
       "</style>\n",
       "<table border=\"1\" class=\"dataframe\">\n",
       "  <thead>\n",
       "    <tr style=\"text-align: right;\">\n",
       "      <th></th>\n",
       "      <th>Test</th>\n",
       "      <th>Prediction</th>\n",
       "    </tr>\n",
       "  </thead>\n",
       "  <tbody>\n",
       "    <tr>\n",
       "      <th>0</th>\n",
       "      <td>(php, string)</td>\n",
       "      <td>()</td>\n",
       "    </tr>\n",
       "    <tr>\n",
       "      <th>1</th>\n",
       "      <td>(c#,)</td>\n",
       "      <td>()</td>\n",
       "    </tr>\n",
       "    <tr>\n",
       "      <th>2</th>\n",
       "      <td>(javascript, jquery)</td>\n",
       "      <td>(css, html, javascript, jquery)</td>\n",
       "    </tr>\n",
       "    <tr>\n",
       "      <th>3</th>\n",
       "      <td>(database, sql)</td>\n",
       "      <td>(database,)</td>\n",
       "    </tr>\n",
       "    <tr>\n",
       "      <th>4</th>\n",
       "      <td>(c,)</td>\n",
       "      <td>(c, c++)</td>\n",
       "    </tr>\n",
       "  </tbody>\n",
       "</table>\n",
       "</div>\n",
       "      <button class=\"colab-df-convert\" onclick=\"convertToInteractive('df-1792a24c-c552-42db-be0b-eeea62eee90c')\"\n",
       "              title=\"Convert this dataframe to an interactive table.\"\n",
       "              style=\"display:none;\">\n",
       "        \n",
       "  <svg xmlns=\"http://www.w3.org/2000/svg\" height=\"24px\"viewBox=\"0 0 24 24\"\n",
       "       width=\"24px\">\n",
       "    <path d=\"M0 0h24v24H0V0z\" fill=\"none\"/>\n",
       "    <path d=\"M18.56 5.44l.94 2.06.94-2.06 2.06-.94-2.06-.94-.94-2.06-.94 2.06-2.06.94zm-11 1L8.5 8.5l.94-2.06 2.06-.94-2.06-.94L8.5 2.5l-.94 2.06-2.06.94zm10 10l.94 2.06.94-2.06 2.06-.94-2.06-.94-.94-2.06-.94 2.06-2.06.94z\"/><path d=\"M17.41 7.96l-1.37-1.37c-.4-.4-.92-.59-1.43-.59-.52 0-1.04.2-1.43.59L10.3 9.45l-7.72 7.72c-.78.78-.78 2.05 0 2.83L4 21.41c.39.39.9.59 1.41.59.51 0 1.02-.2 1.41-.59l7.78-7.78 2.81-2.81c.8-.78.8-2.07 0-2.86zM5.41 20L4 18.59l7.72-7.72 1.47 1.35L5.41 20z\"/>\n",
       "  </svg>\n",
       "      </button>\n",
       "      \n",
       "  <style>\n",
       "    .colab-df-container {\n",
       "      display:flex;\n",
       "      flex-wrap:wrap;\n",
       "      gap: 12px;\n",
       "    }\n",
       "\n",
       "    .colab-df-convert {\n",
       "      background-color: #E8F0FE;\n",
       "      border: none;\n",
       "      border-radius: 50%;\n",
       "      cursor: pointer;\n",
       "      display: none;\n",
       "      fill: #1967D2;\n",
       "      height: 32px;\n",
       "      padding: 0 0 0 0;\n",
       "      width: 32px;\n",
       "    }\n",
       "\n",
       "    .colab-df-convert:hover {\n",
       "      background-color: #E2EBFA;\n",
       "      box-shadow: 0px 1px 2px rgba(60, 64, 67, 0.3), 0px 1px 3px 1px rgba(60, 64, 67, 0.15);\n",
       "      fill: #174EA6;\n",
       "    }\n",
       "\n",
       "    [theme=dark] .colab-df-convert {\n",
       "      background-color: #3B4455;\n",
       "      fill: #D2E3FC;\n",
       "    }\n",
       "\n",
       "    [theme=dark] .colab-df-convert:hover {\n",
       "      background-color: #434B5C;\n",
       "      box-shadow: 0px 1px 3px 1px rgba(0, 0, 0, 0.15);\n",
       "      filter: drop-shadow(0px 1px 2px rgba(0, 0, 0, 0.3));\n",
       "      fill: #FFFFFF;\n",
       "    }\n",
       "  </style>\n",
       "\n",
       "      <script>\n",
       "        const buttonEl =\n",
       "          document.querySelector('#df-1792a24c-c552-42db-be0b-eeea62eee90c button.colab-df-convert');\n",
       "        buttonEl.style.display =\n",
       "          google.colab.kernel.accessAllowed ? 'block' : 'none';\n",
       "\n",
       "        async function convertToInteractive(key) {\n",
       "          const element = document.querySelector('#df-1792a24c-c552-42db-be0b-eeea62eee90c');\n",
       "          const dataTable =\n",
       "            await google.colab.kernel.invokeFunction('convertToInteractive',\n",
       "                                                     [key], {});\n",
       "          if (!dataTable) return;\n",
       "\n",
       "          const docLinkHtml = 'Like what you see? Visit the ' +\n",
       "            '<a target=\"_blank\" href=https://colab.research.google.com/notebooks/data_table.ipynb>data table notebook</a>'\n",
       "            + ' to learn more about interactive tables.';\n",
       "          element.innerHTML = '';\n",
       "          dataTable['output_type'] = 'display_data';\n",
       "          await google.colab.output.renderOutput(dataTable, element);\n",
       "          const docLink = document.createElement('div');\n",
       "          docLink.innerHTML = docLinkHtml;\n",
       "          element.appendChild(docLink);\n",
       "        }\n",
       "      </script>\n",
       "    </div>\n",
       "  </div>\n",
       "  "
      ],
      "text/plain": [
       "                   Test                       Prediction\n",
       "0  (php, string)         ()                             \n",
       "1  (c#,)                 ()                             \n",
       "2  (javascript, jquery)  (css, html, javascript, jquery)\n",
       "3  (database, sql)       (database,)                    \n",
       "4  (c,)                  (c, c++)                       "
      ]
     },
     "execution_count": 126,
     "metadata": {},
     "output_type": "execute_result"
    }
   ],
   "source": [
    "#Comparaison des Tags testés/prédits\n",
    "test1 = mlb.inverse_transform(np.array(y_test))\n",
    "pred1 = mlb.inverse_transform(prediction)#y_pred)\n",
    "\n",
    "comparaison = pd.DataFrame(columns=['Test','Prediction'])\n",
    "\n",
    "comparaison['Test'] = test1\n",
    "comparaison['Prediction'] = pred1\n",
    "\n",
    "comparaison.head(5)"
   ]
  },
  {
   "cell_type": "markdown",
   "metadata": {
    "id": "nSetevUM5RkD"
   },
   "source": [
    "# 2. APPROCHE NON SUPERVISEE LDA"
   ]
  },
  {
   "cell_type": "code",
   "execution_count": 127,
   "metadata": {
    "id": "BfYVLEKA5Rof"
   },
   "outputs": [],
   "source": [
    "df_lda = pd.DataFrame(df['Title_Body'])"
   ]
  },
  {
   "cell_type": "code",
   "execution_count": 128,
   "metadata": {
    "id": "zNfZCndB-zex"
   },
   "outputs": [],
   "source": [
    "def topics(model, num_topics):\n",
    "    for id_topic, topic in model.show_topics(formatted=False, num_topics=num_topics, num_words= 10):\n",
    "        print(\"******************************************\")\n",
    "        print(\"Topic %d:\" % (id_topic))\n",
    "        print(\" \".join([w[0] for w in topic]))"
   ]
  },
  {
   "cell_type": "code",
   "execution_count": 129,
   "metadata": {
    "id": "IpJJVqJ8-znR"
   },
   "outputs": [],
   "source": [
    "corpus = []\n",
    "for i, row in df_lda.iterrows():\n",
    "    line = row[\"Title_Body\"]\n",
    "    corpus.append(line)"
   ]
  },
  {
   "cell_type": "code",
   "execution_count": 130,
   "metadata": {
    "id": "JaWzNvaV-zp4"
   },
   "outputs": [],
   "source": [
    "data_token = [text.split() for text in corpus]"
   ]
  },
  {
   "cell_type": "code",
   "execution_count": 131,
   "metadata": {
    "id": "6gbDEGuB-zss"
   },
   "outputs": [],
   "source": [
    "dictionary = Dictionary(data_token)"
   ]
  },
  {
   "cell_type": "code",
   "execution_count": 132,
   "metadata": {
    "id": "DpkqRSXO-zve"
   },
   "outputs": [],
   "source": [
    "bow = [dictionary.doc2bow(text) for text in data_token]"
   ]
  },
  {
   "cell_type": "code",
   "execution_count": 133,
   "metadata": {
    "colab": {
     "base_uri": "https://localhost:8080/"
    },
    "id": "wmAtTpoD-zyX",
    "outputId": "5e082ed5-9eda-4e2d-b8c7-7fdbd5533e2f"
   },
   "outputs": [
    {
     "name": "stderr",
     "output_type": "stream",
     "text": [
      "WARNING:gensim.models.ldamodel:too few updates, training might not converge; consider increasing the number of passes or iterations to improve accuracy\n",
      "WARNING:gensim.models.ldamodel:too few updates, training might not converge; consider increasing the number of passes or iterations to improve accuracy\n",
      "WARNING:gensim.models.ldamodel:too few updates, training might not converge; consider increasing the number of passes or iterations to improve accuracy\n",
      "WARNING:gensim.models.ldamodel:too few updates, training might not converge; consider increasing the number of passes or iterations to improve accuracy\n",
      "WARNING:gensim.models.ldamodel:too few updates, training might not converge; consider increasing the number of passes or iterations to improve accuracy\n",
      "WARNING:gensim.models.ldamodel:too few updates, training might not converge; consider increasing the number of passes or iterations to improve accuracy\n"
     ]
    }
   ],
   "source": [
    "perplexity = []\n",
    "coherence = []\n",
    "\n",
    "param = [15,20,25,30,35,40]\n",
    "\n",
    "for n in param:\n",
    "    model_lda = LdaModel(bow, num_topics=n, id2word=dictionary)\n",
    "    perplexity.append(model_lda.log_perplexity(bow))\n",
    "    coherence.append(CoherenceModel(model=model_lda, texts=data_token, dictionary=dictionary, coherence='c_v').get_coherence())"
   ]
  },
  {
   "cell_type": "code",
   "execution_count": 134,
   "metadata": {
    "colab": {
     "base_uri": "https://localhost:8080/",
     "height": 295
    },
    "id": "PHf_9__N-z0w",
    "outputId": "80ca05e7-4e33-469b-b5a8-b43f7e3e7b7e"
   },
   "outputs": [
    {
     "data": {
      "image/png": "[encoded data removed]",
      "text/plain": [
       "<Figure size 720x288 with 1 Axes>"
      ]
     },
     "metadata": {
      "needs_background": "light"
     },
     "output_type": "display_data"
    }
   ],
   "source": [
    "plt.figure(figsize=(10, 4))\n",
    "\n",
    "plt.plot(param, coherence, label='coherence')\n",
    "\n",
    "plt.title(\"Meilleurs LDA Nb Topics\")\n",
    "plt.xlabel(\"Nb Topics\")\n",
    "plt.ylabel(\"Coherence Score\")\n",
    "plt.show()"
   ]
  },
  {
   "cell_type": "code",
   "execution_count": 135,
   "metadata": {
    "colab": {
     "base_uri": "https://localhost:8080/"
    },
    "id": "cXNcBty5_QdT",
    "outputId": "9fbff879-21ca-46af-dccf-d3e5198d0e1b"
   },
   "outputs": [
    {
     "name": "stderr",
     "output_type": "stream",
     "text": [
      "WARNING:gensim.models.ldamodel:too few updates, training might not converge; consider increasing the number of passes or iterations to improve accuracy\n"
     ]
    }
   ],
   "source": [
    "ldaModel = LdaModel(bow, num_topics=20, id2word=dictionary)"
   ]
  },
  {
   "cell_type": "code",
   "execution_count": 136,
   "metadata": {
    "colab": {
     "base_uri": "https://localhost:8080/"
    },
    "id": "K_0spgEM_UNk",
    "outputId": "1672f948-9d4d-409e-d09d-162924d44b49"
   },
   "outputs": [
    {
     "name": "stdout",
     "output_type": "stream",
     "text": [
      "******************************************\n",
      "Topic 0:\n",
      "value name list id select mysql user query row get\n",
      "******************************************\n",
      "Topic 1:\n",
      "array div class list function value element use id li\n",
      "******************************************\n",
      "Topic 2:\n",
      "x java exception + try internal c print eclipse time\n",
      "******************************************\n",
      "Topic 3:\n",
      "line use string read character code vector n way c\n",
      "******************************************\n",
      "Topic 4:\n",
      "use would request like get data python need time web\n",
      "******************************************\n",
      "Topic 5:\n",
      "android string layout public id java new view null r\n",
      "******************************************\n",
      "Topic 6:\n",
      "file run use command script commit change git want work\n",
      "******************************************\n",
      "Topic 7:\n",
      "function input scope angularjs form type new use value ng\n",
      "******************************************\n",
      "Topic 8:\n",
      "width image height css div px size color view style\n",
      "******************************************\n",
      "Topic 9:\n",
      "app android button image use application user want view html\n",
      "******************************************\n",
      "Topic 10:\n",
      "use xcode code feature sign canvas round ptr debug httpclient\n",
      "******************************************\n",
      "Topic 11:\n",
      "python package py module lib install import npm use js\n",
      "******************************************\n",
      "Topic 12:\n",
      "+ table key std foo bar use database int char\n",
      "******************************************\n",
      "Topic 13:\n",
      "git branch error get master node push js repository use\n",
      "******************************************\n",
      "Topic 14:\n",
      "use code c++ one data memory like would know understand\n",
      "******************************************\n",
      "Topic 15:\n",
      "test use set plot python f formula label get data\n",
      "******************************************\n",
      "Topic 16:\n",
      "function object javascript json var use name call like data\n",
      "******************************************\n",
      "Topic 17:\n",
      "file project android use build java version org library com\n",
      "******************************************\n",
      "Topic 18:\n",
      "use date time connection get datetime need way api java\n",
      "******************************************\n",
      "Topic 19:\n",
      "class int public static use java void return method new\n"
     ]
    }
   ],
   "source": [
    "topics(ldaModel,20)"
   ]
  },
  {
   "cell_type": "code",
   "execution_count": 137,
   "metadata": {
    "colab": {
     "base_uri": "https://localhost:8080/",
     "height": 881
    },
    "id": "f-PusQ99_XEb",
    "outputId": "b6aab9d0-3f1a-40cd-dfbd-2da953714a4e"
   },
   "outputs": [
    {
     "data": {
      "text/html": [
       "\n",
       "<link rel=\"stylesheet\" type=\"text/css\" href=\"https://cdn.rawgit.com/bmabey/pyLDAvis/files/ldavis.v1.0.0.css\">\n",
       "\n",
       "\n",
       "<div id=\"ldavis_el711401302441029929616575083\"></div>\n",
       "<script type=\"text/javascript\">\n",
       "\n",
       "var ldavis_el711401302441029929616575083_data = {\"mdsDat\": {\"x\": [0.041694333612645455, 0.09323807391575932, 0.13091501190608745, -0.04322381448349375, 0.1644213470468786, -0.023554169181016976, -0.09108284167196791, -0.07455484537732082, -0.12308360016580992, 0.13098026133430452, -0.17415974625313482, -0.14573587387296788, 0.08417558878881297, 0.01268263433325523, 0.024461454639259007, -0.09882910328628422, 0.13785336178276317, -0.12403752203003894, 0.026852069540952893, 0.05098737942131636], \"y\": [0.09435778525491541, 0.04093015062080828, -0.018743449465396834, 0.06393514655228046, -0.07582430186676914, -0.17254649085981053, 0.08031279751979106, 0.08064866561995962, -0.16329991031881674, -0.0883771253766781, -0.18205786207113014, 0.047176258395252274, 0.04272379893993348, 0.06876250229567539, 0.09416974505887188, 0.09803368160376225, -0.07528307011976144, 0.02553943097984062, -0.011945805741536274, 0.05148805297880859], \"topics\": [1, 2, 3, 4, 5, 6, 7, 8, 9, 10, 11, 12, 13, 14, 15, 16, 17, 18, 19, 20], \"cluster\": [1, 1, 1, 1, 1, 1, 1, 1, 1, 1, 1, 1, 1, 1, 1, 1, 1, 1, 1, 1], \"Freq\": [8.244779349148635, 7.872806174785706, 7.45994628388489, 7.171583390830498, 6.46010394926519, 5.692504411851079, 5.5151878987690175, 5.3280918590452835, 5.265722090791041, 5.16584933451292, 4.82066205380577, 4.588652384865129, 4.002186251633803, 3.75029334156402, 3.7458375079123023, 3.5811624850929875, 3.389823043554454, 3.2621098525629915, 2.4458573084516675, 2.2368410276726176]}, \"tinfo\": {\"Term\": [\"android\", \"file\", \"git\", \"class\", \"string\", \"div\", \"array\", \"x\", \"function\", \"layout\", \"+\", \"test\", \"table\", \"int\", \"java\", \"public\", \"branch\", \"python\", \"image\", \"id\", \"value\", \"width\", \"package\", \"height\", \"app\", \"object\", \"view\", \"line\", \"list\", \"project\", \"docker\", \"schedule\", \"visualization\", \"putextra\", \"classic\", \"immediate\", \"androidmanifest\", \"sep\", \"swing\", \"mysqldump\", \"mappedby\", \"argue\", \"#import\", \"forbid\", \"march\", \"reduction\", \"nullable\", \"strictly\", \"basics\", \"erasure\", \"pojo\", \"cascadetype\", \"hashcode\", \"draggable\", \"homepage\", \"enhance\", \"computers\", \"secondary\", \"shade\", \"designer\", \"cocoa\", \"@onetomany\", \"formatter\", \"unclear\", \"thousands\", \"cookies\", \"gson\", \"ints\", \"leak\", \"storage\", \"concepts\", \"euler\", \"malloc\", \"book\", \"vote\", \"memory\", \"symbols\", \"free\", \"reader\", \"delegate\", \"c++\", \"pointers\", \"helper\", \"objective\", \"cookie\", \"session\", \"vs\", \"knowledge\", \"understand\", \"generation\", \"bite\", \"allocate\", \"program\", \"stack\", \"obj\", \"use\", \"mvc\", \"difference\", \"learn\", \"performance\", \"practice\", \"model\", \"question\", \"code\", \"good\", \"one\", \"know\", \"data\", \"also\", \"would\", \"store\", \"time\", \"like\", \"c\", \"read\", \"object\", \"new\", \"answer\", \"make\", \"get\", \"find\", \"need\", \"example\", \"providers\", \"multiplication\", \"crontab\", \"bat\", \"brand\", \"preventdefault\", \"uuid\", \"ember\", \"se\", \"msbuild\", \"fair\", \"handlebars\", \"contributions\", \"spa\", \"mydata\", \"variety\", \"speech\", \"cpython\", \"unused\", \"scalability\", \"vulnerability\", \"xcodebuild\", \"datepicker\", \"symbolic\", \"popen\", \"subprocess\", \"freeze\", \"unity\", \"safestring\", \"elastic\", \"k\", \"stderr\", \"communicate\", \"flask\", \"headers\", \"wiki\", \"interact\", \"stdout\", \"ease\", \"plenty\", \"flash\", \"dataset\", \"letter\", \"route\", \"yellow\", \"backend\", \"ram\", \"egg\", \"request\", \"token\", \"options\", \"research\", \"web\", \"control\", \"information\", \"numpy\", \"step\", \"post\", \"would\", \"allow\", \"api\", \"use\", \"windows\", \"lot\", \"solution\", \"good\", \"server\", \"python\", \"answer\", \"time\", \"need\", \"data\", \"like\", \"get\", \"question\", \"seem\", \"write\", \"think\", \"look\", \"find\", \"make\", \"could\", \"way\", \"work\", \"see\", \"code\", \"number\", \"one\", \"c\", \"want\", \"try\", \"toast\", \"stash\", \"intellij\", \"cron\", \"indicator\", \"shutdown\", \"await\", \"untracked\", \"modifier\", \"myfunction\", \"ii\", \"posix\", \"lapply\", \"datasets\", \"ticket\", \"head^\", \"jenkins\", \"grunt\", \"vhosts\", \"javavirtualmachines\", \"responsetext\", \"intact\", \"fstream\", \"bss\", \"superclass\", \"blame\", \"sqlplus\", \"yahoo\", \"libstdc++\", \"cloud\", \"jdbc\", \"async\", \"cmd\", \"sleep\", \"csv\", \"xargs\", \"txt\", \"diff\", \"sh\", \"mime\", \"myfile\", \"shell\", \"file\", \"exec\", \"commit\", \"command\", \"task\", \"script\", \"oracle\", \"rename\", \"bash\", \"wait\", \"run\", \"reset\", \"prompt\", \"grep\", \"history\", \"change\", \"thread\", \"execute\", \"linux\", \"git\", \"load\", \"want\", \"try\", \"work\", \"use\", \"line\", \"track\", \"open\", \"server\", \"way\", \"path\", \"one\", \"make\", \"like\", \"add\", \"get\", \"new\", \"need\", \"find\", \"would\", \"code\", \"candidate\", \"del\", \"student\", \"inf\", \"firstname\", \"springframework\", \"multipart\", \"stringify\", \"persistence\", \"startactivity\", \"@end\", \"myobject\", \"#pragma\", \"textcontent\", \"xmlhttprequest\", \"@interface\", \"soap\", \"retrofit\", \"@implementation\", \"compression\", \"someobject\", \"tid\", \"untyped\", \"violation\", \"encapsulation\", \"dc\", \"principal\", \"testobject\", \"reachable\", \"responseentity\", \"closure\", \"authorization\", \"pem\", \"bye\", \"hey\", \"json\", \"prototype\", \"lastname\", \"chart\", \"javascript\", \"ajax\", \"alert\", \"myclass\", \"serialize\", \"firebug\", \"console\", \"def\", \"object\", \"self\", \"undefined\", \"var\", \"function\", \"explorer\", \"spring\", \"variable\", \"jquery\", \"property\", \"call\", \"b\", \"pass\", \"properties\", \"log\", \"post\", \"method\", \"name\", \"response\", \"variables\", \"data\", \"return\", \"class\", \"request\", \"like\", \"use\", \"type\", \"string\", \"code\", \"way\", \"new\", \"get\", \"create\", \"example\", \"file\", \"heroku\", \"locale\", \"remotes\", \"myproject\", \"submodule\", \"collation\", \"advise\", \"payload\", \"git@github\", \"xy\", \"jul\", \"publickey\", \"xmlserializer\", \"wordpress\", \"pwd\", \"master\", \"refs\", \"checkout\", \"rubygems\", \"rgba\", \"msysgit\", \"submodules\", \"kafka\", \"autocrlf\", \"psycopg\", \"hh\", \"attacker\", \"pid\", \"createserver\", \"drwxr\", \"nvm\", \"origin\", \"branch\", \"remote\", \"github\", \"clone\", \"rvm\", \"git\", \"repository\", \"gems\", \"svn\", \"ssh\", \"repo\", \"fatal\", \"push\", \"stag\", \"pull\", \"kb\", \"rebase\", \"node\", \"gem\", \"local\", \"port\", \"https\", \"ruby\", \"config\", \"js\", \"error\", \"merge\", \"#\", \"~\", \"commit\", \"server\", \"bin\", \"host\", \"com\", \"get\", \"install\", \"version\", \"http\", \"directory\", \"try\", \"use\", \"work\", \"project\", \"change\", \"run\", \"new\", \"progressbar\", \"toolbar\", \"imagebutton\", \"scrapy\", \"popover\", \"uitableviewcell\", \"dex\", \"badge\", \"ib\", \"uiwebview\", \"gallery\", \"triangle\", \"tf\", \"gps\", \"nsurl\", \"vc\", \"splash\", \"jsoup\", \"story\", \"pink\", \"beep\", \"mystring\", \"flickr\", \"hdpi\", \"mdpi\", \"flux\", \"lxml\", \"forums\", \"ldpi\", \"urlwithstring\", \"phonegap\", \"portrait\", \"logo\", \"uitableview\", \"nsutfstringencoding\", \"paint\", \"landscape\", \"press\", \"constants\", \"activities\", \"notification\", \"theme\", \"phone\", \"keyboard\", \"button\", \"location\", \"iphone\", \"detect\", \"tab\", \"ios\", \"app\", \"activity\", \"click\", \"dialog\", \"screen\", \"href\", \"image\", \"state\", \"url\", \"mobile\", \"nsstring\", \"application\", \"@\", \"user\", \"android\", \"html\", \"chrome\", \"browser\", \"view\", \"device\", \"page\", \"display\", \"show\", \"want\", \"use\", \"custom\", \"load\", \"work\", \"get\", \"like\", \"change\", \"call\", \"http\", \"nan\", \"uint\", \"atomic\", \"df\", \"swipe\", \"comic\", \"nonatomic\", \"optimal\", \"pdo\", \"stmt\", \"const&\", \"gesture\", \"parseint\", \"nsinteger\", \"proto\", \"elevation\", \"col\", \"bullet\", \"bold\", \"uitextfield\", \"poco\", \"incompatible\", \"pk\", \"pythonpath\", \"what\\u2019s\", \"howto\", \"iter\", \"crud\", \"dbcontext\", \"interactions\", \"orm\", \"pandas\", \"dataframe\", \"password\", \"query\", \"td\", \"select\", \"priv\", \"row\", \"percentage\", \"sql\", \"column\", \"username\", \"mysql\", \"option\", \"radio\", \"columns\", \"muse\", \"value\", \"tr\", \"age\", \"name\", \"list\", \"join\", \"id\", \"table\", \"user\", \"db\", \"login\", \"b\", \"count\", \"data\", \"get\", \"php\", \"like\", \"use\", \"want\", \"type\", \"number\", \"unexpected\", \"mutex\", \"jsf\", \"mul\", \"ecmascript\", \"sass\", \"urllib\", \"density\", \"traits\", \"blas\", \"setters\", \"pthread\", \"regexp\", \"getters\", \"ternary\", \"dashboard\", \"declarations\", \"hyperlink\", \"producer\", \"blabla\", \"exchange\", \"flatmap\", \"serviceregistry\", \"beat\", \"placeholders\", \"mockito\", \"xsl\", \"servlets\", \"autoload\", \"inputstreamreader\", \"cur\", \"reflection\", \"tick\", \"static\", \"cpp\", \"facts\", \"standards\", \"abstract\", \"println\", \"arrow\", \"args\", \"interface\", \"l\", \"int\", \"cast\", \"stream\", \"public\", \"regex\", \"class\", \"void\", \"member\", \"expression\", \"methods\", \"printf\", \"integer\", \"constructor\", \"method\", \"main\", \"private\", \"return\", \"java\", \"system\", \"template\", \"difference\", \"type\", \"new\", \"p\", \"use\", \"code\", \"function\", \"mean\", \"object\", \"like\", \"would\", \"call\", \"get\", \"holder\", \"viewpager\", \"uiscrollview\", \"shape\", \"cmake\", \"framelayout\", \"rjava\", \"subview\", \"rstudio\", \"xhr\", \"observable\", \"shrink\", \"scrollbar\", \"picker\", \"viewport\", \"commas\", \"dolor\", \"moz\", \"vertically\", \"superview\", \"pager\", \"stretch\", \"lambdas\", \"resize\", \"inspector\", \"lorem\", \"getresources\", \"italic\", \"resolutions\", \"px\", \"scroll\", \"photo\", \"margin\", \"black\", \"color\", \"zoom\", \"css\", \"linearlayout\", \"center\", \"uiview\", \"width\", \"height\", \"bitmap\", \"border\", \"white\", \"flex\", \"shadow\", \"imageview\", \"camera\", \"bottom\", \"style\", \"pad\", \"font\", \"size\", \"image\", \"background\", \"align\", \"parent\", \"div\", \"view\", \"leave\", \"content\", \"text\", \"display\", \"page\", \"top\", \"position\", \"screen\", \"r\", \"html\", \"set\", \"use\", \"want\", \"like\", \"work\", \"gradle\", \"classpath\", \"xampp\", \"redis\", \"arc\", \"webclient\", \"xib\", \"getmessage\", \"smtplib\", \"smtp\", \"@color\", \"jar\", \"lie\", \"virtualbox\", \"jre\", \"videos\", \"thumbnails\", \"subfolder\", \"logcat\", \"ant\", \"bs\", \"unzip\", \"sendmail\", \"nb\", \"flavor\", \"targetsdkversion\", \"fullscreen\", \"stylesheets\", \"intersection\", \"mfc\", \"dispatch\", \"logj\", \"pom\", \"iis\", \"maven\", \"webview\", \"commons\", \"apache\", \"guidance\", \"sdk\", \"phase\", \"project\", \"mail\", \"eclipse\", \"configurations\", \"build\", \"plugin\", \"dll\", \"folders\", \"configuration\", \"dependencies\", \"org\", \"export\", \"compile\", \"folder\", \"library\", \"xml\", \"studio\", \"version\", \"apk\", \"file\", \"java\", \"android\", \"com\", \"google\", \"directory\", \"application\", \"use\", \"target\", \"support\", \"path\", \"error\", \"find\", \"get\", \"app\", \"try\", \"create\", \"code\", \"@+id\", \"gravity\", \"inputstream\", \"setvisibility\", \"mcontext\", \"textsize\", \"polymorphism\", \"stringwithformat\", \"looper\", \"@dimen\", \"margintop\", \"settext\", \"findviewbyid\", \"activitythread\", \"pi\", \"relativelayout\", \"convertview\", \"phonewindow\", \"inflate\", \"getstring\", \"windowmanagerimpl\", \"marginright\", \"multiline\", \"@selector\", \"prod\", \"edittext\", \"zygoteinit\", \"maketext\", \"temporarily\", \"bmp\", \"textview\", \"getview\", \"viewgroup\", \"movie\", \"@override\", \"layout\", \"savedinstancestate\", \"androidruntime\", \"layoutinflater\", \"dip\", \"needle\", \"android\", \"byte\", \"fragment\", \"dp\", \"string\", \"schemas\", \"str\", \"oncreate\", \"wrap\", \"null\", \"widget\", \"r\", \"parent\", \"public\", \"void\", \"view\", \"activity\", \"id\", \"match\", \"intent\", \"java\", \"new\", \"e\", \"content\", \"text\", \"xml\", \"true\", \"button\", \"return\", \"int\", \"false\", \"private\", \"import\", \"gulp\", \"upstream\", \"onclicklistener\", \"setonclicklistener\", \"li\", \"plist\", \"mytest\", \"dropbox\", \"prime\", \"haskell\", \"xpath\", \"selectors\", \"synchronous\", \"fruit\", \"tuples\", \"fg\", \"typescript\", \"addeventlistener\", \"shuffle\", \"recognition\", \"wildcard\", \"africa\", \"aslist\", \"descend\", \"jsx\", \"chmod\", \"iteration\", \"footer\", \"@synthesize\", \"ctl\", \"ul\", \"fa\", \"arr\", \"es\", \"animal\", \"array\", \"jackson\", \"jsfiddle\", \"img\", \"stylesheet\", \"div\", \"coordinate\", \"onclick\", \"elements\", \"ts\", \"element\", \"range\", \"multiprocessing\", \"span\", \"react\", \"attribute\", \"item\", \"queue\", \"foreach\", \"loop\", \"class\", \"list\", \"index\", \"sum\", \"jquery\", \"items\", \"model\", \"function\", \"value\", \"#\", \"id\", \"var\", \"click\", \"true\", \"number\", \"return\", \"use\", \"get\", \"like\", \"add\", \"n\", \"want\", \"example\", \"data\", \"html\", \"mylist\", \"anchor\", \"volatile\", \"asia\", \"tweet\", \"transport\", \"laravel\", \"sw\", \"nsmutableurlrequest\", \"pie\", \"reshape\", \"tons\", \"don\\u2019t\", \"gmt+\", \"mydate\", \"similarity\", \"contour\", \"cython\", \"dec\", \"mat\", \"firebase\", \"userinfo\", \"gray\", \"jun\", \"uiimagepickercontroller\", \"tablet\", \"weak\", \"timezone\", \"multithreading\", \"validatorexception\", \"detection\", \"month\", \"year\", \"pixel\", \"keychain\", \"cv\", \"date\", \"consumer\", \"datetime\", \"utc\", \"connection\", \"socket\", \"ssl\", \"conn\", \"oauth\", \"websocket\", \"io\", \"timestamp\", \"gmt\", \"lambda\", \"mm\", \"security\", \"connect\", \"day\", \"certificate\", \"days\", \"api\", \"connections\", \"use\", \"time\", \"convert\", \"format\", \"valid\", \"need\", \"net\", \"application\", \"way\", \"get\", \"java\", \"python\", \"like\", \"find\", \"system\", \"new\", \"would\", \"create\", \"one\", \"look\", \"question\", \"boot\", \"linear\", \"dl\", \"greater\", \"osgi\", \"categories\", \"equinox\", \"workbench\", \"redux\", \"geom\", \"nullpointerexception\", \"webservice\", \"gettime\", \"prove\", \"decorator\", \"tweak\", \"swt\", \"ggplot\", \"decorators\", \"assemblies\", \"rbenv\", \"myscript\", \"pep\", \"assembly\", \"cm\", \"players\", \"evil\", \"comparisons\", \"integrity\", \"pac\", \"jdk\", \"preferences\", \"clock\", \"groupby\", \"x\", \"z\", \"keystore\", \"modal\", \"internal\", \"rb\", \"sqrt\", \"exception\", \"children\", \"u\", \"eclipse\", \"catch\", \"group\", \"lang\", \"java\", \"axis\", \"print\", \"throw\", \"double\", \"org\", \"+\", \"v\", \"c\", \"time\", \"library\", \"try\", \"point\", \"line\", \"f\", \"result\", \"python\", \"code\", \"use\", \"way\", \"function\", \"data\", \"tchar\", \"dt\", \"bufferedreader\", \"indices\", \"hr\", \"receiver\", \"artist\", \"getvalue\", \"semicolon\", \"uppercase\", \"getattribute\", \"cheer\", \"vec\", \"iterators\", \"upper\", \"mimic\", \"zone\", \"construction\", \"nth\", \"\\\\\\\\\\\\\\\\\", \"getresourceasstream\", \"voice\", \"reducers\", \"ctrl\", \"ns\", \"inconsistent\", \"carat\", \"isolation\", \"smith\", \"biggest\", \"pod\", \"cocoapods\", \"succeed\", \"cin\", \"defer\", \"macros\", \"vector\", \"decode\", \"tail\", \"pair\", \"unicode\", \"msg\", \"john\", \"split\", \"ch\", \"ascii\", \"temp\", \"visual\", \"backbone\", \"cryptography\", \"character\", \"exe\", \"line\", \"train\", \"n\", \"studio\", \"encode\", \"hello\", \"space\", \"read\", \"string\", \"utf\", \"world\", \"case\", \"use\", \"end\", \"question\", \"c\", \"code\", \"way\", \"store\", \"std\", \"one\", \"error\", \"work\", \"like\", \"write\", \"function\", \"would\", \"set\", \"file\", \"find\", \"wp\", \"na\", \"postgres\", \"pg\", \"nullptr\", \"sec\", \"persistent\", \"rect\", \"dest\", \"overload\", \"scala\", \"wchar\", \"glibc\", \"innodb\", \"ecx\", \"onerror\", \"boundary\", \"meaningful\", \"rake\", \"uitextview\", \"sublime\", \"foreign\", \"customer\", \"vi\", \"texts\", \"lately\", \"bulk\", \"envelope\", \"deserialize\", \"webbrowser\", \"baz\", \"privilege\", \"score\", \"migration\", \"std\", \"unsigned\", \"primary\", \"cout\", \"svg\", \"increment\", \"char\", \"foo\", \"table\", \"+\", \"key\", \"unique\", \"bar\", \"endl\", \"struct\", \"#include\", \"const\", \"database\", \"insert\", \"bytes\", \"typename\", \"h\", \"template\", \"int\", \"null\", \"tag\", \"id\", \"type\", \"use\", \"size\", \"c\", \"like\", \"create\", \"text\", \"one\", \"mysql\", \"value\", \"set\", \"name\", \"mysqldb\", \"bet\", \"dialogfragment\", \"setuptools\", \"clang\", \"conda\", \"mongoose\", \"it\\u2019s\", \"bashrc\", \"pkg\", \"bubble\", \"communication\", \"om\", \"libc\", \"alertdialog\", \"virtualenv\", \"doinbackground\", \"eacces\", \"music\", \"err\", \"holo\", \"setimmediate\", \"approve\", \"ppa\", \"oncreateoptionsmenu\", \"loaders\", \"unroll\", \"analyse\", \"maxheight\", \"lea\", \"activate\", \"getapplicationcontext\", \"babel\", \"nexttick\", \"webpack\", \"lib\", \"traceback\", \"lon\", \"py\", \"pip\", \"progressdialog\", \"npm\", \"player\", \"module\", \"facebook\", \"package\", \"modules\", \"express\", \"distance\", \"install\", \"usr\", \"parser\", \"import\", \"python\", \"ld\", \"instal\", \"node\", \"js\", \"profile\", \"setup\", \"asynctask\", \"site\", \"app\", \"bin\", \"error\", \"use\", \"file\", \"log\", \"line\", \"path\", \"get\", \"run\", \"find\", \"try\", \"create\", \"localstorage\", \"stage\", \"toolkit\", \"sb\", \"ellipsis\", \"markdown\", \"pd\", \"groupid\", \"idx\", \"cipher\", \"devtools\", \"assoc\", \"decrypt\", \"jack\", \"survey\", \"jam\", \"illegalstateexception\", \"artifactid\", \"texture\", \"floor\", \"appcompat\", \"operable\", \"scopes\", \"@test\", \"enctype\", \"truck\", \"alarm\", \"urlencode\", \"spinner\", \"onchange\", \"ng\", \"bean\", \"templateurl\", \"scope\", \"angularjs\", \"directive\", \"parentheses\", \"param\", \"enum\", \"angular\", \"enums\", \"stringbuilder\", \"encrypt\", \"directives\", \"callback\", \"prop\", \"input\", \"inject\", \"submit\", \"attr\", \"random\", \"product\", \"event\", \"controller\", \"form\", \"checkbox\", \"counter\", \"function\", \"type\", \"length\", \"value\", \"new\", \"handler\", \"var\", \"return\", \"+\", \"use\", \"string\", \"get\", \"name\", \"like\", \"way\", \"ax\", \"navbar\", \"matplotlib\", \"viewdidload\", \"pyplot\", \"bower\", \"spark\", \"emacs\", \"rsa\", \"\\u2502\", \"ipython\", \"retina\", \"\\u251c\\u2500\\u2500\", \"plt\", \"spin\", \"vehicle\", \"dep\", \"drawer\", \"webdriver\", \"regression\", \"accent\", \"fetchtype\", \"symfony\", \"tk\", \"selenium\", \"onoptionsitemselected\", \"sms\", \"tkinter\", \"neat\", \"fig\", \"formula\", \"employee\", \"plot\", \"\\u2514\\u2500\\u2500\", \"detach\", \"legend\", \"subplot\", \"ipad\", \"credit\", \"unit\", \"lazy\", \"test\", \"adapter\", \"jpa\", \"stub\", \"mock\", \"label\", \"f\", \"entity\", \"hibernate\", \"use\", \"figure\", \"set\", \"python\", \"import\", \"x\", \"data\", \"get\", \"g\", \"want\", \"show\", \"like\", \"try\", \"view\", \"change\", \"add\", \"new\", \"recyclerview\", \"rdx\", \"slfj\", \"rcx\", \"grey\", \"divider\", \"canvas\", \"standalone\", \"scrollable\", \"division\", \"objc\", \"edx\", \"screw\", \"intellisense\", \"mylib\", \"initializer\", \"dylib\", \"latitude\", \"resharper\", \"marker\", \"recycler\", \"lng\", \"knockoutjs\", \"unset\", \"uikit\", \"memcache\", \"mirror\", \"iphoneos\", \"exif\", \"eax\", \"bitcode\", \"contexts\", \"blah\", \"macos\", \"rax\", \"brief\", \"round\", \"allocation\", \"longitude\", \"xcode\", \"sdl\", \"wformat\", \"decimal\", \"httpclient\", \"ptr\", \"sign\", \"radius\", \"builder\", \"sin\", \"g++\", \"gcc\", \"templates\", \"feature\", \"double\", \"debug\", \"developer\", \"django\", \"hint\", \"share\", \"use\", \"ios\", \"code\", \"const\", \"+\", \"one\", \"list\", \"like\", \"add\", \"new\", \"draw\", \"c\", \"type\"], \"Freq\": [6660.0, 8212.0, 3961.0, 5550.0, 4630.0, 2586.0, 2424.0, 3188.0, 5434.0, 1904.0, 3209.0, 2610.0, 2136.0, 2731.0, 4475.0, 2925.0, 1732.0, 3414.0, 2150.0, 3402.0, 4162.0, 1400.0, 1408.0, 1316.0, 2920.0, 3564.0, 2626.0, 2774.0, 3152.0, 2176.0, 186.03539852570452, 85.41813130296023, 67.11051270905537, 60.66074462948765, 41.138440826018076, 50.33395794152689, 39.6431556284039, 39.436175777725744, 38.07814712686529, 32.43157950259722, 32.22382384630464, 33.38399662923754, 40.17927800596973, 31.799353886591607, 32.232334815438605, 27.581219908599127, 38.81649277642413, 26.72382243616337, 32.389159469050554, 24.982037086784832, 28.54099828588908, 32.493468441628465, 63.32400645142833, 25.842598828677446, 22.73503694679409, 22.594542365459507, 26.045892966780855, 21.97423363241643, 21.32256327536341, 20.58520455229112, 68.20707451885549, 31.654672498564107, 40.56307031523733, 52.21090897793766, 50.364751065357076, 112.86839268021977, 53.38608914816596, 54.43165127741138, 129.1097738422945, 202.33867117043545, 74.4705068079636, 52.13453409472891, 95.51778754326754, 219.6402250435564, 102.06719449997685, 680.310363397055, 83.49628528591153, 273.1743735137038, 119.2638594540278, 151.9013453975678, 800.6830805439653, 164.11331937957706, 120.73082901852801, 171.4463866646024, 71.93049887734256, 310.2385299843932, 544.4251153856333, 94.92613020183386, 602.956082831657, 71.07246804229044, 353.84745383985523, 111.38133865299338, 510.5811881210411, 285.7423634203593, 202.03138092562486, 2674.7811057976323, 137.4527823325509, 517.1959153668599, 237.40402679437534, 247.17567750815448, 231.6978823861695, 385.01756323890055, 595.1044619867013, 920.2657681256463, 341.79697969414417, 696.7574017248259, 611.8254385487375, 687.3779779806994, 467.9048589228647, 619.8630492511576, 337.02778462916456, 489.6060903750031, 668.695357845407, 513.9635581569279, 418.190177002645, 495.89287314129285, 506.90371689117757, 340.42549781084216, 406.1165049972502, 491.60521680574817, 366.11818555856337, 354.7238852579065, 336.30818295197514, 58.89674712246016, 54.59778015381785, 44.57269784070473, 66.44742679698142, 36.53340314185407, 41.32211212876767, 83.91079056984287, 30.895880694000127, 44.601509052210396, 27.12063558252341, 27.72816546978537, 25.840215017102715, 28.944310947524855, 24.96237417556008, 30.554826581203677, 25.8638333125572, 25.228767368572953, 22.17103363720832, 66.0134709788334, 21.46051010530917, 27.01557983043652, 24.564892641949292, 28.544658007482937, 19.45027595219957, 29.91493933770512, 70.29615968584099, 23.676991436382337, 36.33147691695648, 17.316204838693558, 20.31661975532861, 322.31216468105384, 74.2003581644783, 71.19163895412062, 89.29039899677689, 246.4800844516325, 64.19068457888093, 67.33377838587828, 149.88896040653975, 77.42472669406902, 37.88147249018287, 72.73513488125114, 68.99858160920161, 91.47817598645956, 116.96533829147076, 40.98685571971967, 163.75391024668514, 67.08660238266754, 138.64879888797267, 835.8698772250252, 206.23808428831313, 349.0983040896667, 87.37076884154251, 560.5763855726304, 345.7825324652032, 322.37168161974336, 185.90835715624448, 249.47122352804328, 487.85811188091503, 1045.681095806082, 330.8299654628845, 329.12420183905266, 1812.9580023708688, 333.0171109473411, 286.947075353798, 377.3248000487978, 341.9978536371957, 519.685975274127, 635.9885634040497, 388.4054044854031, 567.9423402530654, 621.7038374669476, 688.2382565376845, 817.889271810164, 803.781717093098, 473.70252390480874, 440.3219737545608, 405.8358814091846, 362.94256970479256, 430.3170267426938, 510.13917073056604, 477.88056248039385, 390.559245355784, 511.6786833170399, 502.88548796385885, 411.94407198861666, 448.99306514341777, 361.4384214109778, 399.77288717300803, 386.5683266364117, 390.4128527289193, 363.3653090185793, 166.29076312856694, 197.69292884155593, 112.33206524762105, 79.52306103499457, 43.33671646108199, 81.17709834231356, 157.05162944069502, 58.25302227456224, 37.3139958085101, 35.07347353020335, 30.90125717267695, 51.15279992950681, 28.78340909784702, 26.813395152808273, 34.3191912753034, 23.246107934718523, 23.447684237887575, 29.825596674947484, 23.84738000107491, 29.504602781522884, 21.971996561915045, 22.06273524238251, 20.89848565906096, 20.807981730924638, 19.92034864446771, 22.31266592278033, 18.530634406789765, 28.01164009577029, 20.40590852501111, 26.859742627755104, 79.58897580719028, 321.2651750596675, 173.08537936535492, 118.28096549802194, 265.0606062296543, 51.244399368521805, 347.8748212994969, 200.92796326029992, 136.4527383890295, 36.776910092774045, 51.151138251241264, 298.8883066758127, 4908.049288632143, 126.82788360615362, 989.7648038833663, 1217.786610779921, 586.4652333799951, 1143.576004204688, 102.94929075101034, 160.6475380312368, 393.6206674484896, 245.33270156237543, 1584.7502028117162, 177.14773623489285, 160.49683624061615, 139.91192906310778, 159.0141221051634, 981.4816369237551, 543.0318910182194, 344.7727763778394, 284.4447966602433, 797.3507461092576, 407.0006297263179, 744.6144358374864, 711.5508496262146, 715.2917891275346, 1225.4671178726298, 506.0602216458533, 222.97179633703846, 313.44897191358365, 417.45320281685986, 538.4585473685844, 317.54842885741607, 445.66446754935987, 408.2769827537345, 476.61270510768037, 377.43023185025834, 429.5451020686357, 387.1343960971658, 370.870460004352, 358.6104964954246, 361.68400289839406, 338.40957048387764, 81.20158952634714, 63.38970828906275, 54.83829456726093, 54.76476778279428, 96.44966223622245, 79.97353823369214, 53.74173833522289, 44.77556381009538, 45.392775499081516, 41.25785853574821, 44.6693668131999, 41.241649543722374, 32.936470456311454, 36.79791875811134, 62.5414819569696, 29.56789189115534, 28.6478556975838, 30.65955843272422, 25.958702941912673, 24.804550138701185, 30.41717802493842, 30.25989814408272, 22.203573326137594, 27.464338201201826, 35.13609218254152, 20.506220162394293, 22.5920780404146, 20.636907649698454, 19.414206253674436, 20.04091633233665, 56.15132027265745, 51.69460415068283, 44.36151544130864, 32.612527356464426, 29.400100282055746, 1275.6035457428, 161.52568980379334, 68.74697264368022, 165.91393255896264, 1613.6466366777818, 423.2743695157421, 321.75558065784304, 138.97817211000725, 71.82295522870295, 70.80108957171382, 565.356791489249, 382.9393526611287, 1904.791462881348, 740.7360850820596, 200.67709181072127, 1241.4075374847537, 2356.4961300567406, 103.94602235667428, 217.9335838617749, 502.3550635449423, 611.4897333735847, 272.97932078152814, 820.4799007899452, 682.7024596567951, 373.65458714531474, 237.05454807666572, 541.7639331991625, 457.58489830712966, 593.1305519583751, 829.2408100917304, 254.6065278840714, 258.4445056716193, 778.3948969043618, 656.103676319702, 776.0685193559696, 432.9656032738507, 800.7721737187545, 1125.7821553505041, 530.1146638244745, 592.4544029052634, 618.9473388251415, 555.3360501192888, 512.7226587590067, 543.8163818798596, 468.639793723611, 415.8246583698838, 432.3750171663605, 140.73390940291978, 107.6099959992364, 53.55451016935113, 81.43680996950488, 104.95595145821406, 38.849518077356024, 38.48702203540383, 52.2964187886859, 43.58017493273373, 32.69976102655875, 130.1212230250737, 30.62602664561393, 30.417027693329942, 51.82106550483189, 33.4078143597316, 862.6504152288401, 93.2472109172548, 218.5195386676193, 52.419831110464656, 26.102377706871223, 30.26665168657097, 25.190939783199376, 28.961748048324598, 23.53201246790959, 49.90439374185964, 24.056683246392566, 22.474070992199486, 72.379770167843, 28.735953843373874, 29.42312621509077, 66.28638394016497, 574.6100661709236, 1574.0486404593182, 705.228446213585, 610.0259625539288, 372.4516506913544, 86.34917124942586, 3134.6523413475256, 727.5795134548847, 103.52438287538698, 211.32492836043818, 195.49242015462414, 287.6624070437124, 150.1601697252923, 772.5887337961395, 102.08169319253848, 427.5576818675269, 227.6823365430331, 157.80785125571106, 820.0254949552568, 135.67880740910397, 614.0291121232109, 250.74035497264686, 363.7100355803355, 380.9795493512093, 297.5505079155043, 745.1587917149568, 1005.1862776640454, 320.86438339464274, 683.5735040288223, 249.68213646595058, 547.5831942095131, 667.562500174636, 309.0356146945994, 256.7209875959143, 554.0871004981605, 897.6859460747692, 382.27999259127506, 433.39422648951347, 468.0862867452474, 345.736839188179, 551.7209130751115, 723.9331319631351, 495.630006847581, 390.5942385768836, 388.57066075564103, 367.8363064892094, 369.106774577963, 88.07733891472735, 102.1611279244145, 53.47220067815747, 50.62152125293234, 51.0679367840554, 53.09712255684361, 46.5455173195055, 45.486337673873685, 61.332596246902405, 43.38317665795444, 76.94571039595746, 56.590751901594736, 46.77833157526044, 43.68543512490275, 67.8628810471385, 57.40948829816262, 64.67916726206755, 34.02016445127877, 39.150216373235935, 33.7855518324602, 35.4375731017865, 31.67351139891428, 26.664176353817147, 28.607460434680267, 28.1941864166175, 25.677621422804723, 96.98354934110193, 25.270738267230776, 26.65843529048218, 28.365122230786593, 55.168784119726475, 71.67385824891872, 68.87202264549597, 119.54421769514506, 47.85106216757093, 64.06773787014508, 64.7413512848771, 254.4393748991198, 102.44414531155313, 117.64900294574151, 149.84597498085836, 191.34952504424592, 266.64003191123714, 159.1634766597695, 886.1834131814159, 359.1913258109208, 334.28641393002414, 287.67871610013697, 210.90623162131243, 542.1151405598555, 1347.867159112379, 536.1607604561794, 492.634080045632, 236.81364661191364, 420.72658914526727, 222.08062746168923, 873.0237790656182, 384.3026279527917, 519.0895180804514, 162.91151817917842, 145.16896654139353, 699.6515201383837, 300.39898763995166, 684.9473731451574, 1140.748785892681, 543.9283401187596, 264.28420439730587, 283.86601780870603, 562.6498615995961, 251.563117974228, 447.74398753804786, 349.14839538150676, 408.82072317847076, 571.2681231901186, 769.1349862255136, 271.57774679608247, 332.62127023021793, 433.1946683648309, 437.69866865769, 393.9219033836066, 331.06540518595006, 326.7033069785804, 286.37178384306736, 253.57186342072814, 182.44324367244778, 61.3396455561968, 499.5586429188723, 42.9242398628286, 44.22438702245451, 38.507659117172295, 39.90029011914935, 77.5994396080021, 80.5007309414924, 43.76751132834935, 32.39473814930443, 52.068736739541436, 31.340622444007675, 31.473261908382728, 31.379199065301144, 350.21087341815894, 28.879079410923698, 121.28930765905507, 40.38747990486375, 27.35162420649198, 22.352063799990795, 44.31367202711901, 21.600098732311004, 20.754862023424256, 20.881127633557718, 61.78963354021922, 21.63489289819095, 18.48788148659312, 18.317465110346262, 48.01436991359717, 324.275241937813, 341.9602679118487, 549.6518421604964, 824.5922407937007, 475.55227808960825, 1095.8963096413238, 99.77359188280471, 812.1429634485713, 91.74219523651917, 685.498665381312, 629.2763842354649, 260.2935061852714, 906.9799252503221, 734.1517070601805, 82.49276967764659, 325.9530935587995, 85.59995726155503, 1564.531747807127, 184.4566465607262, 167.19443886848933, 1448.3740291770707, 1133.9308436495467, 272.26410129172535, 1122.1137110796003, 762.238046431976, 834.3456738572744, 305.8826058433399, 184.80345501426007, 590.9622582013536, 288.12538142211275, 656.5589577871698, 770.9379048702446, 347.4001704455395, 497.81330262873513, 546.2481699652989, 416.7086107138904, 357.5634358711116, 315.83270617030377, 89.04533804585971, 63.719572181975366, 48.76497294066489, 72.01699204121472, 36.66027102218179, 38.73307096376009, 65.19349750003131, 32.615954766334106, 36.987914088308614, 36.535698209730796, 26.60198789533734, 80.66789859791939, 76.5436679557881, 23.845332790042296, 28.596045471312884, 27.590310361395066, 41.45352657475824, 20.772927423144896, 110.35552106413657, 19.442473545545177, 22.12763703309613, 17.749059821554855, 21.03675864799458, 19.550823816482403, 17.401997046699325, 43.035251494848076, 16.78683577394013, 22.033753738333044, 34.047855006232105, 24.298546447797218, 77.61364229180357, 82.31819576867169, 53.75375704862302, 1168.3212378439266, 274.19981730060664, 24.793469576458023, 50.64640639749815, 103.29585367114132, 223.91550776091924, 68.60811153649595, 296.2876434376726, 363.47132739347836, 357.5864356696378, 1557.6859047180728, 145.55181825942913, 332.6615107413309, 1457.6203109972828, 108.96030030456464, 2356.3691913710027, 841.6578955293236, 198.82190390668507, 162.15404844772706, 511.5015699524773, 155.11612507936897, 255.742894794937, 196.28640729569992, 737.5508457434079, 526.1712054333518, 417.2395727875165, 804.088797261486, 842.9227967943965, 455.74623499882557, 238.0485320114681, 403.0745670020916, 474.4127733210759, 577.1065338322389, 279.21308069605317, 899.4087099353729, 545.6063526168009, 461.5429407963179, 274.9791042071669, 332.5531259508505, 301.7333413696586, 281.3542128952794, 258.86819560852314, 266.0837138076794, 182.39975951645903, 102.90601933060879, 89.92552100263995, 173.61288986808196, 70.58723248204939, 60.988245859328536, 71.88992981564682, 52.08650782217703, 47.17887824009219, 52.728196939283315, 43.31147786403854, 45.54015009322836, 63.47755697744458, 44.20089397956389, 56.08687402790216, 33.24483972235315, 35.221414924756495, 55.33550857059476, 89.91372030150207, 34.34395546677173, 39.84972658959968, 37.49069755139193, 27.93109966762884, 216.55973516441668, 26.809909594044285, 91.04092769295758, 43.26459671956757, 31.653506076452523, 24.004023223899104, 878.1242741367521, 526.4469528200258, 88.68590153575255, 230.96784540636486, 137.89329820762347, 767.2514364140975, 87.79440275243277, 978.8425825375227, 354.82355979212946, 366.06040055604063, 178.99754459875214, 1187.055089152783, 1115.1041868818627, 131.01291760409322, 262.9817699785565, 144.49380205013568, 153.80001951588173, 105.48079455740626, 180.92551663807134, 114.72081502838816, 252.08769539505346, 680.0889625072352, 197.64685022311664, 263.74748992309605, 814.7230578184308, 1116.4225383393814, 546.586122955782, 187.8928429361087, 507.18638907163245, 935.4330535834679, 747.011986311403, 353.72011625753584, 556.7953409895472, 629.4515300989596, 391.2380282011995, 475.5298385962355, 293.5707468919816, 289.50990209292485, 300.45390871802675, 392.04731196756086, 371.95518867995344, 379.4702598570186, 505.6430445104803, 381.42049467282374, 357.06226196746815, 333.4760914336954, 210.76012314932822, 108.59969705163746, 60.555808220711064, 53.32921046855118, 92.94824961945699, 56.537756745902726, 43.61686614408139, 40.0970285978982, 32.724948451619746, 43.114422446011524, 31.704187467059036, 340.84136253796345, 28.12637307352861, 32.26332027558416, 45.73730980985011, 26.954385878316273, 25.907224693736126, 33.01439281783344, 51.02874501024426, 24.621081535529996, 25.610315278509997, 30.837840160704367, 35.18300230581691, 22.460439122698784, 47.65883956288561, 28.5593331663798, 31.145998148930023, 21.869181422426497, 19.768890520270563, 20.824944739327524, 159.3359951012318, 61.86196867515891, 86.6297199364715, 107.14707883799939, 346.4502599443746, 92.08458616078313, 74.16332395829897, 381.5072265956224, 39.02917596768857, 223.8139757727144, 101.2828142809988, 1214.773158689271, 95.05815551749082, 472.09449349778436, 62.22493198051517, 898.3130159721665, 252.64043784495945, 139.99065526959177, 108.21925367421281, 262.87159670085856, 191.0614461643463, 558.398059004218, 239.9020170107581, 455.2668577881548, 343.45536642972786, 526.7883257631989, 347.2156856530214, 291.1370389837863, 568.8759023490884, 182.92887769666282, 1287.2902385298714, 881.9393266417665, 981.436559848393, 523.4082331695364, 337.26670692477944, 303.3624050404291, 444.2968694528829, 944.8786019759013, 199.00675728814306, 269.8581175842875, 285.45847628650586, 368.15964246216186, 365.14995909806265, 345.0470347279597, 294.06287920133417, 307.17770170410114, 295.8886351167622, 277.641326858137, 336.9183090843924, 84.54300394020272, 68.97466475142177, 71.1607036306155, 66.19862036434246, 64.40269019055823, 62.42928482755108, 53.61620471243413, 44.87818554325022, 40.37625993331685, 31.662845644052016, 76.08567731252316, 188.5811633557887, 59.60341198926234, 31.328746354609184, 61.89380744571443, 26.464880343525707, 28.902557065595943, 79.62256336238075, 65.42110972827277, 32.51154445602879, 39.908225859904434, 23.943414070575322, 23.765732155149028, 36.53209248537892, 152.10140680635953, 46.205748502114425, 51.853773107031024, 25.303650180246006, 24.65735714272447, 340.9513915629663, 49.70506987251141, 138.85875822697068, 88.14009936860505, 367.32356338408897, 1617.7587664020648, 141.81013023033992, 136.81593450231563, 80.54497865634913, 117.23443588690684, 60.73433817326066, 4416.918414945, 219.30586466754883, 448.35440513346305, 211.05723334751949, 2329.5765147117822, 127.63626785180851, 289.7823551310915, 159.81434658215449, 352.5944968873061, 608.7054545822857, 199.3683329637945, 604.2656301187438, 417.8958006009052, 796.7333293834918, 526.5722237884133, 708.153572459176, 361.70441798361315, 767.0690293883603, 289.50456270538996, 225.8101670537403, 744.389231466816, 718.0868051998933, 463.955517118055, 432.72721292798974, 419.20052551963175, 262.53701941852705, 333.6773895192675, 324.52249431943324, 400.6046141565716, 356.75679067918816, 270.93399389273003, 274.68616669292413, 263.67583986646457, 98.5490960372951, 92.8128668704508, 123.79516363971857, 67.62734991090423, 499.96717353493057, 49.83866052621277, 59.384817911437075, 48.85774350919317, 47.69729239206962, 39.90902045497082, 52.91842489019115, 36.501315440012476, 33.22718368227861, 40.32630912041193, 62.184870355884314, 31.804421947930166, 30.040120725150263, 30.043668371064634, 35.44682370094113, 29.18869986230909, 27.451978542842742, 33.49002658795673, 25.065426455589648, 23.89785173342176, 27.49767607281716, 22.43691529048317, 60.06274954570437, 85.32302471971467, 19.134928991244447, 18.87531237648366, 165.2336951458052, 45.751511951274225, 184.8453195914575, 166.08633064559552, 104.55859869844366, 1944.3041217824289, 42.97353248970681, 125.64945275563211, 242.98261192252238, 77.82532848297178, 1600.0835530384588, 78.00887173440434, 157.0763179735692, 356.5514950998621, 56.09119816740742, 578.3047673650653, 235.19181161527072, 63.885690517972996, 203.25072177565127, 200.06829369191624, 328.72277524763547, 474.23317862547174, 183.0248364549674, 173.25870237247963, 348.8113641232438, 1349.1153911865188, 874.4145688416658, 355.0243255516762, 132.5269819805698, 463.4014030596103, 222.67829899463337, 350.45996339048435, 794.7435358097496, 682.2074281351179, 455.1208973753837, 537.7312498966282, 400.26791540306004, 262.0993553353885, 312.81457602857154, 311.54333529881484, 378.02514383192914, 562.8637362033606, 411.9516696021099, 391.3553228432617, 314.2053211787223, 235.4458830867567, 282.4479501324721, 257.79769451379684, 263.7233334303455, 244.59657846444406, 72.25014035200547, 56.870144698755354, 65.5755656410783, 65.82607715890292, 39.48338989017962, 42.11675874720164, 80.74584025451558, 53.321412623030206, 34.722972195398775, 35.86502408767301, 33.338767894639425, 32.39548747325296, 35.284748793225376, 47.57089361673676, 27.897548281188666, 29.35029480907569, 24.34649244715082, 35.47209655959186, 23.75349945311724, 41.98356615596521, 41.46227382357783, 20.645123281832003, 40.7484577445653, 24.11469199918304, 25.76984503752881, 28.73961556952084, 57.583284146760796, 64.86271758890804, 22.366326865969093, 25.93908181190242, 46.7114240703498, 96.64603180158683, 144.9439432103432, 83.0357620779426, 74.7345565481294, 148.37295110911188, 917.6898415850604, 117.38789356178386, 308.9496388178745, 110.35080267625145, 413.51032722663615, 255.34742432689902, 256.6333788420804, 86.66811488053752, 82.99331706425653, 44.50171018528231, 200.1355787537268, 100.79446144501078, 63.36259701269931, 110.56282031035845, 78.70394567594553, 200.40563848707032, 230.73376141019412, 118.7679146036891, 165.0502953485899, 118.00472421680834, 285.01155985882485, 97.50481977805423, 1076.9170603643988, 436.47393900156703, 245.59856428794563, 198.92740223197433, 122.14986454453356, 305.93028407423463, 201.10728014686757, 256.4290856670617, 292.47974865738985, 327.4910669095174, 277.70945680848365, 243.45521456961072, 267.04796476941783, 230.63435098018792, 187.04993018946837, 228.06370631141505, 197.95660959872632, 188.2646853426183, 189.14772337926706, 171.89203249065724, 170.02684232210117, 85.82757831021846, 75.2055533324538, 73.25702769332406, 69.5313073110719, 84.34095188084329, 68.73935778125355, 55.197302670402614, 45.405797500341905, 88.39374673858515, 54.162699164123985, 38.58279448225814, 37.11459468612049, 36.27689443851499, 36.730611232706586, 29.021794623016994, 27.868455843844913, 40.92650348750674, 123.4289526733257, 25.062153419376568, 25.154670714801586, 27.4483341597051, 24.671341258856806, 31.01319695274802, 168.00115270400133, 24.42557953802406, 23.52919776432659, 24.077669522452645, 21.49872995395813, 21.866010727639715, 18.274883676497353, 193.6987692695861, 66.63816159654064, 102.91446132894711, 66.0848442563476, 1847.6951761030182, 253.79870414081904, 105.08612440243927, 127.3798283254524, 337.962197570109, 181.002177982193, 55.387344825528174, 407.41539243215846, 92.02776667854965, 215.01168480406164, 311.0799264363777, 224.49834408570783, 224.56583975797608, 163.50471171737613, 825.4427484328995, 80.90715120676393, 325.2608301215954, 196.79072269075667, 174.38795383270008, 240.91769379496833, 383.7672488180673, 206.06441702073693, 335.39662153381926, 305.3198205883419, 221.79468515872998, 345.0107376732732, 192.0029173635308, 235.4069664990789, 164.7969965210047, 192.307610525863, 222.05974358866328, 222.12609150128245, 257.7818744172661, 197.5573150628434, 198.34580742952514, 172.18732834032048, 94.30167205021849, 77.63253854296208, 39.022223004134375, 40.00260418974095, 36.464310834592084, 34.101602624275706, 35.427347149893556, 30.707401534185056, 31.95440298715211, 28.33174089852203, 25.570160854404175, 25.45714377827989, 50.175356775354196, 22.154633563622312, 24.91564503232345, 21.819141709809386, 53.745968789250774, 30.637295723047547, 19.561407313624727, 25.57603382242806, 18.948624002618075, 19.77830265612657, 23.76379444421558, 66.45055534754938, 31.38324355695699, 19.043223626676912, 20.670697951637447, 20.5821989568974, 18.628570358138294, 24.43690222016648, 49.124097810361405, 31.59755026341525, 29.026378267996133, 49.241737450849236, 112.10203026339262, 39.75347108336775, 353.64858400314296, 119.53378246143451, 54.44026871152634, 140.3019841631922, 103.00856787307269, 134.7700596929232, 70.5178942602593, 211.04454429664844, 80.92093837989994, 65.48833621732717, 129.42533983424903, 299.57815279865065, 54.82006784476384, 53.02769162562151, 371.37219840275355, 126.7743361522715, 997.4125617476132, 70.93996212203704, 351.6867676872549, 249.726292322586, 211.29233223679185, 189.827750458795, 184.47593034125842, 407.30764395979475, 530.6141415716644, 134.9012203341744, 131.82604090106938, 273.40927971916244, 707.691750100358, 210.2461534700346, 284.0996254591261, 312.3086950558506, 367.10039422311536, 335.668509732643, 188.27063040780652, 172.88945427377817, 242.74675635110088, 212.15675177277456, 225.47519176573, 225.63581663223442, 180.8996187055016, 207.67216171035372, 199.87271225257808, 184.03258943827967, 194.06044774391762, 177.38905842525182, 74.64682910136834, 77.8443147203531, 54.59944455261096, 116.03803118798037, 30.119380280974834, 133.07378131774854, 30.13478391338993, 73.77446776893093, 27.875994018622993, 115.51820113018141, 63.655366221790935, 31.093742341559327, 44.56053204869918, 59.15320995173165, 22.52779141518402, 20.06833667077143, 39.14933828914815, 17.92572366306121, 17.293674243044933, 33.019278151357774, 29.810867907690728, 95.8703785420936, 171.69995736179578, 23.48684043995778, 14.200927137397661, 39.343714408646996, 20.120781056331598, 13.311585570661899, 41.57934250812272, 14.003372402889616, 59.00694725816973, 38.8323253027668, 93.39701169472801, 48.42154719804331, 769.3585970073722, 170.98856630825307, 133.36146310104886, 186.1949367705518, 112.61165877225405, 97.28718569263756, 370.4896959418339, 752.9492450582138, 1066.8842803061796, 1479.7799398517361, 905.3235767118114, 200.3938553149405, 495.94999495096147, 106.58991018949033, 161.45297760275986, 176.16229531940058, 311.54063328483267, 436.5037027744401, 240.13472314038498, 129.07974383711925, 137.4110606065591, 295.4726139861442, 216.30753335456575, 435.91013150003573, 313.971592082663, 205.41112178067874, 329.7652760246452, 297.68898699268277, 453.90104383928315, 207.579801199203, 257.95803618090616, 292.0957205744401, 252.01698486622445, 228.0551110748156, 242.34642931696214, 200.75136277379914, 197.60508854268588, 191.39100999787797, 177.98403835602417, 130.7155583527352, 95.47651093066098, 46.42421714064168, 38.85997450176363, 75.7004895298844, 44.0612648253332, 41.922123329573544, 33.972948837806904, 30.653456471493655, 31.73041897516098, 33.078276569608725, 49.11041549625105, 28.174946792362935, 31.015757085666692, 39.072172693091694, 121.83568776426782, 23.48339270087955, 26.516850890846474, 23.04906116259505, 374.84479605130673, 20.582482036665205, 37.96290733815608, 19.75271457147831, 24.718520790538644, 18.099500491695867, 18.628460727019995, 17.849893824912385, 16.000364207331128, 15.767815679858609, 16.246819861071636, 71.58782035366056, 24.064074310599057, 32.67611611105471, 39.866374392740774, 119.94006007037683, 700.2799004362722, 87.7908836977332, 46.22522538565834, 857.6822824139556, 345.62380914281533, 51.61806132651926, 622.3010684680222, 97.21649761389565, 748.0199170386636, 192.12899289695224, 930.3127461063256, 308.10273804576366, 237.33605098414603, 70.56472103478093, 656.9272485593644, 351.42580616662775, 124.75347773499182, 640.0171200595328, 1113.3398814806737, 73.26393758168102, 256.6471656666433, 361.96314517309827, 463.688429755538, 139.84752671753418, 167.81111196325352, 91.75331658796253, 192.06256330900345, 381.1958662486585, 154.2783674586786, 277.62240009238536, 475.58772591100166, 321.76089558854414, 203.60205205145385, 216.40972680665942, 175.7044697048942, 232.23628330981632, 205.50998678865375, 201.76300663757516, 177.72941756766733, 168.41242523089267, 60.9726417095071, 59.50854036502853, 54.0407158636663, 50.13497626097244, 39.72746425119683, 55.559034238047424, 103.15352720425668, 63.83489269064621, 37.78457597091044, 61.68570756491981, 31.221922122506207, 22.994395245568995, 63.896553089147645, 21.91102079595703, 20.73625876806078, 20.766231510571874, 21.320667869154317, 49.52301381408383, 19.259082214707576, 18.771082650971934, 125.38969921893539, 17.044263405024303, 21.529015767217977, 16.784739831831736, 22.000107733270912, 15.63581925546518, 40.806160932116576, 15.182519516759422, 54.58647701439012, 29.871397565461223, 339.6146701858676, 187.74880822022797, 41.77446307702374, 549.6202052288143, 428.11119418867287, 175.13793028538987, 45.8444680424421, 247.07850243233992, 200.36305157212863, 316.65672892858805, 42.5912087367979, 58.81125090850119, 80.86161647588395, 55.77168350947394, 184.39947752917953, 157.9143054482815, 668.0696818021888, 87.99717823333899, 216.80591575319752, 181.12057905933506, 235.21795147771243, 164.6821913660336, 335.49643025963155, 337.8796286141421, 426.3026287207386, 100.51826877324491, 73.62134033011402, 723.0743159122203, 405.81548327644003, 187.37244509581092, 374.37633676708674, 391.1726341496202, 119.79670616168069, 267.2817934652568, 280.47215113134024, 265.35596978177443, 389.18265820978746, 262.63226851240813, 297.08716686176706, 207.03390398165595, 198.37763263243323, 193.07064366683701, 150.83559442824696, 116.38085428417345, 162.36955750691808, 86.07606745048813, 70.19036435744657, 57.00495213900432, 156.46120997500597, 48.661720566108954, 45.546588898407876, 79.67353657173653, 48.06609453320522, 40.540767065451085, 104.92071929027523, 116.61729732786797, 36.00898733609218, 40.19170148180846, 25.583788681006233, 53.1967812083112, 51.98085136568021, 29.940859046877463, 24.675686637544874, 34.5059972387429, 23.191891540404633, 24.133656896599923, 84.65547142746959, 23.42451791961857, 47.7362737520365, 29.670647049281094, 26.971892499095084, 37.9314513463358, 182.16485308848343, 51.421369703796714, 240.3745371063204, 65.62622522919764, 71.18025228394343, 77.98917568068316, 31.316542481939315, 151.16694549719082, 40.52815652832185, 148.24021428833842, 66.77077182551307, 1087.0376211093762, 105.69192396256257, 84.55508817140351, 66.11893563632457, 61.97884015606181, 175.48883835424937, 185.87691470293214, 96.49944002252879, 81.94239495323423, 473.3842307705356, 128.74095544244452, 245.47996346901982, 191.05590353832514, 143.08253478567218, 158.65359622421397, 166.06655167250392, 172.77136117079084, 108.59030711858642, 140.12482354975072, 117.78239264050123, 134.842813447413, 129.3032441410753, 117.23491785193035, 107.9759825989628, 105.90548814760713, 106.73617785238442, 146.19646626254652, 76.96617946029716, 72.9728289868411, 78.33239729954367, 48.76263555650414, 44.155955854534234, 235.8041563885058, 36.177701675880144, 34.266543066810236, 27.5161177470601, 30.338108491760764, 33.88930929225377, 26.5081256934077, 23.647873296803574, 36.80475276224061, 27.68200565073159, 29.631323777578963, 64.90515500068676, 30.826088783478106, 24.67542541577507, 18.658095389177795, 24.089371519665683, 18.061429205301085, 18.702311184588638, 44.63672602903263, 17.615846997590033, 27.898590726241977, 18.3365164321437, 17.50601140641777, 31.35336587026779, 57.23230394181446, 27.859939860507016, 104.24303559549402, 53.40097131676918, 51.385147311607824, 31.0378211078128, 186.46147076627176, 85.4311275927574, 57.79930292247116, 339.8612085009432, 76.38151403622496, 94.0572709798569, 86.15673811070384, 171.1397950115722, 182.98458220377697, 239.6941968133262, 75.78295285025375, 101.26554426377382, 64.39922118584843, 73.44097869582454, 128.26786386829392, 82.73058536539291, 248.8273947302682, 170.00954012795745, 174.39799508763747, 127.07733328805091, 139.94622212199755, 69.95024957906642, 126.94088209572048, 433.5442379600971, 151.20210946447395, 255.33116337535662, 110.25346880820479, 150.07365434978215, 149.03716411459513, 116.39012875911926, 121.59554631149452, 110.5170631854911, 106.43221709743347, 84.16982634434466, 88.09289197682489, 85.73304158996463], \"Total\": [6660.0, 8212.0, 3961.0, 5550.0, 4630.0, 2586.0, 2424.0, 3188.0, 5434.0, 1904.0, 3209.0, 2610.0, 2136.0, 2731.0, 4475.0, 2925.0, 1732.0, 3414.0, 2150.0, 3402.0, 4162.0, 1400.0, 1408.0, 1316.0, 2920.0, 3564.0, 2626.0, 2774.0, 3152.0, 2176.0, 186.91989464409764, 86.30262742054539, 68.14010242691043, 61.828099222617354, 42.02293694974017, 51.44250288288474, 40.52765182224593, 40.43243795552459, 39.074489665788505, 33.316075616335816, 33.15570982624614, 34.3495474235904, 41.40087319400855, 32.768204745648205, 33.28438985580487, 28.483840916680656, 40.0891099318134, 27.60831855107063, 33.48554652773076, 25.87843064990895, 29.57182214900426, 33.67994240638513, 65.68091249904582, 26.82827776919878, 23.620185115598346, 23.479630726310713, 27.095750626647035, 22.91220271524118, 22.23482213062877, 21.469700669309503, 71.39693850314573, 33.03184428476007, 42.74521632096736, 55.32136731468403, 53.572020453707324, 123.68695752805817, 56.91285005909827, 58.080830708760026, 144.99798872821725, 234.45104424133243, 81.6530209089622, 56.01912869449885, 108.164441509809, 269.1828686016076, 116.89050533366463, 976.3093011871161, 95.31274323148055, 369.1191305368566, 143.95281296640619, 192.310973326533, 1391.6297180083172, 215.66786215118103, 156.5054335730847, 241.24852571613127, 84.44346275465966, 514.3636683016852, 1089.0787220482678, 120.17724174294666, 1543.9946070885621, 83.95396583878099, 778.812015081205, 156.58445161544213, 1313.1312893506836, 584.1198956508324, 360.0181114953032, 16247.26257532315, 214.67925047765672, 1667.527774278456, 514.9723112250498, 559.1693489494772, 511.5560351427789, 1201.2826676597545, 2583.254231774382, 5682.037603941988, 1119.266745004901, 4207.470624355651, 3311.6950466431235, 4611.972753805122, 2281.8335074334177, 4841.692134062306, 1230.48145428899, 3025.690719875265, 6747.717328927092, 3511.759381748312, 2144.7277486982157, 3564.6608662191447, 4924.846743493184, 1526.8803646563215, 3261.7699002176278, 7336.025667391276, 3862.631506945984, 3750.724045416941, 3045.5005152975195, 59.96787901336838, 55.65987011241418, 45.48798278670865, 67.97892331732776, 37.43835529246849, 42.48808609976002, 86.28645733386031, 31.82426990895229, 45.960871111391995, 28.039182991969046, 28.75739774644839, 26.809545663931942, 30.037356051092264, 25.9472188728322, 31.760848753698944, 26.96280744855063, 26.30998212519568, 23.123987248469117, 68.88622825482778, 22.401940502688234, 28.216018861654465, 25.659719853900796, 29.858268555211122, 20.370838608384386, 31.338245133211444, 73.97766492296067, 24.93322218689852, 38.34206790855182, 18.277398625829704, 21.468216853472715, 341.0698773794308, 79.49852826780962, 77.1894688973985, 97.64576905290929, 280.9511319732577, 70.37040206498362, 74.91222266741622, 180.90817357117936, 88.87605658400187, 40.90821043695144, 85.11069472285216, 80.6904269573393, 111.9615216119133, 150.46203116187013, 45.23566786402889, 227.63155407123534, 81.13283825553737, 195.50437585758232, 1801.8210619132017, 335.31248656995695, 662.934021930303, 116.42928133770707, 1312.5207609137858, 701.894210142175, 716.2479775674648, 358.62444165386955, 551.867288691085, 1486.1103810295801, 4841.692134062306, 891.5886821876626, 942.5283499218286, 16247.26257532315, 1024.5399779723305, 810.1184644978774, 1282.625782305822, 1119.266745004901, 2320.9166632601136, 3414.7154518776233, 1526.8803646563215, 3025.690719875265, 3750.724045416941, 4611.972753805122, 6747.717328927092, 7336.025667391276, 2583.254231774382, 2275.2169258603703, 2034.3574819559901, 1557.792175548641, 2437.3425952886955, 3862.631506945984, 3261.7699002176278, 1937.6545363968721, 4795.9897949484, 5003.664209215156, 2441.4740819324875, 5682.037603941988, 1716.7702249852564, 4207.470624355651, 3511.759381748312, 5184.979787599699, 4872.943905468095, 167.18273554702608, 198.7562440434676, 114.2449352354157, 81.10850389968883, 44.261652392410284, 82.92835630100532, 160.64356323900952, 59.59609687336913, 38.205968266924195, 36.005203180577766, 31.82713338936529, 52.71264428728284, 29.697620024716038, 27.705367566573372, 35.581772570081114, 24.138080311482145, 24.392100576611117, 31.043291063664956, 24.823446614032946, 30.736025788310982, 22.89176903002772, 23.009448530373064, 21.79725212283321, 21.732014847111074, 20.81232103394972, 23.354957182383824, 19.428262887443264, 29.39023385237732, 21.423823859458352, 28.261231076211164, 84.16361203591134, 346.45876044252225, 186.66098292052945, 127.38366583591232, 297.69740622075165, 54.852986812469, 409.37740039478945, 230.72783289110916, 153.63743850859913, 39.307438395104185, 55.848836720347364, 365.8725171997621, 8212.279177422313, 153.62121402092595, 1559.899546791411, 2011.2467774444085, 897.229216041765, 1920.8992322478764, 125.23983968138828, 214.6403235349222, 623.5314677488926, 365.38429358934155, 3609.090235835286, 250.93791111503646, 224.52396336000635, 189.9500481553057, 225.03282616787232, 2828.831770295347, 1324.3810743563906, 825.1448574975569, 670.985074659334, 3961.356139651169, 1482.2772899997906, 5184.979787599699, 4872.943905468095, 5003.664209215156, 16247.26257532315, 2774.3323262943995, 460.77518410938745, 1090.1220831613282, 2320.9166632601136, 4795.9897949484, 1277.6022477647684, 4207.470624355651, 3261.7699002176278, 6747.717328927092, 3176.4252957845792, 7336.025667391276, 4924.846743493184, 3750.724045416941, 3862.631506945984, 4841.692134062306, 5682.037603941988, 82.09563732067497, 64.39752931782641, 55.73120153863285, 55.65767478040906, 98.02405245524979, 81.28487790748626, 54.63708572410961, 45.668470778336584, 46.3074044728803, 42.15076561136958, 45.679323058181005, 42.34473182200404, 33.82937744629529, 37.865646854773985, 64.35865669927814, 30.487919183166483, 29.54076266173984, 31.697971782712393, 26.861788453272442, 25.697457129956064, 31.5268511114202, 31.436254141094018, 23.096480307959936, 28.57187975986611, 36.657961502881186, 21.399127141691434, 23.600378519632628, 21.578617905001533, 20.31494789473193, 20.971795840918798, 58.780872973218614, 54.172360922810554, 46.63752762712122, 34.22511288256474, 30.864417576029233, 1507.4299337083964, 182.8170071706829, 74.83026954152098, 190.53425607194484, 2177.0958184351653, 538.4815704274804, 408.02761998082207, 165.8125033829715, 81.49704925770438, 81.21811920515376, 859.5936194306386, 553.7667376005392, 3564.6608662191447, 1234.9093802831385, 276.2103610842362, 2433.733794517852, 5434.609115387185, 138.5772470486917, 371.9558379406887, 1152.0606179682163, 1506.8426317692636, 549.7500079098077, 2767.150217971993, 2218.326515584176, 935.1970638300942, 500.1511510204405, 1758.2529470067275, 1486.1103810295801, 2326.5056040673585, 4206.962046367198, 612.9406642047803, 631.910932362155, 4611.972753805122, 3770.221020021207, 5550.550700828904, 1801.8210619132017, 6747.717328927092, 16247.26257532315, 3115.6461392717156, 4630.99665320299, 5682.037603941988, 4795.9897949484, 4924.846743493184, 7336.025667391276, 3655.0709110217363, 3045.5005152975195, 8212.279177422313, 141.9369587786269, 109.06516518321993, 54.526933476147114, 83.07556584537512, 107.2835864337205, 39.74374132719687, 39.381245331621805, 53.545524599345114, 44.724580149216735, 33.593984326663524, 133.89166627728542, 31.538185008281545, 31.32802854452331, 53.3754028808809, 34.4206532527695, 888.8573928485135, 96.31325398829159, 225.72488477485888, 54.19789920955445, 26.99660101407326, 31.337860675191646, 26.129849342781778, 30.078004454160098, 24.449299542959626, 51.85349179175469, 24.999056243367196, 23.391703633578825, 75.36783630875831, 29.96506411113086, 30.686457978345455, 69.39124607423683, 617.4591173866274, 1732.3378294359002, 772.719813222868, 676.8506447458578, 414.8227972164737, 93.29793799637616, 3961.356139651169, 879.0257509982546, 113.62808634476974, 241.06855814483546, 222.0913074318692, 341.0520402622323, 170.60402011408254, 1020.2327082457954, 113.45337981066858, 561.8320026544528, 282.4429058226647, 190.33985883110103, 1296.0836030182602, 163.45247401193723, 1071.229687542441, 365.81551069710645, 602.5758483645839, 650.1966998502786, 511.86631213201014, 1934.493482220293, 3263.2190168236466, 615.4995993297832, 2078.2040944255905, 425.2164488624738, 1559.899546791411, 2320.9166632601136, 612.923660744923, 447.2292032144087, 2177.3868924255894, 7336.025667391276, 1205.571139676982, 1766.9404601162496, 2279.784719413147, 1004.941688097781, 4872.943905468095, 16247.26257532315, 5003.664209215156, 2176.7408730123216, 2828.831770295347, 3609.090235835286, 4924.846743493184, 89.0282370912624, 103.39517150873847, 54.3660424730288, 51.5247779735206, 51.985011055053576, 54.0580802300647, 47.43935894698478, 46.40480459796746, 62.58183016842776, 44.2770182792082, 78.59117514318568, 57.87494638808403, 47.85218753260216, 44.72202177228124, 69.5757166417781, 58.88528471515389, 66.38540979593547, 34.924474857165364, 40.19788878641205, 34.84253184926257, 36.61893707590252, 32.73556198943158, 27.572928281504847, 29.589076735204866, 29.165818153020815, 26.582005304882422, 100.40201291711972, 26.166428479005983, 27.624588241893054, 29.417388764457893, 57.30530635994404, 74.7511104030965, 71.94293806518054, 125.75244873745226, 49.88731148100154, 68.61964365952062, 69.78713730968673, 295.2079947299273, 113.62121351603311, 132.5526137782092, 173.52183229120345, 228.73638592043005, 335.1259618367179, 194.04599850806852, 1469.2818555487781, 542.6549423484281, 506.6341502022494, 423.6131948015594, 291.96202205404603, 939.7822291795637, 2920.3607651499933, 941.0729477199628, 931.1156900727159, 365.9394820532206, 783.2048319655652, 348.9565232057949, 2150.2355736526433, 769.7987818163502, 1258.5788717139649, 254.56582415046665, 218.45430625507515, 2370.8039383749924, 675.5321766202293, 2501.650817139063, 6660.784829762288, 2101.7139504542647, 602.6667347883073, 703.840455815606, 2626.034832464649, 575.3900601954158, 1822.3519285052982, 1122.2770852531542, 1743.1610440586269, 5184.979787599699, 16247.26257532315, 704.157849030884, 1482.2772899997906, 5003.664209215156, 7336.025667391276, 6747.717328927092, 2828.831770295347, 2767.150217971993, 2279.784719413147, 254.46220969794686, 183.84745271439746, 62.229991865907515, 508.11919435099173, 43.81458617669953, 45.23370764172781, 39.3980054570622, 40.838780098309925, 79.43515843004396, 82.43497671634518, 44.83069496163669, 33.28508447138395, 53.540090713556836, 32.25424046108291, 32.40786585824022, 32.33101396309671, 361.352639662653, 29.798882944719832, 125.47880252410776, 41.855022365393246, 28.385278420515718, 23.243515831085247, 46.09407919637506, 22.491971015930286, 21.64520835170041, 21.789190862318385, 64.72911951617864, 22.674675941099185, 19.396020364552392, 19.226435314439204, 51.11699117948295, 379.1752021538198, 401.5203166259046, 665.169545008981, 1042.571957871534, 590.5714587342666, 1449.639179554922, 113.39779428803202, 1097.3965886405, 104.17667410643857, 974.3336449818502, 894.834334816631, 341.69777956361855, 1393.2225680916843, 1112.3468561591058, 96.19699274198592, 485.8444419617234, 100.8464344898945, 4162.093110932608, 282.10189164452, 248.75294191934947, 4206.962046367198, 3152.3246803426746, 476.48361533866097, 3402.250970622958, 2136.3224623973356, 2501.650817139063, 615.4234017293421, 321.2363967351391, 2218.326515584176, 672.8742229783531, 4611.972753805122, 7336.025667391276, 1723.0913414088855, 6747.717328927092, 16247.26257532315, 5184.979787599699, 3115.6461392717156, 1716.7702249852564, 89.93511250465444, 64.82189477214848, 49.84260581285883, 73.65353786042003, 37.54964553510253, 39.70826396687045, 66.92774016597242, 33.50532929676446, 38.00365269615229, 37.57887725413874, 27.49136238124536, 83.51310258599914, 79.288315258345, 24.734707275950313, 29.6889797540252, 28.646634151061804, 43.064361763981196, 21.662301928454074, 115.1011791330691, 20.34370287880797, 23.19450017152205, 18.638434321185184, 22.11623862730042, 20.564080966201008, 18.30549394519414, 45.2996412097115, 17.684586627161355, 23.232414658068013, 35.90410842650418, 25.625742616697462, 82.88952580187309, 88.31237784340867, 57.87334214092573, 1449.341359953862, 337.4978024050448, 26.318027280692682, 56.34539655164145, 123.03183895016198, 286.38431548225975, 79.68491884773351, 400.82526201799266, 508.7820977592443, 510.1763152878772, 2731.146319706243, 187.29483206045154, 490.83085252778886, 2925.627898394899, 140.15911091485626, 5550.550700828904, 1626.750491782254, 295.00896966819954, 232.7124432087219, 963.5225111910877, 239.58067625506243, 490.7280149427487, 346.05929343746595, 2326.5056040673585, 1479.6573789671984, 1062.4515898807756, 3770.221020021207, 4475.516036408704, 1798.8871947234634, 596.3447909077165, 1667.527774278456, 3115.6461392717156, 4924.846743493184, 1138.0921753825658, 16247.26257532315, 5682.037603941988, 5434.609115387185, 1428.2143457647471, 3564.6608662191447, 6747.717328927092, 4841.692134062306, 2767.150217971993, 7336.025667391276, 183.32256980142463, 103.92476098285263, 90.84467220133959, 175.70953087564263, 71.66419454584427, 62.09092664355655, 73.21706653868021, 53.06021297558208, 48.074038297728045, 53.79917600745828, 44.20663791375266, 46.59865889579533, 64.99386286838437, 45.270289968660805, 57.54424929201227, 34.16445425038942, 36.2281775022649, 56.96287232208009, 92.66000540079153, 35.40022482213323, 41.126088013199436, 38.69538254979354, 28.831970616404995, 223.87095729848096, 27.717000762043263, 94.16306811298293, 44.755250904352025, 32.82248595966042, 24.912338003304068, 913.7158936339317, 555.6491558965262, 92.47488121756552, 244.1405538059508, 145.76717050755258, 848.6885059616118, 92.45114998666801, 1122.4412469620947, 392.7920519749506, 406.3898723947206, 194.2673971981287, 1400.2804104211384, 1316.1028591748627, 141.3273839115574, 295.7725927380066, 158.6021762737442, 171.0488967522382, 114.97780574469226, 209.06395438658706, 126.71365690461371, 311.72448202195085, 994.4206538753824, 243.31436679205694, 352.2253333548685, 1419.2692664781032, 2150.2355736526433, 905.2336849260691, 235.37609974460435, 1066.7301409965844, 2586.852147882172, 2626.034832464649, 779.9812424037971, 1934.8252174947527, 2452.3666865883897, 1122.2770852531542, 1822.3519285052982, 632.4585689357341, 613.070537483435, 783.2048319655652, 1773.8745145902687, 2101.7139504542647, 3152.7302540295573, 16247.26257532315, 5184.979787599699, 6747.717328927092, 5003.664209215156, 212.495190565342, 109.85270221787559, 61.49803947914461, 54.22187088072794, 94.57879023676637, 57.68979070103022, 44.52343077297846, 41.03209122500221, 33.617608850336836, 44.31306690916768, 32.60664845871229, 351.3412147373464, 29.019033511106606, 33.32799703887192, 47.25090331607038, 27.867223177888373, 26.79988513518119, 34.17802182346572, 52.86995024157537, 25.513741926838645, 26.56607101684151, 32.01115510989652, 36.57195975274085, 23.35309954214265, 49.61386830685298, 29.73378685247243, 32.45051465595405, 22.787932052312506, 20.661552016825958, 21.78549447736249, 169.42810998203203, 65.27426333950797, 92.46456159973316, 115.0951547840302, 395.12491764340007, 99.84803046039008, 80.19019843809572, 459.70611901036875, 41.48246412934424, 280.36088109422866, 121.17717646569189, 2176.7408730123216, 120.19058090579668, 811.7366659246936, 72.80202818602534, 1859.2849616889437, 400.0806503020815, 195.57270165855144, 143.17409110361675, 435.77134496675376, 292.37151782432704, 1156.2923487941998, 397.55250004521724, 985.3110030656172, 701.2052837796409, 1369.5010594345167, 796.9346199449183, 630.8915539985419, 1766.9404601162496, 320.42207999187565, 8212.279177422313, 4475.516036408704, 6660.784829762288, 2177.3868924255894, 1163.7637608262874, 1004.941688097781, 2370.8039383749924, 16247.26257532315, 441.839213415386, 991.6982384415223, 1277.6022477647684, 3263.2190168236466, 3862.631506945984, 7336.025667391276, 2920.3607651499933, 4872.943905468095, 3655.0709110217363, 5682.037603941988, 338.16767704247957, 85.55256135996551, 69.87217818256185, 72.12227320291478, 67.0961391450613, 65.30412316342021, 63.3267983610418, 54.65931985405497, 45.92650161411227, 41.3562826039785, 32.56242311340876, 78.32985333157917, 194.1466981696923, 61.40867047615014, 32.34085453218311, 63.92586493017641, 27.36239912424455, 29.88468962449752, 82.35503045255663, 67.75139652085176, 33.6716996924712, 41.38047302835381, 24.84092751856759, 24.663342243883896, 37.95849530955567, 158.3073458517106, 48.11882287689807, 54.00252500684995, 26.363605220851156, 25.708814181735743, 359.27553443918305, 52.03847644973149, 147.017283506481, 93.37416217569495, 406.11403713770625, 1904.852201605228, 155.14594490073037, 149.8270064087181, 86.33029887939156, 129.76698303879326, 64.72052891905086, 6660.784829762288, 269.4799663432404, 604.3016914722147, 274.5185932919469, 4630.99665320299, 155.93153148771734, 414.8161295360488, 207.29377737214432, 562.3452542250881, 1393.3278103345133, 330.39257096784524, 1773.8745145902687, 1066.7301409965844, 2925.627898394899, 1626.750491782254, 2626.034832464649, 941.0729477199628, 3402.250970622958, 708.8824599191613, 486.0024865590724, 4475.516036408704, 4924.846743493184, 2184.5317437658573, 1934.8252174947527, 2452.3666865883897, 796.9346199449183, 1586.1309999578068, 1469.2818555487781, 3770.221020021207, 2731.146319706243, 982.7674714359762, 1062.4515898807756, 1520.4062024447728, 99.51191997623584, 93.87720353177586, 125.7436172103408, 68.78999008124151, 508.8932928165901, 50.73174558302718, 60.49889548594566, 49.7767653415749, 48.619994821001484, 40.81154289211431, 54.29655004415167, 37.484369981883084, 34.1423878799037, 41.49228882014289, 64.02333629742006, 32.7496310546535, 30.953049306841905, 30.965124331632538, 36.53556021222223, 30.093397015735327, 28.379274573865036, 34.69227148438078, 25.975415531245524, 24.83860552351757, 28.583296382260457, 23.38653107441115, 62.654870312822545, 89.08704322488389, 20.02801412908492, 19.768397924790797, 175.7305560094467, 48.28261239006142, 200.67280050942756, 181.34228907646633, 113.97975004766296, 2424.75184243969, 45.614081945160905, 150.2198268449422, 313.78137263963475, 88.64519452203282, 2586.852147882172, 89.18830728541364, 200.47335765257336, 527.8688275625262, 62.31213905822496, 995.4427425619734, 374.6278134897132, 73.54290455982316, 319.2455866677163, 322.088920789971, 615.9262624816972, 1034.421510160237, 292.1604409506153, 273.36991074934116, 776.1889631853684, 5550.550700828904, 3152.3246803426746, 961.1577979175694, 206.5406981649989, 1506.8426317692636, 475.2658793200516, 1201.2826676597545, 5434.609115387185, 4162.093110932608, 2078.2040944255905, 3402.250970622958, 2433.733794517852, 931.1156900727159, 1586.1309999578068, 1716.7702249852564, 3770.221020021207, 16247.26257532315, 7336.025667391276, 6747.717328927092, 3176.4252957845792, 876.3319139532492, 5184.979787599699, 3045.5005152975195, 4611.972753805122, 2101.7139504542647, 73.29529186672909, 57.79003147638608, 66.71399110936598, 67.06572968787668, 40.37661437059798, 43.094747780496114, 82.70856575847463, 54.68415085225215, 35.63760583293845, 36.81579902117577, 34.24771147217883, 33.28871199604775, 36.32730234493543, 49.038462184717744, 28.86527023345831, 30.368661620790693, 25.298792125208557, 36.889458703937315, 24.73841340540048, 43.749108598425295, 43.20753239478053, 21.545596124652043, 42.53361935282277, 25.193683105383702, 26.949671226976466, 30.081158974256414, 60.3622340278195, 68.01780447453052, 23.473388621945222, 27.23323500876413, 49.13344438021375, 102.72251311514164, 155.83294481085113, 89.08243116641682, 80.67136704846413, 164.39065216848937, 1122.6814892974173, 130.57896137666725, 373.14692532900295, 125.03789407053323, 532.5234581726232, 318.2326399621718, 336.91643670159203, 107.74730965589042, 102.34026720855779, 48.15339436406575, 316.09453365142997, 135.66004800668944, 76.34942443289603, 162.59183428396204, 105.50138309071409, 399.255652071884, 559.2338236962281, 208.42561556819152, 359.8665687307887, 208.70148058179083, 942.5283499218286, 154.22485440702914, 16247.26257532315, 3025.690719875265, 1019.0282430325701, 990.2994406676715, 304.09314810486563, 3750.724045416941, 1175.0368396154108, 2370.8039383749924, 4795.9897949484, 7336.025667391276, 4475.516036408704, 3414.7154518776233, 6747.717328927092, 3862.631506945984, 1798.8871947234634, 4924.846743493184, 4841.692134062306, 3655.0709110217363, 4207.470624355651, 2437.3425952886955, 2583.254231774382, 86.72120562894273, 76.16520443708737, 74.24503903309252, 70.51185740093862, 85.61900002123843, 69.82973649349903, 56.17515342734515, 46.34877205703701, 90.27283577608576, 55.39353003214428, 39.491266477555016, 38.008222043636046, 37.23048797230267, 37.820951843575315, 29.915421947091264, 28.76212240284805, 42.246090799147616, 127.60186733608255, 25.955780760730264, 26.05191792191794, 28.443869982210686, 25.58371817612398, 32.16031096021482, 174.28411365134278, 25.340286325349922, 24.422825075443, 25.024279887256398, 22.392357270042556, 22.92747731075627, 19.20467717016336, 210.9885687254207, 72.77703772918376, 116.30925080837545, 73.63114897028294, 3188.033800503838, 347.3694163350843, 134.19395254939386, 174.43854479413505, 567.7969937547836, 278.4416862832548, 66.93034911985976, 865.0622521634422, 130.72791508628828, 451.2546082380695, 811.7366659246936, 517.627630519025, 547.1510953070468, 351.47918856325254, 4475.516036408704, 120.47748568445354, 1445.3042434584947, 628.3563806950829, 547.2118933210056, 1156.2923487941998, 3209.744015884866, 1032.8599132528336, 3511.759381748312, 3025.690719875265, 1369.5010594345167, 4872.943905468095, 1196.301881022789, 2774.3323262943995, 863.8589482305454, 1606.0055060654593, 3414.7154518776233, 5682.037603941988, 16247.26257532315, 4795.9897949484, 5434.609115387185, 4611.972753805122, 96.02097607248109, 79.18147291272271, 39.91687011401652, 40.962054260408884, 37.3837271724041, 34.99342801288232, 36.44422047210791, 31.621196652524105, 32.95659045980836, 29.234917097276952, 26.4876918062268, 26.37336287627073, 51.98851620944243, 23.046458928226254, 25.93517083441568, 22.722886224839947, 56.03875872910338, 31.98783953951458, 20.462105149358887, 26.828775239966923, 19.87775347165084, 20.74956539575785, 24.957593513629824, 69.79042352341934, 32.98935612397306, 20.051447398493632, 21.779810021878504, 21.705506847901486, 19.663676733114258, 25.81466339697782, 52.15061528716254, 33.54504217193157, 30.792533273483993, 53.105327336515316, 127.86782965412333, 43.29529273539581, 448.2283497516096, 142.58193165251927, 61.16838564011627, 177.18644127544826, 126.6587779080913, 176.23619364567597, 84.43307307427963, 299.6935603938491, 100.76911269178913, 79.79951490705469, 183.34956975416245, 522.1355388432868, 65.85251060005714, 63.25473246023054, 742.2254761178923, 192.4404706881419, 2774.3323262943995, 94.8304597676506, 876.3319139532492, 630.8915539985419, 498.7065394829265, 464.9317104119832, 534.9323661045844, 2144.7277486982157, 4630.99665320299, 355.6633788482129, 347.2037005392461, 1584.1764264423623, 16247.26257532315, 1146.4576545581772, 2583.254231774382, 3511.759381748312, 5682.037603941988, 4795.9897949484, 1230.48145428899, 988.5919315465029, 4207.470624355651, 3263.2190168236466, 5003.664209215156, 6747.717328927092, 2034.3574819559901, 5434.609115387185, 4841.692134062306, 3152.7302540295573, 8212.279177422313, 3862.631506945984, 75.6391887643423, 79.22837188363845, 55.8433442155338, 119.27047957573642, 31.01224194645164, 137.15695658454777, 31.08056848584279, 76.16351784115618, 28.799958661509212, 119.51665095250833, 65.91588251402301, 32.22134267931548, 46.2003160178976, 61.52264941119041, 23.46235628930591, 20.98188786485978, 40.993128519703234, 18.825160361275543, 18.1865355148811, 34.76429764948227, 31.403715707441066, 101.4348576474836, 182.21007776880455, 24.93249647372606, 15.096491775247273, 41.825055678345095, 21.395290685973094, 14.20444702440257, 44.400004839824376, 14.955043246113034, 63.29934474674424, 41.584678602531454, 102.56383549162992, 52.91603492908589, 988.5919315465029, 203.35100812863524, 160.12349403536106, 229.66784981847042, 135.52850176439603, 118.47041528038393, 552.8180759973778, 1274.355214111303, 2136.3224623973356, 3209.744015884866, 1783.136127388638, 314.8203862398786, 981.9334137070426, 144.89039100417705, 246.42192007215158, 288.3121170580721, 661.5652698046792, 1288.9966940144834, 529.2385961576272, 220.2233800723663, 245.27670053161032, 970.110324780767, 596.3447909077165, 2731.146319706243, 1393.3278103345133, 850.7704514000095, 3402.250970622958, 3115.6461392717156, 16247.26257532315, 1419.2692664781032, 3511.759381748312, 6747.717328927092, 3655.0709110217363, 2452.3666865883897, 4207.470624355651, 1393.2225680916843, 4162.093110932608, 3152.7302540295573, 4206.962046367198, 131.7297111676183, 96.41867873882585, 47.3431968953722, 39.818712516745094, 77.6594423586812, 45.224707199906085, 43.0324676014782, 34.908067197344714, 31.54820054300902, 32.6981864854375, 34.08737601788992, 50.656589414245786, 29.069691094384932, 32.01882637969551, 40.362684921275964, 126.87012073779724, 24.4925328124925, 27.66767914633609, 24.08928377862559, 391.82124588247996, 21.530403312563465, 39.763484640750015, 20.734551162057365, 25.974941508262596, 19.020868578411793, 19.587050144216438, 18.844973084886945, 16.89510845067854, 16.687269258914522, 17.216394596314828, 76.56411428936865, 25.51561501074222, 34.768148394442136, 42.64134166703004, 131.24471611142965, 801.3927795230796, 95.96649117648053, 49.660196956882814, 1013.8702870726271, 402.45932309491644, 55.71054632595541, 747.4598951868194, 112.16687112838568, 1032.7695555457897, 239.06495942766483, 1408.6759566411677, 429.6890796012357, 327.23346369555844, 81.76051640956021, 1205.571139676982, 632.6764038617923, 178.89401504001455, 1520.4062024447728, 3414.7154518776233, 98.82820089000765, 743.5187066828801, 1296.0836030182602, 1934.493482220293, 290.18626912877795, 401.81105186451833, 148.95903879710573, 651.4061585711377, 2920.3607651499933, 612.923660744923, 3263.2190168236466, 16247.26257532315, 8212.279177422313, 1758.2529470067275, 2774.3323262943995, 1277.6022477647684, 7336.025667391276, 3609.090235835286, 3862.631506945984, 4872.943905468095, 3655.0709110217363, 61.864393304470205, 60.44270371408244, 55.0876602950839, 51.13514112286328, 40.61921586410224, 57.03955158614235, 106.15724720866882, 65.73856685404813, 38.981094494434444, 63.74589396724971, 32.31072978317782, 23.89417159320085, 66.41885117202133, 22.815760625905142, 21.62801035894153, 21.664433835862994, 22.246685548238066, 51.74975735371941, 20.15083401163565, 19.71282118314511, 131.85680056280123, 17.977952428664498, 22.71938011882142, 17.728190800000625, 23.253592292712597, 16.553587450925175, 43.24275049332386, 16.09381338689023, 57.93395533370873, 31.717446267438316, 361.8341450123722, 201.03139021894467, 44.36496064216273, 606.066004769492, 472.08360865043903, 190.91357783414404, 48.905596518333624, 277.22810728333246, 224.11682837649923, 367.5066935231701, 45.57290226791818, 63.8250008655734, 91.26913221838963, 61.60848134180495, 230.33105538199953, 213.79242712609323, 1328.1080495907363, 110.77575011492625, 354.0581793341277, 288.394616495786, 410.41412138200394, 261.1162688165865, 727.1722775338405, 756.1730533804398, 1063.6100208856897, 153.136506954856, 94.16497852363538, 5434.609115387185, 3115.6461392717156, 666.0031515708118, 4162.093110932608, 4924.846743493184, 296.9389314534013, 2433.733794517852, 3770.221020021207, 3209.744015884866, 16247.26257532315, 4630.99665320299, 7336.025667391276, 4206.962046367198, 6747.717328927092, 4795.9897949484, 151.9078602732639, 117.27263233725724, 163.71246750971883, 86.96784551374486, 71.10952459942195, 58.021444049138225, 159.31161818003648, 49.5534986230684, 46.438366952619326, 81.26057470598033, 49.09740435365569, 41.45542006639362, 107.37041443021138, 119.38595110825976, 36.90076542613717, 41.19521885692235, 26.47556678886703, 55.061907938212414, 53.84199852802333, 31.020605378048113, 25.567464687863694, 35.78826279154018, 24.0885054777683, 25.08016705570515, 88.03662752358557, 24.403261985742787, 49.77447204890569, 30.9528966404482, 28.150018468188403, 39.61662449271959, 191.4035015444177, 54.10044558388307, 261.80045344180377, 69.76963088288807, 75.96471324144164, 85.05433747038916, 32.747279561161236, 177.7237654061492, 43.24044276953086, 181.13377934648875, 75.0591020789297, 2610.010486285516, 144.82729374088817, 113.22412947321963, 86.55078740701508, 81.634183823622, 565.1377657731953, 863.8589482305454, 220.127094595591, 161.91882058932518, 16247.26257532315, 556.5695958436407, 3152.7302540295573, 3414.7154518776233, 1520.4062024447728, 3188.033800503838, 4611.972753805122, 7336.025667391276, 940.3536395766175, 5184.979787599699, 1743.1610440586269, 6747.717328927092, 4872.943905468095, 2626.034832464649, 2828.831770295347, 3176.4252957845792, 4924.846743493184, 147.19184358470196, 78.01402632396062, 74.02914853937612, 79.50193756970079, 49.66741543139802, 45.05812689476702, 240.9524552827088, 37.07279327900579, 35.25859691585501, 28.411167324521365, 31.36099811788724, 35.07401637526557, 27.51277172945145, 24.63736289985216, 38.39535749971277, 28.889939811720446, 30.95016751995969, 67.9009732884511, 32.249366527168704, 25.843071106234632, 19.554892989962024, 25.284840413422362, 18.98802330768829, 19.671344805428333, 46.98078212188401, 18.56344300001709, 29.422758656557043, 19.34906457584693, 18.48162396403955, 33.11267909326975, 60.85100723088533, 29.51776252958025, 112.54586862566646, 57.1682056255253, 54.978864553538266, 32.93652421737589, 206.36609216772624, 92.88549115490719, 62.130616964078285, 389.50746083563484, 83.59371487083928, 104.14768676821097, 95.13044233839474, 213.087947642324, 242.19468217500656, 353.7428532311152, 95.59198807342267, 141.0704371206394, 81.88006275526917, 99.38016826643695, 250.95690452485064, 135.13377095140837, 860.2446871702914, 547.2118933210056, 628.7383094177541, 343.82081327609586, 518.4576217519439, 112.05095284763517, 513.4544844569195, 16247.26257532315, 939.7822291795637, 5682.037603941988, 661.5652698046792, 3209.744015884866, 4207.470624355651, 3152.3246803426746, 6747.717328927092, 3176.4252957845792, 4924.846743493184, 273.7949539106526, 3511.759381748312, 3115.6461392717156], \"Category\": [\"Default\", \"Default\", \"Default\", \"Default\", \"Default\", \"Default\", \"Default\", \"Default\", \"Default\", \"Default\", \"Default\", \"Default\", \"Default\", \"Default\", \"Default\", \"Default\", \"Default\", \"Default\", \"Default\", \"Default\", \"Default\", \"Default\", \"Default\", \"Default\", \"Default\", \"Default\", \"Default\", \"Default\", \"Default\", \"Default\", \"Topic1\", \"Topic1\", \"Topic1\", \"Topic1\", \"Topic1\", \"Topic1\", \"Topic1\", \"Topic1\", \"Topic1\", \"Topic1\", \"Topic1\", \"Topic1\", \"Topic1\", \"Topic1\", \"Topic1\", \"Topic1\", \"Topic1\", \"Topic1\", \"Topic1\", \"Topic1\", \"Topic1\", \"Topic1\", \"Topic1\", \"Topic1\", \"Topic1\", \"Topic1\", \"Topic1\", \"Topic1\", \"Topic1\", \"Topic1\", \"Topic1\", \"Topic1\", \"Topic1\", \"Topic1\", \"Topic1\", \"Topic1\", \"Topic1\", \"Topic1\", \"Topic1\", \"Topic1\", \"Topic1\", \"Topic1\", \"Topic1\", \"Topic1\", \"Topic1\", \"Topic1\", \"Topic1\", \"Topic1\", \"Topic1\", \"Topic1\", \"Topic1\", \"Topic1\", \"Topic1\", \"Topic1\", \"Topic1\", \"Topic1\", \"Topic1\", \"Topic1\", \"Topic1\", \"Topic1\", \"Topic1\", \"Topic1\", \"Topic1\", \"Topic1\", \"Topic1\", \"Topic1\", \"Topic1\", \"Topic1\", \"Topic1\", \"Topic1\", \"Topic1\", \"Topic1\", \"Topic1\", \"Topic1\", \"Topic1\", \"Topic1\", \"Topic1\", \"Topic1\", \"Topic1\", \"Topic1\", \"Topic1\", \"Topic1\", \"Topic1\", \"Topic1\", \"Topic1\", \"Topic1\", \"Topic1\", \"Topic1\", \"Topic1\", \"Topic1\", \"Topic1\", \"Topic1\", \"Topic1\", \"Topic2\", \"Topic2\", \"Topic2\", \"Topic2\", \"Topic2\", \"Topic2\", \"Topic2\", \"Topic2\", \"Topic2\", \"Topic2\", \"Topic2\", \"Topic2\", \"Topic2\", \"Topic2\", \"Topic2\", \"Topic2\", \"Topic2\", \"Topic2\", \"Topic2\", \"Topic2\", \"Topic2\", \"Topic2\", \"Topic2\", \"Topic2\", \"Topic2\", \"Topic2\", \"Topic2\", \"Topic2\", \"Topic2\", \"Topic2\", \"Topic2\", \"Topic2\", \"Topic2\", \"Topic2\", \"Topic2\", \"Topic2\", \"Topic2\", \"Topic2\", \"Topic2\", \"Topic2\", \"Topic2\", \"Topic2\", \"Topic2\", \"Topic2\", \"Topic2\", \"Topic2\", \"Topic2\", \"Topic2\", \"Topic2\", \"Topic2\", \"Topic2\", \"Topic2\", \"Topic2\", \"Topic2\", \"Topic2\", \"Topic2\", \"Topic2\", \"Topic2\", \"Topic2\", \"Topic2\", \"Topic2\", \"Topic2\", \"Topic2\", \"Topic2\", \"Topic2\", \"Topic2\", \"Topic2\", \"Topic2\", \"Topic2\", \"Topic2\", \"Topic2\", \"Topic2\", \"Topic2\", \"Topic2\", \"Topic2\", \"Topic2\", \"Topic2\", \"Topic2\", \"Topic2\", \"Topic2\", \"Topic2\", \"Topic2\", \"Topic2\", \"Topic2\", \"Topic2\", \"Topic2\", \"Topic2\", \"Topic2\", \"Topic2\", \"Topic2\", \"Topic2\", \"Topic3\", \"Topic3\", \"Topic3\", \"Topic3\", \"Topic3\", \"Topic3\", \"Topic3\", \"Topic3\", \"Topic3\", \"Topic3\", \"Topic3\", \"Topic3\", \"Topic3\", \"Topic3\", \"Topic3\", \"Topic3\", \"Topic3\", \"Topic3\", \"Topic3\", \"Topic3\", \"Topic3\", \"Topic3\", \"Topic3\", \"Topic3\", \"Topic3\", \"Topic3\", \"Topic3\", \"Topic3\", \"Topic3\", \"Topic3\", \"Topic3\", \"Topic3\", \"Topic3\", \"Topic3\", \"Topic3\", \"Topic3\", \"Topic3\", \"Topic3\", \"Topic3\", \"Topic3\", \"Topic3\", \"Topic3\", \"Topic3\", \"Topic3\", \"Topic3\", \"Topic3\", \"Topic3\", \"Topic3\", \"Topic3\", \"Topic3\", \"Topic3\", \"Topic3\", \"Topic3\", \"Topic3\", \"Topic3\", \"Topic3\", \"Topic3\", \"Topic3\", \"Topic3\", \"Topic3\", \"Topic3\", \"Topic3\", \"Topic3\", \"Topic3\", \"Topic3\", \"Topic3\", \"Topic3\", \"Topic3\", \"Topic3\", \"Topic3\", \"Topic3\", \"Topic3\", \"Topic3\", \"Topic3\", \"Topic3\", \"Topic3\", \"Topic3\", \"Topic3\", \"Topic3\", \"Topic3\", \"Topic3\", \"Topic3\", \"Topic3\", \"Topic4\", \"Topic4\", \"Topic4\", \"Topic4\", \"Topic4\", \"Topic4\", \"Topic4\", \"Topic4\", \"Topic4\", \"Topic4\", \"Topic4\", \"Topic4\", \"Topic4\", \"Topic4\", \"Topic4\", \"Topic4\", \"Topic4\", \"Topic4\", \"Topic4\", \"Topic4\", \"Topic4\", \"Topic4\", \"Topic4\", \"Topic4\", \"Topic4\", \"Topic4\", \"Topic4\", \"Topic4\", \"Topic4\", \"Topic4\", \"Topic4\", \"Topic4\", \"Topic4\", \"Topic4\", \"Topic4\", \"Topic4\", \"Topic4\", \"Topic4\", \"Topic4\", \"Topic4\", \"Topic4\", \"Topic4\", \"Topic4\", \"Topic4\", \"Topic4\", \"Topic4\", \"Topic4\", \"Topic4\", \"Topic4\", \"Topic4\", \"Topic4\", \"Topic4\", \"Topic4\", \"Topic4\", \"Topic4\", \"Topic4\", \"Topic4\", \"Topic4\", \"Topic4\", \"Topic4\", \"Topic4\", \"Topic4\", \"Topic4\", \"Topic4\", \"Topic4\", \"Topic4\", \"Topic4\", \"Topic4\", \"Topic4\", \"Topic4\", \"Topic4\", \"Topic4\", \"Topic4\", \"Topic4\", \"Topic4\", \"Topic4\", \"Topic4\", \"Topic4\", \"Topic4\", \"Topic4\", \"Topic4\", \"Topic4\", \"Topic5\", \"Topic5\", \"Topic5\", \"Topic5\", \"Topic5\", \"Topic5\", \"Topic5\", \"Topic5\", \"Topic5\", \"Topic5\", \"Topic5\", \"Topic5\", \"Topic5\", \"Topic5\", \"Topic5\", \"Topic5\", \"Topic5\", \"Topic5\", \"Topic5\", \"Topic5\", \"Topic5\", \"Topic5\", \"Topic5\", \"Topic5\", \"Topic5\", \"Topic5\", \"Topic5\", \"Topic5\", \"Topic5\", \"Topic5\", \"Topic5\", \"Topic5\", \"Topic5\", \"Topic5\", \"Topic5\", \"Topic5\", \"Topic5\", \"Topic5\", \"Topic5\", \"Topic5\", \"Topic5\", \"Topic5\", \"Topic5\", \"Topic5\", \"Topic5\", \"Topic5\", \"Topic5\", \"Topic5\", \"Topic5\", \"Topic5\", \"Topic5\", \"Topic5\", \"Topic5\", \"Topic5\", \"Topic5\", \"Topic5\", \"Topic5\", \"Topic5\", \"Topic5\", \"Topic5\", \"Topic5\", \"Topic5\", \"Topic5\", \"Topic5\", \"Topic5\", \"Topic5\", \"Topic5\", \"Topic5\", \"Topic5\", \"Topic5\", \"Topic5\", \"Topic5\", \"Topic5\", \"Topic5\", \"Topic5\", \"Topic5\", \"Topic5\", \"Topic5\", \"Topic6\", \"Topic6\", \"Topic6\", \"Topic6\", \"Topic6\", \"Topic6\", \"Topic6\", \"Topic6\", \"Topic6\", \"Topic6\", \"Topic6\", \"Topic6\", \"Topic6\", \"Topic6\", \"Topic6\", \"Topic6\", \"Topic6\", \"Topic6\", \"Topic6\", \"Topic6\", \"Topic6\", \"Topic6\", \"Topic6\", \"Topic6\", \"Topic6\", \"Topic6\", \"Topic6\", \"Topic6\", \"Topic6\", \"Topic6\", \"Topic6\", \"Topic6\", \"Topic6\", \"Topic6\", \"Topic6\", \"Topic6\", \"Topic6\", \"Topic6\", \"Topic6\", \"Topic6\", \"Topic6\", \"Topic6\", \"Topic6\", \"Topic6\", \"Topic6\", \"Topic6\", \"Topic6\", \"Topic6\", \"Topic6\", \"Topic6\", \"Topic6\", \"Topic6\", \"Topic6\", \"Topic6\", \"Topic6\", \"Topic6\", \"Topic6\", \"Topic6\", \"Topic6\", \"Topic6\", \"Topic6\", \"Topic6\", \"Topic6\", \"Topic6\", \"Topic6\", \"Topic6\", \"Topic6\", \"Topic6\", \"Topic6\", \"Topic6\", \"Topic6\", \"Topic6\", \"Topic6\", \"Topic6\", \"Topic6\", \"Topic6\", \"Topic6\", \"Topic6\", \"Topic6\", \"Topic6\", \"Topic6\", \"Topic6\", \"Topic6\", \"Topic7\", \"Topic7\", \"Topic7\", \"Topic7\", \"Topic7\", \"Topic7\", \"Topic7\", \"Topic7\", \"Topic7\", \"Topic7\", \"Topic7\", \"Topic7\", \"Topic7\", \"Topic7\", \"Topic7\", \"Topic7\", \"Topic7\", \"Topic7\", \"Topic7\", \"Topic7\", \"Topic7\", \"Topic7\", \"Topic7\", \"Topic7\", \"Topic7\", \"Topic7\", \"Topic7\", \"Topic7\", \"Topic7\", \"Topic7\", \"Topic7\", \"Topic7\", \"Topic7\", \"Topic7\", \"Topic7\", \"Topic7\", \"Topic7\", \"Topic7\", \"Topic7\", \"Topic7\", \"Topic7\", \"Topic7\", \"Topic7\", \"Topic7\", \"Topic7\", \"Topic7\", \"Topic7\", \"Topic7\", \"Topic7\", \"Topic7\", \"Topic7\", \"Topic7\", \"Topic7\", \"Topic7\", \"Topic7\", \"Topic7\", \"Topic7\", \"Topic7\", \"Topic7\", \"Topic7\", \"Topic7\", \"Topic7\", \"Topic7\", \"Topic7\", \"Topic7\", \"Topic7\", \"Topic7\", \"Topic7\", \"Topic7\", \"Topic8\", \"Topic8\", \"Topic8\", \"Topic8\", \"Topic8\", \"Topic8\", \"Topic8\", \"Topic8\", \"Topic8\", \"Topic8\", \"Topic8\", \"Topic8\", \"Topic8\", \"Topic8\", \"Topic8\", \"Topic8\", \"Topic8\", \"Topic8\", \"Topic8\", \"Topic8\", \"Topic8\", \"Topic8\", \"Topic8\", \"Topic8\", \"Topic8\", \"Topic8\", \"Topic8\", \"Topic8\", \"Topic8\", \"Topic8\", \"Topic8\", \"Topic8\", \"Topic8\", \"Topic8\", \"Topic8\", \"Topic8\", \"Topic8\", \"Topic8\", \"Topic8\", \"Topic8\", \"Topic8\", \"Topic8\", \"Topic8\", \"Topic8\", \"Topic8\", \"Topic8\", \"Topic8\", \"Topic8\", \"Topic8\", \"Topic8\", \"Topic8\", \"Topic8\", \"Topic8\", \"Topic8\", \"Topic8\", \"Topic8\", \"Topic8\", \"Topic8\", \"Topic8\", \"Topic8\", \"Topic8\", \"Topic8\", \"Topic8\", \"Topic8\", \"Topic8\", \"Topic8\", \"Topic8\", \"Topic8\", \"Topic8\", \"Topic8\", \"Topic8\", \"Topic8\", \"Topic8\", \"Topic8\", \"Topic8\", \"Topic8\", \"Topic9\", \"Topic9\", \"Topic9\", \"Topic9\", \"Topic9\", \"Topic9\", \"Topic9\", \"Topic9\", \"Topic9\", \"Topic9\", \"Topic9\", \"Topic9\", \"Topic9\", \"Topic9\", \"Topic9\", \"Topic9\", \"Topic9\", \"Topic9\", \"Topic9\", \"Topic9\", \"Topic9\", \"Topic9\", \"Topic9\", \"Topic9\", \"Topic9\", \"Topic9\", \"Topic9\", \"Topic9\", \"Topic9\", \"Topic9\", \"Topic9\", \"Topic9\", \"Topic9\", \"Topic9\", \"Topic9\", \"Topic9\", \"Topic9\", \"Topic9\", \"Topic9\", \"Topic9\", \"Topic9\", \"Topic9\", \"Topic9\", \"Topic9\", \"Topic9\", \"Topic9\", \"Topic9\", \"Topic9\", \"Topic9\", \"Topic9\", \"Topic9\", \"Topic9\", \"Topic9\", \"Topic9\", \"Topic9\", \"Topic9\", \"Topic9\", \"Topic9\", \"Topic9\", \"Topic9\", \"Topic9\", \"Topic9\", \"Topic9\", \"Topic9\", \"Topic9\", \"Topic9\", \"Topic9\", \"Topic9\", \"Topic9\", \"Topic9\", \"Topic9\", \"Topic9\", \"Topic9\", \"Topic9\", \"Topic9\", \"Topic10\", \"Topic10\", \"Topic10\", \"Topic10\", \"Topic10\", \"Topic10\", \"Topic10\", \"Topic10\", \"Topic10\", \"Topic10\", \"Topic10\", \"Topic10\", \"Topic10\", \"Topic10\", \"Topic10\", \"Topic10\", \"Topic10\", \"Topic10\", \"Topic10\", \"Topic10\", \"Topic10\", \"Topic10\", \"Topic10\", \"Topic10\", \"Topic10\", \"Topic10\", \"Topic10\", \"Topic10\", \"Topic10\", \"Topic10\", \"Topic10\", \"Topic10\", \"Topic10\", \"Topic10\", \"Topic10\", \"Topic10\", \"Topic10\", \"Topic10\", \"Topic10\", \"Topic10\", \"Topic10\", \"Topic10\", \"Topic10\", \"Topic10\", \"Topic10\", \"Topic10\", \"Topic10\", \"Topic10\", \"Topic10\", \"Topic10\", \"Topic10\", \"Topic10\", \"Topic10\", \"Topic10\", \"Topic10\", \"Topic10\", \"Topic10\", \"Topic10\", \"Topic10\", \"Topic10\", \"Topic10\", \"Topic10\", \"Topic10\", \"Topic10\", \"Topic10\", \"Topic10\", \"Topic10\", \"Topic10\", \"Topic10\", \"Topic10\", \"Topic10\", \"Topic10\", \"Topic10\", \"Topic10\", \"Topic10\", \"Topic10\", \"Topic10\", \"Topic10\", \"Topic11\", \"Topic11\", \"Topic11\", \"Topic11\", \"Topic11\", \"Topic11\", \"Topic11\", \"Topic11\", \"Topic11\", \"Topic11\", \"Topic11\", \"Topic11\", \"Topic11\", \"Topic11\", \"Topic11\", \"Topic11\", \"Topic11\", \"Topic11\", \"Topic11\", \"Topic11\", \"Topic11\", \"Topic11\", \"Topic11\", \"Topic11\", \"Topic11\", \"Topic11\", \"Topic11\", \"Topic11\", \"Topic11\", \"Topic11\", \"Topic11\", \"Topic11\", \"Topic11\", \"Topic11\", \"Topic11\", \"Topic11\", \"Topic11\", \"Topic11\", \"Topic11\", \"Topic11\", \"Topic11\", \"Topic11\", \"Topic11\", \"Topic11\", \"Topic11\", \"Topic11\", \"Topic11\", \"Topic11\", \"Topic11\", \"Topic11\", \"Topic11\", \"Topic11\", \"Topic11\", \"Topic11\", \"Topic11\", \"Topic11\", \"Topic11\", \"Topic11\", \"Topic11\", \"Topic11\", \"Topic11\", \"Topic11\", \"Topic11\", \"Topic11\", \"Topic11\", \"Topic11\", \"Topic11\", \"Topic11\", \"Topic11\", \"Topic11\", \"Topic11\", \"Topic11\", \"Topic11\", \"Topic11\", \"Topic12\", \"Topic12\", \"Topic12\", \"Topic12\", \"Topic12\", \"Topic12\", \"Topic12\", \"Topic12\", \"Topic12\", \"Topic12\", \"Topic12\", \"Topic12\", \"Topic12\", \"Topic12\", \"Topic12\", \"Topic12\", \"Topic12\", \"Topic12\", \"Topic12\", \"Topic12\", \"Topic12\", \"Topic12\", \"Topic12\", \"Topic12\", \"Topic12\", \"Topic12\", \"Topic12\", \"Topic12\", \"Topic12\", \"Topic12\", \"Topic12\", \"Topic12\", \"Topic12\", \"Topic12\", \"Topic12\", \"Topic12\", \"Topic12\", \"Topic12\", \"Topic12\", \"Topic12\", \"Topic12\", \"Topic12\", \"Topic12\", \"Topic12\", \"Topic12\", \"Topic12\", \"Topic12\", \"Topic12\", \"Topic12\", \"Topic12\", \"Topic12\", \"Topic12\", \"Topic12\", \"Topic12\", \"Topic12\", \"Topic12\", \"Topic12\", \"Topic12\", \"Topic12\", \"Topic12\", \"Topic12\", \"Topic12\", \"Topic12\", \"Topic12\", \"Topic12\", \"Topic12\", \"Topic12\", \"Topic12\", \"Topic12\", \"Topic12\", \"Topic12\", \"Topic12\", \"Topic12\", \"Topic12\", \"Topic12\", \"Topic12\", \"Topic12\", \"Topic12\", \"Topic12\", \"Topic12\", \"Topic13\", \"Topic13\", \"Topic13\", \"Topic13\", \"Topic13\", \"Topic13\", \"Topic13\", \"Topic13\", \"Topic13\", \"Topic13\", \"Topic13\", \"Topic13\", \"Topic13\", \"Topic13\", \"Topic13\", \"Topic13\", \"Topic13\", \"Topic13\", \"Topic13\", \"Topic13\", \"Topic13\", \"Topic13\", \"Topic13\", \"Topic13\", \"Topic13\", \"Topic13\", \"Topic13\", \"Topic13\", \"Topic13\", \"Topic13\", \"Topic13\", \"Topic13\", \"Topic13\", \"Topic13\", \"Topic13\", \"Topic13\", \"Topic13\", \"Topic13\", \"Topic13\", \"Topic13\", \"Topic13\", \"Topic13\", \"Topic13\", \"Topic13\", \"Topic13\", \"Topic13\", \"Topic13\", \"Topic13\", \"Topic13\", \"Topic13\", \"Topic13\", \"Topic13\", \"Topic13\", \"Topic13\", \"Topic13\", \"Topic13\", \"Topic13\", \"Topic13\", \"Topic13\", \"Topic13\", \"Topic13\", \"Topic13\", \"Topic13\", \"Topic13\", \"Topic13\", \"Topic13\", \"Topic13\", \"Topic13\", \"Topic13\", \"Topic13\", \"Topic13\", \"Topic13\", \"Topic13\", \"Topic13\", \"Topic13\", \"Topic13\", \"Topic13\", \"Topic13\", \"Topic13\", \"Topic14\", \"Topic14\", \"Topic14\", \"Topic14\", \"Topic14\", \"Topic14\", \"Topic14\", \"Topic14\", \"Topic14\", \"Topic14\", \"Topic14\", \"Topic14\", \"Topic14\", \"Topic14\", \"Topic14\", \"Topic14\", \"Topic14\", \"Topic14\", \"Topic14\", \"Topic14\", \"Topic14\", \"Topic14\", \"Topic14\", \"Topic14\", \"Topic14\", \"Topic14\", \"Topic14\", \"Topic14\", \"Topic14\", \"Topic14\", \"Topic14\", \"Topic14\", \"Topic14\", \"Topic14\", \"Topic14\", \"Topic14\", \"Topic14\", \"Topic14\", \"Topic14\", \"Topic14\", \"Topic14\", \"Topic14\", \"Topic14\", \"Topic14\", \"Topic14\", \"Topic14\", \"Topic14\", \"Topic14\", \"Topic14\", \"Topic14\", \"Topic14\", \"Topic14\", \"Topic14\", \"Topic14\", \"Topic14\", \"Topic14\", \"Topic14\", \"Topic14\", \"Topic14\", \"Topic14\", \"Topic14\", \"Topic14\", \"Topic14\", \"Topic14\", \"Topic14\", \"Topic14\", \"Topic14\", \"Topic14\", \"Topic14\", \"Topic14\", \"Topic15\", \"Topic15\", \"Topic15\", \"Topic15\", \"Topic15\", \"Topic15\", \"Topic15\", \"Topic15\", \"Topic15\", \"Topic15\", \"Topic15\", \"Topic15\", \"Topic15\", \"Topic15\", \"Topic15\", \"Topic15\", \"Topic15\", \"Topic15\", \"Topic15\", \"Topic15\", \"Topic15\", \"Topic15\", \"Topic15\", \"Topic15\", \"Topic15\", \"Topic15\", \"Topic15\", \"Topic15\", \"Topic15\", \"Topic15\", \"Topic15\", \"Topic15\", \"Topic15\", \"Topic15\", \"Topic15\", \"Topic15\", \"Topic15\", \"Topic15\", \"Topic15\", \"Topic15\", \"Topic15\", \"Topic15\", \"Topic15\", \"Topic15\", \"Topic15\", \"Topic15\", \"Topic15\", \"Topic15\", \"Topic15\", \"Topic15\", \"Topic15\", \"Topic15\", \"Topic15\", \"Topic15\", \"Topic15\", \"Topic15\", \"Topic15\", \"Topic15\", \"Topic15\", \"Topic15\", \"Topic15\", \"Topic15\", \"Topic15\", \"Topic15\", \"Topic15\", \"Topic15\", \"Topic15\", \"Topic15\", \"Topic15\", \"Topic15\", \"Topic15\", \"Topic15\", \"Topic15\", \"Topic15\", \"Topic15\", \"Topic15\", \"Topic15\", \"Topic15\", \"Topic15\", \"Topic15\", \"Topic15\", \"Topic15\", \"Topic16\", \"Topic16\", \"Topic16\", \"Topic16\", \"Topic16\", \"Topic16\", \"Topic16\", \"Topic16\", \"Topic16\", \"Topic16\", \"Topic16\", \"Topic16\", \"Topic16\", \"Topic16\", \"Topic16\", \"Topic16\", \"Topic16\", \"Topic16\", \"Topic16\", \"Topic16\", \"Topic16\", \"Topic16\", \"Topic16\", \"Topic16\", \"Topic16\", \"Topic16\", \"Topic16\", \"Topic16\", \"Topic16\", \"Topic16\", \"Topic16\", \"Topic16\", \"Topic16\", \"Topic16\", \"Topic16\", \"Topic16\", \"Topic16\", \"Topic16\", \"Topic16\", \"Topic16\", \"Topic16\", \"Topic16\", \"Topic16\", \"Topic16\", \"Topic16\", \"Topic16\", \"Topic16\", \"Topic16\", \"Topic16\", \"Topic16\", \"Topic16\", \"Topic16\", \"Topic16\", \"Topic16\", \"Topic16\", \"Topic16\", \"Topic16\", \"Topic16\", \"Topic16\", \"Topic16\", \"Topic16\", \"Topic16\", \"Topic16\", \"Topic16\", \"Topic16\", \"Topic16\", \"Topic16\", \"Topic16\", \"Topic16\", \"Topic16\", \"Topic16\", \"Topic16\", \"Topic16\", \"Topic17\", \"Topic17\", \"Topic17\", \"Topic17\", \"Topic17\", \"Topic17\", \"Topic17\", \"Topic17\", \"Topic17\", \"Topic17\", \"Topic17\", \"Topic17\", \"Topic17\", \"Topic17\", \"Topic17\", \"Topic17\", \"Topic17\", \"Topic17\", \"Topic17\", \"Topic17\", \"Topic17\", \"Topic17\", \"Topic17\", \"Topic17\", \"Topic17\", \"Topic17\", \"Topic17\", \"Topic17\", \"Topic17\", \"Topic17\", \"Topic17\", \"Topic17\", \"Topic17\", \"Topic17\", \"Topic17\", \"Topic17\", \"Topic17\", \"Topic17\", \"Topic17\", \"Topic17\", \"Topic17\", \"Topic17\", \"Topic17\", \"Topic17\", \"Topic17\", \"Topic17\", \"Topic17\", \"Topic17\", \"Topic17\", \"Topic17\", \"Topic17\", \"Topic17\", \"Topic17\", \"Topic17\", \"Topic17\", \"Topic17\", \"Topic17\", \"Topic17\", \"Topic17\", \"Topic17\", \"Topic17\", \"Topic17\", \"Topic17\", \"Topic17\", \"Topic17\", \"Topic17\", \"Topic17\", \"Topic17\", \"Topic17\", \"Topic17\", \"Topic17\", \"Topic17\", \"Topic17\", \"Topic17\", \"Topic17\", \"Topic18\", \"Topic18\", \"Topic18\", \"Topic18\", \"Topic18\", \"Topic18\", \"Topic18\", \"Topic18\", \"Topic18\", \"Topic18\", \"Topic18\", \"Topic18\", \"Topic18\", \"Topic18\", \"Topic18\", \"Topic18\", \"Topic18\", \"Topic18\", \"Topic18\", \"Topic18\", \"Topic18\", \"Topic18\", \"Topic18\", \"Topic18\", \"Topic18\", \"Topic18\", \"Topic18\", \"Topic18\", \"Topic18\", \"Topic18\", \"Topic18\", \"Topic18\", \"Topic18\", \"Topic18\", \"Topic18\", \"Topic18\", \"Topic18\", \"Topic18\", \"Topic18\", \"Topic18\", \"Topic18\", \"Topic18\", \"Topic18\", \"Topic18\", \"Topic18\", \"Topic18\", \"Topic18\", \"Topic18\", \"Topic18\", \"Topic18\", \"Topic18\", \"Topic18\", \"Topic18\", \"Topic18\", \"Topic18\", \"Topic18\", \"Topic18\", \"Topic18\", \"Topic18\", \"Topic18\", \"Topic18\", \"Topic18\", \"Topic18\", \"Topic18\", \"Topic18\", \"Topic18\", \"Topic18\", \"Topic18\", \"Topic18\", \"Topic18\", \"Topic18\", \"Topic18\", \"Topic19\", \"Topic19\", \"Topic19\", \"Topic19\", \"Topic19\", \"Topic19\", \"Topic19\", \"Topic19\", \"Topic19\", \"Topic19\", \"Topic19\", \"Topic19\", \"Topic19\", \"Topic19\", \"Topic19\", \"Topic19\", \"Topic19\", \"Topic19\", \"Topic19\", \"Topic19\", \"Topic19\", \"Topic19\", \"Topic19\", \"Topic19\", \"Topic19\", \"Topic19\", \"Topic19\", \"Topic19\", \"Topic19\", \"Topic19\", \"Topic19\", \"Topic19\", \"Topic19\", \"Topic19\", \"Topic19\", \"Topic19\", \"Topic19\", \"Topic19\", \"Topic19\", \"Topic19\", \"Topic19\", \"Topic19\", \"Topic19\", \"Topic19\", \"Topic19\", \"Topic19\", \"Topic19\", \"Topic19\", \"Topic19\", \"Topic19\", \"Topic19\", \"Topic19\", \"Topic19\", \"Topic19\", \"Topic19\", \"Topic19\", \"Topic19\", \"Topic19\", \"Topic19\", \"Topic19\", \"Topic19\", \"Topic19\", \"Topic19\", \"Topic19\", \"Topic19\", \"Topic19\", \"Topic19\", \"Topic20\", \"Topic20\", \"Topic20\", \"Topic20\", \"Topic20\", \"Topic20\", \"Topic20\", \"Topic20\", \"Topic20\", \"Topic20\", \"Topic20\", \"Topic20\", \"Topic20\", \"Topic20\", \"Topic20\", \"Topic20\", \"Topic20\", \"Topic20\", \"Topic20\", \"Topic20\", \"Topic20\", \"Topic20\", \"Topic20\", \"Topic20\", \"Topic20\", \"Topic20\", \"Topic20\", \"Topic20\", \"Topic20\", \"Topic20\", \"Topic20\", \"Topic20\", \"Topic20\", \"Topic20\", \"Topic20\", \"Topic20\", \"Topic20\", \"Topic20\", \"Topic20\", \"Topic20\", \"Topic20\", \"Topic20\", \"Topic20\", \"Topic20\", \"Topic20\", \"Topic20\", \"Topic20\", \"Topic20\", \"Topic20\", \"Topic20\", \"Topic20\", \"Topic20\", \"Topic20\", \"Topic20\", \"Topic20\", \"Topic20\", \"Topic20\", \"Topic20\", \"Topic20\", \"Topic20\", \"Topic20\", \"Topic20\", \"Topic20\", \"Topic20\", \"Topic20\", \"Topic20\", \"Topic20\", \"Topic20\", \"Topic20\", \"Topic20\", \"Topic20\", \"Topic20\"], \"logprob\": [30.0, 29.0, 28.0, 27.0, 26.0, 25.0, 24.0, 23.0, 22.0, 21.0, 20.0, 19.0, 18.0, 17.0, 16.0, 15.0, 14.0, 13.0, 12.0, 11.0, 10.0, 9.0, 8.0, 7.0, 6.0, 5.0, 4.0, 3.0, 2.0, 1.0, -6.152299880981445, -6.930699825286865, -7.171899795532227, -7.272900104522705, -7.661300182342529, -7.45959997177124, -7.698299884796143, -7.703499794006348, -7.73859977722168, -7.899099826812744, -7.9054999351501465, -7.870200157165527, -7.684899806976318, -7.918799877166748, -7.905300140380859, -8.061100006103516, -7.719399929046631, -8.092700004577637, -7.900400161743164, -8.160099983215332, -8.026900291442871, -7.897200107574463, -7.230000019073486, -8.126199722290039, -8.254300117492676, -8.260499954223633, -8.118399620056152, -8.288399696350098, -8.318499565124512, -8.353699684143066, -7.155700206756592, -7.923299789428711, -7.6753997802734375, -7.422900199890137, -7.458899974822998, -6.6519999504089355, -7.400700092315674, -7.38129997253418, -6.517600059509277, -6.068299770355225, -7.067800045013428, -7.4243998527526855, -6.818900108337402, -5.986199855804443, -6.752600193023682, -4.8557000160217285, -6.953400135040283, -5.768099784851074, -6.59689998626709, -6.355000019073486, -4.692800045013428, -6.277699947357178, -6.584700107574463, -6.234000205993652, -7.102499961853027, -5.640900135040283, -5.078499794006348, -6.825099945068359, -4.976399898529053, -7.114500045776367, -5.509399890899658, -6.665299892425537, -5.1427001953125, -5.723100185394287, -6.069799900054932, -3.486599922180176, -6.454999923706055, -5.129799842834473, -5.9085001945495605, -5.868100166320801, -5.932799816131592, -5.424900054931641, -4.989500045776367, -4.553599834442139, -5.544000148773193, -4.8317999839782715, -4.9618000984191895, -4.845300197601318, -5.230000019073486, -4.948699951171875, -5.55810022354126, -5.184599876403809, -4.872900009155273, -5.136099815368652, -5.342299938201904, -5.171899795532227, -5.149899959564209, -5.547999858856201, -5.371600151062012, -5.180600166320801, -5.475299835205078, -5.506899833679199, -5.560200214385986, -7.25629997253418, -7.332099914550781, -7.534900188446045, -7.135700225830078, -7.733799934387207, -7.6107001304626465, -6.902299880981445, -7.901400089263916, -7.534299850463867, -8.031800270080566, -8.009599685668945, -8.080100059509277, -7.966700077056885, -8.114700317382812, -7.912499904632568, -8.07919979095459, -8.104100227355957, -8.23330020904541, -7.142199993133545, -8.265899658203125, -8.035699844360352, -8.13070011138916, -7.980599880218506, -8.3641996383667, -7.933700084686279, -7.0792999267578125, -8.16759967803955, -7.7393999099731445, -8.480400085449219, -8.320599555969238, -5.55649995803833, -7.025300025939941, -7.066699981689453, -6.840199947357178, -5.82480001449585, -7.170199871063232, -7.122399806976318, -6.322199821472168, -6.982800006866455, -7.6975998878479, -7.045199871063232, -7.0980000495910645, -6.815999984741211, -6.570199966430664, -7.618800163269043, -6.233699798583984, -7.126100063323975, -6.400100231170654, -4.603600025177002, -6.002999782562256, -5.4766998291015625, -6.8618998527526855, -5.0030999183654785, -5.486299991607666, -5.556399822235107, -6.106800079345703, -5.812699794769287, -5.142000198364258, -4.3796000480651855, -5.5304999351501465, -5.535600185394287, -3.829400062561035, -5.523900032043457, -5.672800064086914, -5.39900016784668, -5.497300148010254, -5.078800201416016, -4.8769001960754395, -5.369999885559082, -4.989999771118164, -4.899600028991699, -4.797900199890137, -4.62529993057251, -4.6427001953125, -5.171500205993652, -5.24459981918335, -5.326099872589111, -5.43779993057251, -5.267499923706055, -5.097400188446045, -5.162700176239014, -5.364500045776367, -5.094399929046631, -5.111700057983398, -5.311200141906738, -5.225100040435791, -5.441999912261963, -5.34119987487793, -5.374800205230713, -5.3649001121521, -5.436699867248535, -6.1645002365112305, -5.991499900817871, -6.556700229644775, -6.902200222015381, -7.509200096130371, -6.8815999031066895, -6.22160005569458, -7.213399887084961, -7.65880012512207, -7.720799922943115, -7.847400188446045, -7.343400001525879, -7.918399810791016, -7.989299774169922, -7.742499828338623, -8.132100105285645, -8.12339973449707, -7.882800102233887, -8.106499671936035, -7.893700122833252, -8.188400268554688, -8.184300422668457, -8.238499641418457, -8.242899894714355, -8.286499977111816, -8.17300033569336, -8.358799934387207, -7.9456000328063965, -8.262399673461914, -7.987599849700928, -6.901299953460693, -5.505899906158447, -6.1244001388549805, -6.505099773406982, -5.698200225830078, -7.341599941253662, -5.426400184631348, -5.975299835205078, -6.362199783325195, -7.673299789428711, -7.343400001525879, -5.578100204467773, -2.779599905014038, -6.435400009155273, -4.38070011138916, -4.173399925231934, -4.904099941253662, -4.236299991607666, -6.644000053405762, -6.198999881744385, -5.302800178527832, -5.775599956512451, -3.9100000858306885, -6.101200103759766, -6.199900150299072, -6.337200164794922, -6.209199905395508, -4.389100074768066, -4.980999946594238, -5.435299873352051, -5.627699851989746, -4.59689998626709, -5.269400119781494, -4.665299892425537, -4.7108001708984375, -4.70550012588501, -4.167099952697754, -5.051499843597412, -5.871200084686279, -5.530600070953369, -5.24399995803833, -4.989500045776367, -5.517600059509277, -5.178599834442139, -5.266300201416016, -5.111499786376953, -5.344799995422363, -5.2154998779296875, -5.319399833679199, -5.362299919128418, -5.395999908447266, -5.387400150299072, -5.45389986038208, -6.841800212860107, -7.0894999504089355, -7.234399795532227, -7.2357001304626465, -6.6697998046875, -6.857100009918213, -7.2546000480651855, -7.437099933624268, -7.423399925231934, -7.518899917602539, -7.439499855041504, -7.5192999839782715, -7.744200229644775, -7.633299827575684, -7.10290002822876, -7.852099895477295, -7.883699893951416, -7.815800189971924, -7.9822998046875, -8.027799606323242, -7.823800086975098, -7.828999996185303, -8.138500213623047, -7.925899982452393, -7.679500102996826, -8.218000411987305, -8.121199607849121, -8.211700439453125, -8.27280044555664, -8.241000175476074, -7.210700035095215, -7.293399810791016, -7.446400165557861, -7.7540998458862305, -7.857800006866455, -4.087600231170654, -6.154099941253662, -7.008299827575684, -6.127299785614014, -3.8524999618530273, -5.190800189971924, -5.465000152587891, -6.304500102996826, -6.964600086212158, -6.978899955749512, -4.901299953460693, -5.290900230407715, -3.6865999698638916, -4.631100177764893, -5.937099933624268, -4.114799976348877, -3.47379994392395, -6.594900131225586, -5.854599952697754, -5.019499778747559, -4.82289981842041, -5.62939977645874, -4.528900146484375, -4.712699890136719, -5.315400123596191, -5.770500183105469, -4.943900108337402, -5.112800121307373, -4.853400230407715, -4.5183000564575195, -5.699100017547607, -5.684100151062012, -4.581500053405762, -4.752500057220459, -4.584499835968018, -5.168099880218506, -4.553199768066406, -4.212500095367432, -4.965700149536133, -4.854499816894531, -4.810800075531006, -4.9191999435424805, -4.999000072479248, -4.940199851989746, -5.088900089263916, -5.208499908447266, -5.16949987411499, -6.187399864196777, -6.4558000564575195, -7.153600215911865, -6.734499931335449, -6.480800151824951, -7.474599838256836, -7.484000205993652, -7.1774001121521, -7.3597002029418945, -7.646900177001953, -6.2657999992370605, -7.712399959564209, -7.719299793243408, -7.186500072479248, -7.625500202178955, -4.374300003051758, -6.598999977111816, -5.747399806976318, -7.175000190734863, -7.872300148010254, -7.7241997718811035, -7.907800197601318, -7.7683000564575195, -7.975900173187256, -7.2241997718811035, -7.95389986038208, -8.021900177001953, -6.852399826049805, -7.776100158691406, -7.752500057220459, -6.940299987792969, -4.780600070953369, -3.772900104522705, -4.575799942016602, -4.720799922943115, -5.214200019836426, -6.675899982452393, -3.0840001106262207, -4.544600009918213, -6.494500160217285, -5.780900001525879, -5.858799934387207, -5.472499847412109, -6.122600078582764, -4.484499931335449, -6.508500099182129, -5.076200008392334, -5.706299781799316, -6.07289981842041, -4.425000190734863, -6.223999977111816, -4.714300155639648, -5.609899997711182, -5.2378997802734375, -5.1915998458862305, -5.438700199127197, -4.520699977874756, -4.221399784088135, -5.36329984664917, -4.60699987411499, -5.614099979400635, -4.828800201416016, -4.63070011138916, -5.4008002281188965, -5.586299896240234, -4.816999912261963, -4.334499835968018, -5.1880998611450195, -5.062600135803223, -4.985599994659424, -5.288599967956543, -4.821300029754639, -4.549600124359131, -4.928500175476074, -5.166600227355957, -5.171800136566162, -5.2266998291015625, -5.223199844360352, -6.529600143432617, -6.381199836730957, -7.028600215911865, -7.083399772644043, -7.0746002197265625, -7.035699844360352, -7.167399883270264, -7.190400123596191, -6.891499996185303, -7.23769998550415, -6.664700031280518, -6.9720001220703125, -7.162399768829346, -7.230800151824951, -6.790299892425537, -6.957600116729736, -6.838399887084961, -7.480800151824951, -7.340400218963623, -7.487800121307373, -7.440000057220459, -7.552299976348877, -7.7245001792907715, -7.654099941253662, -7.668700218200684, -7.762199878692627, -6.433300018310547, -7.778200149536133, -7.724699974060059, -7.662600040435791, -6.997399806976318, -6.7357001304626465, -6.775599956512451, -6.224100112915039, -7.139699935913086, -6.847899913787842, -6.837399959564209, -5.468699932098389, -6.378499984741211, -6.240099906921387, -5.998199939727783, -5.753699779510498, -5.421899795532227, -5.937900066375732, -4.220900058746338, -5.123899936676025, -5.195799827575684, -5.3460001945495605, -5.656400203704834, -4.712299823760986, -3.801500082015991, -4.723400115966797, -4.808000087738037, -5.540500164031982, -4.965799808502197, -5.604800224304199, -4.235799789428711, -5.056399822235107, -4.75570011138916, -5.914599895477295, -6.029900074005127, -4.457200050354004, -5.302700042724609, -4.478499889373779, -3.968400001525879, -4.709000110626221, -5.430799961090088, -5.359300136566162, -4.675099849700928, -5.480100154876709, -4.903600215911865, -5.152299880981445, -4.994500160217285, -4.659900188446045, -4.362500190734863, -5.403600215911865, -5.200799942016602, -4.936600208282471, -4.926300048828125, -5.031599998474121, -5.20550012588501, -5.218699932098389, -5.350500106811523, -5.440499782562256, -5.769700050354004, -6.8597002029418945, -4.762400150299072, -7.216700077056885, -7.1869001388549805, -7.325300216674805, -7.28980016708374, -6.624599933624268, -6.587900161743164, -7.197299957275391, -7.498199939727783, -7.023600101470947, -7.531199932098389, -7.5269999504089355, -7.53000020980835, -5.117599964141846, -7.61299991607666, -6.177999973297119, -7.277599811553955, -7.667399883270264, -7.869200229644775, -7.184899806976318, -7.903500080108643, -7.943399906158447, -7.937300205230713, -6.852399826049805, -7.901800155639648, -8.059000015258789, -8.068300247192383, -7.104700088500977, -5.1946001052856445, -5.141499996185303, -4.666900157928467, -4.261300086975098, -4.811699867248535, -3.976799964904785, -6.373300075531006, -4.276500225067139, -6.457200050354004, -4.446000099182129, -4.531599998474121, -5.414299964904785, -4.165999889373779, -4.377399921417236, -6.563399791717529, -5.1894001960754395, -6.526500225067139, -3.620800018310547, -5.758699893951416, -5.85699987411499, -3.697999954223633, -3.942699909210205, -5.3694000244140625, -3.953200101852417, -4.339900016784668, -4.249499797821045, -5.252999782562256, -5.756899833679199, -4.594399929046631, -5.31279993057251, -4.489099979400635, -4.328499794006348, -5.125699996948242, -4.765900135040283, -4.673099994659424, -4.94379997253418, -5.096799850463867, -5.220900058746338, -6.452499866485596, -6.787199974060059, -7.054599761962891, -6.664700031280518, -7.340000152587891, -7.284999847412109, -6.7642998695373535, -7.4567999839782715, -7.331099987030029, -7.343400001525879, -7.660699844360352, -6.551300048828125, -6.603799819946289, -7.770100116729736, -7.588399887084961, -7.624199867248535, -7.217100143432617, -7.9079999923706055, -6.2378997802734375, -7.9741997718811035, -7.844799995422363, -8.065299987792969, -7.895400047302246, -7.968599796295166, -8.085100173950195, -7.179599761962891, -8.121000289916992, -7.849100112915039, -7.413899898529053, -7.751200199127197, -6.589900016784668, -6.531099796295166, -6.957200050354004, -3.8782999515533447, -5.3277997970581055, -7.731100082397461, -7.0167999267578125, -6.303999900817871, -5.530399799346924, -6.713200092315674, -5.25029993057251, -5.045899868011475, -5.062300205230713, -3.5906999111175537, -5.961100101470947, -5.134500026702881, -3.657099962234497, -6.250699996948242, -3.176800012588501, -4.206299781799316, -5.649199962615967, -5.853099822998047, -4.7042999267578125, -5.897500038146973, -5.397500038146973, -5.662099838256836, -4.3383002281188965, -4.676000118255615, -4.9079999923706055, -4.2519001960754395, -4.204800128936768, -4.819699764251709, -5.469200134277344, -4.942500114440918, -4.779600143432617, -4.583600044250488, -5.309700012207031, -4.139900207519531, -4.639699935913086, -4.80709981918335, -5.324900150299072, -5.134799957275391, -5.232100009918213, -5.302000045776367, -5.385300159454346, -5.357800006866455, -5.723700046539307, -6.29610013961792, -6.4309000968933105, -5.7729997634887695, -6.672999858856201, -6.819200038909912, -6.654699802398682, -6.9770002365112305, -7.075900077819824, -6.964700222015381, -7.161499977111816, -7.111299991607666, -6.779200077056885, -7.14109992980957, -6.9029998779296875, -7.426000118255615, -7.368199825286865, -6.916500091552734, -6.431000232696533, -7.393400192260742, -7.244800090789795, -7.305799961090088, -7.600100040435791, -5.552000045776367, -7.64109992980957, -6.418600082397461, -7.162499904632568, -7.474999904632568, -7.7515997886657715, -4.152100086212158, -4.663700103759766, -6.444799900054932, -5.487599849700928, -6.003399848937988, -4.287099838256836, -6.454899787902832, -4.043499946594238, -5.058199882507324, -5.027100086212158, -5.742499828338623, -3.850600004196167, -3.9131999015808105, -6.054599761962891, -5.357800006866455, -5.956600189208984, -5.894199848175049, -6.271299839019775, -5.731800079345703, -6.187399864196777, -5.400100231170654, -4.407599925994873, -5.643400192260742, -5.354899883270264, -4.2270002365112305, -3.9119999408721924, -4.626200199127197, -5.693999767303467, -4.701000213623047, -4.088900089263916, -4.313799858093262, -5.061399936676025, -4.607699871063232, -4.485000133514404, -4.960599899291992, -4.765399932861328, -5.247799873352051, -5.26170015335083, -5.224599838256836, -4.958499908447266, -5.011099815368652, -4.991099834442139, -4.703999996185303, -4.986000061035156, -5.052000045776367, -5.120299816131592, -5.559999942779541, -6.223100185394287, -6.807199954986572, -6.934199810028076, -6.378699779510498, -6.875800132751465, -7.135300159454346, -7.219399929046631, -7.422599792480469, -7.146900177001953, -7.4542999267578125, -5.0792999267578125, -7.573999881744385, -7.436800003051758, -7.087800025939941, -7.616600036621094, -7.656199932098389, -7.41379976272583, -6.978300094604492, -7.707099914550781, -7.667699813842773, -7.48199987411499, -7.350200176239014, -7.798999786376953, -7.0467000007629395, -7.558700084686279, -7.4720001220703125, -7.8256001472473145, -7.926599979400635, -7.874599933624268, -5.839700222015381, -6.785799980163574, -6.449100017547607, -6.236499786376953, -5.063000202178955, -6.388000011444092, -6.604499816894531, -4.966599941253662, -7.246399879455566, -5.499899864196777, -6.292799949645996, -3.8083999156951904, -6.356200218200684, -4.753499984741211, -6.78000020980835, -4.110199928283691, -5.378799915313721, -5.969099998474121, -6.226600170135498, -5.339099884033203, -5.658100128173828, -4.585599899291992, -5.430500030517578, -4.78980016708374, -5.071700096130371, -4.643899917602539, -5.060800075531006, -5.2368998527526855, -4.5671000480651855, -5.701600074768066, -3.7504000663757324, -4.128600120544434, -4.021699905395508, -4.650400161743164, -5.089799880981445, -5.195799827575684, -4.814199924468994, -4.059700012207031, -5.617400169372559, -5.31279993057251, -5.2565999031066895, -5.002200126647949, -5.01039981842041, -5.066999912261963, -5.226900100708008, -5.183300018310547, -5.220699787139893, -5.28439998626709, -5.021699905395508, -6.404300212860107, -6.607800006866455, -6.576600074768066, -6.648900032043457, -6.676400184631348, -6.707499980926514, -6.8597002029418945, -7.037600040435791, -7.1433000564575195, -7.38640022277832, -6.509699821472168, -5.6020002365112305, -6.753799915313721, -7.396999835968018, -6.716100215911865, -7.565700054168701, -7.47760009765625, -6.464300155639648, -6.660699844360352, -7.360000133514404, -7.15500020980835, -7.665900230407715, -7.673299789428711, -7.2434000968933105, -5.816999912261963, -7.008500099182129, -6.893099784851074, -7.610599994659424, -7.636499881744385, -5.009799957275391, -6.935500144958496, -5.908100128173828, -6.362599849700928, -4.935299873352051, -3.4528000354766846, -5.8871002197265625, -5.922900199890137, -6.452700138092041, -6.077400207519531, -6.735099792480469, -2.4484000205993652, -5.451099872589111, -4.736000061035156, -5.4893999099731445, -3.088099956512451, -5.992400169372559, -5.172399997711182, -5.767499923706055, -4.976200103759766, -4.430200099945068, -5.54640007019043, -4.4375, -4.806300163269043, -4.160999774932861, -4.575200080871582, -4.278900146484375, -4.950699806213379, -4.198999881744385, -5.173399925231934, -5.421899795532227, -4.229000091552734, -4.264999866485596, -4.7017998695373535, -4.771500110626221, -4.803199768066406, -5.271200180053711, -5.031400203704834, -5.059199810028076, -4.848599910736084, -4.9644999504089355, -5.239699840545654, -5.225900173187256, -5.2667999267578125, -6.201700210571289, -6.26170015335083, -5.973599910736084, -6.578199863433838, -4.577700138092041, -6.883399963378906, -6.708199977874756, -6.903299808502197, -6.9274001121521, -7.105599880218506, -6.823500156402588, -7.194900035858154, -7.288899898529053, -7.095200061798096, -6.662099838256836, -7.332600116729736, -7.389699935913086, -7.389599800109863, -7.2241997718811035, -7.418499946594238, -7.479800224304199, -7.281000137329102, -7.570700168609619, -7.6184000968933105, -7.478099822998047, -7.68149995803833, -6.696800231933594, -6.345799922943115, -7.840700149536133, -7.854400157928467, -5.684899806976318, -6.968999862670898, -5.572700023651123, -5.679699897766113, -6.142499923706055, -3.219599962234497, -7.031700134277344, -5.958700180053711, -5.299200057983398, -6.43779993057251, -3.414400100708008, -6.435400009155273, -5.735499858856201, -4.915800094604492, -6.7652997970581055, -4.43209981918335, -5.3317999839782715, -6.6350998878479, -5.477799892425537, -5.493599891662598, -4.997000217437744, -4.630499839782715, -5.582600116729736, -5.637499809265137, -4.937699794769287, -3.5850000381469727, -4.018700122833252, -4.920100212097168, -5.9054999351501465, -4.653600215911865, -5.386499881744385, -4.933000087738037, -4.114200115203857, -4.266900062561035, -4.6717000007629395, -4.504899978637695, -4.800099849700928, -5.223499774932861, -5.046599864959717, -5.0507001876831055, -4.8572998046875, -4.459199905395508, -4.771299839019775, -4.8225998878479, -5.042200088500977, -5.3308000564575195, -5.14870023727417, -5.240099906921387, -5.217299938201904, -5.292600154876709, -6.375400066375732, -6.614699840545654, -6.472300052642822, -6.468500137329102, -6.979599952697754, -6.914999961853027, -6.264200210571289, -6.679200172424316, -7.108099937438965, -7.075699806213379, -7.148799896240234, -7.177499771118164, -7.0920000076293945, -6.793300151824951, -7.327000141143799, -7.276199817657471, -7.463099956512451, -7.086699962615967, -7.487800121307373, -6.9182000160217285, -6.930699825286865, -7.627999782562256, -6.9481000900268555, -7.472700119018555, -7.406300067901611, -7.2972002029418945, -6.60230016708374, -6.4832000732421875, -7.547900199890137, -7.399700164794922, -6.811500072479248, -6.084400177001953, -5.679100036621094, -6.236199855804443, -6.3414998054504395, -5.655799865722656, -3.8336000442504883, -5.889999866485596, -4.922299861907959, -5.9517998695373535, -4.630799770355225, -5.1128997802734375, -5.107800006866455, -6.193399906158447, -6.236700057983398, -6.860000133514404, -5.356500148773193, -6.042399883270264, -6.5065999031066895, -5.949900150299072, -6.28980016708374, -5.355100154876709, -5.214200019836426, -5.878300189971924, -5.549200057983398, -5.884799957275391, -5.002999782562256, -6.0756001472473145, -3.6735999584198, -4.5767998695373535, -5.151800155639648, -5.362599849700928, -5.850200176239014, -4.93209981918335, -5.3516998291015625, -5.10860013961792, -4.977099895477295, -4.863999843597412, -5.028900146484375, -5.160600185394287, -5.0680999755859375, -5.214700222015381, -5.424099922180176, -5.225900173187256, -5.367400169372559, -5.417600154876709, -5.413000106811523, -5.508600234985352, -5.519499778747559, -6.1381001472473145, -6.270299911499023, -6.296500205993652, -6.348700046539307, -6.155600070953369, -6.360199928283691, -6.579599857330322, -6.774799823760986, -6.108699798583984, -6.598499774932861, -6.937699794769287, -6.976500034332275, -6.999300003051758, -6.9868998527526855, -7.222400188446045, -7.263000011444092, -6.878699779510498, -5.774799823760986, -7.369100093841553, -7.3653998374938965, -7.278200149536133, -7.384799957275391, -7.156099796295166, -5.4664998054504395, -7.394899845123291, -7.432199954986572, -7.409200191497803, -7.522500038146973, -7.5055999755859375, -7.684999942779541, -5.32420015335083, -6.391200065612793, -5.956600189208984, -6.399499893188477, -3.0687999725341797, -5.053899765014648, -5.935699939727783, -5.743299961090088, -4.767600059509277, -5.392000198364258, -6.576099872589111, -4.580699920654297, -6.068399906158447, -5.219799995422363, -4.850399971008301, -5.176599979400635, -5.176300048828125, -5.493599891662598, -3.8745999336242676, -6.197199821472168, -4.8059000968933105, -5.308300018310547, -5.429200172424316, -5.105999946594238, -4.640399932861328, -5.26230001449585, -4.775199890136719, -4.869100093841553, -5.188700199127197, -4.7469000816345215, -5.333000183105469, -5.129199981689453, -5.485799789428711, -5.331399917602539, -5.1875, -5.18720006942749, -5.038400173187256, -5.304500102996826, -5.30049991607666, -5.44189977645874, -6.042799949645996, -6.237299919128418, -6.92519998550415, -6.900400161743164, -6.993000030517578, -7.059999942779541, -7.0218000411987305, -7.16480016708374, -7.125, -7.245299816131592, -7.347899913787842, -7.35230016708374, -6.673799991607666, -7.491199970245361, -7.373799800872803, -7.506499767303467, -6.605000019073486, -7.167099952697754, -7.615699768066406, -7.347599983215332, -7.647600173950195, -7.604700088500977, -7.42110013961792, -6.3927998542785645, -7.14300012588501, -7.642600059509277, -7.5605998039245605, -7.564899921417236, -7.664599895477295, -7.393199920654297, -6.694900035858154, -7.136199951171875, -7.221099853515625, -6.692599773406982, -5.869900226593018, -6.906599998474121, -4.7210001945495605, -5.805699825286865, -6.592199802398682, -5.645500183105469, -5.954500198364258, -5.685699939727783, -6.333399772644043, -5.237199783325195, -6.195799827575684, -6.407400131225586, -5.726200103759766, -4.886899948120117, -6.58519983291626, -6.618500232696533, -4.672100067138672, -5.7469000816345215, -3.6840999126434326, -6.327499866485596, -4.726600170135498, -5.068900108337402, -5.236100196838379, -5.343200206756592, -5.371799945831299, -4.579699993133545, -4.315299987792969, -5.684800148010254, -5.707799911499023, -4.978300094604492, -4.027299880981445, -5.241000175476074, -4.940000057220459, -4.845300197601318, -4.683700084686279, -4.773200035095215, -5.351399898529053, -5.436600208282471, -5.097300052642822, -5.23199987411499, -5.17110013961792, -5.170400142669678, -5.39139986038208, -5.253300189971924, -5.291600227355957, -5.374199867248535, -5.321100234985352, -5.410999774932861, -6.231599807739258, -6.189599990844727, -6.544300079345703, -5.79040002822876, -7.139200210571289, -5.65339994430542, -7.138700008392334, -6.243299961090088, -7.216599941253662, -5.794899940490723, -6.390900135040283, -7.1072998046875, -6.747499942779541, -6.464200019836426, -7.429599761962891, -7.545199871063232, -6.876999855041504, -7.658100128173828, -7.693999767303467, -7.0472002029418945, -7.149499893188477, -5.981299877166748, -5.398600101470947, -7.387899875640869, -7.890999794006348, -6.872000217437744, -7.542600154876709, -7.955699920654297, -6.816699981689453, -7.90500020980835, -6.466700077056885, -6.8850998878479, -6.007500171661377, -6.664400100708008, -3.8987998962402344, -5.402699947357178, -5.651299953460693, -5.317500114440918, -5.820400238037109, -5.966700077056885, -4.629499912261963, -3.920300006866455, -3.5717999935150146, -3.2446999549865723, -3.7360000610351562, -5.244100093841553, -4.337900161743164, -5.87529993057251, -5.460100173950195, -5.372900009155273, -4.802800178527832, -4.4654998779296875, -5.0630998611450195, -5.683899879455566, -5.621399879455566, -4.855800151824951, -5.167600154876709, -4.466899871826172, -4.795000076293945, -5.219299793243408, -4.745999813079834, -4.848299980163574, -4.426499843597412, -5.208799839019775, -4.991499900817871, -4.867300033569336, -5.014800071716309, -5.114799976348877, -5.053999900817871, -5.242300033569336, -5.2581000328063965, -5.289999961853027, -5.362599849700928, -5.616399765014648, -5.930500030517578, -6.651599884033203, -6.829500198364258, -6.162600040435791, -6.703800201416016, -6.753600120544434, -6.963900089263916, -7.066699981689453, -7.032199859619141, -6.990600109100342, -6.595399856567383, -7.151000022888184, -7.054900169372559, -6.823999881744385, -5.686800003051758, -7.333099842071533, -7.211599826812744, -7.351799964904785, -4.562900066375732, -7.465000152587891, -6.852799892425537, -7.506100177764893, -7.281899929046631, -7.593500137329102, -7.564700126647949, -7.607399940490723, -7.716800212860107, -7.731500148773193, -7.701499938964844, -6.218500137329102, -7.308700084686279, -7.002799987792969, -6.803899765014648, -5.702400207519531, -3.9379000663757324, -6.014500141143799, -6.655900001525879, -3.7351999282836914, -4.644100189208984, -6.545599937438965, -4.056000232696533, -5.912499904632568, -3.871999979019165, -5.231299877166748, -3.653899908065796, -4.758999824523926, -5.019999980926514, -6.232900142669678, -4.0019001960754395, -4.627399921417236, -5.663099765777588, -4.027900218963623, -3.474299907684326, -6.195400238037109, -4.941699981689453, -4.597899913787842, -4.350200176239014, -5.548900127410889, -5.366600036621094, -5.970300197601318, -5.231599807739258, -4.54610013961792, -5.450699806213379, -4.8632001876831055, -4.324900150299072, -4.71560001373291, -5.173299789428711, -5.112299919128418, -5.3206000328063965, -5.0416998863220215, -5.163899898529053, -5.182300090789795, -5.309199810028076, -5.36299991607666, -6.34060001373291, -6.3649001121521, -6.461299896240234, -6.536300182342529, -6.769000053405762, -6.433599948883057, -5.814799785614014, -6.2947001457214355, -6.8190999031066895, -6.328999996185303, -7.009900093078613, -7.315800189971924, -6.293799877166748, -7.363999843597412, -7.419099807739258, -7.417699813842773, -7.391300201416016, -6.548600196838379, -7.493000030517578, -7.518700122833252, -5.61959981918335, -7.615200042724609, -7.3815999031066895, -7.6305999755859375, -7.360000133514404, -7.701499938964844, -6.742199897766113, -7.730899810791016, -6.451200008392334, -7.054100036621094, -4.623199939727783, -5.21589994430542, -6.718699932098389, -4.1417999267578125, -4.391600131988525, -5.2855000495910645, -6.625800132751465, -4.941299915313721, -5.150899887084961, -4.69320011138916, -6.699399948120117, -6.376699924468994, -6.058300018310547, -6.429800033569336, -5.23390007019043, -5.388999938964844, -3.9465999603271484, -5.973700046539307, -5.072000026702881, -5.2519001960754395, -4.990499973297119, -5.3470001220703125, -4.63539981842041, -4.628300189971924, -4.395899772644043, -5.840700149536133, -6.152100086212158, -3.867500066757202, -4.445099830627441, -5.217899799346924, -4.5258002281188965, -4.481900215148926, -5.665200233459473, -4.86269998550415, -4.814599990844727, -4.869999885559082, -4.486999988555908, -4.880300045013428, -4.756999969482422, -5.118100166320801, -5.160900115966797, -5.188000202178955, -5.146900177001953, -5.406199932098389, -5.073200225830078, -5.707799911499023, -5.911799907684326, -6.119900226593018, -5.110199928283691, -6.278200149536133, -6.344299793243408, -5.785099983215332, -6.290500164031982, -6.460700035095215, -5.509799957275391, -5.404099941253662, -6.5792999267578125, -6.469399929046631, -6.92110013961792, -6.189000129699707, -6.212200164794922, -6.763800144195557, -6.957200050354004, -6.6219000816345215, -7.019199848175049, -6.979400157928467, -5.7245001792907715, -7.009300231933594, -6.297399997711182, -6.772900104522705, -6.868299961090088, -6.527299880981445, -4.958099842071533, -6.2230000495910645, -4.680799961090088, -5.979100227355957, -5.897799968719482, -5.80649995803833, -6.718900203704834, -5.144700050354004, -6.460999965667725, -5.1641998291015625, -5.9618000984191895, -3.171799898147583, -5.502500057220459, -5.725599765777588, -5.97160005569458, -6.036300182342529, -4.995500087738037, -4.938000202178955, -5.593500137329102, -5.756999969482422, -4.0030999183654785, -5.305200099945068, -4.659800052642822, -4.9105000495910645, -5.1996002197265625, -5.09630012512207, -5.0507001876831055, -5.011099815368652, -5.475500106811523, -5.2204999923706055, -5.394199848175049, -5.258900165557861, -5.300899982452393, -5.398900032043457, -5.481100082397461, -5.500500202178955, -5.492700099945068, -5.088799953460693, -5.730299949645996, -5.783599853515625, -5.712800025939941, -6.186800003051758, -6.285999774932861, -4.6107001304626465, -6.485300064086914, -6.5395002365112305, -6.758900165557861, -6.661300182342529, -6.550600051879883, -6.796299934387207, -6.910399913787842, -6.468100070953369, -6.752900123596191, -6.684899806976318, -5.9008002281188965, -6.645400047302246, -6.8678998947143555, -7.14739990234375, -6.891900062561035, -7.179900169372559, -7.145100116729736, -6.275199890136719, -7.204899787902832, -6.745100021362305, -7.16480016708374, -7.21120023727417, -6.628399848937988, -6.026599884033203, -6.746500015258789, -5.427000045776367, -6.095900058746338, -6.134399890899658, -6.638500213623047, -4.8454999923706055, -5.625999927520752, -6.01669979095459, -4.245200157165527, -5.73799991607666, -5.529799938201904, -5.617499828338623, -4.93120002746582, -4.864299774169922, -4.594399929046631, -5.745800018310547, -5.455999851226807, -5.908599853515625, -5.777200222015381, -5.219600200653076, -5.658100128173828, -4.557000160217285, -4.937900066375732, -4.912399768829346, -5.228899955749512, -5.132500171661377, -5.825900077819824, -5.230000019073486, -4.001699924468994, -5.055099964141846, -4.531199932098389, -5.3709001541137695, -5.062600135803223, -5.069499969482422, -5.316800117492676, -5.2729997634887695, -5.368500232696533, -5.406199932098389, -5.640900135040283, -5.595300197601318, -5.622499942779541], \"loglift\": [30.0, 29.0, 28.0, 27.0, 26.0, 25.0, 24.0, 23.0, 22.0, 21.0, 20.0, 19.0, 18.0, 17.0, 16.0, 15.0, 14.0, 13.0, 12.0, 11.0, 10.0, 9.0, 8.0, 7.0, 6.0, 5.0, 4.0, 3.0, 2.0, 1.0, 2.4908, 2.4853, 2.4804, 2.4765, 2.4743, 2.4738, 2.4735, 2.4706, 2.4698, 2.4687, 2.4671, 2.4671, 2.4656, 2.4656, 2.4635, 2.4634, 2.4633, 2.463, 2.4623, 2.4603, 2.4601, 2.4597, 2.459, 2.4582, 2.4574, 2.4572, 2.4561, 2.4538, 2.4537, 2.4535, 2.4499, 2.453, 2.4432, 2.4377, 2.4339, 2.4041, 2.4316, 2.4307, 2.3795, 2.3483, 2.4035, 2.4237, 2.3712, 2.2922, 2.36, 2.1344, 2.3632, 2.1946, 2.3074, 2.2597, 1.9428, 2.2224, 2.2361, 2.154, 2.3352, 1.99, 1.8022, 2.2597, 1.5553, 2.329, 1.7067, 2.155, 1.551, 1.7806, 1.9179, 0.6915, 2.0497, 1.3249, 1.7212, 1.6792, 1.7036, 1.3577, 1.0275, 0.6752, 1.3094, 0.6974, 0.8068, 0.5921, 0.9111, 0.4401, 1.2006, 0.6743, 0.184, 0.5739, 0.8608, 0.5231, 0.2219, 0.9948, 0.4122, -0.2073, 0.1394, 0.1372, 0.2922, 2.5237, 2.5225, 2.5214, 2.519, 2.5173, 2.5139, 2.5138, 2.5121, 2.5117, 2.5084, 2.5053, 2.5049, 2.5047, 2.5031, 2.503, 2.5001, 2.4998, 2.4997, 2.4992, 2.4988, 2.4983, 2.4982, 2.4968, 2.4955, 2.4953, 2.4907, 2.4901, 2.4879, 2.4877, 2.4866, 2.4852, 2.4728, 2.4609, 2.4523, 2.4109, 2.4498, 2.4351, 2.3537, 2.4038, 2.4649, 2.3846, 2.3852, 2.3397, 2.2899, 2.4431, 2.2124, 2.3517, 2.1981, 1.7737, 2.0557, 1.9004, 2.2546, 1.691, 1.8338, 1.7434, 1.8847, 1.7478, 1.4279, 1.0092, 1.5504, 1.4896, 0.3488, 1.418, 1.5039, 1.3182, 1.3561, 1.0453, 0.8611, 1.1728, 0.8689, 0.7445, 0.6395, 0.4315, 0.3305, 0.8455, 0.8994, 0.9298, 1.085, 0.8076, 0.5173, 0.6211, 0.9401, 0.3039, 0.2442, 0.7623, 0.0037, 0.9836, 0.188, 0.3352, -0.0446, -0.0543, 2.5903, 2.5903, 2.5787, 2.5759, 2.5745, 2.5743, 2.573, 2.5728, 2.572, 2.5694, 2.5661, 2.5656, 2.5644, 2.5629, 2.5595, 2.558, 2.5561, 2.5556, 2.5555, 2.5547, 2.5546, 2.5536, 2.5535, 2.5522, 2.5518, 2.55, 2.5483, 2.5476, 2.5469, 2.5448, 2.5397, 2.5201, 2.5201, 2.5215, 2.4795, 2.5276, 2.4328, 2.4573, 2.477, 2.5291, 2.5078, 2.3934, 2.0809, 2.404, 2.1407, 2.0939, 2.1704, 2.077, 2.3996, 2.3059, 2.1356, 2.1973, 1.7726, 2.2474, 2.2599, 2.2899, 2.2484, 1.5371, 1.7041, 1.7229, 1.7374, 0.9926, 1.3031, 0.655, 0.6716, 0.6504, 0.011, 0.8941, 1.8698, 1.3492, 0.8801, 0.4088, 1.2035, 0.3506, 0.5175, -0.0546, 0.4655, -0.2422, 0.0523, 0.2818, 0.2188, 0.0014, -0.2252, 2.6241, 2.6193, 2.6189, 2.6189, 2.6189, 2.6188, 2.6185, 2.6153, 2.6151, 2.6136, 2.6127, 2.6086, 2.6083, 2.6064, 2.6064, 2.6044, 2.6044, 2.6017, 2.6008, 2.5997, 2.5992, 2.5969, 2.5956, 2.5955, 2.5926, 2.5924, 2.5914, 2.5904, 2.5897, 2.5896, 2.5893, 2.5882, 2.585, 2.5868, 2.5864, 2.4681, 2.5112, 2.5503, 2.4967, 2.3355, 2.3943, 2.3975, 2.4585, 2.5087, 2.4978, 2.216, 2.2662, 2.0083, 2.1239, 2.3156, 1.9619, 1.7994, 2.3475, 2.1005, 1.805, 1.7332, 1.935, 1.4194, 1.4566, 1.7176, 1.8884, 1.4578, 1.4571, 1.2683, 1.0111, 1.7565, 1.741, 0.8559, 0.8865, 0.6676, 1.2091, 0.5037, -0.0344, 0.8639, 0.5788, 0.418, 0.4791, 0.3727, 0.0331, 0.581, 0.6439, -0.309, 2.731, 2.7261, 2.7215, 2.7196, 2.7176, 2.7168, 2.7166, 2.7159, 2.7136, 2.7125, 2.711, 2.7102, 2.71, 2.71, 2.7097, 2.7096, 2.7072, 2.7071, 2.7062, 2.7058, 2.7047, 2.7029, 2.7017, 2.7013, 2.7012, 2.7011, 2.6995, 2.6991, 2.6976, 2.6975, 2.6937, 2.6676, 2.6437, 2.6481, 2.6356, 2.6318, 2.6621, 2.5055, 2.5504, 2.6464, 2.6078, 2.612, 2.5693, 2.6119, 2.4615, 2.6339, 2.4664, 2.524, 2.5521, 2.2818, 2.5533, 2.183, 2.3618, 2.2347, 2.205, 2.197, 1.7855, 1.562, 2.0881, 1.6276, 2.2071, 1.6927, 1.4934, 2.0547, 2.1844, 1.371, 0.6388, 1.591, 1.3342, 1.1563, 1.6725, 0.5611, -0.3715, 0.4274, 1.0216, 0.7544, 0.456, 0.1486, 2.8553, 2.854, 2.8494, 2.8483, 2.8482, 2.8481, 2.847, 2.846, 2.8459, 2.8456, 2.8449, 2.8436, 2.8433, 2.8426, 2.8411, 2.8406, 2.84, 2.8398, 2.8396, 2.8352, 2.8332, 2.833, 2.8325, 2.8323, 2.8321, 2.8314, 2.8314, 2.8312, 2.8304, 2.8296, 2.828, 2.824, 2.8224, 2.8154, 2.8243, 2.7974, 2.791, 2.7174, 2.7625, 2.7467, 2.7193, 2.6876, 2.6374, 2.6679, 2.3604, 2.4534, 2.4502, 2.479, 2.5408, 2.3159, 2.0928, 2.3034, 2.2294, 2.4308, 2.2446, 2.4141, 1.9646, 2.1713, 1.9804, 2.4197, 2.4573, 1.6456, 2.0556, 1.5707, 1.1015, 1.5143, 2.0417, 1.958, 1.3254, 2.0387, 1.4624, 1.6984, 1.4158, 0.6604, -0.1844, 1.9133, 1.3717, 0.4193, 0.047, 0.0252, 0.7207, 0.7295, 0.7915, 2.8942, 2.89, 2.8833, 2.8807, 2.8771, 2.8751, 2.8748, 2.8744, 2.8743, 2.8739, 2.8737, 2.8706, 2.8698, 2.8689, 2.8684, 2.8678, 2.8663, 2.8663, 2.8637, 2.862, 2.8606, 2.8586, 2.8583, 2.8572, 2.8557, 2.8551, 2.8512, 2.8507, 2.8497, 2.8492, 2.835, 2.7413, 2.7371, 2.7069, 2.6631, 2.6811, 2.6179, 2.7697, 2.5966, 2.7706, 2.5461, 2.5456, 2.6255, 2.4684, 2.4822, 2.744, 2.4985, 2.7338, 1.9192, 2.4728, 2.5004, 1.8314, 1.8752, 2.338, 1.7884, 1.8671, 1.7996, 2.1986, 2.3448, 1.5749, 2.0495, 0.9483, 0.6447, 1.2963, 0.2909, -0.4949, 0.3765, 0.7328, 1.2047, 2.9222, 2.915, 2.9103, 2.9097, 2.9082, 2.9073, 2.9059, 2.9053, 2.9051, 2.904, 2.8993, 2.8975, 2.8969, 2.8956, 2.8947, 2.8946, 2.8941, 2.8903, 2.8901, 2.8869, 2.8851, 2.8833, 2.8821, 2.8816, 2.8816, 2.8809, 2.8801, 2.8792, 2.8791, 2.879, 2.8664, 2.8619, 2.8583, 2.7166, 2.7245, 2.8725, 2.8255, 2.7573, 2.6861, 2.7825, 2.63, 2.5959, 2.5768, 2.3707, 2.68, 2.5432, 2.2355, 2.6804, 2.0754, 2.2732, 2.5376, 2.5709, 2.2989, 2.4975, 2.2805, 2.3651, 1.7834, 1.8982, 1.9975, 1.387, 1.2627, 1.5592, 2.0138, 1.5122, 1.0501, 0.7882, 1.527, 0.0382, 0.589, 0.4662, 1.2847, 0.5602, -0.1752, 0.0868, 0.5629, -0.3846, 2.9389, 2.9341, 2.9338, 2.9319, 2.9288, 2.926, 2.9257, 2.9254, 2.9252, 2.9238, 2.9235, 2.921, 2.9203, 2.92, 2.9183, 2.9167, 2.9158, 2.915, 2.9139, 2.9137, 2.9124, 2.9123, 2.9122, 2.9107, 2.9107, 2.9102, 2.9101, 2.9077, 2.9068, 2.9042, 2.89, 2.9021, 2.8885, 2.8884, 2.8431, 2.8923, 2.8071, 2.8423, 2.8394, 2.8621, 2.7788, 2.7782, 2.8682, 2.8264, 2.8508, 2.8377, 2.8577, 2.7994, 2.8445, 2.7316, 2.564, 2.7361, 2.6547, 2.3889, 2.2885, 2.4395, 2.7186, 2.2005, 1.9268, 1.6868, 2.1532, 1.6984, 1.584, 1.8902, 1.6005, 2.1765, 2.1937, 1.9859, 1.4344, 1.2122, 0.8267, -0.5259, 0.3343, 0.0049, 0.2356, 2.9549, 2.9516, 2.9477, 2.9465, 2.9457, 2.9429, 2.9425, 2.94, 2.9362, 2.9357, 2.935, 2.9328, 2.9319, 2.9306, 2.9305, 2.9298, 2.9292, 2.9285, 2.9277, 2.9275, 2.9265, 2.9258, 2.9244, 2.9241, 2.9229, 2.9228, 2.9221, 2.9219, 2.9189, 2.918, 2.9017, 2.9094, 2.8979, 2.8915, 2.8316, 2.8822, 2.885, 2.7766, 2.9021, 2.7378, 2.7838, 2.3798, 2.7285, 2.4211, 2.8061, 2.2357, 2.5034, 2.6287, 2.6832, 2.4576, 2.5377, 2.2352, 2.458, 2.191, 2.2494, 2.0077, 2.1323, 2.1898, 1.8298, 2.4026, 1.11, 1.3388, 1.0481, 1.5376, 1.7246, 1.7653, 1.2886, 0.1185, 2.1655, 1.6616, 1.4645, 0.7811, 0.6043, -0.0938, 0.6674, 0.1991, 0.4492, -0.0556, 3.0286, 3.0204, 3.0193, 3.0188, 3.0188, 3.0184, 3.018, 3.013, 3.0092, 3.0083, 3.0042, 3.0032, 3.0032, 3.0024, 3.0005, 3.0, 2.9989, 2.9988, 2.9985, 2.9973, 2.9972, 2.996, 2.9955, 2.9952, 2.994, 2.9923, 2.9917, 2.9917, 2.9912, 2.9905, 2.9799, 2.9864, 2.9752, 2.9746, 2.9319, 2.8689, 2.9424, 2.9414, 2.9629, 2.9307, 2.9687, 2.6215, 2.8262, 2.7338, 2.7694, 2.3452, 2.832, 2.6736, 2.7721, 2.5655, 2.2041, 2.5271, 1.9554, 2.0951, 1.7315, 1.9043, 1.7217, 2.0761, 1.5426, 2.1367, 2.2657, 1.2384, 1.1068, 1.4829, 1.5346, 1.2658, 1.9219, 1.4734, 1.5221, 0.7903, 0.9968, 1.7438, 1.6796, 1.2802, 3.0719, 3.0702, 3.066, 3.0645, 3.0639, 3.0638, 3.063, 3.0629, 3.0624, 3.0592, 3.0559, 3.055, 3.0544, 3.0531, 3.0524, 3.0523, 3.0516, 3.0514, 3.0513, 3.0511, 3.0484, 3.0463, 3.0459, 3.043, 3.0429, 3.0401, 3.0393, 3.0384, 3.036, 3.0354, 3.02, 3.0277, 2.9994, 2.9937, 2.9953, 2.8608, 3.022, 2.903, 2.8259, 2.9514, 2.6012, 2.9477, 2.8376, 2.6892, 2.9764, 2.5385, 2.6161, 2.9408, 2.6301, 2.6054, 2.4537, 2.3017, 2.6139, 2.6255, 2.2817, 1.6671, 1.7992, 2.0856, 2.6379, 1.9024, 2.3234, 1.8497, 1.1591, 1.2731, 1.5629, 1.2368, 1.2765, 1.8139, 1.4581, 1.3749, 0.7817, -0.2811, 0.2019, 0.2342, 0.7681, 1.7673, 0.1716, 0.6123, 0.2201, 0.9307, 3.204, 3.2023, 3.2011, 3.1997, 3.196, 3.1954, 3.1943, 3.1931, 3.1923, 3.1922, 3.1914, 3.1911, 3.1892, 3.1879, 3.1842, 3.1842, 3.18, 3.1791, 3.1777, 3.1771, 3.1771, 3.1756, 3.1755, 3.1746, 3.1736, 3.1727, 3.1712, 3.1708, 3.17, 3.1696, 3.1678, 3.1574, 3.1459, 3.148, 3.1419, 3.1158, 3.0167, 3.1118, 3.0295, 3.0934, 2.9654, 2.9982, 2.9461, 3.0006, 3.0088, 3.1395, 2.7613, 2.9213, 3.0319, 2.8327, 2.9253, 2.5291, 2.333, 2.6559, 2.4388, 2.6481, 2.0223, 2.7598, 0.5045, 1.2822, 1.7954, 1.6133, 2.3062, 0.712, 1.4531, 0.9942, 0.4212, 0.1092, 0.4385, 0.5774, -0.0112, 0.4001, 0.9548, 0.1459, 0.0214, 0.2523, 0.1162, 0.5665, 0.4975, 3.273, 3.2707, 3.2699, 3.2693, 3.2683, 3.2676, 3.2658, 3.2628, 3.2623, 3.2609, 3.2601, 3.2595, 3.2574, 3.2541, 3.253, 3.2518, 3.2516, 3.2501, 3.2483, 3.2483, 3.2477, 3.247, 3.247, 3.2466, 3.2466, 3.2461, 3.2448, 3.2426, 3.2359, 3.2337, 3.1978, 3.1952, 3.161, 3.1752, 2.7379, 2.9695, 3.0388, 2.9689, 2.7645, 2.8526, 3.094, 2.5304, 2.9323, 2.542, 2.3242, 2.4479, 2.3928, 2.518, 1.5929, 2.8852, 1.7919, 2.1224, 2.1398, 1.7148, 1.1594, 1.6714, 0.9348, 0.9898, 1.4629, 0.6355, 1.4539, 0.8165, 1.6266, 1.1609, 0.5504, 0.0415, -0.8602, 0.0938, -0.0272, -0.0045, 3.2665, 3.2648, 3.2619, 3.2608, 3.2596, 3.2587, 3.2562, 3.2552, 3.2536, 3.2531, 3.2493, 3.2492, 3.249, 3.2451, 3.2444, 3.2439, 3.2428, 3.2414, 3.2395, 3.2367, 3.2367, 3.2366, 3.2355, 3.2355, 3.2346, 3.2329, 3.2323, 3.2314, 3.2304, 3.2297, 3.2247, 3.2247, 3.2255, 3.209, 3.1529, 3.1992, 3.0475, 3.1082, 3.168, 3.0511, 3.0778, 3.0163, 3.1044, 2.9338, 3.0652, 3.0869, 2.9362, 2.729, 3.1012, 3.1082, 2.5921, 2.8671, 2.2615, 2.9943, 2.3715, 2.3578, 2.4257, 2.3888, 2.2199, 1.6233, 1.118, 2.3151, 2.3161, 1.5277, 0.1509, 1.5884, 1.077, 0.8646, 0.5451, 0.6251, 1.4072, 1.5409, 0.4319, 0.5514, 0.1848, -0.1135, 0.8645, 0.0199, 0.0972, 0.4436, -0.4607, 0.2038, 3.3163, 3.3119, 3.307, 3.302, 3.3003, 3.2993, 3.2986, 3.2976, 3.2969, 3.2955, 3.2946, 3.2939, 3.2933, 3.2902, 3.2888, 3.285, 3.2835, 3.2805, 3.2791, 3.278, 3.2774, 3.2731, 3.2701, 3.2698, 3.2683, 3.2683, 3.2681, 3.2646, 3.2638, 3.2637, 3.2593, 3.261, 3.2359, 3.2407, 3.0788, 3.1561, 3.1466, 3.1196, 3.1442, 3.1325, 2.9293, 2.8033, 2.6351, 2.5552, 2.6516, 2.8778, 2.6464, 3.0225, 2.9067, 2.8368, 2.5764, 2.2467, 2.5392, 2.7953, 2.7501, 2.1406, 2.3154, 1.4944, 1.8393, 1.9084, 0.9957, 0.9813, -0.2483, 1.4071, 0.7184, 0.1896, 0.6551, 0.9543, 0.4752, 1.3922, 0.282, 0.5278, 0.1667, 3.3767, 3.3746, 3.3648, 3.36, 3.3588, 3.3583, 3.3583, 3.3572, 3.3556, 3.3543, 3.3543, 3.3534, 3.3531, 3.3526, 3.3519, 3.3439, 3.3423, 3.3419, 3.3403, 3.3401, 3.3394, 3.3381, 3.3359, 3.3348, 3.3347, 3.3342, 3.3301, 3.33, 3.3277, 3.3264, 3.3172, 3.3258, 3.3223, 3.3171, 3.2943, 3.2495, 3.2954, 3.3127, 3.2171, 3.2321, 3.3081, 3.2011, 3.2413, 3.0618, 3.1658, 2.9695, 3.0518, 3.0632, 3.2371, 2.7773, 2.7964, 3.0239, 2.5192, 2.2637, 3.0851, 2.3207, 2.1088, 1.956, 2.6544, 2.5112, 2.8998, 2.1631, 1.3482, 2.0049, 0.9202, -0.1467, 0.1448, 1.2285, 0.8334, 1.4005, -0.0684, 0.5187, 0.4324, 0.0732, 0.3069, 3.4083, 3.4072, 3.4036, 3.403, 3.4006, 3.3965, 3.3941, 3.3934, 3.3916, 3.3899, 3.3885, 3.3844, 3.3841, 3.3823, 3.3807, 3.3805, 3.3803, 3.3788, 3.3775, 3.3738, 3.3725, 3.3695, 3.369, 3.3681, 3.3674, 3.3658, 3.3648, 3.3645, 3.3633, 3.3628, 3.3594, 3.3544, 3.3626, 3.325, 3.325, 3.3365, 3.3582, 3.3077, 3.3108, 3.2739, 3.3551, 3.341, 3.3017, 3.3233, 3.2004, 3.1198, 2.7357, 3.1926, 2.9323, 2.9576, 2.8661, 2.9618, 2.6492, 2.6172, 2.5085, 3.0018, 3.1767, 1.4058, 1.3845, 2.1546, 1.0143, 0.8899, 2.5151, 1.2139, 0.8244, 0.9299, -0.3088, 0.553, 0.2163, 0.4112, -0.104, 0.2103, 3.7037, 3.7031, 3.7025, 3.7005, 3.6978, 3.6931, 3.6927, 3.6926, 3.6914, 3.6911, 3.6895, 3.6885, 3.6877, 3.6873, 3.6863, 3.6861, 3.6765, 3.6763, 3.6756, 3.6753, 3.6753, 3.6743, 3.6728, 3.6723, 3.6716, 3.6698, 3.669, 3.6685, 3.668, 3.6673, 3.6613, 3.66, 3.6254, 3.6496, 3.6457, 3.6241, 3.6661, 3.5489, 3.646, 3.5104, 3.5938, 2.8349, 3.3958, 3.4188, 3.4415, 3.4353, 2.5413, 2.1744, 2.8861, 3.0297, 0.175, 2.2468, 1.158, 0.8275, 1.3475, 0.7103, 0.3868, -0.0378, 1.5521, 0.0998, 1.0162, -0.2021, 0.0815, 0.6017, 0.4451, 0.3098, -0.1209, 3.7933, 3.7866, 3.7857, 3.7853, 3.7817, 3.7799, 3.7785, 3.7757, 3.7716, 3.7681, 3.7669, 3.7657, 3.7629, 3.7591, 3.7578, 3.7574, 3.7566, 3.755, 3.755, 3.7539, 3.7532, 3.7517, 3.7501, 3.7496, 3.7489, 3.7477, 3.7469, 3.7464, 3.7459, 3.7455, 3.7388, 3.7423, 3.7235, 3.7319, 3.7325, 3.7407, 3.6987, 3.7164, 3.7278, 3.6638, 3.7099, 3.6982, 3.701, 3.5809, 3.5198, 3.4109, 3.5679, 3.4686, 3.56, 3.4976, 3.1289, 3.3094, 2.5596, 2.6311, 2.5177, 2.8048, 2.4905, 3.3289, 2.4027, 0.1764, 1.9731, 0.6976, 2.0083, 0.7373, 0.4597, 0.5012, -0.2162, 0.4418, -0.0344, 2.6206, 0.1146, 0.2072]}, \"token.table\": {\"Topic\": [2, 3, 4, 5, 6, 7, 8, 9, 10, 11, 12, 13, 14, 15, 16, 17, 18, 19, 20, 1, 1, 3, 5, 8, 10, 11, 14, 15, 16, 18, 20, 4, 1, 2, 3, 4, 5, 6, 7, 8, 9, 10, 11, 12, 13, 14, 15, 16, 17, 18, 19, 20, 1, 3, 4, 5, 6, 7, 8, 9, 11, 13, 14, 15, 16, 17, 18, 19, 20, 11, 10, 11, 4, 4, 4, 1, 6, 8, 11, 12, 13, 16, 17, 18, 19, 11, 12, 18, 15, 1, 4, 6, 8, 9, 17, 20, 19, 5, 17, 19, 1, 2, 6, 11, 17, 19, 1, 3, 4, 6, 8, 9, 10, 11, 14, 17, 18, 19, 9, 11, 6, 16, 18, 19, 1, 2, 3, 4, 5, 6, 7, 8, 9, 10, 11, 12, 13, 14, 15, 16, 17, 18, 19, 20, 12, 5, 12, 1, 2, 4, 5, 7, 8, 11, 12, 13, 16, 18, 19, 2, 3, 4, 5, 6, 7, 8, 9, 12, 13, 15, 18, 19, 6, 18, 4, 5, 7, 11, 12, 14, 15, 16, 17, 18, 19, 20, 17, 6, 7, 9, 11, 12, 14, 16, 1, 2, 3, 4, 6, 11, 13, 14, 16, 17, 20, 6, 18, 20, 1, 2, 3, 4, 5, 6, 7, 8, 9, 10, 11, 12, 13, 14, 15, 16, 17, 18, 19, 20, 1, 2, 3, 4, 5, 6, 7, 8, 9, 10, 11, 12, 13, 14, 15, 16, 17, 18, 19, 20, 17, 13, 1, 2, 3, 4, 5, 6, 7, 8, 9, 10, 11, 12, 13, 14, 16, 17, 18, 19, 20, 1, 6, 9, 11, 1, 2, 4, 12, 15, 18, 1, 2, 4, 6, 9, 15, 18, 1, 4, 12, 1, 2, 3, 4, 5, 6, 7, 8, 9, 10, 11, 12, 13, 14, 15, 16, 17, 18, 19, 20, 10, 1, 2, 3, 4, 5, 6, 7, 8, 10, 13, 14, 15, 18, 19, 20, 1, 2, 3, 4, 5, 6, 7, 8, 9, 10, 11, 12, 13, 14, 15, 16, 17, 18, 19, 20, 3, 6, 10, 11, 17, 1, 2, 3, 4, 5, 6, 7, 8, 9, 10, 11, 12, 13, 14, 15, 16, 17, 18, 19, 20, 5, 18, 1, 2, 3, 4, 5, 6, 7, 8, 9, 10, 11, 12, 13, 14, 15, 16, 17, 18, 19, 20, 17, 10, 15, 1, 2, 3, 4, 5, 8, 10, 11, 12, 14, 15, 16, 17, 18, 19, 20, 1, 1, 3, 4, 8, 12, 20, 1, 2, 3, 4, 5, 7, 8, 9, 10, 11, 12, 13, 14, 15, 16, 17, 18, 19, 20, 1, 8, 10, 20, 13, 18, 15, 4, 6, 11, 15, 19, 13, 12, 14, 1, 8, 14, 16, 18, 1, 3, 7, 8, 10, 11, 12, 13, 14, 16, 1, 11, 17, 7, 5, 4, 6, 7, 9, 10, 11, 12, 16, 18, 1, 2, 3, 4, 6, 7, 8, 9, 10, 11, 12, 13, 14, 15, 16, 17, 18, 19, 20, 3, 4, 9, 10, 5, 8, 16, 3, 16, 19, 9, 14, 18, 19, 1, 2, 3, 4, 5, 6, 7, 8, 9, 10, 11, 12, 13, 14, 15, 16, 17, 18, 19, 20, 14, 17, 4, 9, 15, 18, 2, 3, 4, 5, 1, 2, 3, 4, 5, 6, 8, 9, 10, 11, 12, 13, 14, 15, 16, 17, 18, 19, 20, 6, 1, 2, 3, 4, 5, 6, 7, 8, 9, 10, 11, 12, 14, 16, 17, 18, 19, 20, 2, 3, 5, 8, 10, 11, 12, 13, 14, 15, 16, 17, 19, 20, 17, 1, 2, 4, 5, 16, 18, 1, 9, 10, 18, 19, 8, 6, 17, 15, 2, 3, 5, 6, 7, 8, 9, 10, 13, 14, 17, 19, 20, 6, 10, 13, 20, 1, 2, 3, 4, 5, 6, 7, 8, 9, 10, 11, 12, 13, 14, 15, 16, 17, 18, 19, 20, 4, 6, 8, 9, 11, 13, 20, 8, 4, 9, 14, 16, 4, 5, 11, 17, 20, 3, 8, 11, 7, 18, 1, 2, 4, 5, 7, 8, 9, 14, 16, 17, 14, 6, 9, 12, 16, 19, 20, 1, 2, 3, 5, 6, 7, 9, 10, 11, 12, 14, 16, 19, 3, 16, 19, 2, 3, 5, 7, 8, 12, 19, 20, 2, 17, 20, 1, 2, 3, 4, 5, 6, 7, 8, 9, 10, 11, 12, 13, 14, 15, 16, 17, 18, 19, 10, 3, 17, 15, 1, 2, 3, 4, 5, 6, 7, 8, 9, 10, 11, 12, 13, 14, 15, 16, 17, 18, 19, 20, 4, 17, 19, 20, 16, 7, 3, 4, 6, 7, 8, 9, 10, 11, 12, 14, 15, 17, 18, 19, 20, 4, 1, 4, 8, 9, 10, 11, 12, 13, 15, 16, 17, 18, 1, 2, 3, 5, 6, 8, 9, 11, 13, 16, 17, 18, 1, 2, 3, 4, 5, 6, 7, 8, 9, 10, 11, 12, 13, 14, 15, 16, 17, 18, 19, 20, 1, 2, 3, 4, 6, 8, 9, 10, 11, 12, 13, 14, 15, 16, 17, 18, 19, 20, 1, 2, 3, 4, 5, 6, 7, 8, 9, 10, 11, 12, 13, 14, 15, 16, 17, 18, 19, 20, 3, 4, 12, 13, 14, 18, 4, 6, 9, 15, 19, 4, 1, 13, 20, 15, 1, 1, 2, 3, 4, 5, 6, 7, 8, 9, 10, 11, 12, 13, 14, 15, 16, 17, 18, 19, 20, 1, 5, 6, 7, 8, 11, 12, 13, 15, 17, 20, 1, 3, 4, 5, 6, 7, 8, 10, 11, 12, 14, 15, 17, 18, 19, 14, 2, 6, 9, 11, 12, 13, 20, 2, 3, 4, 5, 10, 13, 17, 20, 2, 6, 7, 8, 9, 15, 1, 2, 3, 4, 5, 6, 7, 8, 9, 10, 11, 12, 13, 14, 15, 16, 17, 18, 19, 20, 1, 4, 5, 7, 8, 10, 11, 14, 15, 16, 17, 18, 20, 1, 2, 3, 4, 5, 6, 8, 9, 11, 12, 13, 14, 15, 16, 18, 19, 20, 1, 4, 10, 7, 8, 12, 14, 16, 18, 3, 5, 7, 15, 20, 15, 6, 7, 8, 9, 12, 14, 12, 2, 3, 4, 5, 6, 7, 8, 9, 13, 14, 15, 18, 19, 8, 15, 16, 11, 18, 17, 1, 2, 3, 4, 5, 6, 7, 8, 9, 10, 11, 12, 13, 14, 15, 16, 17, 18, 19, 20, 1, 10, 1, 2, 3, 4, 6, 7, 8, 9, 10, 11, 12, 14, 15, 16, 17, 18, 19, 20, 14, 18, 3, 4, 5, 7, 10, 12, 13, 14, 15, 19, 4, 20, 3, 17, 14, 9, 3, 4, 7, 8, 13, 15, 16, 18, 1, 6, 14, 19, 10, 15, 1, 2, 3, 4, 5, 6, 7, 8, 9, 10, 11, 12, 13, 14, 15, 16, 17, 18, 19, 20, 7, 9, 11, 16, 19, 5, 1, 2, 4, 5, 6, 7, 8, 9, 10, 12, 14, 15, 18, 19, 20, 1, 2, 3, 4, 5, 6, 7, 9, 11, 12, 13, 14, 15, 16, 18, 19, 1, 2, 3, 4, 7, 9, 11, 12, 13, 14, 15, 16, 18, 19, 1, 2, 3, 4, 5, 6, 7, 8, 9, 10, 11, 12, 13, 14, 15, 16, 17, 18, 19, 20, 7, 1, 2, 3, 4, 5, 6, 7, 8, 9, 10, 11, 12, 13, 14, 15, 16, 17, 18, 19, 20, 9, 2, 3, 5, 7, 9, 10, 12, 15, 16, 17, 19, 20, 8, 10, 12, 14, 18, 2, 5, 14, 18, 4, 17, 14, 1, 2, 3, 4, 5, 6, 7, 8, 9, 10, 11, 12, 13, 14, 15, 16, 17, 18, 19, 20, 4, 1, 1, 4, 6, 20, 17, 1, 2, 3, 4, 5, 6, 7, 8, 10, 11, 12, 13, 15, 16, 17, 18, 19, 20, 3, 4, 5, 6, 7, 8, 9, 10, 11, 15, 16, 17, 18, 19, 2, 10, 4, 13, 17, 19, 20, 1, 2, 3, 4, 5, 6, 7, 8, 10, 12, 13, 14, 17, 19, 1, 2, 3, 4, 5, 6, 7, 10, 11, 12, 13, 15, 16, 17, 18, 19, 20, 1, 2, 3, 5, 13, 15, 16, 17, 19, 1, 2, 3, 4, 5, 6, 7, 8, 9, 10, 12, 13, 15, 16, 17, 18, 19, 1, 3, 4, 6, 7, 8, 11, 12, 15, 16, 17, 18, 19, 20, 7, 6, 14, 15, 1, 3, 4, 6, 8, 11, 12, 13, 14, 15, 16, 17, 18, 19, 5, 13, 1, 2, 3, 4, 5, 6, 7, 8, 9, 10, 11, 12, 13, 14, 15, 16, 17, 18, 19, 20, 4, 20, 13, 2, 1, 2, 3, 4, 5, 6, 7, 8, 9, 10, 11, 12, 13, 14, 15, 16, 17, 18, 19, 1, 2, 4, 5, 6, 7, 9, 10, 12, 13, 15, 18, 19, 20, 1, 2, 3, 4, 5, 6, 7, 8, 9, 10, 11, 12, 13, 14, 15, 16, 17, 18, 19, 11, 1, 2, 7, 17, 20, 1, 4, 6, 7, 1, 11, 12, 1, 2, 3, 4, 5, 6, 7, 8, 9, 10, 11, 12, 13, 14, 15, 16, 17, 18, 19, 20, 1, 2, 3, 4, 5, 6, 7, 9, 11, 12, 13, 14, 15, 16, 18, 19, 20, 8, 9, 12, 18, 20, 1, 8, 10, 11, 14, 15, 16, 1, 3, 4, 5, 8, 10, 14, 16, 20, 2, 1, 2, 3, 4, 5, 6, 7, 8, 9, 10, 11, 12, 13, 14, 15, 16, 17, 18, 19, 20, 5, 18, 19, 3, 2, 7, 3, 15, 2, 3, 4, 5, 6, 7, 8, 9, 10, 12, 13, 14, 16, 17, 18, 19, 20, 3, 10, 15, 19, 12, 15, 19, 4, 8, 1, 2, 3, 4, 5, 6, 7, 8, 9, 10, 11, 12, 13, 14, 15, 16, 17, 18, 19, 20, 1, 3, 10, 13, 16, 3, 5, 6, 10, 11, 13, 19, 13, 8, 1, 2, 3, 4, 5, 6, 7, 8, 9, 10, 11, 12, 13, 14, 15, 16, 17, 18, 19, 20, 1, 2, 3, 4, 5, 6, 7, 8, 9, 10, 11, 12, 13, 14, 15, 16, 17, 18, 19, 20, 7, 8, 9, 13, 14, 16, 18, 2, 12, 3, 1, 2, 3, 4, 5, 6, 7, 8, 9, 11, 12, 13, 14, 15, 16, 17, 18, 19, 20, 2, 1, 5, 7, 8, 11, 12, 13, 14, 15, 16, 19, 1, 2, 3, 4, 6, 11, 12, 13, 15, 16, 18, 20, 1, 2, 3, 4, 5, 6, 7, 8, 10, 11, 13, 14, 15, 16, 1, 3, 4, 5, 6, 7, 8, 10, 11, 12, 13, 14, 15, 16, 17, 18, 19, 20, 7, 4, 1, 2, 3, 4, 5, 6, 8, 10, 11, 13, 14, 15, 16, 17, 18, 19, 20, 13, 1, 3, 7, 11, 14, 16, 20, 8, 2, 4, 6, 15, 18, 14, 14, 13, 18, 2, 3, 4, 5, 7, 10, 11, 12, 14, 17, 18, 19, 6, 12, 15, 4, 1, 4, 8, 9, 10, 12, 13, 14, 20, 8, 19, 1, 2, 3, 4, 5, 8, 10, 13, 14, 17, 18, 19, 12, 1, 5, 16, 1, 16, 11, 16, 19, 1, 2, 3, 4, 5, 6, 7, 8, 9, 11, 12, 13, 15, 17, 19, 20, 12, 13, 1, 2, 3, 4, 5, 6, 8, 9, 10, 11, 13, 14, 15, 17, 19, 20, 1, 2, 3, 5, 6, 8, 9, 10, 11, 13, 14, 15, 16, 17, 19, 20, 18, 6, 3, 7, 14, 17, 20, 3, 6, 9, 10, 11, 14, 16, 17, 19, 17, 3, 4, 5, 7, 19, 1, 2, 3, 4, 5, 6, 7, 8, 9, 10, 11, 12, 13, 14, 15, 16, 17, 18, 19, 20, 6, 9, 11, 2, 12, 15, 18, 2, 12, 15, 18, 2, 3, 4, 5, 6, 7, 9, 10, 11, 12, 13, 14, 15, 16, 17, 19, 20, 6, 10, 11, 1, 2, 3, 4, 5, 6, 7, 8, 9, 10, 11, 12, 13, 14, 15, 16, 17, 18, 19, 20, 5, 7, 11, 17, 2, 3, 4, 5, 6, 7, 8, 9, 11, 12, 13, 14, 16, 19, 20, 20, 20, 2, 3, 4, 5, 7, 10, 12, 18, 19, 20, 14, 2, 3, 7, 8, 10, 14, 15, 1, 17, 9, 13, 1, 2, 3, 4, 6, 7, 8, 10, 11, 14, 16, 17, 18, 19, 20, 8, 9, 11, 1, 1, 2, 6, 8, 9, 10, 11, 12, 13, 14, 15, 17, 19, 20, 12, 19, 12, 5, 14, 15, 20, 1, 2, 3, 4, 5, 6, 7, 8, 9, 10, 11, 12, 13, 14, 15, 16, 17, 18, 19, 20, 17, 1, 2, 9, 20, 1, 3, 8, 10, 11, 14, 17, 8, 16, 1, 9, 11, 18, 20, 2, 3, 13, 19, 2, 1, 2, 3, 4, 5, 6, 7, 8, 9, 10, 11, 12, 13, 14, 15, 16, 17, 18, 19, 20, 1, 2, 4, 5, 6, 7, 8, 9, 10, 12, 13, 14, 15, 16, 18, 19, 20, 7, 18, 19, 2, 10, 19, 4, 14, 1, 2, 3, 4, 5, 6, 7, 8, 10, 11, 14, 15, 16, 18, 1, 11, 13, 14, 18, 18, 1, 2, 3, 4, 5, 6, 7, 8, 9, 10, 11, 12, 13, 14, 15, 16, 17, 18, 19, 20, 1, 8, 10, 11, 14, 15, 16, 1, 1, 2, 4, 5, 7, 8, 10, 11, 15, 16, 17, 18, 19, 2, 4, 6, 7, 8, 10, 11, 12, 18, 18, 20, 16, 14, 1, 2, 4, 5, 7, 13, 17, 1, 2, 3, 4, 5, 6, 7, 8, 9, 10, 11, 12, 13, 14, 15, 16, 17, 18, 19, 20, 1, 3, 4, 6, 12, 1, 18, 1, 2, 3, 4, 5, 6, 7, 8, 9, 10, 11, 12, 13, 14, 15, 16, 17, 18, 19, 14, 1, 2, 3, 4, 5, 6, 7, 8, 9, 10, 11, 12, 13, 14, 15, 16, 17, 18, 19, 20, 1, 3, 4, 5, 7, 8, 10, 11, 13, 14, 15, 17, 18, 19, 20, 8, 1, 2, 3, 14, 15, 18, 2, 3, 5, 6, 7, 8, 9, 10, 13, 19, 1, 2, 3, 4, 5, 6, 7, 8, 9, 10, 11, 12, 13, 14, 15, 16, 17, 18, 19, 20, 20, 1, 2, 4, 5, 10, 14, 16, 2, 3, 5, 7, 9, 10, 11, 12, 13, 17, 20, 1, 2, 3, 4, 5, 7, 10, 13, 15, 16, 17, 20, 2, 3, 4, 7, 8, 11, 12, 13, 14, 15, 16, 17, 18, 19, 2, 3, 4, 5, 7, 8, 9, 10, 11, 12, 13, 14, 15, 16, 18, 19, 20, 3, 5, 12, 14, 1, 5, 6, 7, 10, 12, 15, 17, 19, 8, 2, 1, 2, 3, 4, 5, 6, 7, 8, 9, 10, 11, 12, 13, 14, 15, 16, 17, 18, 19, 20, 3, 5, 10, 11, 13, 15, 20, 1, 2, 3, 4, 5, 6, 7, 8, 9, 10, 11, 12, 13, 14, 15, 16, 17, 18, 19, 20, 19, 12, 19, 1, 2, 3, 4, 5, 6, 7, 8, 9, 10, 11, 12, 13, 14, 15, 16, 17, 18, 19, 20, 1, 2, 3, 4, 5, 6, 7, 8, 9, 10, 11, 12, 13, 14, 15, 16, 17, 18, 19, 20, 1, 2, 3, 4, 5, 6, 7, 8, 9, 10, 11, 12, 13, 14, 15, 16, 17, 18, 19, 20, 6, 9, 11, 3, 13, 3, 4, 6, 12, 14, 4, 2, 4, 15, 17, 1, 2, 8, 10, 17, 2, 7, 9, 12, 14, 6, 18, 6, 2, 3, 4, 5, 6, 10, 12, 16, 17, 19, 2, 3, 5, 9, 10, 16, 17, 5, 6, 8, 9, 11, 12, 17, 19, 20, 1, 2, 3, 4, 5, 6, 7, 8, 10, 11, 12, 13, 14, 15, 16, 17, 18, 19, 20, 8, 12, 14, 1, 1, 4, 5, 7, 8, 10, 11, 12, 13, 14, 16, 18, 20, 1, 11, 12, 16, 1, 2, 3, 4, 5, 6, 7, 8, 9, 10, 11, 12, 13, 15, 16, 17, 18, 19, 20, 1, 2, 3, 4, 5, 7, 8, 9, 10, 11, 12, 13, 14, 15, 16, 17, 18, 20, 1, 5, 8, 19, 6, 1, 2, 3, 6, 8, 9, 10, 11, 13, 17, 18, 9, 1, 2, 3, 4, 5, 6, 8, 9, 10, 12, 13, 14, 15, 17, 19, 20, 2, 12, 3, 10, 1, 2, 3, 4, 5, 6, 7, 8, 9, 10, 11, 12, 13, 14, 15, 16, 17, 18, 19, 20, 1, 2, 3, 4, 5, 6, 7, 8, 9, 10, 11, 12, 13, 14, 15, 16, 17, 18, 19, 20, 1, 14, 17, 20, 6, 16, 1, 2, 3, 4, 5, 6, 8, 10, 13, 14, 16, 17, 20, 5, 6, 7, 14, 3, 5, 7, 15, 1, 2, 4, 7, 8, 10, 11, 14, 16, 19, 14, 7, 1, 2, 3, 4, 5, 6, 7, 8, 9, 10, 11, 12, 13, 14, 15, 16, 17, 18, 19, 20, 15, 17, 15, 10, 15, 9, 6, 11, 8, 14, 15, 9, 11, 14, 15, 19, 2, 3, 5, 7, 8, 9, 10, 12, 13, 14, 15, 17, 18, 19, 20, 5, 2, 3, 4, 5, 9, 10, 13, 14, 15, 17, 18, 19, 20, 1, 16, 5, 12, 13, 13, 1, 2, 3, 4, 5, 6, 7, 8, 9, 10, 11, 12, 13, 14, 15, 16, 17, 18, 19, 20, 1, 2, 3, 4, 5, 6, 7, 8, 9, 10, 11, 12, 13, 14, 15, 16, 17, 18, 19, 20, 6, 10, 11, 13, 14, 3, 5, 11, 14, 15, 17, 20, 1, 2, 3, 4, 5, 6, 7, 8, 9, 10, 11, 12, 13, 14, 15, 16, 17, 18, 19, 20, 13, 14, 18, 13, 18, 3, 1, 16, 5, 10, 12, 1, 2, 3, 4, 5, 6, 7, 8, 9, 10, 11, 12, 13, 14, 15, 16, 17, 18, 19, 20, 2, 1, 2, 3, 4, 5, 6, 9, 10, 11, 12, 13, 15, 17, 18, 19, 1, 11, 12, 6, 3, 1, 2, 5, 8, 9, 10, 13, 16, 17, 3, 5, 6, 8, 9, 10, 11, 12, 13, 16, 20, 1, 2, 3, 4, 5, 6, 7, 8, 9, 10, 11, 12, 14, 15, 16, 17, 18, 19, 1, 2, 3, 5, 9, 14, 16, 5, 4, 5, 1, 5, 7, 14, 18, 19, 4, 5, 7, 8, 20, 2, 3, 5, 6, 10, 13, 16, 17, 20, 9, 17, 1, 2, 3, 5, 6, 7, 8, 9, 10, 11, 13, 16, 17, 19, 7, 15, 4, 6, 7, 8, 9, 14, 17, 19, 1, 2, 3, 4, 5, 6, 7, 8, 9, 10, 11, 12, 13, 14, 15, 16, 17, 18, 19, 20, 1, 2, 3, 4, 5, 6, 7, 8, 9, 10, 11, 12, 13, 14, 15, 16, 17, 18, 19, 20, 1, 3, 10, 11, 18, 19, 20, 1, 2, 3, 4, 5, 6, 8, 9, 10, 11, 12, 13, 14, 15, 17, 18, 19, 20, 8, 6, 1, 2, 3, 4, 5, 6, 7, 8, 9, 10, 11, 12, 13, 14, 15, 16, 17, 18, 19, 20, 18, 3, 2, 3, 10, 15, 18, 1, 2, 3, 4, 5, 6, 7, 8, 9, 10, 11, 12, 13, 14, 15, 16, 17, 18, 19, 20, 6, 6, 9, 6, 7, 10, 12, 16, 18, 19, 1, 1, 2, 3, 4, 5, 6, 7, 8, 9, 10, 11, 12, 13, 14, 15, 16, 17, 18, 19, 20, 7, 15, 3, 8, 11, 16, 1, 2, 3, 4, 5, 6, 7, 8, 9, 10, 11, 12, 14, 15, 16, 17, 18, 19, 3, 15, 4, 11, 19, 1, 2, 3, 4, 5, 6, 7, 8, 9, 10, 11, 12, 13, 14, 15, 16, 17, 18, 19, 20, 20, 4, 6, 7, 13, 18, 19, 11, 15, 16, 1, 2, 3, 4, 5, 6, 7, 8, 9, 10, 11, 12, 13, 14, 15, 16, 17, 18, 19, 20, 11, 8, 1, 2, 3, 4, 6, 7, 9, 11, 12, 13, 14, 15, 16, 17, 18, 19, 9, 1, 2, 3, 4, 5, 6, 7, 10, 13, 14, 15, 17, 18, 19, 20, 1, 2, 3, 4, 5, 6, 7, 10, 11, 13, 14, 15, 17, 18, 19, 20, 1, 2, 3, 4, 5, 6, 7, 8, 9, 10, 11, 12, 13, 14, 15, 16, 17, 18, 19, 20, 3, 1, 3, 4, 7, 8, 9, 10, 11, 12, 13, 14, 15, 16, 17, 18, 19, 14, 3, 12, 20, 1, 6, 10, 11, 14, 18, 19, 2, 19, 7, 1, 2, 3, 4, 6, 7, 8, 10, 11, 12, 13, 14, 17, 18, 19, 20, 1, 2, 3, 4, 5, 7, 8, 9, 10, 11, 12, 13, 14, 15, 18, 19, 10, 1, 6, 20, 1, 2, 3, 4, 5, 6, 8, 9, 10, 11, 12, 13, 15, 16, 17, 19, 1, 2, 3, 4, 5, 6, 9, 10, 11, 13, 14, 15, 19, 20, 2, 3, 8, 19, 1, 2, 3, 4, 6, 7, 9, 10, 11, 13, 17, 19, 20, 20, 19, 15, 9, 1, 2, 4, 5, 6, 7, 8, 9, 10, 11, 12, 14, 15, 16, 17, 18, 19, 20, 1, 2, 4, 5, 6, 7, 8, 9, 10, 11, 12, 13, 14, 15, 16, 17, 18, 19, 20, 7, 10, 17, 3, 12, 15, 17, 18, 11, 12, 18, 3, 4, 10, 18, 1, 2, 3, 4, 5, 6, 7, 8, 9, 10, 11, 12, 13, 14, 15, 16, 17, 18, 19, 20, 1, 2, 3, 4, 5, 6, 7, 8, 9, 10, 11, 12, 13, 14, 15, 16, 17, 18, 19, 20, 3, 3, 7, 1, 2, 3, 4, 5, 13, 14, 18, 3, 4, 8, 10, 11, 15, 2, 3, 4, 5, 6, 7, 11, 12, 14, 16, 17, 18, 19, 5, 7, 14, 19, 1, 2, 3, 4, 5, 6, 7, 8, 9, 10, 11, 12, 13, 14, 15, 16, 18, 20, 10, 1, 2, 3, 4, 5, 7, 8, 9, 10, 11, 12, 13, 14, 15, 16, 17, 18, 19, 20, 8, 6, 12, 14, 18, 1, 2, 4, 5, 6, 8, 11, 12, 13, 15, 16, 17, 18, 6, 12, 4, 5, 19, 13, 2, 11, 15, 19, 5, 3, 4, 5, 17, 1, 2, 3, 4, 5, 6, 7, 8, 9, 10, 11, 12, 13, 14, 15, 16, 17, 18, 19, 20, 2, 6, 9, 11, 15, 16, 19, 3, 10, 13, 2, 4, 14, 20, 1, 2, 3, 4, 5, 6, 7, 8, 9, 10, 11, 12, 13, 14, 15, 16, 17, 18, 19, 20, 1, 2, 3, 5, 6, 9, 12, 13, 14, 15, 18, 1, 2, 3, 4, 5, 6, 7, 8, 11, 12, 13, 14, 16, 17, 18, 19, 1, 2, 4, 5, 7, 9, 10, 11, 12, 13, 14, 15, 16, 18, 19, 7, 8, 12, 13, 18, 19, 9, 6, 11, 20, 1, 3, 4, 5, 7, 8, 9, 10, 11, 14, 17, 18, 3, 13, 4, 7, 19, 12, 16, 19, 2, 17, 20, 1, 2, 3, 6, 8, 9, 10, 11, 12, 13, 16, 17, 18, 19, 11, 17, 19, 4, 7, 12, 15, 19, 3, 10, 17, 6, 17, 1, 6, 11, 14, 15, 1, 2, 3, 4, 5, 6, 7, 8, 9, 10, 12, 13, 14, 15, 16, 17, 18, 19, 20, 1, 2, 3, 4, 5, 6, 7, 8, 9, 10, 11, 12, 13, 14, 15, 16, 17, 18, 19, 20, 9, 14, 19, 1, 3, 4, 5, 7, 8, 9, 11, 12, 13, 14, 15, 16, 17, 18, 19, 20, 2, 3, 4, 11, 12, 13, 16, 19, 1, 2, 4, 7, 12, 18, 1, 2, 3, 5, 6, 7, 9, 10, 14, 17, 19, 20, 17, 1, 2, 3, 4, 5, 6, 7, 8, 9, 10, 11, 12, 13, 14, 15, 16, 17, 18, 19, 20, 3, 10, 1, 2, 3, 4, 5, 6, 7, 8, 9, 10, 11, 12, 13, 14, 15, 16, 17, 18, 19, 20, 1, 2, 3, 4, 5, 6, 7, 8, 9, 10, 11, 12, 13, 14, 15, 16, 17, 18, 19, 20, 14, 3, 6, 8, 9, 18, 1, 2, 3, 4, 5, 6, 7, 8, 9, 10, 11, 13, 14, 15, 16, 17, 18, 19, 20, 1, 2, 3, 4, 5, 6, 7, 8, 9, 10, 11, 12, 13, 14, 15, 16, 17, 18, 19, 20, 20, 1, 2, 3, 4, 5, 6, 7, 8, 9, 10, 11, 12, 13, 14, 15, 16, 17, 18, 19, 20, 17, 1, 2, 3, 4, 5, 6, 7, 8, 9, 10, 12, 13, 14, 15, 16, 17, 18, 19, 20, 5, 18, 1, 2, 3, 4, 5, 6, 7, 8, 9, 10, 11, 12, 13, 14, 17, 18, 20, 1, 2, 3, 4, 5, 6, 7, 8, 9, 10, 11, 12, 13, 14, 15, 16, 17, 18, 19, 20, 10, 17, 1, 3, 4, 5, 7, 8, 10, 13, 17, 18, 19, 20, 4, 10, 20, 1, 6, 17, 20, 2, 17, 20, 1, 2, 3, 4, 5, 6, 7, 8, 9, 10, 11, 12, 13, 14, 15, 16, 17, 18, 19, 20, 1, 2, 3, 4, 5, 6, 7, 8, 9, 10, 11, 12, 13, 14, 15, 16, 18, 19, 20, 11, 2, 9, 1, 2, 3, 4, 5, 6, 7, 8, 9, 10, 11, 12, 13, 14, 15, 16, 17, 18, 19, 20, 6, 13, 2, 3, 5, 20, 1, 2, 15, 3, 4, 6, 7, 9, 10, 1, 2, 3, 4, 5, 6, 7, 8, 9, 10, 11, 12, 13, 14, 15, 16, 17, 18, 19, 20, 1, 2, 3, 4, 5, 6, 7, 8, 9, 10, 11, 12, 13, 14, 15, 16, 17, 18, 19, 20, 11, 1, 4, 18, 20, 1, 1, 5, 6, 7, 9, 11, 12, 14, 16, 20, 9, 11, 11, 18, 20, 3, 5, 7, 9, 12, 14, 16, 19, 20, 13, 2, 3, 4, 5, 7, 8, 9, 10, 11, 12, 13, 14, 15, 16, 17, 18, 19, 20, 19, 3, 5, 10, 13, 18, 19, 17, 11, 6, 1, 2, 3, 4, 5, 6, 7, 8, 9, 10, 11, 12, 13, 14, 15, 16, 17, 18, 19, 20, 16, 1, 2, 3, 4, 7, 8, 10, 11, 12, 15, 20, 1, 2, 3, 4, 5, 6, 7, 9, 10, 11, 12, 13, 14, 15, 16, 17, 18, 19, 20, 1, 2, 3, 5, 7, 8, 9, 10, 12, 14, 16, 18, 19, 20, 1, 2, 3, 4, 5, 6, 7, 8, 9, 10, 11, 12, 13, 14, 15, 16, 17, 18, 19, 20, 1, 2, 3, 4, 5, 6, 7, 8, 9, 10, 11, 12, 13, 14, 15, 16, 17, 18, 19, 20, 10, 1, 3, 16, 3, 4, 15, 8, 20, 5, 13, 18, 2, 5, 6, 7, 8, 9, 13, 14, 15, 17, 19, 3, 4, 6, 8, 19, 8, 19, 6, 7, 8, 12, 14, 1, 2, 3, 4, 5, 6, 7, 8, 9, 10, 11, 12, 13, 14, 15, 16, 17, 18, 19, 20, 3, 1, 2, 3, 4, 5, 6, 7, 8, 9, 10, 11, 12, 13, 14, 15, 16, 17, 18, 19, 20, 1, 2, 3, 4, 5, 7, 9, 10, 12, 13, 17, 19, 20, 17, 12, 13, 7, 11, 9, 2, 1, 5, 10, 15, 17, 18, 5, 8, 13, 11, 4, 2, 2, 12, 13, 1, 3, 5, 6, 7, 16, 18, 17, 8, 1, 2, 3, 4, 5, 7, 10, 11, 13, 15, 16, 18, 19, 20, 1, 3, 4, 10, 12, 14, 2, 13, 3, 5, 11, 3, 20, 13, 4, 5, 14, 1, 2, 3, 5, 7, 8, 10, 11, 12, 13, 14, 15, 16, 17, 18, 19, 17, 1, 6, 12, 1, 2, 3, 4, 5, 6, 7, 8, 10, 11, 12, 13, 14, 15, 16, 17, 18, 19, 20, 16, 1, 2, 3, 4, 5, 6, 7, 8, 9, 10, 11, 12, 13, 14, 15, 16, 17, 18, 19, 20, 7, 19, 10, 19, 1, 2, 3, 4, 5, 6, 7, 8, 9, 10, 11, 12, 13, 14, 15, 16, 17, 18, 19, 20, 11, 19, 1, 2, 3, 4, 5, 6, 7, 8, 9, 10, 11, 12, 13, 14, 15, 16, 17, 18, 19, 20, 1, 2, 3, 4, 5, 6, 7, 8, 9, 10, 11, 12, 13, 14, 15, 16, 17, 18, 19, 20, 5, 17, 6, 12, 18, 1, 2, 3, 4, 5, 7, 8, 9, 10, 12, 13, 14, 15, 16, 17, 18, 19, 20, 7, 3, 4, 6, 10, 11, 12, 17, 19, 2, 5, 17, 19, 15, 7, 13, 1, 6, 7, 11, 15, 16, 1, 6, 6, 15, 1, 2, 3, 4, 5, 6, 7, 8, 9, 10, 11, 12, 13, 14, 15, 16, 17, 18, 19, 20, 1, 14, 16, 1, 2, 3, 4, 5, 6, 7, 8, 9, 10, 11, 12, 13, 14, 15, 16, 17, 18, 19, 20, 1, 2, 4, 13, 17, 18, 19, 20, 5, 19, 2, 5, 13, 1, 3, 4, 7, 8, 11, 12, 14, 15, 16, 17, 19, 20, 1, 2, 3, 4, 5, 6, 7, 8, 9, 10, 11, 12, 13, 14, 15, 16, 17, 18, 19, 20, 1, 2, 3, 4, 6, 11, 14, 15, 9, 17, 18, 4, 10, 12, 14, 18, 10, 12, 6, 8, 11, 17, 19, 17, 1, 2, 3, 4, 5, 6, 7, 8, 9, 10, 11, 12, 13, 14, 15, 16, 17, 18, 19, 20, 16, 19, 1, 2, 3, 4, 5, 6, 7, 8, 9, 10, 11, 12, 13, 14, 15, 16, 17, 18, 19, 20, 18, 7, 1, 2, 3, 4, 5, 6, 7, 9, 10, 11, 12, 13, 14, 15, 16, 17, 18, 19, 20, 1, 2, 3, 4, 5, 6, 7, 8, 9, 10, 11, 12, 13, 14, 15, 16, 17, 18, 19, 20, 1, 3, 6, 13, 14, 17, 1, 2, 3, 4, 5, 6, 8, 9, 10, 11, 13, 14, 15, 16, 17, 18, 19, 20, 2, 3, 5, 8, 9, 19, 3, 7, 14, 14, 1, 14, 16, 1, 2, 3, 4, 5, 6, 7, 8, 9, 10, 11, 12, 13, 14, 15, 16, 17, 18, 19, 20, 14, 1, 2, 3, 4, 5, 6, 7, 8, 9, 10, 11, 12, 13, 14, 16, 17, 18, 19, 20, 6, 7, 9, 11, 12, 16, 20, 1, 2, 3, 4, 5, 6, 7, 8, 9, 10, 11, 12, 13, 14, 15, 16, 17, 18, 19, 20, 9, 6, 16, 1, 3, 7, 11, 12, 13, 14, 15, 16, 17, 18, 20, 1, 2, 3, 7, 13, 14, 15, 16, 18, 19, 1, 3, 5, 7, 8, 12, 14, 17, 18, 1, 2, 3, 4, 5, 6, 8, 9, 10, 11, 12, 14, 16, 18, 19, 11, 18, 7, 6, 8, 9, 13, 16, 17, 1, 2, 3, 4, 5, 6, 7, 8, 9, 10, 11, 12, 13, 14, 15, 16, 17, 18, 19, 20, 1, 2, 3, 4, 5, 7, 10, 11, 12, 14, 17, 19, 1, 2, 3, 4, 5, 6, 7, 8, 9, 10, 11, 12, 13, 14, 15, 16, 17, 18, 19, 20, 5, 3, 10, 13, 18, 7, 9, 2, 4, 14, 4, 7, 9, 1, 2, 3, 4, 6, 7, 8, 9, 10, 11, 12, 13, 14, 15, 16, 17, 18, 19, 20, 4, 16, 3, 14, 16, 3, 5, 10, 13, 1, 2, 3, 6, 7, 9, 10, 11, 13, 15, 16, 17, 19, 6, 15, 11, 9, 16, 1, 2, 3, 4, 5, 6, 7, 8, 9, 10, 11, 12, 13, 14, 15, 16, 17, 18, 19, 20, 11, 9, 5, 6, 13, 6, 1, 2, 3, 5, 16, 17, 19, 10, 13, 17, 7, 12, 17, 8, 4, 10, 17, 14, 2, 8, 12, 9, 10, 14, 19, 9, 19, 1, 2, 3, 4, 5, 7, 8, 9, 10, 14, 18, 19, 7, 10, 15, 20, 1, 2, 3, 4, 5, 6, 7, 8, 9, 10, 11, 12, 13, 14, 15, 16, 17, 18, 19, 20, 1, 2, 4, 7, 8, 9, 10, 11, 12, 13, 15, 16, 17, 20, 1, 11, 10, 18, 2, 6, 1, 2, 3, 5, 7, 10, 11, 12, 13, 16, 19, 6, 20, 1, 2, 3, 4, 5, 6, 7, 8, 9, 10, 11, 12, 13, 14, 15, 16, 18, 19, 3, 1, 2, 3, 4, 5, 6, 7, 8, 9, 10, 11, 12, 13, 14, 15, 16, 17, 18, 19, 20, 16, 17, 1, 2, 3, 4, 5, 6, 7, 8, 9, 10, 11, 12, 13, 14, 15, 16, 17, 18, 19, 20, 2, 11, 14, 2, 3, 5, 6, 7, 9, 10, 11, 13, 15, 18, 2, 2, 3, 6, 7, 8, 9, 11, 12, 14, 16, 12, 4, 1, 2, 3, 4, 5, 6, 7, 8, 9, 10, 11, 12, 13, 14, 15, 16, 18, 19, 1, 3, 8, 11, 14, 16, 18, 1, 4, 8, 10, 11, 13, 17, 18, 5, 7, 13, 1, 2, 3, 4, 5, 6, 7, 8, 10, 11, 12, 13, 14, 15, 16, 17, 18, 19, 20, 13, 15, 16, 11, 8, 12, 13, 1, 2, 3, 4, 10, 11, 13, 18, 19, 1, 2, 3, 4, 5, 6, 7, 10, 11, 12, 13, 14, 15, 17, 20, 1, 2, 3, 4, 5, 6, 7, 8, 9, 10, 11, 12, 13, 14, 15, 16, 17, 18, 19, 20, 6, 3, 15, 17, 1, 2, 3, 4, 5, 6, 7, 8, 9, 10, 11, 12, 13, 14, 15, 16, 17, 18, 19, 20, 2, 3, 4, 5, 12, 13, 14, 15, 17, 18, 19, 2, 4, 12, 14, 18, 1, 2, 3, 4, 5, 6, 7, 8, 9, 10, 11, 12, 15, 16, 17, 18, 19, 20, 2, 3, 4, 5, 6, 7, 8, 9, 10, 11, 12, 13, 14, 15, 16, 17, 18, 19, 20, 7, 2, 3, 4, 8, 11, 12, 16, 17, 18, 19, 14, 2, 1, 5, 1, 6, 8, 1, 3, 13, 15, 16, 20, 1, 2, 3, 4, 5, 6, 7, 8, 9, 10, 11, 12, 13, 14, 15, 16, 17, 18, 19, 20, 5, 1, 2, 3, 5, 8, 9, 10, 12, 13, 14, 16, 19, 20, 2, 3, 4, 5, 6, 8, 9, 10, 12, 13, 15, 16, 17, 18, 19, 20, 1, 5, 5, 6, 8, 9, 12, 14, 16, 19, 20, 2, 3, 4, 5, 6, 7, 10, 11, 13, 15, 16, 17, 19, 20, 19, 1, 2, 3, 4, 5, 6, 7, 8, 9, 10, 11, 12, 13, 14, 15, 16, 17, 18, 19, 20, 7, 1, 2, 3, 4, 5, 6, 7, 8, 9, 11, 12, 13, 14, 15, 16, 17, 18, 19, 20, 1, 2, 3, 4, 5, 6, 7, 8, 9, 10, 11, 12, 13, 14, 15, 16, 17, 18, 19, 20, 1, 2, 3, 4, 5, 6, 8, 10, 11, 12, 14, 1, 2, 3, 4, 5, 6, 7, 8, 9, 10, 11, 12, 13, 14, 15, 16, 17, 18, 19, 20, 7, 10, 11, 18, 6, 11, 13, 19, 20, 16, 1, 2, 3, 6, 14, 16, 19, 1, 3, 4, 5, 7, 10, 12, 14, 15, 16, 17, 18, 2, 3, 4, 5, 6, 7, 9, 10, 12, 14, 15, 16, 17, 18, 20, 16, 18, 20, 3, 5, 14, 15, 14, 20, 20, 4, 1, 2, 3, 8, 12, 13, 14, 17, 18, 1, 2, 3, 4, 5, 6, 7, 8, 9, 10, 11, 12, 13, 14, 15, 16, 17, 18, 19, 20, 1, 5, 8, 11, 12, 14, 3, 5, 9, 20, 15, 12, 14, 16, 20, 20, 10, 15, 1, 14, 19, 4, 8, 10, 11, 3, 5, 2, 3, 5, 8, 9, 16, 18, 8, 18, 19, 9, 11, 1, 2, 3, 4, 5, 7, 9, 11, 12, 13, 19, 20, 5, 1, 2, 3, 7, 10, 16, 3, 5, 9, 10, 14, 15, 18, 19, 2, 3, 4, 5, 7, 10, 12, 13, 15, 18, 19, 20, 1, 2, 3, 4, 5, 6, 7, 8, 9, 10, 11, 12, 13, 14, 15, 16, 17, 18, 19, 20, 2, 3, 4, 15, 17, 19, 1, 3, 5, 6, 7, 9, 11, 12, 13, 15, 18, 13, 20, 5, 9, 11, 12, 16, 9, 1, 2, 3, 4, 5, 6, 7, 8, 9, 10, 11, 12, 13, 17, 18, 19, 4, 3, 1, 2, 3, 4, 5, 6, 7, 8, 9, 10, 11, 12, 13, 14, 15, 16, 17, 18, 19, 20, 19, 4, 1, 2, 3, 4, 5, 6, 7, 8, 9, 10, 11, 12, 13, 14, 15, 16, 17, 18, 19, 20, 5, 9, 1, 2, 6, 7, 11, 12, 16, 19, 20, 2, 3, 5, 10, 13, 15, 18, 1, 2, 3, 4, 5, 6, 7, 9, 11, 12, 13, 14, 15, 16, 18, 19, 19, 9, 1, 2, 3, 4, 5, 6, 7, 8, 9, 10, 11, 12, 13, 14, 16, 17, 20, 3, 5, 1, 2, 3, 4, 5, 6, 7, 8, 9, 10, 11, 12, 13, 14, 15, 16, 17, 18, 19, 20, 3, 5, 6, 7, 2, 8, 1, 6, 11, 17, 19, 18, 16, 19, 2, 1, 6, 8, 10, 11, 15, 16, 1, 3, 4, 9, 10, 12, 13, 15, 18, 19, 20, 18, 6, 16, 6, 1, 2, 3, 5, 6, 7, 8, 9, 10, 11, 13, 14, 15, 17, 19, 20, 20, 1, 2, 3, 4, 5, 6, 7, 8, 9, 10, 11, 12, 13, 14, 15, 16, 17, 18, 19, 20, 2, 6, 9, 14, 16, 20, 20, 9, 1, 2, 3, 6, 10, 20, 1, 2, 10, 20, 2, 16, 5, 12, 16, 1, 1, 2, 3, 4, 5, 6, 7, 10, 11, 12, 13, 15, 17, 18, 19, 20, 1, 2, 3, 4, 5, 6, 7, 8, 9, 10, 11, 12, 13, 14, 15, 16, 17, 18, 19, 20, 1, 2, 3, 4, 5, 6, 7, 8, 9, 10, 11, 12, 13, 14, 15, 16, 17, 18, 19, 20, 1, 2, 3, 4, 5, 6, 7, 8, 9, 10, 11, 12, 13, 14, 15, 16, 17, 18, 19, 20, 12, 6, 19, 1, 2, 3, 4, 5, 6, 7, 8, 9, 10, 11, 12, 13, 14, 16, 17, 18, 19, 20, 15, 10, 1, 4, 13, 16, 1, 2, 3, 4, 5, 6, 7, 8, 9, 10, 11, 12, 13, 14, 15, 16, 17, 18, 19, 20, 8, 8, 1, 2, 3, 4, 5, 7, 8, 10, 13, 14, 15, 16, 17, 18, 19, 1, 2, 3, 4, 5, 6, 7, 8, 9, 10, 11, 12, 13, 14, 15, 16, 17, 18, 19, 20, 13, 17, 12, 8, 6, 11, 1, 2, 3, 5, 6, 7, 9, 10, 11, 12, 13, 14, 15, 16, 17, 18, 20, 17, 11, 3, 5, 7, 10, 13, 14, 15, 20, 1, 5, 9, 2, 9, 1, 2, 3, 4, 5, 6, 7, 8, 9, 10, 12, 13, 14, 15, 16, 17, 19, 20, 1, 2, 3, 4, 7, 8, 11, 12, 13, 14, 15, 16, 17, 19, 20, 1, 2, 3, 4, 5, 6, 7, 8, 9, 10, 11, 12, 13, 14, 15, 16, 17, 18, 19, 20, 9, 12, 2, 3, 2, 3, 4, 5, 7, 10, 11, 12, 13, 14, 16, 17, 18, 20, 13, 2, 14, 19, 20, 1, 2, 3, 4, 5, 6, 7, 8, 9, 10, 12, 13, 14, 15, 16, 17, 18, 19, 20, 1, 2, 3, 4, 5, 6, 7, 8, 9, 10, 11, 12, 13, 14, 15, 16, 17, 18, 19, 20, 3, 5, 8, 11, 14, 20, 15, 9, 19, 10, 10, 4, 1, 3, 4, 5, 7, 11, 13, 15, 16, 17, 19, 1, 2, 3, 4, 5, 6, 7, 8, 9, 10, 11, 12, 13, 14, 15, 16, 17, 18, 19, 20, 4, 2, 1, 2, 3, 4, 5, 6, 7, 8, 9, 10, 11, 12, 13, 14, 15, 16, 17, 18, 19, 2, 4, 7, 8, 9, 12, 14, 16, 18, 19, 3, 19, 2, 19, 6, 18, 6, 19, 2, 3, 4, 6, 7, 9, 10, 11, 12, 13, 15, 16, 18, 19, 20, 4, 5, 7, 10, 12, 13, 14, 17, 18, 19, 4, 1, 2, 3, 4, 5, 6, 7, 9, 10, 11, 12, 13, 14, 15, 16, 17, 18, 19, 20, 3, 7, 12, 14, 18, 3, 4, 5, 19, 2, 3, 4, 5, 13, 14, 18, 1, 2, 3, 4, 5, 6, 7, 8, 9, 10, 11, 12, 13, 14, 15, 16, 17, 19, 20, 5, 8, 20, 18, 20, 8, 16, 18, 4, 3, 1, 2, 3, 4, 5, 6, 7, 8, 9, 10, 11, 12, 13, 14, 15, 16, 17, 18, 19, 20, 1, 2, 3, 4, 5, 6, 7, 8, 9, 10, 11, 12, 13, 14, 15, 16, 17, 18, 19, 20, 1, 2, 3, 5, 8, 10, 11, 13, 14, 15, 16, 17, 18, 20, 2, 14, 15, 2, 3, 7, 10, 14, 15, 18, 1, 2, 3, 4, 5, 6, 7, 9, 10, 11, 12, 13, 14, 15, 16, 17, 18, 19, 20, 7, 9, 1, 2, 3, 5, 11, 12, 15, 16, 17, 1, 2, 3, 4, 5, 6, 7, 9, 10, 11, 12, 13, 14, 15, 16, 17, 18, 19, 20, 6, 1, 2, 4, 7, 8, 11, 12, 13, 14, 16, 1, 2, 3, 4, 5, 6, 8, 10, 11, 12, 13, 14, 15, 17, 18, 19, 9, 1, 1, 2, 3, 4, 5, 6, 7, 8, 9, 10, 11, 12, 13, 14, 15, 16, 17, 18, 19, 20, 11, 13, 18, 4, 11, 1, 4, 5, 8, 13, 14, 15, 16, 20, 3, 6, 19, 4, 1, 2, 3, 5, 6, 8, 10, 11, 14, 15, 16, 17, 18, 20, 1, 2, 3, 4, 5, 6, 7, 8, 9, 10, 11, 12, 13, 14, 15, 16, 17, 18, 19, 20, 5, 12, 17, 10, 10, 16, 3, 4, 5, 6, 7, 9, 10, 11, 14, 15, 18, 19, 20, 5, 19, 5, 19, 2, 14, 9, 2, 15, 1, 2, 3, 7, 12, 14, 18, 3, 9, 1, 2, 3, 4, 5, 6, 7, 8, 9, 10, 11, 12, 13, 14, 15, 16, 17, 18, 19, 20, 18, 1, 5, 8, 14, 16, 3, 5, 8, 20, 13, 1, 7, 14, 2, 1, 3, 19, 12, 1, 2, 3, 4, 5, 6, 7, 8, 9, 10, 11, 12, 13, 14, 15, 16, 17, 18, 19, 20, 3, 4, 5, 6, 9, 10, 11, 13, 15, 17, 18, 19, 1, 2, 3, 4, 5, 6, 7, 8, 9, 10, 11, 12, 13, 14, 15, 16, 17, 18, 19, 20, 13, 1, 2, 3, 4, 5, 6, 7, 8, 9, 10, 11, 12, 13, 14, 15, 16, 17, 18, 19, 20, 12, 15, 1, 2, 3, 4, 5, 6, 7, 8, 9, 10, 11, 12, 13, 14, 15, 17, 18, 19, 20, 10, 1, 2, 3, 4, 5, 6, 7, 8, 10, 12, 13, 14, 15, 16, 17, 18, 19, 1, 15, 2, 4, 7, 9, 16, 18, 20, 3, 4, 10, 11, 12, 15, 1, 2, 3, 4, 5, 6, 8, 9, 10, 12, 13, 15, 16, 17, 18, 20, 1, 2, 3, 6, 8, 10, 15, 16, 18, 20, 6, 18, 11, 8, 1, 2, 3, 4, 5, 6, 7, 8, 9, 10, 11, 12, 13, 14, 15, 16, 17, 18, 19, 20, 4, 1, 2, 3, 4, 5, 6, 7, 8, 9, 10, 11, 12, 13, 14, 15, 16, 17, 18, 19, 20, 4, 16, 11, 18, 6, 11, 16, 6, 6, 10, 14, 17, 19, 1, 2, 3, 4, 5, 6, 7, 8, 9, 10, 11, 12, 13, 14, 15, 16, 17, 18, 19, 20, 1, 5, 9, 1, 2, 3, 4, 5, 6, 8, 9, 10, 11, 12, 13, 14, 15, 16, 17, 18, 19, 20, 1, 2, 3, 4, 5, 7, 8, 9, 10, 11, 14, 15, 17, 18, 19, 20, 10, 4, 8, 3, 4, 1, 2, 3, 4, 5, 6, 7, 8, 9, 10, 11, 12, 13, 14, 15, 16, 17, 18, 19, 20, 1, 5, 11, 12, 13, 14, 16, 1, 12, 13, 19, 19, 3, 2, 4, 7, 8, 10, 11, 18, 13, 6, 18, 1, 2, 3, 4, 5, 6, 7, 9, 10, 11, 12, 13, 14, 15, 16, 17, 18, 19, 20, 2, 4, 7, 9, 16, 18, 20, 3, 5, 14, 17, 19, 1, 3, 5, 6, 7, 8, 9, 10, 11, 12, 14, 15, 16, 17, 18, 19, 20, 5, 12, 15, 8, 13, 6, 18, 1, 2, 3, 4, 5, 6, 7, 8, 9, 10, 11, 12, 13, 14, 15, 16, 17, 18, 19, 20, 1, 2, 3, 4, 5, 6, 7, 8, 9, 10, 11, 12, 13, 14, 15, 16, 17, 18, 19, 20, 7, 12, 12, 20, 14, 13, 2, 3, 4, 5, 7, 10, 11, 13, 14, 15, 16, 17, 18, 1, 2, 3, 4, 5, 6, 7, 8, 9, 10, 11, 12, 13, 14, 15, 16, 17, 18, 19, 20, 8, 16, 12, 1, 3, 4, 5, 7, 8, 9, 11, 14, 15, 20, 13, 1, 20, 7, 9, 6, 11, 6, 4, 7, 14, 16, 1, 6, 9, 11, 19, 20, 6, 2, 4, 8, 12, 18, 19, 1, 15, 3, 4, 7, 8, 10, 11, 12, 14, 15, 16, 17, 1, 2, 3, 4, 5, 6, 7, 8, 9, 10, 11, 12, 13, 14, 15, 16, 17, 18, 19, 20, 8, 2, 4, 5, 6, 8, 11, 15, 16, 19, 1, 2, 4, 5, 7, 8, 9, 10, 11, 12, 13, 14, 15, 16, 18, 1, 3, 4, 5, 7, 8, 10, 13, 14, 19, 2, 17, 20, 1, 8, 10, 11, 14, 15, 16, 3, 4, 2, 9, 19, 10, 15, 15, 12, 1, 2, 3, 4, 5, 6, 7, 8, 9, 10, 11, 12, 13, 14, 15, 16, 17, 18, 19, 20, 18, 8, 18, 6, 1, 2, 3, 4, 5, 6, 7, 8, 9, 10, 11, 12, 13, 14, 15, 16, 17, 18, 19, 20, 1, 2, 3, 4, 5, 6, 7, 8, 9, 10, 11, 12, 13, 14, 15, 16, 17, 18, 19, 20, 13, 1, 2, 4, 5, 7, 10, 12, 18, 19, 2, 3, 4, 5, 6, 7, 10, 14, 16, 17, 19, 20, 1, 5, 12, 13, 15, 3, 4, 5, 6, 7, 8, 10, 11, 14, 15, 16, 18, 2, 11, 1, 2, 3, 4, 5, 6, 7, 8, 9, 10, 11, 12, 13, 14, 15, 16, 17, 18, 19, 20, 1, 2, 3, 4, 5, 6, 7, 8, 10, 11, 12, 13, 15, 16, 17, 18, 19, 20, 13, 1, 2, 3, 4, 5, 6, 7, 8, 9, 10, 11, 12, 13, 14, 15, 16, 17, 18, 19, 20, 1, 2, 3, 4, 5, 6, 7, 8, 9, 10, 11, 12, 13, 14, 15, 16, 17, 18, 19, 20, 1, 2, 3, 4, 5, 7, 8, 9, 10, 11, 12, 14, 15, 16, 17, 18, 19, 1, 2, 3, 4, 5, 7, 8, 10, 12, 14, 15, 16, 18, 19, 20, 2, 6, 9, 15, 1, 2, 7, 8, 9, 10, 11, 14, 15, 16, 17, 18, 20, 19, 1, 2, 3, 4, 5, 6, 7, 8, 9, 10, 11, 12, 13, 14, 15, 16, 17, 18, 19, 20, 9, 11, 12, 3, 16, 10, 1, 2, 3, 4, 5, 6, 7, 8, 9, 10, 11, 12, 13, 14, 15, 16, 17, 18, 19, 20, 19, 8, 9, 11, 17, 9, 9, 4, 10, 1, 17, 19, 1, 2, 3, 5, 8, 10, 14, 15, 16, 17, 19, 20, 1, 15, 1, 2, 3, 4, 5, 6, 7, 8, 9, 10, 11, 12, 13, 14, 15, 16, 17, 18, 19, 20, 13, 1, 2, 7, 10, 11, 13, 15, 1, 2, 3, 4, 5, 6, 7, 8, 9, 10, 11, 12, 13, 14, 15, 16, 17, 18, 19, 20, 2, 1, 2, 3, 4, 5, 8, 10, 11, 12, 13, 14, 15, 16, 18, 19, 1, 2, 3, 4, 5, 6, 7, 8, 9, 10, 11, 12, 13, 14, 15, 16, 17, 18, 19, 20, 1, 2, 3, 4, 5, 6, 7, 8, 9, 10, 11, 12, 13, 14, 15, 16, 17, 18, 19, 20, 16, 10, 13, 17, 1, 2, 3, 4, 5, 6, 7, 8, 9, 10, 11, 12, 13, 14, 15, 16, 17, 18, 19, 20, 16, 10, 9, 19, 1, 2, 3, 5, 15, 17, 14, 4, 11, 13, 2, 10, 11, 2, 5, 8, 14, 20, 7, 2, 7, 9, 10, 14, 15, 18, 6, 11, 12, 18, 20, 2, 5, 6, 9, 10, 11, 12, 13, 14, 15, 16, 17, 18, 19, 20, 2, 3, 14, 19, 12, 11, 1, 2, 3, 4, 5, 6, 7, 8, 9, 10, 11, 12, 13, 14, 15, 16, 17, 18, 19, 20, 5, 7, 1, 2, 3, 4, 5, 6, 7, 8, 9, 10, 11, 12, 13, 14, 15, 16, 17, 18, 19, 20, 14, 1, 2, 3, 4, 5, 6, 7, 8, 9, 10, 12, 13, 14, 15, 16, 17, 18, 19, 20, 1, 2, 3, 4, 5, 6, 7, 8, 9, 10, 11, 12, 13, 14, 15, 16, 17, 18, 19, 20, 16, 1, 2, 3, 4, 5, 6, 7, 8, 9, 10, 11, 12, 13, 15, 16, 18, 19, 1, 2, 3, 4, 5, 6, 7, 8, 9, 10, 11, 12, 13, 14, 15, 16, 17, 18, 19, 20, 1, 2, 3, 4, 5, 6, 7, 8, 9, 10, 11, 12, 13, 14, 15, 16, 17, 18, 19, 20, 10, 3, 13, 1, 2, 3, 5, 6, 10, 13, 17, 19, 20, 2, 9, 10, 1, 2, 3, 4, 5, 6, 8, 9, 10, 11, 12, 14, 15, 16, 17, 18, 19, 4, 19, 5, 8, 12, 8, 5, 3, 3, 5, 9, 13, 16, 19, 2, 14, 4, 5, 7, 9, 10, 12, 14, 16, 18, 20, 5, 12, 15, 1, 8, 9, 9, 11, 1, 2, 3, 4, 5, 7, 8, 10, 12, 14, 15, 16, 17, 19, 20, 10, 19, 10, 19, 10, 19], \"Freq\": [0.034645297924841494, 0.12173972743034579, 0.05485505504766569, 0.32913033028599414, 0.010104878561412102, 0.08998153766590776, 0.010104878561412102, 0.01972857242942363, 0.005293031627406339, 0.005293031627406339, 0.2189390354972622, 0.001924738773602305, 0.029833450990835727, 0.0014435540802017288, 0.012029617335014406, 0.015879094882219016, 0.005774216320806915, 0.029833450990835727, 0.00384947754720461, 0.9661631969102701, 0.034684633105398724, 0.0034684633105398727, 0.0034684633105398727, 0.23238704180617145, 0.0034684633105398727, 0.0034684633105398727, 0.010405389931619618, 0.0763061928318772, 0.6104495426550176, 0.0034684633105398727, 0.017342316552699362, 0.9754835143622747, 0.017135322856840825, 0.005296372519387164, 0.004984821194717331, 0.07009904805071246, 0.01744687418151066, 0.0062310264933966636, 0.01277360431146316, 0.02336634935023749, 0.008411885766085496, 0.007477231792075996, 0.03115513246698332, 0.023677900674907323, 0.02336634935023749, 0.11963570867321593, 0.025235657298256487, 0.4610959605113531, 0.0062310264933966636, 0.08256110103750579, 0.006542577818066496, 0.04673269870047498, 0.24129124509732325, 0.0014803143871001427, 0.0029606287742002853, 0.013322829483901283, 0.4440943161300428, 0.019244087032301856, 0.004440943161300428, 0.007401571935500713, 0.15099206748421454, 0.0029606287742002853, 0.004440943161300428, 0.031086602129102994, 0.04292911722590414, 0.0014803143871001427, 0.0029606287742002853, 0.02220471580650214, 0.005921257548400571, 0.9965470471551517, 0.9813949458963729, 0.967204919819171, 0.9851284342082792, 0.9679176814763629, 0.9839963107932967, 0.9687621352333593, 0.029548350715912358, 0.012311812798296816, 0.9036870593949863, 0.002462362559659363, 0.002462362559659363, 0.002462362559659363, 0.014774175357956179, 0.024623625596593632, 0.002462362559659363, 0.9731041220072922, 0.9486711901410123, 0.9589246974936326, 0.9691087188082931, 0.016255954694866948, 0.11379168286406864, 0.008127977347433474, 0.8371816667856479, 0.008127977347433474, 0.008127977347433474, 0.008127977347433474, 0.9778052030269134, 0.013060949104962813, 0.9403883355573226, 0.026121898209925627, 0.007544174132041096, 0.007544174132041096, 0.8902125475808492, 0.060353393056328766, 0.007544174132041096, 0.022632522396123286, 0.010626168804690497, 0.0010626168804690496, 0.0010626168804690496, 0.5695626479314106, 0.0021252337609380992, 0.0010626168804690496, 0.0021252337609380992, 0.384667310729796, 0.0010626168804690496, 0.020189720728911946, 0.0010626168804690496, 0.0042504675218761985, 0.016284345390418106, 0.9770607234250863, 0.1726193962080637, 0.020714327544967645, 0.07595253433154803, 0.7319062399221902, 0.03179674967770742, 0.049741449990869026, 0.11868687750985837, 0.03651903923380258, 0.11176085282758547, 0.05100072720582773, 0.054148920243224506, 0.06296386074793547, 0.052260004420786446, 0.0695750661264687, 0.05635265536940225, 0.09885326137425869, 0.008185301897231611, 0.01794470031316161, 0.013537230060806127, 0.024555905691694836, 0.03966723227119935, 0.03400048480388516, 0.033370846196405804, 0.03494494271510419, 0.968831892250902, 0.9649263165755525, 0.951220504972046, 0.004020052958104188, 0.004020052958104188, 0.2532633363605638, 0.004020052958104188, 0.6713488440033993, 0.004020052958104188, 0.020100264790520937, 0.012060158874312563, 0.008040105916208375, 0.008040105916208375, 0.004020052958104188, 0.004020052958104188, 0.003714147539742678, 0.001857073769871339, 0.7855422046555764, 0.007428295079485356, 0.035284401627555445, 0.001857073769871339, 0.001857073769871339, 0.02042781146858473, 0.0427126967070408, 0.003714147539742678, 0.001857073769871339, 0.08913954095382427, 0.001857073769871339, 0.023125263508721246, 0.9481358038575711, 0.7891622631211448, 0.007352443445228058, 0.007352443445228058, 0.002450814481742686, 0.07107361997053789, 0.009803257926970744, 0.002450814481742686, 0.002450814481742686, 0.007352443445228058, 0.09068013582447938, 0.002450814481742686, 0.004901628963485372, 0.9662389921796886, 0.0042485197141300815, 0.025491118284780487, 0.7987217062564553, 0.0042485197141300815, 0.14869818999455287, 0.012745559142390244, 0.0042485197141300815, 0.708882643550117, 0.08302229158695064, 0.012772660244146252, 0.025545320488292503, 0.006386330122073126, 0.012772660244146252, 0.006386330122073126, 0.03831798073243876, 0.05109064097658501, 0.006386330122073126, 0.04470431085451188, 0.043063776164235505, 0.03229783212317663, 0.9151052434900045, 0.04374214341113769, 0.37124742228427116, 0.025796648678363253, 0.07066038551029935, 0.07851153945588817, 0.04262054999033928, 0.01458071447037923, 0.097578627609461, 0.03476939604475047, 0.03476939604475047, 0.01009434078718562, 0.02131027499516964, 0.06729560524790414, 0.003364780262395207, 0.02355346183676645, 0.004486373683193609, 0.006729560524790414, 0.013459121049580828, 0.011215934207984023, 0.025796648678363253, 0.20509822407087075, 0.13497917310647048, 0.07406324758114777, 0.06047768145679522, 0.04601562719538767, 0.04733035940097017, 0.04995982381213518, 0.03418303734514512, 0.04031845430453015, 0.05740997297710271, 0.012270833918770045, 0.03462128141367263, 0.03549776955072763, 0.01928273901521007, 0.05171280008624519, 0.01972098308373757, 0.014900298329935054, 0.014462054261407552, 0.03199181700250762, 0.015338542398462555, 0.947019668249446, 0.9863292776244826, 0.001351192123754761, 0.00015013245819497345, 0.0018015894983396813, 0.00015013245819497345, 0.00015013245819497345, 0.17130113480046472, 0.00015013245819497345, 0.0004503973745849203, 0.00870768257530846, 0.14727994148926896, 0.6631350678471978, 0.00015013245819497345, 0.0012010596655597876, 0.00015013245819497345, 0.0004503973745849203, 0.0019517219565346549, 0.0007506622909748673, 0.0003002649163899469, 0.0003002649163899469, 0.9869804491866391, 0.02002309244447026, 0.06006927733341077, 0.9143878882974751, 0.02448934987746714, 0.054420777505482534, 0.01632623325164476, 0.03265246650328952, 0.00816311662582238, 0.8625693234618982, 0.04872018341359247, 0.019064419596623142, 0.004236537688138476, 0.014827881908484665, 0.002118268844069238, 0.004236537688138476, 0.9066190652616338, 0.035093953077869694, 0.035093953077869694, 0.9212162682940794, 0.22267625406036906, 0.2541129016924212, 0.038640879381064044, 0.05239441272008684, 0.022922555565037993, 0.037985949222062956, 0.03536622858605862, 0.011788742862019539, 0.009823952385016281, 0.02030283492903365, 0.012443673021020623, 0.01440846349802388, 0.06156343494610204, 0.025542276201042335, 0.09169022226015197, 0.020957765088034735, 0.005894371431009769, 0.02750706667804559, 0.013753533339022794, 0.018992974611031478, 0.9798641089844127, 0.002175302782901275, 0.010876513914506376, 0.04133075287512423, 0.006525908348703826, 0.04568135844092678, 0.002175302782901275, 0.010876513914506376, 0.0087012111316051, 0.8309656630682871, 0.006525908348703826, 0.002175302782901275, 0.002175302782901275, 0.002175302782901275, 0.023928330611914028, 0.00435060556580255, 0.011670736483324154, 0.3490611184557861, 0.0053048802196927975, 0.06578051472419069, 0.010609760439385595, 0.016975616703016953, 0.025463425054525427, 0.025463425054525427, 0.009548784395447036, 0.089121987690839, 0.010609760439385595, 0.0010609760439385595, 0.30237817252248944, 0.002121952087877119, 0.006365856263631357, 0.012731712527262714, 0.025463425054525427, 0.02228049692270975, 0.004243904175754238, 0.004243904175754238, 0.003120883554670624, 0.024967068437364993, 0.5711216905047243, 0.3932313278884987, 0.003120883554670624, 0.04383020122975312, 0.03595446194628186, 0.022257524061984005, 0.004451504812396801, 0.05239078740743928, 0.46158680670083757, 0.0020545406826446774, 0.001369693788429785, 0.00273938757685957, 0.1006724934495892, 0.05204836396033183, 0.001369693788429785, 0.04759685914793503, 0.0006848468942148925, 0.004793928259504247, 0.0020545406826446774, 0.13046333334793703, 0.006163622047934032, 0.007875739283471263, 0.019860559932231882, 0.04550391010846876, 0.9479981272597658, 0.08984294169259541, 0.07971979333286634, 0.059895294461730274, 0.030791242927509226, 0.035009221410729666, 0.2952584938254309, 0.010544946208051104, 0.005905169876508618, 0.0033743827865763535, 0.1872782446549876, 0.010544946208051104, 0.0004217978483220442, 0.10798024917044331, 0.008435956966440884, 0.019824498871136076, 0.004217978483220442, 0.01518472253959359, 0.008435956966440884, 0.012653935449661325, 0.014341126842949501, 0.9645735682284005, 0.9833071428296549, 0.010573195084189838, 0.002494852731999489, 0.017463969123996424, 0.04989705463998978, 0.03492793824799285, 0.002494852731999489, 0.7384764086718487, 0.002494852731999489, 0.004989705463998978, 0.014969116391996934, 0.002494852731999489, 0.002494852731999489, 0.004989705463998978, 0.08981469835198161, 0.02494852731999489, 0.002494852731999489, 0.002494852731999489, 0.9607113477523268, 0.004983236380124273, 0.004983236380124273, 0.01993294552049709, 0.04484912742111845, 0.9218987303229903, 0.004983236380124273, 0.06474889399074867, 0.002474480025124153, 0.0008248266750413843, 0.02350756023867945, 0.00041241333752069215, 0.025569626926282913, 0.011135160113058689, 0.007423440075372459, 0.00041241333752069215, 0.008248266750413843, 0.8017315281402255, 0.0012372400125620765, 0.0313434136515726, 0.007011026737851767, 0.005361373387768998, 0.0012372400125620765, 0.005361373387768998, 0.00041241333752069215, 0.0012372400125620765, 0.012549426095430392, 0.865910400584697, 0.07529655657258234, 0.03764827828629117, 0.019323762103169106, 0.9661881051584554, 0.9603717557023006, 0.025062808994885128, 0.012531404497442564, 0.12531404497442564, 0.8145412923337666, 0.012531404497442564, 0.984109176283676, 0.9624485109748405, 0.9596222464284312, 0.01721327284024023, 0.00573775761341341, 0.9639432790534528, 0.00573775761341341, 0.9625778366195676, 0.002886346411684691, 0.9265171981507857, 0.002886346411684691, 0.002886346411684691, 0.002886346411684691, 0.002886346411684691, 0.002886346411684691, 0.008659039235054072, 0.023090771293477527, 0.023090771293477527, 0.0067132549194418535, 0.36922902056930196, 0.6176194525886506, 0.9802347416570794, 0.9405043918399756, 0.003467471106606499, 0.03467471106606499, 0.020804826639638993, 0.003467471106606499, 0.04507712438588449, 0.04507712438588449, 0.20804826639638993, 0.006934942213212998, 0.6276122702957763, 0.07143712272101321, 0.004870712912796355, 0.012988567767456948, 0.06818998077914898, 0.02922427747677813, 0.050330700098895675, 0.006494283883728474, 0.027600706505846014, 0.02922427747677813, 0.008117854854660593, 0.534154849436667, 0.012988567767456948, 0.008117854854660593, 0.004870712912796355, 0.003247141941864237, 0.017859280680253303, 0.08604926145940228, 0.0016235709709321185, 0.02110642262211754, 0.01845959790131514, 0.9598990908683873, 0.01845959790131514, 0.01845959790131514, 0.9816232141059843, 0.9469668372241606, 0.02785196580071061, 0.9773189590323732, 0.012449923044998385, 0.9940236122631786, 0.0996036722697682, 0.6723247878209353, 0.07470275420232615, 0.1411052023821716, 0.005409483191810431, 0.08474857000503008, 0.011269756649605065, 0.3078897516672104, 0.041021914204562436, 0.006761853989763039, 0.26641704719666376, 0.08294540894109327, 0.0027047415959052155, 0.004057112393857823, 0.008114224787715646, 0.02975215755495737, 0.0013523707979526077, 0.07392960362140923, 0.012622127447557672, 0.019834771703304915, 0.003606322127873621, 0.017130030107399698, 0.018482400905352307, 0.0027047415959052155, 0.02876195731377674, 0.9491445913546324, 0.06074179956924116, 0.03037089978462058, 0.835199744077066, 0.06074179956924116, 0.7204625064795613, 0.008786128127799529, 0.004393064063899764, 0.26358384383398586, 0.0011046871284751964, 0.019884368312553535, 0.014360932670177554, 0.014360932670177554, 0.009942184156276767, 0.292742089045927, 0.002209374256950393, 0.6042638592759324, 0.002209374256950393, 0.008837497027801572, 0.0011046871284751964, 0.004418748513900786, 0.004418748513900786, 0.0011046871284751964, 0.0011046871284751964, 0.004418748513900786, 0.011046871284751963, 0.002209374256950393, 0.0011046871284751964, 0.9697271735084735, 0.0010183989932929887, 0.0010183989932929887, 0.0050919949664649435, 0.0050919949664649435, 0.00712879295305092, 0.19451420771896083, 0.003055196979878966, 0.03055196979878966, 0.1700726318799291, 0.01425758590610184, 0.009165590939636899, 0.010183989932929887, 0.0010183989932929887, 0.5051259006733224, 0.00814719194634391, 0.01731278288598081, 0.01425758590610184, 0.0020367979865859773, 0.009622609780483939, 0.6318847089184453, 0.15716929308123767, 0.001603768296747323, 0.003207536593494646, 0.004811304890241969, 0.001603768296747323, 0.003207536593494646, 0.027264061044704493, 0.13632030522352248, 0.001603768296747323, 0.008018841483736616, 0.011226378077231262, 0.001603768296747323, 0.9826233974181294, 0.9556361868993084, 0.9708891635707426, 0.01471044187228398, 0.015797951842960182, 0.9320791587346506, 0.031595903685920364, 0.004974347533043935, 0.03979478026435148, 0.004974347533043935, 0.9351773362122597, 0.00994869506608787, 0.9725696000162551, 0.955789621294937, 0.985286266547287, 0.9297041619690355, 0.011420671852498692, 0.09462842392070345, 0.5041410860602994, 0.001631524550356956, 0.004894573651070868, 0.001631524550356956, 0.001631524550356956, 0.06852403111499215, 0.001631524550356956, 0.014683720953212603, 0.2512547807549712, 0.019578294604283474, 0.02447286825535434, 0.01643358171879928, 0.01643358171879928, 0.01643358171879928, 0.936714157971559, 0.4545384420694758, 0.1746249381961828, 0.024396131071525537, 0.017976096579018816, 0.02568013797002688, 0.011556062086512097, 0.008988048289509408, 0.0038520206955040322, 0.016692089680517472, 0.04750825524454973, 0.0077040413910080645, 0.010272055188010751, 0.033384179361034945, 0.048792262143051074, 0.028248151767029567, 0.023112124173024193, 0.02182811727452285, 0.017976096579018816, 0.002568013797002688, 0.023112124173024193, 0.007075769552387663, 0.014151539104775327, 0.007075769552387663, 0.926925811362784, 0.02122730865716299, 0.007075769552387663, 0.007075769552387663, 0.9339499359181211, 0.006860255272281542, 0.9467152275748527, 0.027441021089126168, 0.013720510544563084, 0.008885266178237544, 0.035541064712950175, 0.02665579853471263, 0.008885266178237544, 0.9240676825367045, 0.9419841718482858, 0.9845956745800599, 0.9724291374652626, 0.9643063016699791, 0.023908420702561467, 0.8172882663108901, 0.022289679990297004, 0.033434519985445506, 0.0037149466650495005, 0.007429893330099001, 0.052009253310693004, 0.0037149466650495005, 0.007429893330099001, 0.007429893330099001, 0.037149466650495004, 0.991683630045129, 0.037190734605162444, 0.8891966546507021, 0.037190734605162444, 0.013523903492786343, 0.006761951746393172, 0.006761951746393172, 0.0032079610607215077, 0.0064159221214430155, 0.0032079610607215077, 0.019247766364329046, 0.06415922121443016, 0.0032079610607215077, 0.8084061873018199, 0.0032079610607215077, 0.01603980530360754, 0.04491145485010111, 0.012831844242886031, 0.0032079610607215077, 0.0064159221214430155, 0.0243943323213146, 0.9513789605312695, 0.9823954045632997, 0.0005772546110856617, 0.07562035405222169, 0.9085987578488316, 0.0005772546110856617, 0.0005772546110856617, 0.0017317638332569852, 0.0005772546110856617, 0.010390582999541912, 0.9882912780477652, 0.030361430775152746, 0.941204354029735, 0.011366212234461074, 0.13639454681353289, 0.00994543570515344, 0.15060231210660924, 0.03409863670338322, 0.40350053432336813, 0.004262329587922903, 0.0028415530586152686, 0.1818593957513772, 0.015628541822383976, 0.004262329587922903, 0.008524659175845805, 0.008524659175845805, 0.0014207765293076343, 0.008524659175845805, 0.0028415530586152686, 0.004262329587922903, 0.005683106117230537, 0.005683106117230537, 0.9786919557475153, 0.9663162917814597, 0.9681003308286551, 0.977030510874284, 0.03280831139761847, 0.14467927485179294, 0.024202852670374284, 0.018824440965846664, 0.04464081714757924, 0.027967740863543616, 0.004302729363622095, 0.006991935215885904, 0.0026892058522638095, 0.4829813710665802, 0.009681141068149714, 0.005916252874980381, 0.02850558203399638, 0.004840570534074857, 0.011294664579508, 0.003764888193169333, 0.08228969907927257, 0.013983870431771808, 0.008067617556791428, 0.041413770124862664, 0.04962060189842468, 0.07088657414060669, 0.15595046310933472, 0.7159543988201276, 0.9347851493839316, 0.9731908425493048, 0.0006806046070898351, 0.0013612092141796703, 0.6030156818815939, 0.029265998104862908, 0.0013612092141796703, 0.046281113282108786, 0.0034030230354491755, 0.2211964973041964, 0.012250882927617031, 0.0013612092141796703, 0.0006806046070898351, 0.0006806046070898351, 0.07282469295861235, 0.0027224184283593405, 0.0013612092141796703, 0.9642042705083715, 0.04081936089449093, 0.007421701980816533, 0.0037108509904082666, 0.0037108509904082666, 0.0037108509904082666, 0.8126763668994105, 0.007421701980816533, 0.018554254952041334, 0.007421701980816533, 0.014843403961633066, 0.0037108509904082666, 0.07421701980816534, 0.013622531808449165, 0.022704219680748608, 0.009081687872299444, 0.01816337574459889, 0.004540843936149722, 0.045408439361497216, 0.03632675148919778, 0.1453070059567911, 0.009081687872299444, 0.5857688677633142, 0.059030971169946385, 0.045408439361497216, 0.14636538103134722, 0.11020117209947737, 0.04698499585636632, 0.11333350515656847, 0.05524296482506101, 0.021641573848992974, 0.08001687173114506, 0.049263056261523476, 0.0011390302025785775, 0.009396999171273264, 0.009966514272562553, 0.017370210589323306, 0.004840878360958954, 0.09539377946595587, 0.08884435580112905, 0.07346744806631825, 0.028190997513819795, 0.010251271823207198, 0.012529332228364352, 0.025058664456728705, 0.5755841439965661, 0.010060147335770195, 0.007904401478105153, 0.009341565383215181, 0.0021557458576650416, 0.155932283704438, 0.0007185819525550139, 0.008622983430660166, 0.0035929097627750697, 0.0007185819525550139, 0.005030073667885097, 0.011497311240880222, 0.061798047919731196, 0.11784744021902228, 0.005030073667885097, 0.0007185819525550139, 0.0014371639051100277, 0.02227604052920543, 0.05420739323285925, 0.04264314934318261, 0.11238999530279485, 0.2963337496729639, 0.01228700913278143, 0.11817211724763317, 0.016984983212962566, 0.0935980989820703, 0.00216829572931437, 0.011202861268124245, 0.0289106097241916, 0.02240572253624849, 0.01300977437588622, 0.03035614021040118, 0.027826461859534416, 0.00867318291725748, 0.03107890545350597, 0.04481144507249698, 0.024212635644010466, 0.009034565538809875, 0.0217078847301229, 0.134588885326762, 0.02604946167614748, 0.0043415769460245805, 0.008683153892049161, 0.7988501580685228, 0.03945904586877997, 0.015783618347511987, 0.9075580549819393, 0.007891809173755994, 0.02367542752126798, 0.9866541346601003, 0.008300392696365786, 0.004150196348182893, 0.9794463381711629, 0.9641957381127219, 0.9501203895744595, 0.09026772372894089, 0.13256099288865444, 0.04860569739250663, 0.07764286726335475, 0.016412313405261978, 0.03598084092692049, 0.047343211745948015, 0.09910512325485119, 0.012624856465586138, 0.02019977034493782, 0.03156214116396534, 0.03913705504331703, 0.06312428232793069, 0.014518584935424059, 0.17232929075525077, 0.025249712931172275, 0.008837399525910295, 0.02461847010789297, 0.011993613642306831, 0.026512198577730888, 0.005339175614184798, 0.005339175614184798, 0.010678351228369597, 0.010678351228369597, 0.7795196396709806, 0.02669587807092399, 0.005339175614184798, 0.005339175614184798, 0.016017526842554395, 0.021356702456739193, 0.11746186351206556, 0.13909612964015391, 0.05795672068339747, 0.02511457896280557, 0.007727562757786329, 0.0019318906894465822, 0.0019318906894465822, 0.03477403241003848, 0.0038637813788931644, 0.21250797583912404, 0.0019318906894465822, 0.4327435144360344, 0.00965945344723291, 0.005795672068339746, 0.0540929393045043, 0.007727562757786329, 0.9881177198259044, 0.002460691242395712, 0.009842764969582848, 0.9006129947168307, 0.029528294908748545, 0.04675313360551853, 0.002460691242395712, 0.002460691242395712, 0.002778807721781143, 0.016672846330686858, 0.011115230887124572, 0.42237877371073373, 0.025009269496030287, 0.4585032740938886, 0.008336423165343429, 0.05279734671384172, 0.049618378751561734, 0.009923675750312347, 0.02977102725093704, 0.05954205450187408, 0.02977102725093704, 0.8038177357753001, 0.015907626771068727, 0.012726101416854981, 0.34678626360929826, 0.02828022537078885, 0.13751259586546077, 0.11700943247163886, 0.02863372818792371, 0.01626112958820359, 0.07918463103820877, 0.03464327607921634, 0.006363050708427491, 0.013786609868259563, 0.015554123953933867, 0.006363050708427491, 0.008130564794101795, 0.03641079016489064, 0.002474519719944024, 0.04736937749607132, 0.03817830425056495, 0.008130564794101795, 0.037987180433838794, 0.0072356534159692945, 0.0018089133539923236, 0.009044566769961617, 0.018089133539923235, 0.0018089133539923236, 0.07778327422166992, 0.009044566769961617, 0.12843284813345499, 0.6692979409771598, 0.0072356534159692945, 0.027133700309884854, 0.0018089133539923236, 0.0067364974133625926, 0.03772438551483052, 0.0013472994826725184, 0.04041898448017556, 0.005389197930690074, 0.00943109637870763, 0.0013472994826725184, 0.004041898448017556, 0.145508344128632, 0.002694598965345037, 0.00943109637870763, 0.012125695344052665, 0.49984810807150437, 0.20209492240087776, 0.014820294309397703, 0.002694598965345037, 0.0013472994826725184, 0.11546480120452934, 0.8712344090887214, 0.010496800109502668, 0.2024337672083553, 0.00653012152285017, 0.07183133675135188, 0.05224097218280136, 0.00653012152285017, 0.6595422738078672, 0.017720686861750556, 0.970207605680843, 0.004430171715437639, 0.004430171715437639, 0.004430171715437639, 0.9479261373411578, 0.038247378126543975, 0.030597902501235178, 0.0076494756253087945, 0.1682884637567935, 0.04589685375185277, 0.7037517575284091, 0.9407124096344391, 0.2273229831544006, 0.0033185836956846804, 0.18418139511049977, 0.0033185836956846804, 0.43805304783037785, 0.0033185836956846804, 0.006637167391369361, 0.10951326195759446, 0.004977875543527021, 0.004977875543527021, 0.0016592918478423402, 0.004977875543527021, 0.004977875543527021, 0.018830502515562092, 0.9226946232625425, 0.037661005031124184, 0.01568728490204817, 0.9726116639269867, 0.9786318017709059, 0.018917041868353638, 0.003062759159638208, 0.001621460731573169, 0.1398059475223088, 0.0005404869105243896, 0.013872497370126, 0.018376554957829246, 0.424462387065154, 0.011350225121012181, 0.036032460701625975, 0.024682235580613793, 0.2430389474324672, 0.005224706801735766, 0.007386654443833325, 0.004504057587703247, 0.005404869105243897, 0.020718664903434936, 0.009368439782422753, 0.007566816747341455, 0.003963570677178857, 0.9756576521302256, 0.992237767477177, 0.002147960797270862, 0.017183686378166897, 0.011813784384989742, 0.001073980398635431, 0.5294723365272676, 0.010739803986354312, 0.002147960797270862, 0.006443882391812587, 0.011813784384989742, 0.008591843189083449, 0.28138286444248295, 0.007517862790448018, 0.002147960797270862, 0.002147960797270862, 0.001073980398635431, 0.09773221627582424, 0.001073980398635431, 0.004295921594541724, 0.8855701441125864, 0.11177098906275362, 0.01687467527573485, 0.05062402582720455, 0.8967684575104806, 0.00241066789653355, 0.0048213357930671, 0.00723200368960065, 0.00241066789653355, 0.00241066789653355, 0.0048213357930671, 0.00723200368960065, 0.9526908527798554, 0.017012336656783134, 0.9553723943302384, 0.03538416275297179, 0.9471084774598965, 0.990731849425596, 0.9268139345095724, 0.005357305979824118, 0.005357305979824118, 0.005357305979824118, 0.005357305979824118, 0.03214383587894471, 0.005357305979824118, 0.005357305979824118, 0.9524217904245843, 0.014006202800361535, 0.014006202800361535, 0.014006202800361535, 0.029810664564814248, 0.9539412660740559, 0.16191374716734327, 0.07902094834580123, 0.05948570276365438, 0.10893979293107117, 0.03255874263691142, 0.048222137743317454, 0.02147117082001726, 0.09609228907974937, 0.021647164023460026, 0.04892611055708851, 0.023583089261330435, 0.03220675623002589, 0.02657497371985743, 0.0390704911642937, 0.06458950566349454, 0.023935075668215962, 0.02551901449920084, 0.026046994109529136, 0.015311408699520504, 0.04487826687790493, 0.9685829341851454, 0.008302139435872675, 0.0027673798119575584, 0.008302139435872675, 0.011069519247830234, 0.9812865799152148, 0.00117828860998529, 0.00471315443994116, 0.00471315443994116, 0.00117828860998529, 0.04124010134948515, 0.00117828860998529, 0.00117828860998529, 0.9037473638587173, 0.010604597489867609, 0.010604597489867609, 0.00471315443994116, 0.00117828860998529, 0.00353486582995587, 0.00824802026989703, 0.00117828860998529, 0.006705151743232469, 0.004470101162154979, 0.004470101162154979, 0.0022350505810774897, 0.0022350505810774897, 0.0011175252905387448, 0.7029234077488705, 0.03799585987831732, 0.004470101162154979, 0.05028863807424352, 0.0022350505810774897, 0.004470101162154979, 0.011175252905387447, 0.13075045899303314, 0.0324082334256236, 0.0022350505810774897, 0.0041165439537076505, 0.006174815930561475, 0.008233087907415301, 0.0020582719768538252, 0.670996664454347, 0.03704889558336885, 0.0020582719768538252, 0.020582719768538253, 0.006174815930561475, 0.010291359884269127, 0.010291359884269127, 0.1975941097779672, 0.020582719768538253, 0.0020582719768538252, 0.025718901952981127, 0.012859450976490563, 0.015615047614309971, 0.02388183752776819, 0.2544334228919919, 0.12354258259557006, 0.027555966378194064, 0.028933764697103768, 0.0413339495672911, 0.2401961735965916, 0.11665359100102154, 0.0036741288504258756, 0.01791137814582614, 0.027555966378194064, 0.0059704593819420474, 0.0009185322126064689, 0.011481652657580861, 0.014696515401703502, 0.0027555966378194066, 0.003214862744122641, 0.972725922634966, 0.0029832241708418806, 0.02933503767994516, 0.6055945066809018, 0.005966448341683761, 0.1615913092539352, 0.0009944080569472935, 0.009944080569472935, 0.0014916120854209403, 0.0004972040284736467, 0.01839654905352493, 0.0009944080569472935, 0.0009944080569472935, 0.005469244313210115, 0.005966448341683761, 0.0840274808120463, 0.005469244313210115, 0.04623997464804915, 0.0009944080569472935, 0.011435692654893876, 0.0014916120854209403, 0.9659162051336984, 0.0006410669213007468, 0.6346562520877392, 0.3513046728728092, 0.0012821338426014935, 0.0032053346065037337, 0.0006410669213007468, 0.0006410669213007468, 0.0012821338426014935, 0.0019232007639022402, 0.0012821338426014935, 0.0019232007639022402, 0.0012821338426014935, 0.01247035198163237, 0.9228060466407955, 0.01247035198163237, 0.01247035198163237, 0.01247035198163237, 0.9198145940656018, 0.012955135127684533, 0.012955135127684533, 0.0388654053830536, 0.019740768408675717, 0.9672976520251102, 0.9378199778946315, 0.07002865063448897, 0.01014907980209985, 0.017253435663569745, 0.003044723940629955, 0.005074539901049925, 0.003044723940629955, 0.003044723940629955, 0.23850337534934649, 0.00202981596041997, 0.4617831309955432, 0.00202981596041997, 0.009134171821889865, 0.01826834364377973, 0.007104355861469896, 0.0202981596041997, 0.01623852768335976, 0.02435779152503964, 0.0202981596041997, 0.005074539901049925, 0.06292429477301907, 0.972858904815799, 0.9595600564182404, 0.9062738791073655, 0.012246944312261697, 0.012246944312261697, 0.03674083293678509, 0.9729195106893113, 0.0019536351119393463, 0.005860905335818039, 0.02735089156715085, 0.02148998623133281, 0.5821832633579253, 0.0019536351119393463, 0.011721810671636078, 0.0019536351119393463, 0.2715552805595691, 0.005860905335818039, 0.0019536351119393463, 0.0019536351119393463, 0.0039072702238786925, 0.0039072702238786925, 0.03516543201490823, 0.0039072702238786925, 0.0019536351119393463, 0.01562908089551477, 0.032126940336263045, 0.006884344357770653, 0.2363624896167924, 0.02065303307331196, 0.0022947814525902176, 0.00917912581036087, 0.0022947814525902176, 0.6035275220312273, 0.013768688715541306, 0.013768688715541306, 0.02065303307331196, 0.011473907262951088, 0.01835825162072174, 0.00917912581036087, 0.12362292952887251, 0.8516246256433438, 0.027842922571162255, 0.8074447545637053, 0.06496681933271192, 0.06496681933271192, 0.027842922571162255, 0.017881607971966893, 0.007152643188786756, 0.13768838138414508, 0.001788160797196689, 0.17345159732807885, 0.001788160797196689, 0.09119620065703114, 0.001788160797196689, 0.007152643188786756, 0.001788160797196689, 0.4130651441524352, 0.007152643188786756, 0.1341120597897517, 0.003576321594393378, 0.020656367022303515, 0.00938925773741069, 0.031923476307196344, 0.005633554642446414, 0.058213397971946274, 0.0018778515474821378, 0.03380132785467848, 0.00938925773741069, 0.005633554642446414, 0.0018778515474821378, 0.777430540657605, 0.005633554642446414, 0.005633554642446414, 0.015022812379857102, 0.0018778515474821378, 0.013144960832374965, 0.0018778515474821378, 0.07132443108663197, 0.012968078379387632, 0.03242019594846908, 0.13616482298357013, 0.635435840589994, 0.012968078379387632, 0.006484039189693816, 0.0778084702763258, 0.006484039189693816, 0.0011633404173734575, 0.03257353168645681, 0.04420693586019138, 0.6572873358160034, 0.08957721213775623, 0.002326680834746915, 0.00465336166949383, 0.016286765843228405, 0.003490021252120372, 0.011633404173734574, 0.01861344667797532, 0.033736872103830265, 0.03722689335595064, 0.002326680834746915, 0.015123425425854946, 0.024430148764842605, 0.003490021252120372, 0.12092533216506246, 0.0015115666520632808, 0.0468585662139617, 0.024185066433012492, 0.010580966564442965, 0.12697159877331557, 0.0015115666520632808, 0.006046266608253123, 0.0030231333041265615, 0.47160879544374357, 0.006046266608253123, 0.007557833260316404, 0.0030231333041265615, 0.16627233172696088, 0.9814703974063408, 0.8977196849389992, 0.08801173381754894, 0.969118278891755, 0.011558712844458873, 0.008669034633344156, 0.3005265339559307, 0.011558712844458873, 0.5663769293784848, 0.01733806926668831, 0.014448391055573592, 0.011558712844458873, 0.03467613853337662, 0.0028896782111147183, 0.0028896782111147183, 0.0028896782111147183, 0.008669034633344156, 0.0028896782111147183, 0.09189841819452733, 0.8960095773966416, 0.002067370201624348, 0.08941376122025306, 0.0754590123592887, 0.05065056993979653, 0.04031371893167479, 0.07700954001050697, 0.004651582953654783, 0.011887378659340002, 0.2878813005761905, 0.04910004228857827, 0.2237928243258357, 0.04496530188532957, 0.002067370201624348, 0.006202110604873044, 0.003101055302436522, 0.01757264671380696, 0.007235795705685218, 0.002067370201624348, 0.001033685100812174, 0.003101055302436522, 0.033877906531631016, 0.9485813828856685, 0.9486618918887278, 0.9654644686660249, 0.0470156321610283, 0.4929517796277513, 0.0341931870262024, 0.03989205153056947, 0.08263353531332247, 0.08405825143941424, 0.014247161260917667, 0.011397729008734134, 0.015671877387009436, 0.0384673354044777, 0.0014247161260917667, 0.07123580630458834, 0.011397729008734134, 0.0028494322521835334, 0.007123580630458834, 0.011397729008734134, 0.0085482967565506, 0.01852130963919297, 0.0085482967565506, 0.1666285242997252, 0.002644897211106749, 0.05025304701102823, 0.0013224486055533745, 0.19307749641079267, 0.002644897211106749, 0.02380407489996074, 0.010579588844426996, 0.013224486055533745, 0.0013224486055533745, 0.007934691633320248, 0.44698762867704056, 0.029093869322174237, 0.048930598405474854, 0.03238379331056996, 0.025514503820449057, 0.0137385789802418, 0.11874057547208984, 0.0068692894901209, 0.003925308280069086, 0.07261820318127808, 0.020607868470362698, 0.007850616560138171, 0.01471990605025907, 0.23748115094417968, 0.0618236054110881, 0.24140645922424878, 0.001962654140034543, 0.07261820318127808, 0.0343464474506045, 0.002943981210051814, 0.020607868470362698, 0.009813270700172714, 0.9502090764023177, 0.8526414911381281, 0.023684485864948004, 0.04736897172989601, 0.035526728797422004, 0.023684485864948004, 0.913596730474724, 0.032339707273441556, 0.04042463409180195, 0.008084926818360389, 0.1009100887092619, 0.011212232078806878, 0.8745541021469364, 0.12695761570452313, 0.2017903566685713, 0.0763810045702009, 0.06296271998354398, 0.05625357769021553, 0.046963996053299206, 0.040254853759970746, 0.052640962609192515, 0.03251353572920714, 0.0707040380143076, 0.00825740589948118, 0.022191778354855668, 0.059866192771238544, 0.028900920648184125, 0.027352657042031405, 0.03148135999177199, 0.014966548192809636, 0.011870020980504194, 0.012902196717939341, 0.013934372455374489, 0.0326955606987307, 0.020806265899192263, 0.007430809249711522, 0.035667884398615304, 0.01337545664948074, 0.010403132949596132, 0.4280146127833837, 0.0014861618499423044, 0.031209398848788393, 0.05498798844786527, 0.005944647399769218, 0.1322684046448651, 0.005944647399769218, 0.034181722548673, 0.18131174569296116, 0.0014861618499423044, 0.002972323699884609, 0.010619659407122365, 0.04247863762848946, 0.04247863762848946, 0.785854796127055, 0.10619659407122366, 0.082728165979773, 0.0609575959850959, 0.004354113998935421, 0.004354113998935421, 0.008708227997870842, 0.02612468399361253, 0.8098652038019883, 0.002962982256103284, 0.08296350317089195, 0.002962982256103284, 0.002962982256103284, 0.8118571381722998, 0.008888946768309852, 0.005925964512206568, 0.062222627378168964, 0.017777893536619703, 0.951393017285826, 0.05854879568948734, 0.07359638336669203, 0.09055911856645005, 0.12831488401107272, 0.07441716087635775, 0.05663364816693402, 0.05116179810249595, 0.02763284282541225, 0.021887400257752276, 0.08098338095368343, 0.02763284282541225, 0.039670912967176, 0.05143539060571785, 0.01750992020620182, 0.017783512709423726, 0.06894531081191967, 0.04596354054127978, 0.021887400257752276, 0.025170510296415118, 0.02051943774164276, 0.9677936910946779, 0.023126497694067195, 0.948186405456755, 0.9863330742598856, 0.989272270239004, 0.9702453987500524, 0.14228184437675825, 0.8378819724409097, 0.011581897970325581, 0.0017818304569731664, 0.0026727456854597495, 0.012472813198812166, 0.040091185281896244, 0.0026727456854597495, 0.0017818304569731664, 0.872206008688365, 0.0017818304569731664, 0.03296386345400358, 0.0008909152284865832, 0.004454576142432916, 0.004454576142432916, 0.003563660913946333, 0.0008909152284865832, 0.0008909152284865832, 0.004454576142432916, 0.8901656328288412, 0.003359115595580533, 0.030232040360224796, 0.07390054310277172, 0.9611299849530458, 0.9456884865851631, 0.014328613433108532, 0.0482570018504028, 0.9410115360828545, 0.0241423141464612, 0.08804843982827025, 0.002840272252524847, 0.11077061784846903, 0.0014201361262624235, 0.3862770263433792, 0.011361089010099388, 0.03266313090403574, 0.06958667018685875, 0.01704163351514908, 0.026982586398986045, 0.025562450272723622, 0.011361089010099388, 0.002840272252524847, 0.00852081675757454, 0.06390612568180906, 0.05254503667170967, 0.042604083787872706, 0.014201361262624234, 0.00852081675757454, 0.00548817064481384, 0.00548817064481384, 0.00548817064481384, 0.03292902386888304, 0.9439653509079805, 0.018249212837997634, 0.006083070945999212, 0.012166141891998423, 0.006083070945999212, 0.006083070945999212, 0.9002945000078834, 0.03649842567599527, 0.948780525106061, 0.9774272206761911, 0.14896011678152013, 0.14917694373462279, 0.031223081246781515, 0.16869136951386124, 0.004336539062052988, 0.0184302910137252, 0.14245530818844065, 0.022333176169572887, 0.005420673827566235, 0.007588943358592729, 0.027537023044036473, 0.05724231561909944, 0.02124904140405964, 0.037294235933655696, 0.037511062886758345, 0.03534279335573185, 0.01474423281098016, 0.02948846562196032, 0.0359932742150398, 0.004770192968258286, 0.03956565617027638, 0.020170726675042862, 0.12335175158968519, 0.005430580258665385, 0.007757971798093408, 0.003878985899046704, 0.23118755958318354, 0.0015515943596186815, 0.0015515943596186815, 0.010085363337521431, 0.005430580258665385, 0.005430580258665385, 0.08844087849826485, 0.006982174618284067, 0.07214913772226869, 0.33902336757668194, 0.024825509753898904, 0.0023273915394280225, 0.003103188719237363, 0.006982174618284067, 0.8517626277891199, 0.0024905339993833917, 0.0024905339993833917, 0.0024905339993833917, 0.0024905339993833917, 0.007471601998150175, 0.12701723396855297, 0.8551200260283667, 0.13632348241031933, 0.9745404003437803, 0.00445362290878158, 0.00890724581756316, 0.003562898327025264, 0.001781449163512632, 0.05077130116011001, 0.001781449163512632, 0.05077130116011001, 0.000890724581756316, 0.003562898327025264, 0.011579419562832108, 0.007125796654050528, 0.8176851660522981, 0.00445362290878158, 0.023158839125664216, 0.00445362290878158, 0.001781449163512632, 0.003562898327025264, 0.000890724581756316, 0.000890724581756316, 0.9712552469804439, 0.021439276212570732, 0.010719638106285366, 0.010719638106285366, 0.0026799095265713415, 0.005359819053142683, 0.0026799095265713415, 0.8280920437105445, 0.010719638106285366, 0.10183656200971097, 0.005359819053142683, 0.0026799095265713415, 0.2398937379347275, 0.028787248552167303, 0.0671702466217237, 0.0047978747586945505, 0.019191499034778202, 0.0047978747586945505, 0.014393624276083651, 0.5709470962846515, 0.009595749517389101, 0.0047978747586945505, 0.019191499034778202, 0.0047978747586945505, 0.13895445264287332, 0.03833226279803402, 0.04791532849754252, 0.0047915328497542525, 0.07666452559606804, 0.028749197098525515, 0.052706861347296775, 0.0047915328497542525, 0.0047915328497542525, 0.0047915328497542525, 0.5654008762710018, 0.009583065699508505, 0.01916613139901701, 0.0047915328497542525, 0.07312039138185163, 0.07312039138185163, 0.014624078276370326, 0.003249795172526739, 0.011374283103843587, 0.4972186613965911, 0.009749385517580218, 0.003249795172526739, 0.004874692758790109, 0.003249795172526739, 0.06987059620932488, 0.0016248975862633696, 0.006499590345053478, 0.10724324069338238, 0.1121179334521725, 0.003249795172526739, 0.0016248975862633696, 0.006499590345053478, 0.9280254228282974, 0.9813484382307434, 0.009542920973840971, 0.11292456485711817, 0.06202898632996632, 0.08588628876456875, 0.025447789263575927, 0.015904868289734954, 0.003180973657946991, 0.31650687896572555, 0.015904868289734954, 0.0015904868289734954, 0.012723894631787963, 0.02703827609254942, 0.0015904868289734954, 0.028628762921522916, 0.0015904868289734954, 0.0015904868289734954, 0.2767447082413882, 0.9701511413323184, 0.04204752865303976, 0.01051188216325994, 0.01051188216325994, 0.01051188216325994, 0.01051188216325994, 0.02102376432651988, 0.904021866040355, 0.9520633377711447, 0.007013511378405645, 0.08416213654086775, 0.042081068270433876, 0.8416213654086775, 0.01402702275681129, 0.9693996645372314, 0.9631765744386195, 0.015055966526883348, 0.9635818577205343, 0.03611628984192807, 0.009029072460482018, 0.6916269504729226, 0.0018058144920964035, 0.0957081680811094, 0.007223257968385614, 0.0018058144920964035, 0.04695117679450649, 0.08667909562062737, 0.00541744347628921, 0.003611628984192807, 0.01083488695257842, 0.007820575376190827, 0.10166747989048074, 0.8759044421333725, 0.9782984016214493, 0.7903865149801552, 0.010399822565528358, 0.05719902411040597, 0.09359840308975521, 0.005199911282764179, 0.020799645131056716, 0.005199911282764179, 0.005199911282764179, 0.005199911282764179, 0.9849179426864115, 0.9820375218910514, 0.0034203058062613856, 0.006840611612522771, 0.0034203058062613856, 0.0034203058062613856, 0.03762336386887524, 0.01710152903130693, 0.6532784089959247, 0.010260917418784156, 0.006840611612522771, 0.22231987740699008, 0.03078275225635247, 0.0034203058062613856, 0.9662378178709121, 0.02252252006745402, 0.02252252006745402, 0.9459458428330687, 0.9781226260885448, 0.9722236177172592, 0.03949202033403301, 0.013164006778011004, 0.9346444812387812, 0.01416386475593775, 0.06137674727573025, 0.0094425765039585, 0.0283277295118755, 0.00472128825197925, 0.679865508285012, 0.00472128825197925, 0.02360644125989625, 0.01416386475593775, 0.0094425765039585, 0.021245797133906626, 0.06373739140171987, 0.025967085385885876, 0.018885153007917, 0.011803220629948125, 0.007081932377968875, 0.020352735547331264, 0.9565785707245694, 0.055261343311239775, 0.22395386499818226, 0.011633967012892585, 0.005816983506446292, 0.055261343311239775, 0.08434626084347124, 0.014542458766115731, 0.002908491753223146, 0.07271229383057866, 0.014542458766115731, 0.020359442272562023, 0.008725475259669439, 0.008725475259669439, 0.04362737629834719, 0.002908491753223146, 0.36937845265933955, 0.06256625286118701, 0.019117466152029364, 0.09558733076014682, 0.006951805873465223, 0.43796377002830905, 0.0017379514683663058, 0.027807223493860892, 0.09384937929178051, 0.00868975734183153, 0.17205719536826428, 0.0017379514683663058, 0.0017379514683663058, 0.01216566027856414, 0.013903611746930446, 0.01216566027856414, 0.0295451749622272, 0.9594336063600695, 0.9907385142477203, 0.00393608433264276, 0.9840210831606899, 0.00393608433264276, 0.00196804216632138, 0.00196804216632138, 0.002732692286684071, 0.6476480719441248, 0.002732692286684071, 0.008198076860052214, 0.02732692286684071, 0.032792307440208855, 0.002732692286684071, 0.26780384409503893, 0.005465384573368142, 0.9716285129975348, 0.871156277426057, 0.008668221665930915, 0.10401865999117098, 0.004334110832965457, 0.004334110832965457, 0.31003981341402687, 0.013193183549533057, 0.012593493388190645, 0.05097366371410499, 0.02758574742175094, 0.011394113065505822, 0.08515600291062246, 0.24167513502099192, 0.0017990704840272352, 0.0077959720974513525, 0.010194732742820999, 0.02158884580832682, 0.0035981409680544705, 0.028185437583093352, 0.06176808661826841, 0.018590395001614763, 0.01739101467892994, 0.01739101467892994, 0.016791324517587528, 0.04257800145531123, 0.015412240873336086, 0.07706120436668043, 0.901616091090161, 0.005237972130346585, 0.057617693433812435, 0.015713916391039754, 0.9166451228106524, 0.01623153140964443, 0.0486945942289333, 0.01623153140964443, 0.9089657589400881, 0.006965578284696354, 0.2855887096725505, 0.003980330448397917, 0.3442985837864198, 0.0019901652241989583, 0.0009950826120994792, 0.006965578284696354, 0.3015100314661422, 0.0019901652241989583, 0.0009950826120994792, 0.012936073957293228, 0.0009950826120994792, 0.0019901652241989583, 0.0009950826120994792, 0.018906569629890103, 0.006965578284696354, 0.0009950826120994792, 0.029511041588850005, 0.9384511225254302, 0.023608833271080005, 0.009801501023714397, 0.023167184237870394, 0.03742391299963679, 0.052571687309013584, 0.0026731366428311993, 0.3109748961160295, 0.05524482395184478, 0.0017820910952207995, 0.3483988091156663, 0.019603002047428795, 0.020494047595039193, 0.010692546571324797, 0.0026731366428311993, 0.011583592118935197, 0.014256728761766396, 0.030295548618753592, 0.006237318833272798, 0.017820910952207995, 0.018711956499818393, 0.005346273285662399, 0.01223084251316043, 0.09784674010528344, 0.01223084251316043, 0.8683898184343906, 0.0007731404369737089, 0.00038657021848685446, 0.00038657021848685446, 0.00038657021848685446, 0.002705991529407981, 0.006185123495789671, 0.00038657021848685446, 0.3614431542852089, 0.00038657021848685446, 0.6185123495789671, 0.00038657021848685446, 0.005411983058815962, 0.0007731404369737089, 0.00038657021848685446, 0.0011597106554605634, 0.9765164029734686, 0.9855279679351122, 0.27196051149473016, 0.02121677749249668, 0.054006342708173366, 0.061721534523626706, 0.07329432224680671, 0.19866618924792345, 0.030860767261813353, 0.0019287979538633346, 0.013501585677043342, 0.27003171354086686, 0.9832306771023773, 0.005113188044750186, 0.005113188044750186, 0.005113188044750186, 0.005113188044750186, 0.715846326265026, 0.23520665005850855, 0.015339564134250557, 0.9950786691494281, 0.9390617204060159, 0.9660988328163039, 0.9634626779513542, 0.001827445660822616, 0.03837635887727494, 0.007309782643290464, 0.005482336982467848, 0.001827445660822616, 0.005482336982467848, 0.003654891321645232, 0.001827445660822616, 0.010964673964935697, 0.3179755449831352, 0.2266032619420044, 0.001827445660822616, 0.058478261146323714, 0.007309782643290464, 0.3106657623398447, 0.003642740508059187, 0.22220717099161041, 0.7686182472004884, 0.9691266887750165, 0.04748078740794574, 0.0036523682621496727, 0.036523682621496724, 0.021914209572898035, 0.4638507692930084, 0.007304736524299345, 0.018261841310748362, 0.0036523682621496727, 0.0401760508836464, 0.010957104786449018, 0.0036523682621496727, 0.025566577835047708, 0.007304736524299345, 0.3067989340205725, 0.018161375757668033, 0.9625529151564057, 0.9843950217286191, 0.9450422730594864, 0.012629216952079735, 0.9850789222622193, 0.9693000847460056, 0.021514908233367176, 0.06134037666534472, 0.06362919669017102, 0.10116584509732227, 0.03067018833267236, 0.01052857211420096, 0.05630497261072687, 0.09750373305760018, 0.016479504178749327, 0.03845217641708176, 0.21240249830388022, 0.03982546843197754, 0.033874536367429174, 0.06088261266037946, 0.014648448158888291, 0.03890994042204702, 0.009155280099305182, 0.05447391659086583, 0.0302124243277071, 0.006866460074478886, 0.9758679019369606, 0.04500649729232046, 0.8663750728771688, 0.06750974593848069, 0.9361972769609224, 0.004927706444605876, 0.014783119333817629, 0.002463853222302938, 0.5814693604634934, 0.001231926611151469, 0.38312917606810687, 0.0073915596669088144, 0.9853621644819869, 0.980293697546625, 0.006316826263619619, 0.006316826263619619, 0.9601575920701821, 0.018950478790858857, 0.9693785746184752, 0.7109815286244864, 0.18925407596479132, 0.005114975026075441, 0.09206955046935794, 0.9316097436739272, 0.0030137343633435836, 0.007032046847801695, 0.0030137343633435836, 0.017077828058946976, 0.002009156242229056, 0.01004578121114528, 0.05625637478241356, 0.008036624968916224, 0.14265009319826297, 0.008036624968916224, 0.001004578121114528, 0.5806461540041972, 0.0030137343633435836, 0.03013734363343584, 0.00502289060557264, 0.002009156242229056, 0.001004578121114528, 0.1185402182915143, 0.001004578121114528, 0.001004578121114528, 0.01704969024512808, 0.009472050136182266, 0.01136646016341872, 0.0018944100272364533, 0.01704969024512808, 0.06440994092603941, 0.018944100272364532, 0.1345031119337882, 0.0037888200544729067, 0.6763043797234138, 0.0037888200544729067, 0.009472050136182266, 0.0037888200544729067, 0.0037888200544729067, 0.01136646016341872, 0.0018944100272364533, 0.007577640108945813, 0.9588316665658567, 0.9847555928658516, 0.9888302816461332, 0.9740993301241322, 0.018484136113989927, 0.9426909418134863, 0.9547721303938062, 0.027279203725537316, 0.0020051872611031515, 0.008020749044412606, 0.0020051872611031515, 0.14236829553832375, 0.01403631082772206, 0.0701815541386103, 0.0020051872611031515, 0.008020749044412606, 0.008020749044412606, 0.22859134776575926, 0.010025936305515758, 0.42309451209276494, 0.008020749044412606, 0.0741919286608166, 0.010956606858134585, 0.010956606858134585, 0.06573964114880751, 0.010956606858134585, 0.8874851555089014, 0.9460903813512952, 0.04274034876489499, 0.0898419576078405, 0.05582412899904652, 0.12037077815419407, 0.11513726606053346, 0.034890080624404074, 0.05233512093660612, 0.020934048374642446, 0.03314557659318387, 0.007850268140490918, 0.01308378023415153, 0.060185389077097036, 0.012211528218541427, 0.0924587136546708, 0.1831729232781214, 0.03140107256196367, 0.010467024187321223, 0.011339276202931325, 0.007850268140490918, 0.004361260078050509, 0.06211592043906168, 0.15183891662881743, 0.00690176893767352, 0.00690176893767352, 0.02070530681302056, 0.00690176893767352, 0.7384892763310666, 0.9795724757385877, 0.07268528224294507, 0.022714150700920335, 0.06359962196257694, 0.009085660280368134, 0.2907411289717803, 0.036342641121472535, 0.004542830140184067, 0.0136284904205522, 0.009085660280368134, 0.022714150700920335, 0.004542830140184067, 0.0136284904205522, 0.4361116934576704, 0.004461958556365415, 0.004461958556365415, 0.004461958556365415, 0.03569566845092332, 0.00892391711273083, 0.01784783422546166, 0.00892391711273083, 0.01784783422546166, 0.892391711273083, 0.9435431552550161, 0.021942864075698048, 0.9152063419059265, 0.9790805479709984, 0.9660554899254665, 0.0025521842179531346, 0.0025521842179531346, 0.020417473743625077, 0.005104368435906269, 0.0025521842179531346, 0.9570690817324256, 0.02696723681319358, 0.01256428078796519, 0.10082069217659873, 0.06435363330421195, 0.3079781022415858, 0.006128917457543995, 0.04167663871129917, 0.028805912050456777, 0.004290242220280797, 0.11277208121880951, 0.04167663871129917, 0.014402956025228389, 0.009193376186315994, 0.028805912050456777, 0.06496652504996635, 0.018693198245509187, 0.08519195265986153, 0.017160968881123187, 0.0033709046016491976, 0.010112713804947592, 0.011028867067828085, 0.011028867067828085, 0.04411546827131234, 0.005514433533914042, 0.915395966629731, 0.9282543518943818, 0.05355313568621434, 0.015127089329238202, 0.03850531829260633, 0.015127089329238202, 0.03162936859749806, 0.004125569817064964, 0.12101671463390562, 0.009626329573151583, 0.008251139634129928, 0.019252659146303166, 0.006875949695108274, 0.016502279268259857, 0.1705235524386852, 0.005500759756086619, 0.006875949695108274, 0.015127089329238202, 0.009626329573151583, 0.03713012835358468, 0.46068862957225437, 0.008251139634129928, 0.959068556942651, 0.11032669287438149, 0.07584960135113727, 0.039074037059676776, 0.13659495308256756, 0.03414873827064189, 0.03874568380707445, 0.09949103553850473, 0.07420783508812565, 0.04432768910131399, 0.018716135398332574, 0.02364143418736746, 0.08471513917140007, 0.03349203176543724, 0.02002954840874188, 0.042357569585700035, 0.039074037059676776, 0.01576095612491164, 0.024954847197776766, 0.025939906955583743, 0.018716135398332574, 0.10866270001368633, 0.008091903192508557, 0.09132290745831086, 0.017339792555375478, 0.005779930851791826, 0.132938409591212, 0.013871834044300384, 0.0797630457547272, 0.004623944681433461, 0.4704863713358547, 0.003467958511075096, 0.018495778725733845, 0.034679585110750956, 0.008091903192508557, 0.0011559861703583653, 0.9485007151398483, 0.005196412149815115, 0.015589236449445345, 0.29099908038964645, 0.015589236449445345, 0.6599443430265196, 0.005196412149815115, 0.019528552870252323, 0.826708738174015, 0.026038070493669765, 0.006509517623417441, 0.05207614098733953, 0.04556662336392209, 0.006509517623417441, 0.006509517623417441, 0.006509517623417441, 0.006509517623417441, 0.03272152732295243, 0.04847633677474435, 0.41810840468217, 0.037569161000426864, 0.024238168387372173, 0.00848335893558026, 0.07635023042022235, 0.06544305464590486, 0.0024238168387372173, 0.03150961890358382, 0.00969526735494887, 0.01939053470989774, 0.014542901032423302, 0.02666198522610939, 0.020602443129266346, 0.0024238168387372173, 0.06665496306527348, 0.06665496306527348, 0.02666198522610939, 0.0012119084193686087, 0.973940387220481, 0.0072161918446008045, 0.1659724124258185, 0.7504839518384837, 0.0072161918446008045, 0.021648575533802415, 0.03608095922300402, 0.014432383689201609, 0.005030782097389708, 0.017607737340863978, 0.02515391048694854, 0.007546173146084562, 0.002515391048694854, 0.6036938516867649, 0.002515391048694854, 0.05533860307128679, 0.002515391048694854, 0.2565698869668751, 0.020123128389558834, 0.0244473774462223, 0.006111844361555575, 0.006111844361555575, 0.0030559221807777877, 0.16196387558122274, 0.0030559221807777877, 0.006111844361555575, 0.02750329962700009, 0.018335533084666726, 0.0030559221807777877, 0.7242535568443357, 0.009167766542333363, 0.008594297633694566, 0.008594297633694566, 0.017188595267389133, 0.030080041717930984, 0.6961381083292599, 0.025782892901083702, 0.012891446450541851, 0.021485744084236418, 0.017188595267389133, 0.03867433935162555, 0.004297148816847283, 0.004297148816847283, 0.10313157160433481, 0.004297148816847283, 0.01504875307088974, 0.1261780065174601, 0.1898458079712244, 0.012733560290752857, 0.03009750614177948, 0.019679138631163506, 0.002315192780136883, 0.00810317473047909, 0.009260771120547531, 0.005787981950342207, 0.002315192780136883, 0.19100340436129284, 0.006945578340410649, 0.13312358485787076, 0.011575963900684414, 0.21531292855273013, 0.018521542241095063, 0.0207113896804358, 0.0207113896804358, 0.9527239253000469, 0.0207113896804358, 0.00836592700489488, 0.01254889050734232, 0.058561489034264155, 0.00836592700489488, 0.0418296350244744, 0.03346370801957952, 0.00418296350244744, 0.8031289924699084, 0.02509778101468464, 0.9499192220360829, 0.973662507535407, 0.016280555131338963, 0.008140277565669481, 0.013227951044212908, 0.07733263687386008, 0.020350693914173705, 0.02543836739271713, 0.04884166539401689, 0.09870086548374246, 0.004070138782834741, 0.018315624522756334, 0.2757519025370537, 0.2330154453172889, 0.005087673478543426, 0.009157812261378167, 0.0030526040871260555, 0.013227951044212908, 0.0010175346957086852, 0.10887621244082932, 0.017298089827047648, 0.0030526040871260555, 0.052753739296305675, 0.8792289882717612, 0.011723053176956816, 0.017584579765435225, 0.005861526588478408, 0.017584579765435225, 0.005861526588478408, 0.17553145314585186, 0.10229647600552956, 0.053473157911981366, 0.010462139591474615, 0.11624599546082905, 0.06044791763963111, 0.004649839818433162, 0.008137219682258034, 0.0034873798638248715, 0.031386418774423844, 0.0034873798638248715, 0.037198718547465294, 0.02557411900138239, 0.010462139591474615, 0.011624599546082906, 0.013949519455299486, 0.0034873798638248715, 0.015111979409907777, 0.02324919909216581, 0.28945252869746435, 0.9779742650228188, 0.977110244283287, 0.959193280259991, 0.037731130404578574, 0.19045237251834898, 0.06647865833187652, 0.05929177635005204, 0.03593440990912245, 0.019763925450017348, 0.05749505585459592, 0.012577043468192857, 0.04132457139549082, 0.04491801238640306, 0.00718688198182449, 0.04132457139549082, 0.055698335359139796, 0.025154086936385715, 0.017967204954561226, 0.003593440990912245, 0.0017967204954561224, 0.019763925450017348, 0.2317769439138398, 0.03054424842275408, 0.005479599393517536, 0.032146983108636215, 0.597641640519646, 0.05260415417776835, 0.03774835137756525, 0.005844906019752039, 0.0034095285115220224, 0.004018372888579527, 0.004992523891871533, 0.15671654265460153, 0.01047212328538907, 0.001217688754115008, 0.005236061642694535, 0.005236061642694535, 0.023623161829831155, 0.004870755016460032, 0.03920957788250326, 0.0015829953803495106, 0.005479599393517536, 0.002435377508230016, 0.09475405545205125, 0.1320343395643337, 0.09294181941881528, 0.037539174974173306, 0.05954489823489559, 0.05333151754951518, 0.0652404971964943, 0.02614797705097589, 0.023041286708285685, 0.09449516459016039, 0.007248944132943811, 0.0370213932503916, 0.059803789096786436, 0.03831584755984586, 0.04582368255468052, 0.02640686791286674, 0.05229595410195178, 0.017345687746686975, 0.015533451713451022, 0.020970159813158883, 0.005150744305349753, 0.010301488610699506, 0.9734906737111033, 0.0231441127177353, 0.9489086214271473, 0.06156261741755184, 0.8741891673292361, 0.024625046967020735, 0.012312523483510368, 0.012312523483510368, 0.9793514713526681, 0.8577065460188231, 0.04699761895993551, 0.04699761895993551, 0.03524821421995163, 0.0716876938744479, 0.9114578221179805, 0.9657463545390444, 0.967471427608275, 0.02015565474183906, 0.005846281496036103, 0.005846281496036103, 0.9003273503895598, 0.06430909645639714, 0.02338512598414441, 0.9792213479955573, 0.9638397174852584, 0.9781052897173441, 0.06132298343249946, 0.1796906026161612, 0.0028522317875581144, 0.2395874701548816, 0.0014261158937790572, 0.4891577515662166, 0.0028522317875581144, 0.0028522317875581144, 0.012835043044011514, 0.0028522317875581144, 0.013969007832238145, 0.10476755874178609, 0.09778305482566702, 0.0069845039161190725, 0.7543264229408598, 0.0069845039161190725, 0.0069845039161190725, 0.005678183283838336, 0.19589732329242263, 0.005678183283838336, 0.7495201934666604, 0.002839091641919168, 0.002839091641919168, 0.011356366567676673, 0.01703454985151501, 0.002839091641919168, 0.0023541316948211414, 0.004708263389642283, 0.012555369039046086, 0.10358179457213021, 0.014124790168926848, 0.0007847105649403804, 0.004708263389642283, 0.14595616507891077, 0.02118718525339027, 0.0007847105649403804, 0.030603712032674837, 0.0007847105649403804, 0.004708263389642283, 0.005492973954582663, 0.5908870554001064, 0.007847105649403803, 0.04472850220160168, 0.003923552824701902, 0.0015694211298807608, 0.011224976874310259, 0.954123034316372, 0.022449953748620518, 0.9765563981423112, 0.03658047066185429, 0.003658047066185429, 0.003658047066185429, 0.07681898838989401, 0.03658047066185429, 0.003658047066185429, 0.003658047066185429, 0.6328421424500792, 0.03658047066185429, 0.05487070599278143, 0.010974141198556287, 0.08047703545607944, 0.018290235330927145, 0.009858543928511227, 0.019717087857022454, 0.009858543928511227, 0.9464202171370778, 0.01786369028770368, 0.07521553805348917, 0.007521553805348917, 0.22752700261180472, 0.005641165354011687, 0.027265632544389823, 0.11564388975723959, 0.008461748031017532, 0.0037607769026744586, 0.01222252493369199, 0.0009401942256686146, 0.07615573227915778, 0.0028205826770058436, 0.0018803884513372293, 0.004700971128343073, 0.0009401942256686146, 0.4005227401348298, 0.0037607769026744586, 0.006581359579680302, 0.033323254204557576, 0.2675958292184169, 0.015146933729344352, 0.052509370261727084, 0.04645059676998935, 0.011107751401519192, 0.04140161886020789, 0.024235093966950963, 0.016156729311300643, 0.049479983515858215, 0.024235093966950963, 0.20094932080930172, 0.035342845368470155, 0.07876405539259063, 0.05654855258955225, 0.015146933729344352, 0.011107751401519192, 0.0201959116391258, 0.959171657762525, 0.023394430677134755, 0.04179651853518204, 0.9508707966753915, 0.9554227096777139, 0.004964407749201109, 0.0016548025830670362, 0.0016548025830670362, 0.06619210332268145, 0.0016548025830670362, 0.02151243357987147, 0.0016548025830670362, 0.7413515572140322, 0.0033096051661340724, 0.15224183764216734, 0.0016548025830670362, 0.9824301761540909, 0.7395986211902418, 0.021673219668578516, 0.03250982950286777, 0.027091524585723142, 0.008127457375716943, 0.016254914751433886, 0.016254914751433886, 0.008127457375716943, 0.010836609834289258, 0.013545762292861571, 0.03250982950286777, 0.013545762292861571, 0.005418304917144629, 0.008127457375716943, 0.0027091524585723145, 0.04334643933715703, 0.9625711358161765, 0.9640345504531811, 0.9634241913457492, 0.9553007195314879, 0.01729655215383472, 0.0115923700605488, 0.014352458170203275, 0.43351783908972974, 0.0033121057315853714, 0.007176229085101638, 0.015088481666111136, 0.08501071377735786, 0.004784152723401092, 0.002760088109654476, 0.0016560528657926857, 0.14628466981168725, 0.00975231132077915, 0.036433163047439085, 0.03827322178720874, 0.01343242880031845, 0.012144387682479696, 0.13303624688534577, 0.006440205589193778, 0.007912252581009499, 0.015951445678195664, 0.11059669003548994, 0.057425204441504396, 0.1063429711879711, 0.07975722839097833, 0.007444007983157977, 0.04147375876330873, 0.040410329051429016, 0.034029750780150754, 0.04253718847518844, 0.06593264213654208, 0.014888015966315954, 0.044664047898947866, 0.03615661020391017, 0.04253718847518844, 0.07018636098406093, 0.028712602220752198, 0.03296632106827104, 0.1159138385948885, 0.012761156542556532, 0.19118502545760685, 0.010062369760926676, 0.0402494790437067, 0.7345529925476473, 0.9797537682788594, 0.01272407491271246, 0.07969495813580825, 0.003984747906790412, 0.0637559665086466, 0.003984747906790412, 0.055786470695065773, 0.007969495813580824, 0.055786470695065773, 0.035862731161113715, 0.011954243720371238, 0.05977121860185619, 0.08367970604259867, 0.019923739533952062, 0.5100477320691728, 0.8320461395406452, 0.09176979480227704, 0.01835395896045541, 0.04894389056121442, 0.008800641040154503, 0.9152666681760683, 0.06160448728108152, 0.008800641040154503, 0.8457015614526557, 0.011911289597924729, 0.011911289597924729, 0.011911289597924729, 0.011911289597924729, 0.047645158391698916, 0.011911289597924729, 0.011911289597924729, 0.023822579195849458, 0.023822579195849458, 0.9748430903151393, 0.9613915814908395, 0.06706628661169303, 0.10959612690203496, 0.05861484398989432, 0.07415459332675002, 0.1224096044254072, 0.0597053527152877, 0.10509777840978725, 0.03625941511932997, 0.02930742199494716, 0.047028188782589624, 0.03176106662708227, 0.056161199357759206, 0.04457454415045452, 0.017448139606294124, 0.018538648331687505, 0.018538648331687505, 0.0316247530364081, 0.04048513643022933, 0.0235822511866319, 0.008315129031124543, 0.039191687113126386, 0.9406004907150333, 0.9815879839664945, 0.9748467310782999, 0.9558424208800722, 0.9607811179943281, 0.014759843358981263, 0.959389818333782, 0.9702965041084326, 0.966949453544147, 0.9803550555233488, 0.01921655029554886, 0.960827514777443, 0.9639357367399493, 0.007836875908454872, 0.015673751816909744, 0.000504877604914391, 0.2011937255583848, 0.7913956457033079, 0.0002524388024571955, 0.0002524388024571955, 0.000504877604914391, 0.0012621940122859775, 0.0007573164073715865, 0.0002524388024571955, 0.0002524388024571955, 0.0002524388024571955, 0.0002524388024571955, 0.0002524388024571955, 0.001514632814743173, 0.001514632814743173, 0.9837990620191562, 0.0014774308154430103, 0.029548616308860205, 0.0029548616308860205, 0.9012327974202363, 0.0014774308154430103, 0.025116323862531174, 0.004432292446329031, 0.0014774308154430103, 0.0029548616308860205, 0.013296877338987092, 0.005909723261772041, 0.004432292446329031, 0.0014774308154430103, 0.02164487358944923, 0.9740193115252154, 0.13097675685543722, 0.02619535137108744, 0.8251535681892544, 0.9788235165122823, 0.3055571886918721, 0.3055571886918721, 0.04645898775431973, 0.05449996640410584, 0.021442609732762952, 0.015188515227373758, 0.011614746938579933, 0.03305735667134289, 0.013401631082976847, 0.013401631082976847, 0.007147536577587652, 0.010721304866381476, 0.03841800910453363, 0.036631124960136714, 0.036631124960136714, 0.023229493877159866, 0.003573768288793826, 0.006254094505389195, 0.010721304866381476, 0.007147536577587652, 0.09623946351489632, 0.10998795830273864, 0.01976346125752335, 0.036949079742326266, 0.04554188898472772, 0.15037416174202548, 0.011170652015121893, 0.007733528318161311, 0.0979580253633766, 0.2895776714689291, 0.00601496646968102, 0.005155685545440874, 0.036949079742326266, 0.014607775712082476, 0.020622742181763496, 0.004296404621200728, 0.01804489940904306, 0.0017185618484802912, 0.0034371236969605824, 0.023200584954483933, 0.9838553414253568, 0.9929636498531376, 0.9935412645608518, 0.9639433611303763, 0.9927408322542386, 0.737035875271451, 0.13161354915561624, 0.03685179376357255, 0.0421163357297972, 0.0315872517973479, 0.0105290839324493, 0.9865623079920502, 0.0036552974437118737, 0.02924237954969499, 0.020104135940415303, 0.0073105948874237475, 0.020104135940415303, 0.023759433384127178, 0.10052067970207652, 0.0036552974437118737, 0.0036552974437118737, 0.01096589233113562, 0.009138243609279685, 0.07493359759609342, 0.01096589233113562, 0.41122096241758577, 0.00548294616556781, 0.11148657203321215, 0.0018276487218559369, 0.13707365413919526, 0.00548294616556781, 0.009138243609279685, 0.04074362605981853, 0.8963597733160076, 0.0543248347464247, 0.015211770621957523, 0.9735533198052815, 0.9663923821245199, 0.9312483902135429, 0.05271217303095525, 0.048213143601207195, 0.9401563002235402, 0.9948556918974321, 0.015462158907946697, 0.007215674157041792, 0.011338916532494244, 0.011338916532494244, 0.05154052969315566, 0.023708643658851603, 0.008246484750904906, 0.12678970304516293, 0.08555727929063839, 0.011338916532494244, 0.0030924317815893393, 0.1102967335433531, 0.008246484750904906, 0.12163565007584735, 0.0030924317815893393, 0.3040891251896184, 0.006184863563178679, 0.028862696628167168, 0.007215674157041792, 0.05360215088088188, 0.9698038275590377, 0.04378004573657628, 0.0404123499106858, 0.033676958258904835, 0.1380755288615098, 0.0033676958258904836, 0.016838479129452417, 0.0033676958258904836, 0.02694156660712387, 0.202061749553429, 0.05051543738835725, 0.01010308747767145, 0.006735391651780967, 0.01010308747767145, 0.404123499106858, 0.0033676958258904836, 0.9591827762885486, 0.03045024686630313, 0.9801148686228396, 0.9800914120951943, 0.9528512501078731, 0.003559337857002067, 0.8755971128225085, 0.0320340407130186, 0.0106780135710062, 0.003559337857002067, 0.03915271642702274, 0.003559337857002067, 0.003559337857002067, 0.0213560271420124, 0.000759819031642371, 0.000759819031642371, 0.006838371284781339, 0.000759819031642371, 0.8471982202812437, 0.000759819031642371, 0.13600760666398443, 0.0037990951582118552, 0.000759819031642371, 0.000759819031642371, 0.000759819031642371, 0.015055974551181272, 0.00215085350731161, 0.023659388580427713, 0.3462874146771693, 0.021508535073116102, 0.00860341402924644, 0.00215085350731161, 0.00215085350731161, 0.00215085350731161, 0.00215085350731161, 0.021508535073116102, 0.006452560521934831, 0.09248670081439925, 0.40866216638920594, 0.025810242087739323, 0.00430170701462322, 0.01720682805849288, 0.00215085350731161, 0.7731360965400321, 0.08306420871917701, 0.00638955451685977, 0.05111643613487816, 0.03833732710115862, 0.01277910903371954, 0.03194777258429885, 0.9933987681102269, 0.9395933012039979, 0.9600362416228305, 0.1605742921383044, 0.006175934313011708, 0.29026891271155025, 0.012351868626023416, 0.018527802939035123, 0.5064266136669601, 0.18741473826247076, 0.16064120422497494, 0.00892451134583194, 0.00892451134583194, 0.6247157942082359, 0.066656941813503, 0.7065635832231318, 0.16442045647330739, 0.0133313883627006, 0.0177751844836008, 0.0088875922418004, 0.0044437961209002, 0.0044437961209002, 0.0044437961209002, 0.9927855593402534, 0.9753649151451815, 0.973743426964559, 0.058135738482925484, 0.12745142667410586, 0.5746494150043019, 0.00223598994165098, 0.10732751719924705, 0.00223598994165098, 0.00223598994165098, 0.0670796982495294, 0.03577583906641568, 0.00670796982495294, 0.00223598994165098, 0.0111799497082549, 0.00447197988330196, 0.9637806255723249, 0.9629858423152216, 0.12035883328431367, 0.6361824045028008, 0.10029902773692806, 0.04011961109477122, 0.011462746027077492, 0.06304510314892621, 0.005731373013538746, 0.017194119040616237, 0.003806417137913025, 0.0642332892022823, 0.01808048140508687, 0.13274879768471676, 0.015701470693891228, 0.25883636537808574, 0.0152256685516521, 0.005709625706869538, 0.17699839691295569, 0.04472540137047805, 0.003330614995673897, 0.11657152484858639, 0.0019032085689565125, 0.006185427849108666, 0.003806417137913025, 0.020935294258521638, 0.027120722107630304, 0.07898315561169528, 0.00047580214223912813, 0.0052338235646304096, 0.020615981675716537, 0.15045280244193132, 0.017106878411764784, 0.10351854628657665, 0.20528254094117743, 0.1254504416862751, 0.012281861423831128, 0.07588435808295661, 0.04912744569532451, 0.0943071502187033, 0.03158192937556576, 0.005702292803921595, 0.028511464019607975, 0.004825016987933657, 0.008772758159879377, 0.003509103263951751, 0.018861430043740662, 0.0394774117194572, 0.003070465355957782, 0.0017545516319758755, 0.004692897984444137, 0.004692897984444137, 0.14547983751776825, 0.009385795968888274, 0.023464489922220683, 0.004692897984444137, 0.8024855553399474, 0.0033190842371596603, 0.04480763720165541, 0.018254963304378133, 0.011616794830058811, 0.6040733311630582, 0.019914505422957963, 0.0033190842371596603, 0.03153130025301677, 0.021574047541537793, 0.0016595421185798302, 0.014935879067218471, 0.12944428524922674, 0.029871758134436942, 0.009957252711478981, 0.043148095083075585, 0.004978626355739491, 0.0033190842371596603, 0.0033190842371596603, 0.9694260595830714, 0.9747238109820288, 0.009111614712633574, 0.0005878461104924886, 0.0011756922209849772, 0.009405537767879817, 0.003820999718201176, 0.039385689402996735, 0.3297816679862861, 0.003820999718201176, 0.05760891882826388, 0.0023513844419699543, 0.2254389833738694, 0.15813060372247945, 0.0005878461104924886, 0.010581229988864795, 0.0011756922209849772, 0.09699460823126062, 0.0017635383314774657, 0.042912766065951666, 0.0052906149944323974, 0.0002939230552462443, 0.9748315303313374, 0.9740116906148492, 0.02606538916107578, 0.017376926107383853, 0.9296655467450362, 0.008688463053691926, 0.9439608410189984, 0.007441045156192126, 0.0013951959667860237, 0.00651091451166811, 0.006975979833930119, 0.004650653222620079, 0.4060020263347329, 0.0013951959667860237, 0.0004650653222620079, 0.5190128996444008, 0.003720522578096063, 0.003720522578096063, 0.003255457255834055, 0.010696502412026182, 0.0013951959667860237, 0.0004650653222620079, 0.003720522578096063, 0.006975979833930119, 0.005580783867144095, 0.0013951959667860237, 0.005580783867144095, 0.9748732405212961, 0.12914708362434113, 0.8657637828150276, 0.1752812779717338, 0.009560796980276388, 0.003186932326758796, 0.7744245554023874, 0.006373864653517592, 0.01593466163379398, 0.009560796980276388, 0.9719589288614363, 0.0026308758761757916, 0.04340945195690057, 0.02565103979271397, 0.011181222473747116, 0.003946313814263688, 0.00657718969043948, 0.04275173298785662, 0.005261751752351583, 0.0006577189690439479, 0.0480134847402082, 0.17363780782760227, 0.03683226226646109, 0.011181222473747116, 0.036174543297417136, 0.0006577189690439479, 0.011838941442791063, 0.4209401401881267, 0.02302016391653818, 0.09405381257328456, 0.0013154379380878958, 0.9465005277118101, 0.9475625186752044, 0.008440925927652908, 0.008440925927652908, 0.14349574077009944, 0.818769814982332, 0.0052020594441754804, 0.010404118888350961, 0.1310918979932221, 0.007282883221845673, 0.038495239886898555, 0.0010404118888350962, 0.26634544354178463, 0.004161647555340385, 0.0031212356665052884, 0.011444530777186058, 0.007282883221845673, 0.36934622053645916, 0.01872741399903173, 0.0052020594441754804, 0.08947542243981826, 0.020808237776701922, 0.007282883221845673, 0.0020808237776701924, 0.9714955876200722, 0.9765135250714528, 0.9881835742688885, 0.9714039271236342, 0.024285098178090856, 0.09214685704823974, 0.44956496923535144, 0.030715619016079915, 0.011169316005847241, 0.06561973153435254, 0.027923290014618102, 0.04188493502192715, 0.03211178351681082, 0.015357809508039957, 0.03211178351681082, 0.023734796512425386, 0.0265271255138872, 0.0544504155285053, 0.009773151505116337, 0.004188493502192715, 0.019546303010232673, 0.015357809508039957, 0.018150138509501767, 0.00837698700438543, 0.020942467510963576, 0.969195511741447, 0.10832695772811639, 0.03610898590937213, 0.018054492954686065, 0.009027246477343032, 0.7943976900061869, 0.018054492954686065, 0.016254176462987453, 0.016254176462987453, 0.9589964113162597, 0.006023606289010329, 0.018070818867030984, 0.04141229323694601, 0.0165649172947784, 0.0015059015722525822, 0.06400081682073473, 0.13778999386111127, 0.01581196650865211, 0.04442409638145117, 0.00752950786126291, 0.013553114150273238, 0.09035409433515493, 0.00752950786126291, 0.003764753930631455, 0.01581196650865211, 0.00752950786126291, 0.0030118031445051643, 0.5029711251323624, 0.002258852358378873, 0.0015059015722525822, 0.9875175183420928, 0.9365582242429086, 0.049127180422525764, 0.007558027757311656, 0.007558027757311656, 0.011337041635967484, 0.02834260408991871, 0.18328217311480766, 0.005668520817983742, 0.013226548575295398, 0.001889506939327914, 0.003779013878655828, 0.011337041635967484, 0.1908402008721193, 0.45348166543869933, 0.001889506939327914, 0.011337041635967484, 0.017005562453951226, 0.9741313727196216, 0.0013449560730776776, 0.009414692511543744, 0.09818179333467046, 0.0013449560730776776, 0.34430875470788547, 0.009414692511543744, 0.004034868219233033, 0.15466994840393292, 0.009414692511543744, 0.00537982429231071, 0.0067247803653883885, 0.34565371078096313, 0.0013449560730776776, 0.00537982429231071, 0.0013449560730776776, 0.001658964729809205, 0.012442235473569038, 0.024054988582233473, 0.001658964729809205, 0.31686226339355816, 0.0024884470947138075, 0.0008294823649046025, 0.06884703628708201, 0.0008294823649046025, 0.00331792945961841, 0.001658964729809205, 0.01327171783847364, 0.5449699137423238, 0.0008294823649046025, 0.004976894189427615, 0.0008294823649046025, 0.031122462896510956, 0.0014645864892475745, 0.0014645864892475745, 0.002563026356183255, 0.0003661466223118936, 0.0014645864892475745, 0.008055225690861659, 0.5704564375619302, 0.003661466223118936, 0.0014645864892475745, 0.13071434416534602, 0.02343338382796119, 0.001830733111559468, 0.0014645864892475745, 0.019405770982530362, 0.15963992732798563, 0.002196879733871362, 0.02233494396102551, 0.0014645864892475745, 0.01537815813709953, 0.9561289559356208, 0.05705808339323495, 0.002037788692615534, 0.012226732155693202, 0.020377886926155338, 0.5216739053095767, 0.002037788692615534, 0.002037788692615534, 0.15894751802401164, 0.02649125300400194, 0.012226732155693202, 0.002037788692615534, 0.008151154770462136, 0.14264520848308737, 0.01630230954092427, 0.010188943463077669, 0.004075577385231068, 0.9595473458250398, 0.9803498051726343, 0.00875312326046995, 0.9741302304778737, 0.08847691357392563, 0.42798134938084953, 0.008230410565016338, 0.46501819692342306, 0.0020576026412540845, 0.0020576026412540845, 0.0020576026412540845, 0.8943800839744979, 0.09344269534061918, 0.9362109879246236, 0.019654779608090693, 0.04913694902022673, 0.0039309559216181384, 0.011792867764854414, 0.053067904941844865, 0.02358573552970883, 0.7134684997736921, 0.0039309559216181384, 0.009827389804045347, 0.0039309559216181384, 0.01768930164728162, 0.0019654779608090692, 0.013758345725663484, 0.0039309559216181384, 0.06289529474589022, 0.0039309559216181384, 0.03522385680089999, 0.0035223856800899985, 0.007044771360179997, 0.0017611928400449992, 0.02289550692058499, 0.008805964200224997, 0.05459697804139498, 0.0017611928400449992, 0.15322377708391494, 0.08277606348211497, 0.005283578520134998, 0.0017611928400449992, 0.5952831799352097, 0.0035223856800899985, 0.021134314080539993, 0.0017611928400449992, 0.9679814945030646, 0.9297387682138551, 0.03443476919310575, 0.017217384596552875, 0.0063272210907812775, 0.0031636105453906388, 0.04429054763546894, 0.015818052726953195, 0.012654442181562555, 0.0031636105453906388, 0.0031636105453906388, 0.009490831636171917, 0.03796332654468767, 0.15185330617875067, 0.0031636105453906388, 0.6327221090781278, 0.0031636105453906388, 0.0031636105453906388, 0.06643582145320341, 0.0031636105453906388, 0.014897068241247863, 0.12981730895944565, 0.006384457817677656, 0.0010640763029462759, 0.0042563052117851035, 0.5767293561968816, 0.04149897581490476, 0.013832991938301587, 0.0010640763029462759, 0.029794136482495726, 0.0021281526058925518, 0.008512610423570207, 0.006384457817677656, 0.16067552174488767, 0.11816089959611786, 0.01688012851373112, 0.005626709504577041, 0.8496331351911331, 0.04342383945341536, 0.05131908299039997, 0.0039476217684923055, 0.0019738108842461527, 0.659252835338215, 0.0019738108842461527, 0.0375024068006769, 0.005921432652738458, 0.0019738108842461527, 0.12040246393901531, 0.0039476217684923055, 0.02368573061095383, 0.041450028569169205, 0.9302775299261267, 0.977648424227258, 0.9674964121849247, 0.9749413874174164, 0.003866895613356281, 0.0019334478066781405, 0.008700515130051632, 0.0019334478066781405, 0.22911356509135966, 0.0618703298137005, 0.0019334478066781405, 0.013534134646746984, 0.0019334478066781405, 0.1469420333075387, 0.4582271301827193, 0.002900171710017211, 0.002900171710017211, 0.004833619516695351, 0.0019334478066781405, 0.03770223223022374, 0.004833619516695351, 0.017401030260103263, 0.006312256213915479, 0.010520427023192464, 0.010520427023192464, 0.002104085404638493, 0.04208170809276986, 0.10730835563656314, 0.004208170809276986, 0.16832683237107943, 0.002104085404638493, 0.05470622052060082, 0.46921104523438395, 0.008416341618553973, 0.008416341618553973, 0.002104085404638493, 0.012624512427830957, 0.002104085404638493, 0.06312256213915479, 0.002104085404638493, 0.025249024855661915, 0.9578378396527313, 0.015448997413753732, 0.015448997413753732, 0.015960451198880645, 0.9576270719328388, 0.9545935047338401, 0.9739868955731302, 0.9642457405089129, 0.04384610880483095, 0.9426913393038654, 0.9693306623705485, 0.0199236517276603, 0.0028462359610943286, 0.970566462733166, 0.0028462359610943286, 0.059211049149238304, 0.035973505332178746, 0.013853151121708585, 0.013182837357754943, 0.0024578171344966844, 0.004245320505039727, 0.0015640654492251628, 0.1883581676709732, 0.006479699718218532, 0.19707224660237052, 0.166237813460503, 0.0035750067410860865, 0.06211574212637075, 0.18433628508725133, 0.006926575560854293, 0.001117189606589402, 0.01787503370543043, 0.028823491850006572, 0.004021882583721847, 0.0024578171344966844, 0.02021041041345895, 0.006889912640951915, 0.011942515244316653, 0.7413546001664261, 0.006430585131555121, 0.05282266358063135, 0.004593275093967944, 0.008267895169142298, 0.02526301301682369, 0.0009186550187935886, 0.005971257622158326, 0.07073643644710632, 0.00964587769733268, 0.0036746200751743546, 0.01056453271612627, 0.004133947584571149, 0.0032152925657775605, 0.007808567659745504, 0.002755965056380766, 0.0032152925657775605, 0.9760533195351855, 0.9505295467341065, 0.04752647733670533, 0.004739593268208735, 0.01895837307283494, 0.014218779804626205, 0.014218779804626205, 0.00947918653641747, 0.004739593268208735, 0.9194810940324947, 0.00947918653641747, 0.942928220870573, 0.03553110044165706, 0.01184370014721902, 0.01184370014721902, 0.09474960117775216, 0.8409027104525505, 0.09863927842848222, 0.014690956361688842, 0.008394832206679338, 0.008394832206679338, 0.004197416103339669, 0.570848590054195, 0.0020987080516698346, 0.08184961401512354, 0.016789664413358676, 0.06296124155009503, 0.012592248310019007, 0.006296124155009504, 0.10913281868683139, 0.008832039642543909, 0.21196895142105382, 0.008832039642543909, 0.7507233696162322, 0.0006636393070627735, 0.02521829366838539, 0.008627310991816056, 0.4054836166153546, 0.009954589605941602, 0.0033181965353138673, 0.04579111218733137, 0.023227375747197073, 0.05906389832858684, 0.001327278614125547, 0.0006636393070627735, 0.3072649991700641, 0.0006636393070627735, 0.002654557228251094, 0.0019909179211883205, 0.0019909179211883205, 0.09954589605941602, 0.0006636393070627735, 0.9735263618622729, 0.006203174169512909, 0.01757566014695324, 0.04187142564421213, 0.1426730058987969, 0.3851137296905931, 0.0031015870847564543, 0.004135449446341939, 0.012923279519818559, 0.0020677247231709697, 0.0005169311807927424, 0.0708195717686057, 0.01499100424298953, 0.006203174169512909, 0.017058728966160498, 0.0020677247231709697, 0.23985606788783248, 0.02636349022042986, 0.0015507935423782271, 0.004135449446341939, 0.983094667722179, 0.006656910881891816, 0.8387707711183688, 0.013313821763783632, 0.1264813067559445, 0.008623949750035132, 0.05373384075021889, 0.8464738370034482, 0.011940853500048643, 0.0006633807500027024, 0.0019901422500081074, 0.010614092000043238, 0.010614092000043238, 0.0006633807500027024, 0.0006633807500027024, 0.0006633807500027024, 0.04975355625020268, 0.003316903750013512, 0.9735293125824713, 0.9446076351346554, 0.007468724736975276, 0.9709342158067858, 0.007468724736975276, 0.9526197459739969, 0.9440880633436411, 0.008795851521835166, 0.02345560405822711, 0.01759170304367033, 0.9641597082744298, 0.05664861701304616, 0.07435130982962308, 0.8072427924359078, 0.05664861701304616, 0.016824290383221786, 0.002243238717762905, 0.028601293651477035, 0.033087771087002844, 0.03477020012532502, 0.003925667756085083, 0.10150655197877144, 0.006168906473847989, 0.0011216193588814525, 0.002804048397203631, 0.025797245254273404, 0.07795254544226095, 0.021871577498188324, 0.05608096794407262, 0.04093910659917301, 0.5075327598938573, 0.010094574229933071, 0.024114816215951226, 0.0016824290383221786, 0.002243238717762905, 0.04638075543529323, 0.8193933460235137, 0.005153417270588136, 0.05153417270588136, 0.04638075543529323, 0.010306834541176271, 0.005153417270588136, 0.012395971911561136, 0.037187915734683406, 0.9296978933670852, 0.02235570190017144, 0.18629751583476198, 0.7824495665060003, 0.9479659735150926, 0.18479962417443885, 0.1096115417897407, 0.09602333412985549, 0.08032140527843258, 0.034725419575262206, 0.04861558740536709, 0.05918419336305558, 0.02023133140471798, 0.051635189107563796, 0.048011667064927745, 0.008454884766150798, 0.032611698383724505, 0.035329339915701544, 0.028384256000649106, 0.046803826384049056, 0.03351757889438352, 0.017211729702521265, 0.018721530553619622, 0.02023133140471798, 0.02506269412823272, 0.7904990880319955, 0.06656834425532594, 0.008321043031915743, 0.03328417212766297, 0.008321043031915743, 0.024963129095747227, 0.008321043031915743, 0.016642086063831486, 0.016642086063831486, 0.008321043031915743, 0.008321043031915743, 0.017640960056959074, 0.005880320018986358, 0.04312234680589996, 0.0019601066729954524, 0.04312234680589996, 0.00784042669198181, 0.09212501363078628, 0.701718188932372, 0.01568085338396362, 0.04508245347889541, 0.011760640037972716, 0.003920213345990905, 0.005880320018986358, 0.003920213345990905, 0.0019601066729954524, 0.0019601066729954524, 0.005308440139185424, 0.008847400231975706, 0.01238636032476599, 0.0017694800463951411, 0.10970776287649875, 0.09732140255173277, 0.008847400231975706, 0.054853881438249374, 0.3202758883975206, 0.005308440139185424, 0.04069804106708825, 0.0035389600927902823, 0.0017694800463951411, 0.01592532041755627, 0.3096590081191497, 0.20296222221324126, 0.036902222220589316, 0.043052592590687534, 0.6826911110809024, 0.018451111110294658, 0.006150370370098219, 0.9711441639742927, 0.9314037300535287, 0.04298786446400902, 0.014329288154669672, 0.005690237331477389, 0.011380474662954778, 0.008535355997216084, 0.0028451186657386944, 0.0028451186657386944, 0.1564815266156282, 0.008535355997216084, 0.12518522129250256, 0.1536364079498895, 0.46659946118114587, 0.04552189865181911, 0.014225593328693472, 0.9765092278729596, 0.9793423360348916, 0.9220867494231604, 0.05345430431438611, 0.013363576078596527, 0.023909113419728203, 0.9324554233693999, 0.023909113419728203, 0.014727329397060123, 0.014727329397060123, 0.957276410808908, 0.000524975113112343, 0.005774726244235772, 0.000524975113112343, 0.007874626696685144, 0.000524975113112343, 0.1223192013551759, 0.005774726244235772, 0.8494097330157708, 0.000524975113112343, 0.000524975113112343, 0.000524975113112343, 0.000524975113112343, 0.000524975113112343, 0.004199800904898744, 0.9382569161860739, 0.011583418718346592, 0.04633367487338637, 0.013322834570395375, 0.0532913382815815, 0.02664566914079075, 0.013322834570395375, 0.8926299162164901, 0.24284566332145582, 0.01011856930506066, 0.7386555592694282, 0.9773901338755212, 0.929346728810735, 0.8896675128494111, 0.020689942159288634, 0.027586589545718177, 0.020689942159288634, 0.013793294772859089, 0.4602189182486509, 0.18641778967033962, 0.031069631611723266, 0.04854629939331761, 0.025244075684525157, 0.021360371733059748, 0.02718592766025786, 0.009709259878663522, 0.005825555927198113, 0.009709259878663522, 0.009709259878663522, 0.03883703951465409, 0.011651111854396226, 0.021360371733059748, 0.029127779635990562, 0.019418519757327043, 0.011651111854396226, 0.025244075684525157, 0.009709259878663522, 0.02179539593491799, 0.03205205284546763, 0.03461621707310504, 0.029487888617830218, 0.016667067479643166, 0.061539941463297845, 0.15769609999970075, 0.007692492682912231, 0.4538570682918216, 0.00512832845527482, 0.026923724390192808, 0.05512953089420432, 0.014102903252005757, 0.008974574796730935, 0.016667067479643166, 0.01794914959346187, 0.001282082113818705, 0.001282082113818705, 0.03589829918692374, 0.001282082113818705, 0.035271569789658536, 0.023514379859772356, 0.9170608145311219, 0.019519427151866553, 0.004504483188892281, 0.1486479452334453, 0.006005977585189708, 0.028528393529651117, 0.0165164383592717, 0.043543337492625386, 0.3063048568446751, 0.061561270248194515, 0.001501494396297427, 0.0165164383592717, 0.003002988792594854, 0.04654632628522024, 0.001501494396297427, 0.2807794521076189, 0.004504483188892281, 0.007507471981487135, 0.8127792360256483, 0.008931639956325805, 0.026794919868977415, 0.03572655982530322, 0.008931639956325805, 0.03572655982530322, 0.01786327991265161, 0.03572655982530322, 0.0019650484966411406, 0.0019650484966411406, 0.0019650484966411406, 0.009825242483205703, 0.9825242483205702, 0.0019650484966411406, 0.0012478275641503963, 0.0024956551283007926, 0.011230448077353567, 0.03618699936036149, 0.0012478275641503963, 0.006239137820751981, 0.0012478275641503963, 0.058647895515068625, 0.0012478275641503963, 0.8734792949052773, 0.0024956551283007926, 0.0012478275641503963, 0.9681803958829174, 0.04673234793000187, 0.06279659253094001, 0.03285868213828256, 0.020445402219375818, 0.0058415434912502335, 0.013873665791719303, 0.0014603858728125584, 0.0175246304737507, 0.0007301929364062792, 0.3848116774861091, 0.005111350554843954, 0.0007301929364062792, 0.057685241976096056, 0.16210283188219396, 0.01679443753734442, 0.004381157618437675, 0.10003643228766025, 0.0007301929364062792, 0.013873665791719303, 0.05184369848484582, 0.933540162167187, 0.964883961048648, 0.09914463919999048, 0.12122618066605712, 0.07069057234438783, 0.1187068101632173, 0.04683065169984602, 0.0583901163599346, 0.07380273590671936, 0.044755875991625, 0.05290678055963617, 0.029787851239459023, 0.01318964557369081, 0.05794552156531581, 0.03956893672107243, 0.02341532584992301, 0.03349280786128228, 0.04327389334289569, 0.0056315340651713576, 0.02934325644484023, 0.020006765757845612, 0.018080188314497515, 0.004325365020717642, 0.06379913405558522, 0.18238622504026059, 0.012976095062152927, 0.03712604976115976, 0.00504625919083725, 0.02451040178406664, 0.01730146008287057, 0.039288732271518585, 0.008290282956375482, 0.023068613443827424, 0.012615647977093122, 0.005767153360956856, 0.08470506498905382, 0.3593657438046241, 0.016220118827691157, 0.07785657037291756, 0.000720894170119607, 0.020185036763349, 0.004325365020717642, 0.9847016174157344, 0.0025458763612247752, 0.05600927994694505, 0.03309639269592208, 0.9037861082347952, 0.0025458763612247752, 0.026826230090347066, 0.2637912625550795, 0.4232582969810315, 0.0014903461161303927, 0.10432422812912748, 0.0014903461161303927, 0.0014903461161303927, 0.0014903461161303927, 0.008942076696782356, 0.014903461161303927, 0.0014903461161303927, 0.017884153393564712, 0.03278761455486864, 0.004471038348391178, 0.0014903461161303927, 0.07302695969038923, 0.0014903461161303927, 0.014903461161303927, 0.004471038348391178, 0.051073419246426874, 0.009199559988486828, 0.017130215150975472, 0.022205834454968206, 0.02728145375896094, 0.006344524129990916, 0.35973451817048496, 0.034260430301950945, 0.013323500672980923, 0.01586131032497729, 0.04377721649693732, 0.27725570448060305, 0.0066617503364904615, 0.03330875168245231, 0.005392845510492279, 0.015226857911978198, 0.0066617503364904615, 0.008882333781987283, 0.009516786194986374, 0.03679823995394731, 0.9491853461436004, 0.03710506824266853, 0.026985504176486205, 0.2745775049957471, 0.07151158606768844, 0.007421013648533706, 0.22465432226924764, 0.009444926461770172, 0.04115289386914146, 0.022263040945601116, 0.08500433815593154, 0.008095651252945861, 0.014167389692655257, 0.012818114483830946, 0.02766014178089836, 0.029009416989722668, 0.0020239128132364653, 0.07353549888092491, 0.012143476879418792, 0.012143476879418792, 0.006746376044121551, 0.9700286597576421, 0.02893870507931737, 0.019603638924698866, 0.17643275032228978, 0.028005198463855522, 0.5731730618935763, 0.0018670132309237014, 0.006534546308232955, 0.012135586001004058, 0.0018670132309237014, 0.03920727784939773, 0.0009335066154618507, 0.012135586001004058, 0.0018670132309237014, 0.003734026461847403, 0.0018670132309237014, 0.0737470226214862, 0.0009335066154618507, 0.014002599231927761, 0.0018670132309237014, 0.990233681107707, 0.9860276120349871, 0.003685583312564468, 0.03317024981308021, 0.012899541593975638, 0.020270708219104573, 0.09398237447039393, 0.661562204605322, 0.007371166625128936, 0.001842791656282234, 0.001842791656282234, 0.05528374968846702, 0.003685583312564468, 0.00921395828141117, 0.02764187484423351, 0.005528374968846702, 0.011056749937693403, 0.046069791407055846, 0.001842791656282234, 0.007962449330077212, 0.054030906168381077, 0.16436770402802245, 0.30826053835013206, 0.11659300804755916, 0.011943673995115818, 0.026162333513110838, 0.003412478284318805, 0.0017062391421594025, 0.05516839892982068, 0.05516839892982068, 0.008531195710797012, 0.018768630563753427, 0.009668688472236614, 0.01933737694447323, 0.003412478284318805, 0.11602426166683937, 0.009099942091516813, 0.009668688472236614, 0.0011374927614396016, 0.9646311329397679, 0.018914335939995447, 0.05292052884660071, 0.05292052884660071, 0.03735566742112991, 0.018677833710564955, 0.5758998727424195, 0.0031129722850941595, 0.05292052884660071, 0.0031129722850941595, 0.012451889140376638, 0.04980755656150655, 0.13697078054414302, 0.006225944570188319, 0.03063994747206098, 0.9498383716338904, 0.01531997373603049, 0.027799809874153227, 0.9590934406582863, 0.9262951582721116, 0.04027370253357007, 0.016095124253766295, 0.03219024850753259, 0.9335172067184451, 0.12964939791837954, 0.17642164906614938, 0.052105928910234814, 0.08000516643697472, 0.029130086241154898, 0.058670455387114795, 0.04800309986218483, 0.035694612718034875, 0.03979744176608486, 0.04431055371893985, 0.016411316192199942, 0.034463764003619876, 0.07056865962645975, 0.034874046908424876, 0.04554140243335484, 0.032822632384399884, 0.011077638429734962, 0.021334711049859924, 0.014770184572979949, 0.02502725719310491, 0.11466280019591717, 0.034785343879660265, 0.0077300764177022805, 0.0605522652720012, 0.0025766921392340937, 0.0012883460696170468, 0.059263919202384156, 0.012883460696170468, 0.0025766921392340937, 0.0012883460696170468, 0.03220865174042617, 0.44963277829634934, 0.019325191044255702, 0.04251542029736254, 0.021901883183489797, 0.05668722706315006, 0.0631289574112353, 0.005153384278468187, 0.011595114626553422, 0.9798264274101041, 0.021239749724385266, 0.9664086124595296, 0.21848656431958632, 0.3542691749136795, 0.0691256926660838, 0.04073478317822796, 0.025922134749781427, 0.013578261059409319, 0.011109486321334898, 0.008640711583260475, 0.009875098952297687, 0.03209407159496748, 0.002468774738074422, 0.01604703579748374, 0.05060988213052564, 0.04196917054726517, 0.024687747380744217, 0.01851581053555816, 0.012343873690372108, 0.01481264842844653, 0.019750197904595375, 0.01604703579748374, 0.9661160885297386, 0.029879879026692948, 0.01749224046929864, 0.01749224046929864, 0.01749224046929864, 0.927088744872828, 0.023097199183098625, 0.023097199183098625, 0.9238879673239451, 0.049920717204143455, 0.01664023906804782, 0.06656095627219127, 0.049920717204143455, 0.00832011953402391, 0.7904113557322714, 0.04392908853356987, 0.006082489181571213, 0.054066570502855224, 0.02297829246371347, 0.014868306888285186, 0.03717076722071296, 0.002027496393857071, 0.3554877010562731, 0.04663241705871263, 0.04933574558385539, 0.0973198269051394, 0.008109985575428283, 0.006758321312856903, 0.08177568788556852, 0.02500578885757054, 0.016219971150856567, 0.09461649837999664, 0.010137481969285354, 0.012164978363142426, 0.016219971150856567, 0.12447229952453463, 0.14654620485893485, 0.1250854635616013, 0.06438222389200067, 0.08614954720786756, 0.05763741948426727, 0.03157794790893366, 0.0511991970950672, 0.08676271124493423, 0.03924249837226708, 0.010117206611600106, 0.013489608815466807, 0.02299365139000024, 0.02575288955680027, 0.016555429000800172, 0.027285799649466952, 0.009504042574533432, 0.010730370648666778, 0.030658201853333653, 0.01962124918613354, 0.9629179375113305, 0.8875375184301594, 0.009245182483647493, 0.009245182483647493, 0.09245182483647493, 0.9651429623343104, 0.9614116448770994, 0.00409600119443829, 0.00409600119443829, 0.00409600119443829, 0.946176275915245, 0.00409600119443829, 0.00409600119443829, 0.00409600119443829, 0.020480005972191448, 0.00409600119443829, 0.024165987646269826, 0.9666395058507931, 0.9827278482485794, 0.9817748990440011, 0.9673772864390239, 0.016875597953828828, 0.9709094022769518, 0.0011250398635885884, 0.0011250398635885884, 0.002250079727177177, 0.0011250398635885884, 0.0011250398635885884, 0.0011250398635885884, 0.003375119590765765, 0.9600195602959496, 0.03244543531606473, 0.0126960399062862, 0.0253920798125724, 0.0719442261356218, 0.10580033255238501, 0.11567503025727427, 0.03949879081955707, 0.0014106711006984668, 0.40909461920255535, 0.036677448618160136, 0.04796281742374787, 0.02257073761117547, 0.0296240931146678, 0.005642684402793867, 0.007053355503492334, 0.021160066510477, 0.0014106711006984668, 0.0126960399062862, 0.9895397856023569, 0.002530845196916939, 0.037962677953754076, 0.8756724381332608, 0.005061690393833878, 0.06327112992292347, 0.012654225984584693, 0.9588147558326612, 0.9836631561960449, 0.9600279290330805, 0.12673167759219106, 0.09522380194772366, 0.05321330108843381, 0.054613651117076806, 0.01960490040100193, 0.021705425443966423, 0.08262065168993671, 0.1925481289384118, 0.010502625214822462, 0.02240560045828792, 0.007001750143214975, 0.014703675300751447, 0.051112776045469314, 0.01750437535803744, 0.051812951059790814, 0.039909975816325355, 0.04901225100250482, 0.0287071755871814, 0.012603150257786955, 0.04831207598818333, 0.9561671536688237, 0.11186100557252728, 0.0033897274415917358, 0.0033897274415917358, 0.09830209580616034, 0.04406645674069257, 0.6745557608767554, 0.010169182324775207, 0.0033897274415917358, 0.0067794548831834715, 0.04067672929910083, 0.9696477102864715, 0.6965005855963606, 0.10754788454061451, 0.02765517031044373, 0.010242655670534714, 0.008194124536427773, 0.0030727967011604145, 0.0010242655670534716, 0.008194124536427773, 0.024582373609283316, 0.0030727967011604145, 0.0010242655670534716, 0.018436780206962485, 0.01946104577401596, 0.028679435877497203, 0.014339717938748602, 0.005121327835267357, 0.006145593402320829, 0.005121327835267357, 0.010242655670534714, 0.009748178563452182, 0.011372874990694212, 0.31194171403046983, 0.5215275531446918, 0.012997571417936242, 0.0016246964272420303, 0.0016246964272420303, 0.0016246964272420303, 0.012997571417936242, 0.004874089281726091, 0.012997571417936242, 0.0016246964272420303, 0.011372874990694212, 0.08448421421658558, 0.06361471889053529, 0.01590367972263382, 0.02493009253818275, 0.25488870474383396, 0.00214914590846403, 0.03008804271849642, 0.030517871900189227, 0.3172139360892908, 0.014614192177555404, 0.01590367972263382, 0.08682549470194681, 0.02364060499310433, 0.02364060499310433, 0.026219580083261165, 0.002578975090156836, 0.003008804271849642, 0.009456241997241733, 0.037395138807274124, 0.015473850540941015, 0.00214914590846403, 0.07680152683565498, 0.039438621888579585, 0.004151433883008378, 0.15879234602507045, 0.0010378584707520944, 0.006227150824512567, 0.026984320239554455, 0.5313835370250723, 0.002075716941504189, 0.010378584707520944, 0.004151433883008378, 0.015567877061281415, 0.04255219730083587, 0.00934072623676885, 0.017643594002785604, 0.002075716941504189, 0.005189292353760472, 0.008302867766016755, 0.034249329534819115, 0.004151433883008378, 0.9639441520054225, 0.03779572680909011, 0.03779572680909011, 0.9070974434181626, 0.9412976655484225, 0.025440477447254663, 0.9681868659778919, 0.03398729574179965, 0.9516442807703902, 0.16113532829595945, 0.7488053491400469, 0.07582838978633386, 0.16891505426346592, 0.015713028303578225, 0.6403059033708127, 0.003928257075894556, 0.007856514151789113, 0.0903499127455748, 0.03928257075894556, 0.003928257075894556, 0.007856514151789113, 0.003928257075894556, 0.015713028303578225, 0.012249770294275129, 0.012249770294275129, 0.13474747323702643, 0.07349862176565078, 0.759485758245058, 0.949234891308179, 0.022075230030422766, 0.2178417622369298, 0.011465355907206832, 0.017198033860810247, 0.011465355907206832, 0.7280501001076338, 0.3204907640514177, 0.027470636918692948, 0.0016648870859813907, 0.06160082218131146, 0.009989322515888344, 0.004162217714953477, 0.02830308046168364, 0.009156878972897648, 0.0008324435429906954, 0.07908213658411606, 0.0058271048009348675, 0.29135524004674335, 0.011654209601869735, 0.0016648870859813907, 0.0008324435429906954, 0.008324435429906954, 0.042454620692525466, 0.0899039026429951, 0.002497330628972086, 0.0033297741719627814, 0.968435081699834, 0.0009682702153933344, 0.014524053230900016, 0.012587512800113347, 0.02614329581562003, 0.02420675538483336, 0.0009682702153933344, 0.0067778915077533405, 0.0019365404307866688, 0.0009682702153933344, 0.06971545550832008, 0.0009682702153933344, 0.021301944738653357, 0.012587512800113347, 0.01549232344629335, 0.012587512800113347, 0.0009682702153933344, 0.7242661211142142, 0.037762538400340044, 0.011619242584720012, 0.0038730808615733375, 0.0023272641718705767, 0.02559990589057634, 0.004654528343741153, 0.004654528343741153, 0.17687207706216382, 0.00698179251561173, 0.0023272641718705767, 0.0395634909217998, 0.0023272641718705767, 0.0023272641718705767, 0.7167973649361375, 0.011636320859352883, 0.0023272641718705767, 0.9760072415312122, 0.048674821598216754, 0.9442915390054051, 0.042838403117058325, 0.9424448685752831, 0.9655411982917295, 0.9629381857429052, 0.005674203347869091, 0.022696813391476365, 0.10780986360951272, 0.7660174519623273, 0.04539362678295273, 0.04539362678295273, 0.9573084873578893, 0.9775497836430664, 0.013577080328375922, 0.9661474992051311, 0.988339683281671, 0.9881445984138758, 0.10878003864386991, 0.8702403091509593, 0.9372315328785655, 0.019832133977928722, 0.009916066988964361, 0.05949640193378617, 0.009916066988964361, 0.8527817610509352, 0.009916066988964361, 0.039664267955857445, 0.9547813962160174, 0.9873207228045789, 0.6381613485941373, 0.07452979253654157, 0.004658112033533848, 0.13042713693894775, 0.004658112033533848, 0.018632448134135393, 0.05123923236887234, 0.004658112033533848, 0.004658112033533848, 0.004658112033533848, 0.004658112033533848, 0.018632448134135393, 0.013974336100601547, 0.018632448134135393, 0.024123633130134558, 0.01809272484760092, 0.838296251272176, 0.0060309082825336395, 0.07840180767293732, 0.024123633130134558, 0.9760444451721293, 0.9700238304904085, 0.9131792709555078, 0.053716427703265165, 0.01790547590108839, 0.9720817245347472, 0.963658171441086, 0.9823277616646335, 0.9682432320587926, 0.9750159288804812, 0.9771839975680808, 0.0028710416351343305, 0.00861312490540299, 0.07680036373984334, 0.012201926949320903, 0.6510086907667094, 0.0014355208175671653, 0.0007177604087835826, 0.0007177604087835826, 0.0007177604087835826, 0.05598531188511944, 0.0021532812263507476, 0.0165084894020224, 0.1442698421655001, 0.012919687358104486, 0.0007177604087835826, 0.010766406131753739, 0.9944605422637739, 0.960497279706902, 0.9775301859895043, 0.9752244156871613, 0.004564480576720606, 0.04336256547884576, 0.010270081297621365, 0.002282240288360303, 0.012552321585981668, 0.0011411201441801516, 0.04336256547884576, 0.005705600720900758, 0.003423360432540455, 0.002282240288360303, 0.26816323388233565, 0.003423360432540455, 0.025104643171963335, 0.40167429075141337, 0.00684672086508091, 0.004564480576720606, 0.12552321585981668, 0.015975682018522123, 0.02054016259524273, 0.9844958080743785, 0.012122762087677876, 0.0068933353047580075, 0.052769670264009576, 0.19705430922911682, 0.03636828626303362, 0.030425755827897413, 0.3441913628030895, 0.019729201044652228, 0.009032646261407044, 0.03755679235006087, 0.05229426782919867, 0.03636828626303362, 0.0028524146088653823, 0.00475402434810897, 0.014262073044326912, 0.042310816698169836, 0.023057018088328506, 0.049204152002927846, 0.023057018088328506, 0.0052294267829198675, 0.9981835821574625, 0.9891480875640504, 0.9420591027027968, 0.9591467952503119, 0.09464839207080009, 0.165834647515599, 0.09891423509370938, 0.08105101743527669, 0.045324582118411304, 0.05065688589704793, 0.06398764534363949, 0.03359351380541074, 0.0503902707081161, 0.047457503629865956, 0.020795984736682836, 0.028794440404637772, 0.08158424781314035, 0.01759660246950086, 0.03439335937220623, 0.023462136626001148, 0.015197065769114379, 0.022662291059205652, 0.011997683501932404, 0.011731068313000574, 0.9425139290239066, 0.046353144050356065, 0.17276054090903384, 0.1719095037616987, 0.011063482915356845, 0.052764303134778805, 0.015318668652032555, 0.005106222884010852, 0.016169705799367697, 0.06382778605013564, 0.016169705799367697, 0.18978128385573667, 0.001702074294670284, 0.009361408620686563, 0.17105846661436355, 0.02978630015672997, 0.028935263009394828, 0.001702074294670284, 0.00851037147335142, 0.01702074294670284, 0.00851037147335142, 0.006808297178681136, 0.10294736596014072, 0.013604484259032401, 0.07858112549620208, 0.10416567798333765, 0.07492618942661129, 0.035127996668844856, 0.013198380251300091, 0.11716100623077158, 0.020305200386615523, 0.036549360695907945, 0.14579133877589948, 0.023757084452340163, 0.046295856881483397, 0.006903768131449279, 0.01279227624356778, 0.019086888363418594, 0.025990656494867873, 0.0793933335116667, 0.021726564413678612, 0.021523512409812456, 0.04690283939978335, 0.9380567879956669, 0.008291091488608465, 0.04974654893165079, 0.9396570353756261, 0.001543110332807615, 0.013116437828864727, 0.005400886164826652, 0.013887992995268533, 0.6326752364511221, 0.01465954816167234, 0.005400886164826652, 0.0007715551664038074, 0.001543110332807615, 0.013887992995268533, 0.010030217163249497, 0.00308622066561523, 0.001543110332807615, 0.0007715551664038074, 0.2793029702381783, 0.0007715551664038074, 0.0007715551664038074, 0.0007715551664038074, 0.9898978272517891, 0.011525927161970087, 0.005762963580985043, 0.8644445371477565, 0.023051854323940173, 0.01728889074295513, 0.005762963580985043, 0.005762963580985043, 0.06339259939083548, 0.0013378644211406968, 0.16188159495802432, 0.8321516699495134, 0.0013378644211406968, 0.9396970308696806, 0.9611139359304944, 0.9821086232355953, 0.20141511858605346, 0.6637543680676762, 0.004577616331501215, 0.10070755929302673, 0.004577616331501215, 0.01831046532600486, 0.01437283075571701, 0.9773524913887566, 0.9621685068813484, 0.9774165392081682, 0.0502394335925831, 0.00502394335925831, 0.007894768135977344, 0.0796653875539532, 0.0035885309708987927, 0.004306237165078552, 0.027990541573010584, 0.0502394335925831, 0.00502394335925831, 0.002153118582539276, 0.43708307225547294, 0.03014366015554986, 0.004306237165078552, 0.038038428291527204, 0.0071770619417975854, 0.22535974497244418, 0.00502394335925831, 0.0071770619417975854, 0.0071770619417975854, 0.002153118582539276, 0.9728327734473068, 0.9875601235064408, 0.9673599236005104, 0.03203690231782319, 0.21027857703153038, 0.014562228326283268, 0.020387119656796574, 0.009319826128821292, 0.005242402197461977, 0.1840665660442205, 0.03902677191443916, 0.028541967519515207, 0.005242402197461977, 0.03902677191443916, 0.18173660951201517, 0.01805716312459125, 0.03553183711613118, 0.06349131550259506, 0.07455860903057034, 0.0017474673991539921, 0.019222141390693913, 0.004077423931359315, 0.013979739193231937, 0.011153729460137147, 0.5186484198963773, 0.005576864730068573, 0.09480670041116575, 0.17009437426709148, 0.06692237676082288, 0.11432572696640575, 0.013942161825171433, 0.9511286182898521, 0.028822079342116728, 0.019542649775617923, 0.15634119820494338, 0.8110199656881437, 0.5610828831944342, 0.011110552142464045, 0.07777386499724831, 0.030554018391776124, 0.2610979753479051, 0.01666582821369607, 0.0027776380356160113, 0.011110552142464045, 0.011110552142464045, 0.0055552760712320225, 0.0055552760712320225, 0.0027776380356160113, 0.9566022065761046, 0.1391436713378241, 0.00561063190878323, 0.0025247843589524532, 0.5344126893116026, 0.008415947863174844, 0.0025247843589524532, 0.025808906780402856, 0.09341702128124077, 0.0011221263817566458, 0.0050495687179049065, 0.006171695099661552, 0.058631103446784745, 0.03562751262077351, 0.00561063190878323, 0.018795616894423817, 0.0072938214814181985, 0.03226113347550357, 0.004769037122465745, 0.00953807424493149, 0.0033663791452699376, 0.7088126217244111, 0.008290206102039895, 0.004145103051019948, 0.07461185491835906, 0.16994922509181784, 0.008290206102039895, 0.008290206102039895, 0.008290206102039895, 0.9727045988861036, 0.963202529710006, 0.9458516851275799, 0.07482291001478347, 0.0049881940009855645, 0.7831464581547337, 0.0049881940009855645, 0.12470485002463912, 0.007952689943118344, 0.9861335529466746, 0.1495462159693642, 0.0048240714828827165, 0.7718514372612347, 0.05306478631170988, 0.009648142965765433, 0.9463290241345522, 0.16565772223466002, 0.09506899410884362, 0.10600192843136064, 0.07011338315527217, 0.046583807113333375, 0.04016665001098643, 0.04848518699551025, 0.034462510364455815, 0.03374949290863949, 0.028996043203197305, 0.010932934322517017, 0.03565087279081636, 0.04492009971642861, 0.036839235217176906, 0.0577544139211225, 0.057516741435850394, 0.008793881955068035, 0.02519328343884356, 0.01758776391013607, 0.03541320030554425, 0.9532030734706083, 0.9424969503436622, 0.042197108663830654, 0.11283139925328631, 0.2871238046038912, 0.042197108663830654, 0.017429240535060488, 0.1577804932647581, 0.0009173284492137098, 0.003669313796854839, 0.011925269839778228, 0.08898085957372985, 0.004586642246068549, 0.0018346568984274195, 0.046783750909899204, 0.028437181925625006, 0.05503970695282259, 0.011925269839778228, 0.041279780214616944, 0.0018346568984274195, 0.036693137968548395, 0.005503970695282259, 0.9456026801414145, 0.9794611862477097, 0.009889001743559207, 0.0665260117293983, 0.044051007766763746, 0.01708100301160227, 0.029667005230677623, 0.022475003962634563, 0.6598661163429508, 0.0026970004755161475, 0.04315200760825836, 0.01438400253608612, 0.0026970004755161475, 0.06023301061986063, 0.00359600063402153, 0.00359600063402153, 0.001798000317010765, 0.005394000951032295, 0.00359600063402153, 0.0026970004755161475, 0.008091001426548443, 0.025643577547129242, 0.5264475625851827, 0.0467618178800592, 0.009050674428398556, 0.03318580623746137, 0.04827026361812563, 0.10559120166464982, 0.00754222869033213, 0.009050674428398556, 0.07994762411752057, 0.0030168914761328517, 0.0015084457380664259, 0.009050674428398556, 0.0030168914761328517, 0.009050674428398556, 0.0015084457380664259, 0.01508445738066426, 0.05581249230845776, 0.0030168914761328517, 0.01055912016646498, 0.031938718623211675, 0.8224220045477005, 0.007984679655802919, 0.031938718623211675, 0.0878314762138321, 0.007984679655802919, 0.012107664652974158, 0.004324165947490771, 0.01037799827397785, 0.019026330168959393, 0.0622679896438671, 0.004324165947490771, 0.015566997410966775, 0.004324165947490771, 0.48257691973997, 0.003459332757992617, 0.009513165084479696, 0.20842479866905517, 0.0008648331894981542, 0.0008648331894981542, 0.03286366120092986, 0.11934698015074528, 0.009513165084479696, 0.0008648331894981542, 0.027532187186662435, 0.011336782959213943, 0.9312357430782883, 0.004858621268234547, 0.021054025495683037, 0.0016195404227448492, 0.01956296677339206, 0.9390224051228189, 0.01956296677339206, 0.9810906455245118, 0.00836703498659249, 0.01673406997318498, 0.970576058444729, 0.006150644166977929, 0.007907971071828765, 0.017573269048508366, 0.019330595953359203, 0.09928897012407228, 0.0017573269048508369, 0.047447826430972596, 0.24514710322669173, 0.1142262488153044, 0.019330595953359203, 0.0035146538097016737, 0.18979130572389039, 0.004393317262127092, 0.10543961429105021, 0.014937278691232113, 0.05008381678824885, 0.005271980714552511, 0.034267874644591315, 0.009665297976679602, 0.004393317262127092, 0.9372716781704113, 0.007808751152556252, 0.017037275241940916, 0.006388978215727844, 0.015617502305112505, 0.07737762505714832, 0.006388978215727844, 0.0070988646841420484, 0.004969205278899434, 0.006388978215727844, 0.15617502305112504, 0.005679091747313639, 0.0007098864684142048, 0.0028395458736568194, 0.0014197729368284097, 0.004259318810485229, 0.6601944156252104, 0.0007098864684142048, 0.01774716171035512, 0.0007098864684142048, 0.004109909386709693, 0.02876936570696785, 0.8137620585685191, 0.0575387314139357, 0.016439637546838772, 0.07397836896077448, 0.004109909386709693, 0.006036155710616364, 0.15694004847602547, 0.027985812840130415, 0.1048096127934296, 0.019205949988324793, 0.24583615985055737, 0.046094279971979506, 0.006036155710616364, 0.2612009198412172, 0.023595881414227606, 0.002743707141189256, 0.009328604280043472, 0.01755972570361124, 0.023047139985989753, 0.00438993142590281, 0.002743707141189256, 0.003841189997664959, 0.03237574426603323, 0.004938672854140662, 0.001646224284713554, 0.9726186450596026, 0.9326775335289916, 0.05829234584556198, 0.005643772699545518, 0.005643772699545518, 0.005643772699545518, 0.005643772699545518, 0.03386263619727311, 0.005643772699545518, 0.005643772699545518, 0.7901281779363725, 0.02257509079818207, 0.10158790859181932, 0.016931318098636555, 0.005643772699545518, 0.0026373032685674696, 0.021098426148539757, 0.0026373032685674696, 0.8544862590158602, 0.00791190980570241, 0.005274606537134939, 0.0026373032685674696, 0.00791190980570241, 0.07648179478845663, 0.01582381961140482, 0.0036071378540920482, 0.05771420566547277, 0.0036071378540920482, 0.014428551416368193, 0.0036071378540920482, 0.01803568927046024, 0.0036071378540920482, 0.0036071378540920482, 0.8909630499607359, 0.0009374442153343091, 0.0037497768613372366, 0.004687221076671546, 0.009374442153343092, 0.016873995876017563, 0.0103118863686774, 0.0056246652920058544, 0.4752842171744947, 0.006562109507340164, 0.39185168200974124, 0.016873995876017563, 0.02343610538335773, 0.0018748884306686183, 0.028123326460029272, 0.0009374442153343091, 0.040895115127575314, 0.9405876479342322, 0.9712348131459764, 0.005589901930348662, 0.27390519458708446, 0.005589901930348662, 0.011179803860697324, 0.005589901930348662, 0.6987377412935828, 0.1432853087147256, 0.01390081353202562, 0.011762226834790909, 0.3999157123828909, 0.011762226834790909, 0.012831520183408263, 0.040633147247459506, 0.03421738715575537, 0.0021385866972347106, 0.01817798692649504, 0.009623640137556198, 0.09195922798109256, 0.01390081353202562, 0.04277173394469421, 0.07271194770598016, 0.01817798692649504, 0.014970106880642974, 0.02780162706405124, 0.01390081353202562, 0.007485053440321487, 0.003006752210781082, 0.012027008843124328, 0.007516880526952705, 0.004510128316171623, 0.07667218137491759, 0.8268568579647976, 0.009020256632343246, 0.022550641580858115, 0.016537137159295952, 0.006013504421562164, 0.004510128316171623, 0.007516880526952705, 0.0031308648736319993, 0.15967410855523195, 0.24890375745374393, 0.007827162184079998, 0.14010620309503197, 0.018002473023383998, 0.0015654324368159997, 0.0023481486552239996, 0.004696297310447999, 0.22307412224627995, 0.008609878402487997, 0.0015654324368159997, 0.007044445965671999, 0.009392594620895998, 0.003913581092039999, 0.0054790135288559985, 0.13775805443980796, 0.0054790135288559985, 0.008609878402487997, 0.0015654324368159997, 0.9711362506781003, 0.009419988048807842, 0.009419988048807842, 0.009419988048807842, 0.9702587690272078, 0.9819329569121732, 0.012588884062976579, 0.02144195995969709, 0.9434462382266718, 0.963921027951184, 0.04799538901473702, 0.8831151578711611, 0.057594466817684424, 0.44172664410888024, 0.09657181693068637, 0.0035767339603957914, 0.016095302821781062, 0.005365100940593687, 0.03397897262376002, 0.06259284430692635, 0.0017883669801978957, 0.026825504702968437, 0.005365100940593687, 0.032190605643562124, 0.06080447732672845, 0.041132440544551604, 0.016095302821781062, 0.06795794524752004, 0.0017883669801978957, 0.007153467920791583, 0.007153467920791583, 0.07332304618811372, 0.9717668375551911, 0.9652333101199552, 0.008384304343850674, 0.008384304343850674, 0.9725793038866782, 0.12378568669032203, 0.008252379112688136, 0.8334902903815017, 0.01650475822537627, 0.005967905288622348, 0.01491976322155587, 0.005967905288622348, 0.7967153560310835, 0.005967905288622348, 0.002983952644311174, 0.020887668510178217, 0.03879138437604526, 0.03580743173173409, 0.008951857932933523, 0.05669510024191231, 0.005967905288622348, 0.002983952644311174, 0.9597715027389605, 0.01745039095889019, 0.9703965597229323, 0.9624235125061672, 0.032441241994589906, 0.012767750305106695, 0.1421863102159609, 0.14566842393553547, 0.0591959332327674, 0.022633739177234595, 0.003482113719574553, 0.20138224344872832, 0.07544579725744864, 0.0023214091463830354, 0.08705284298936382, 0.0011607045731915177, 0.0661601606719165, 0.05281205808021405, 0.05281205808021405, 0.047588887500852224, 0.020892682317447318, 0.0011607045731915177, 0.002901761432978794, 0.0005803522865957589, 0.0017410568597872765, 0.9585399164128828, 0.9719398755885994, 0.9553146743531107, 0.02653651873203085, 0.9778410616402339, 0.9758188683615883, 0.0024847231573864145, 0.0024847231573864145, 0.012423615786932074, 0.11429726523977508, 0.0024847231573864145, 0.8597142124556995, 0.0024847231573864145, 0.033676674072754424, 0.9317213160128723, 0.033676674072754424, 0.9545694537588302, 0.021694760312700685, 0.9786475471430671, 0.9286829435412816, 0.017830576710219627, 0.11589874861642757, 0.8647829704456519, 0.9826872986996026, 0.9289088814717614, 0.024444970565046353, 0.98557617967571, 0.007639406172551128, 0.003819703086275564, 0.0649349524666846, 0.9167287407061354, 0.008376194943517224, 0.9800148083915152, 0.019995968297790927, 0.04499092867002959, 0.009997984148895463, 0.054988912818925054, 0.009997984148895463, 0.019995968297790927, 0.04499092867002959, 0.03249344848391026, 0.6323724974176381, 0.007498488111671598, 0.11997580978674557, 0.002499496037223866, 0.9511972931886236, 0.01917522917982065, 0.9395862298112119, 0.01917522917982065, 0.16634597266524664, 0.07356002811327489, 0.03928774228777182, 0.05099047403306555, 0.04764683639155306, 0.03594410464625932, 0.010866822334915609, 0.03260046700474683, 0.04764683639155306, 0.012538641155671857, 0.007523184693403114, 0.018390007028318722, 0.09863731042461861, 0.16049460679259978, 0.04095956110852807, 0.0175540976179406, 0.0351081952358812, 0.009195003514159361, 0.04848274580193118, 0.04681092698117493, 0.7604285514039065, 0.004636759459779918, 0.013910278379339754, 0.004636759459779918, 0.04636759459779918, 0.004636759459779918, 0.009273518919559836, 0.004636759459779918, 0.004636759459779918, 0.018547037839119672, 0.009273518919559836, 0.1020087081151582, 0.004636759459779918, 0.013910278379339754, 0.9806632764757273, 0.9790483903279399, 0.9409010165063182, 0.043259816850865204, 0.9572967430842767, 0.9810520179747501, 0.02186894695841359, 0.010934473479206794, 0.09020940620345606, 0.6861382108202264, 0.0027336183698016985, 0.030069802067818684, 0.027336183698016988, 0.0027336183698016985, 0.09567664294305946, 0.0027336183698016985, 0.024602565328215288, 0.9631963941637642, 0.026755455393437898, 0.001631133676892799, 0.006524534707571196, 0.001631133676892799, 0.001631133676892799, 0.001631133676892799, 0.06524534707571196, 0.009786802061356795, 0.003262267353785598, 0.4730287662989117, 0.003262267353785598, 0.30012859654827506, 0.058720812368140765, 0.001631133676892799, 0.05545854501435517, 0.008155668384463995, 0.003262267353785598, 0.003262267353785598, 0.006524534707571196, 0.9675098012926658, 0.07603742053245963, 0.32837399309593185, 0.01143925795621074, 0.3081870672908541, 0.019514028278241852, 0.04912151945902259, 0.061906572468905186, 0.03835515902964778, 0.0033644876341796296, 0.022205618385585556, 0.006728975268359259, 0.0020186925805077776, 0.006728975268359259, 0.005383180214687407, 0.006056077741523333, 0.01143925795621074, 0.007401872795195185, 0.025570106019765185, 0.010093462902538888, 0.0020186925805077776, 0.9848980352559329, 0.9624660749302374, 0.45351825423239733, 0.07428316233116854, 0.03714158116558427, 0.05864460184039621, 0.013683740429425783, 0.011728920368079241, 0.00195482006134654, 0.05278014165635659, 0.01563856049077232, 0.025412660797505024, 0.00390964012269308, 0.00390964012269308, 0.08210244257655469, 0.029322300920198104, 0.041051221288277345, 0.04300604134962389, 0.00390964012269308, 0.023457840736158482, 0.017593380552118863, 0.013683740429425783, 0.05496239095200203, 0.013740597738000508, 0.9206200484460341, 0.0033874421352133627, 0.01693721067606681, 0.0033874421352133627, 0.8604103023441941, 0.0033874421352133627, 0.0033874421352133627, 0.0033874421352133627, 0.03726186348734699, 0.0033874421352133627, 0.03726186348734699, 0.020324652811280177, 0.9649763913520119, 0.012490359469412574, 0.018735539204118863, 0.018735539204118863, 0.02498071893882515, 0.02498071893882515, 0.012490359469412574, 0.006245179734706287, 0.02498071893882515, 0.018735539204118863, 0.8306089047159362, 0.9872481512331697, 0.9745606402400204, 0.006227062599957318, 0.17850912786544315, 0.02629204208870868, 0.1342277938213022, 0.0027675833777588083, 0.0027675833777588083, 0.2006497948875136, 0.05050839664409825, 0.006227062599957318, 0.0013837916888794041, 0.006918958444397021, 0.0332110005331057, 0.010378437666595531, 0.22486614944290317, 0.04289754235526153, 0.05604356339961587, 0.0027675833777588083, 0.012454125199914637, 0.004173959334413848, 0.004173959334413848, 0.6469636968341465, 0.029217715340896937, 0.012521878003241544, 0.2921771534089694, 0.004173959334413848, 0.010475434015819336, 0.010475434015819336, 0.7821657398478438, 0.013967245354425782, 0.11173796283540625, 0.031426302047458006, 0.0034918113386064454, 0.031426302047458006, 0.05291108206884443, 0.8818513678140738, 0.061729595746985166, 0.04800218709797689, 0.000941219354862292, 0.008470974193760628, 0.07529754838898335, 0.02823658064586876, 0.008470974193760628, 0.009412193548622919, 0.3924884709775757, 0.007529754838898336, 0.25883532258713027, 0.013177070968072087, 0.041413651613940845, 0.0047060967743114595, 0.001882438709724584, 0.005647316129173752, 0.02917780000073105, 0.03858999354935397, 0.027295361291006466, 0.001882438709724584, 0.02404731823367093, 0.02404731823367093, 0.9378454111131662, 0.9747488592016349, 0.9556809133365037, 0.008688008303059125, 0.026064024909177374, 0.08425365489368744, 0.026807981102536915, 0.015318846344306808, 0.015318846344306808, 0.16084788661522148, 0.011489134758230105, 0.030637692688613615, 0.6319024117026558, 0.02297826951646021, 0.006892124861746805, 0.020676374585240416, 0.05169093646310104, 0.0034460624308734027, 0.006892124861746805, 0.006892124861746805, 0.010338187292620208, 0.15507280938930312, 0.010338187292620208, 0.010338187292620208, 0.04479881160135424, 0.03446062430873403, 0.0034460624308734027, 0.48244874032227636, 0.1481806845275563, 0.38914616089353793, 0.07234615515633289, 0.1957153881597637, 0.019038461883245494, 0.014469231031266577, 0.006853846277968378, 0.003046153901319279, 0.0731076936316627, 0.003046153901319279, 0.02513076968588405, 0.003807692376649099, 0.0022846154259894592, 0.02589230816121387, 0.03198461596385243, 0.05635384717440666, 0.011423077129947296, 0.019800000358575313, 0.009900000179287657, 0.010661538654617476, 0.02741538511187351, 0.9884504385927764, 0.03589984539548852, 0.01794992269774426, 0.9333959802827013, 0.01883549875335479, 0.0918804817236819, 0.040427411958420034, 0.0032158168603288666, 0.1796263417697981, 0.004594024086184095, 0.0022970120430920475, 0.004134621677565686, 0.005972231312039324, 0.5581739264713675, 0.0004594024086184095, 0.0004594024086184095, 0.006431633720657733, 0.0055128289034209145, 0.012403865032697057, 0.008269243355131371, 0.034455180646380715, 0.005972231312039324, 0.010106852989605009, 0.007809840946512962, 0.00445386757402184, 0.7126188118434944, 0.00890773514804368, 0.09353121905445864, 0.00445386757402184, 0.00890773514804368, 0.00890773514804368, 0.12470829207261153, 0.01781547029608736, 0.00890773514804368, 0.00445386757402184, 0.014032302454897626, 0.037419473213060335, 0.023387170758162712, 0.1777424977620366, 0.7390345959579416, 0.021993351364996548, 0.0079975823145442, 0.0059981867359081495, 0.4738567521367438, 0.011996373471816299, 0.0079975823145442, 0.0059981867359081495, 0.11396554798225483, 0.08597400988135014, 0.16794922860542819, 0.00199939557863605, 0.01799456020772445, 0.0059981867359081495, 0.00199939557863605, 0.0039987911572721, 0.047985493887265196, 0.0059981867359081495, 0.00999697789318025, 0.0036380172282382602, 0.0018190086141191301, 0.4965893516545225, 0.0018190086141191301, 0.06002728426593129, 0.0782173704071226, 0.05275124980945477, 0.08185538763536085, 0.02000909475531043, 0.0036380172282382602, 0.08185538763536085, 0.0018190086141191301, 0.00909504307059565, 0.0018190086141191301, 0.01091405168471478, 0.0018190086141191301, 0.07094133595064607, 0.01637107752707217, 0.0018190086141191301, 0.9565578966415572, 0.005469950610592662, 0.005469950610592662, 0.8861319989160112, 0.010939901221185324, 0.010939901221185324, 0.005469950610592662, 0.010939901221185324, 0.010939901221185324, 0.016409851831777986, 0.038289654274148634, 0.9782937286462088, 0.9838600425879225, 0.01928510434776567, 0.9642552173882836, 0.011974168951156279, 0.011974168951156279, 0.9699076850436587, 0.004128909813459132, 0.004128909813459132, 0.004128909813459132, 0.012386729440377395, 0.2105744004864157, 0.7555904958630211, 0.011621436895188748, 0.0006836139350111028, 0.003076262707549963, 0.03896599429563286, 0.009912402057660991, 0.006494332382605477, 0.004101683610066617, 0.49835455862309397, 0.0003418069675055514, 0.0037598766425610657, 0.27242015310192447, 0.013330471732716506, 0.011621436895188748, 0.0017090348375277571, 0.0010254209025166543, 0.008545174187638786, 0.04990381725581051, 0.03930780126313842, 0.024951908627905254, 0.0006836139350111028, 0.9829354476758817, 0.0017798914894049502, 0.0017798914894049502, 0.14595110213120593, 0.7617935574653187, 0.0035597829788099004, 0.0035597829788099004, 0.007119565957619801, 0.033817938298694054, 0.0035597829788099004, 0.0035597829788099004, 0.0053396744682148506, 0.019578806383454453, 0.007119565957619801, 0.002940505607939436, 0.06763162898260704, 0.001960337071959624, 0.7576702783123948, 0.046067921191051166, 0.001960337071959624, 0.02352404486351549, 0.000980168535979812, 0.04704808972703098, 0.000980168535979812, 0.009801685359798121, 0.01470252803969718, 0.001960337071959624, 0.002940505607939436, 0.01862320218361643, 0.001960337071959624, 0.9866064259935323, 0.9587267201950854, 0.0043777283812932635, 0.006566592571939896, 0.0010944320953233159, 0.9609113796938714, 0.015322049334526423, 0.0021888641906466317, 0.003283296285969948, 0.0010944320953233159, 0.003283296285969948, 0.005917916795178947, 0.009863194658631579, 0.0009863194658631578, 0.006904236261042105, 0.0009863194658631578, 0.005917916795178947, 0.02663062557830526, 0.0019726389317263155, 0.004931597329315789, 0.0029589583975894733, 0.003945277863452631, 0.8462621017105894, 0.08087819620077893, 0.0009863194658631578, 0.984396962211853, 0.013763957981962003, 0.1862527080112305, 0.0427561247950309, 0.08814790111852261, 0.007906954585382427, 0.0017571010189738727, 0.08434084891074589, 0.005564153226750597, 0.0023428013586318302, 0.009956905774185279, 0.003807052207776724, 0.012299707132817108, 0.07116259126844185, 0.0650127377020333, 0.015228208831106897, 0.002928501698289788, 0.32594223901965336, 0.0011714006793159151, 0.055934382437334944, 0.0032213518681187664, 0.9781268162055766, 0.021101660977832327, 0.021101660977832327, 0.006714164856583014, 0.0153466625293326, 0.00383666563233315, 0.0076733312646663, 0.7913122866687122, 0.002877499224249863, 0.00383666563233315, 0.004795832040416438, 0.005754998448499726, 0.018224161753582463, 0.0009591664080832876, 0.008632497672749588, 0.0306933250586652, 0.002877499224249863, 0.0153466625293326, 0.03740748991524822, 0.001918332816166575, 0.23032963332892994, 0.1834894894082568, 0.035613993724809334, 0.06464714078307782, 0.01587145372518677, 0.018581214117291828, 0.028646038430824902, 0.024774952156389102, 0.021678083136840467, 0.03019447294059922, 0.004645303529322957, 0.01703277960751751, 0.06580846666540856, 0.03290423333270428, 0.10993885019397664, 0.03096869019548638, 0.017806996862404667, 0.024387843528945526, 0.01741988823496109, 0.025936278038719843, 0.01369110748527427, 0.05476442994109708, 0.09241497552560132, 0.0034227768713185674, 0.02738221497054854, 0.020536661227911403, 0.04791887619845994, 0.06160998368373421, 0.01369110748527427, 0.6263681674512979, 0.03765054558450424, 0.02818688672098604, 0.06144741305174956, 0.05242760930103403, 0.017475869767011345, 0.018039607501431066, 0.01409344336049302, 0.011838492422814135, 0.00789232828187609, 0.22098519189253055, 0.017475869767011345, 0.3404975915895113, 0.012402230157233856, 0.0011274754688394416, 0.058064986645231235, 0.009583541485135252, 0.020294558439109947, 0.02424072258004799, 0.02142203390794939, 0.04453528101915794, 0.016912132032591624, 0.8524174993696083, 0.02079067071633191, 0.010395335358165956, 0.09355801822349359, 0.0627667665557023, 0.07322789431498603, 0.010461127759283718, 0.05230563879641859, 0.7950457097055625, 0.9347574740713964, 0.012325465514350466, 0.8258061894614812, 0.0369763965430514, 0.02465093102870093, 0.04930186205740186, 0.02465093102870093, 0.012325465514350466, 0.13644754671556855, 0.004873126668413162, 0.007309690002619744, 0.026802196676272393, 0.08771628003143692, 0.007309690002619744, 0.10964535003929615, 0.02436563334206581, 0.009746253336826324, 0.002436563334206581, 0.004873126668413162, 0.5725923835385466, 0.021354527645662032, 0.0640635829369861, 0.037370423379908556, 0.010677263822831016, 0.010677263822831016, 0.005338631911415508, 0.002669315955707754, 0.005338631911415508, 0.6272892495913222, 0.008007947867123262, 0.0640635829369861, 0.1041033222726024, 0.002669315955707754, 0.03203179146849305, 0.002669315955707754, 0.01818880779224174, 0.03637761558448348, 0.9276291974043287, 0.2801304683977948, 0.061054076445673226, 0.6500463433333443, 0.00718283252302038, 0.949237920750105, 0.9811081639565827, 0.9870019998743588, 0.9352719041394676, 0.003104732685456399, 0.02483786148365119, 0.003104732685456399, 0.003104732685456399, 0.6209465370912798, 0.2887401397474451, 0.03104732685456399, 0.012418930741825596, 0.006209465370912798, 0.1948965318575811, 0.10117834309352895, 0.11563239210689022, 0.05734993640785281, 0.015386568304545876, 0.019116645469284273, 0.02471176121639186, 0.05548489782548362, 0.003263817519146095, 0.0657426100285142, 0.016319087595730475, 0.011190231494215183, 0.048957262787191425, 0.015852827950138176, 0.18976767575606582, 0.01958290511487657, 0.012589010430992082, 0.011190231494215183, 0.015386568304545876, 0.005595115747107591, 0.8266597751568123, 0.020840162398911236, 0.05557376639709663, 0.04168032479782247, 0.027786883198548315, 0.013893441599274158, 0.15761280997177077, 0.8300941325179927, 0.005253760332392359, 0.005253760332392359, 0.9716110118586666, 0.9636665473438041, 0.013129645640653878, 0.9715937774083869, 0.9716238288674418, 0.9919027878469631, 0.9774653500353078, 0.9616311759742836, 0.9830134946303077, 0.9748225946759518, 0.011077529484953996, 0.03397032299729782, 0.9285221619261405, 0.011323440999099273, 0.011323440999099273, 0.020765573970152974, 0.9655991896121133, 0.07848223300076633, 0.014269496909230241, 0.021404245363845362, 0.7776875815530482, 0.0071347484546151205, 0.042808490727690725, 0.057077987636920964, 0.9711393128875424, 0.025224397737338762, 0.9670991147461503, 0.01564312037220394, 0.9698734630766442, 0.0012941301399134434, 0.005176520559653773, 0.07117715769523938, 0.0012941301399134434, 0.9123617486389776, 0.0012941301399134434, 0.0012941301399134434, 0.0012941301399134434, 0.0012941301399134434, 0.0012941301399134434, 0.0012941301399134434, 0.0012941301399134434, 0.990336271589936, 0.013976870471460583, 0.027953740942921166, 0.7500920486350513, 0.08852017965258369, 0.09783809330022408, 0.013976870471460583, 0.10555573856799061, 0.8444459085439249, 0.0029321038491108503, 0.005864207698221701, 0.0029321038491108503, 0.0175926230946651, 0.0029321038491108503, 0.014660519245554251, 0.0034128693005786095, 0.12741378722160143, 0.0011376231001928698, 0.8281896169404093, 0.004550492400771479, 0.018201969603085916, 0.0011376231001928698, 0.0011376231001928698, 0.0022752462003857396, 0.0011376231001928698, 0.010238607901735829, 0.0011376231001928698, 0.015539833889092828, 0.4639750404029145, 0.014429845754157627, 0.24031243121347126, 0.12098870670793703, 0.036629608452861666, 0.019979786428833638, 0.03940457879019967, 0.000554994067467601, 0.0049949466072084095, 0.000554994067467601, 0.002219976269870404, 0.01664982202402803, 0.002219976269870404, 0.000554994067467601, 0.000554994067467601, 0.0049949466072084095, 0.009989893214416819, 0.0049949466072084095, 0.000554994067467601, 0.7472347076304074, 0.051533428112441895, 0.09447795153947681, 0.051533428112441895, 0.025766714056220948, 0.017177809370813965, 0.011955148533235068, 0.705353763460869, 0.003985049511078356, 0.015940198044313424, 0.05180564364401863, 0.07571594071048876, 0.003985049511078356, 0.04383554462186191, 0.003985049511078356, 0.027895346577548493, 0.05180564364401863, 0.9635680336424112, 0.9612591916769538, 0.004466858998001816, 0.9693084025663941, 0.004466858998001816, 0.008933717996003633, 0.004466858998001816, 0.9633780657928185, 0.11583502963066465, 0.17946272196300156, 0.013051834324581933, 0.4160272190960491, 0.08483692310978257, 0.027735147939736606, 0.0016314792905727416, 0.05220733729832773, 0.003262958581145483, 0.008157396452863707, 0.050575858007754985, 0.022840710068018383, 0.003262958581145483, 0.003262958581145483, 0.014683313615154674, 0.0016314792905727416, 0.9536617727785289, 0.9610441190081044, 0.031755806444863637, 0.05915297278945188, 0.03735977228807487, 0.10087138517780214, 0.021170537629909093, 0.006849291586147059, 0.17434560401101606, 0.07596487031908557, 0.011830594557890374, 0.005603965843211231, 0.0386050980310107, 0.07160623021881017, 0.009339943072018717, 0.11955127132183958, 0.043586401002754016, 0.013075920300826204, 0.034246457930735295, 0.10772067676394921, 0.016189234658165776, 0.021793200501377008, 0.9890142214054463, 0.9779805538506707, 0.06418721839247471, 0.01458800418010789, 0.014057531300831238, 0.17399510440274138, 0.006896147430596457, 0.017240368576491142, 0.07506191241764605, 0.2132500974692135, 0.007426620309873107, 0.0013261821981916263, 0.10635981229496844, 0.10025937418328695, 0.012996585542277938, 0.04031593882502544, 0.03501121003225893, 0.017770841455767794, 0.006896147430596457, 0.07426620309873107, 0.007161383870234782, 0.01113993046480966, 0.9630842040613286, 0.9833772835184916, 0.0048457573116577665, 0.024228786558288834, 0.0048457573116577665, 0.0145372719349733, 0.019383029246631066, 0.0048457573116577665, 0.009691514623315533, 0.009691514623315533, 0.9013108599683446, 0.7776048156237437, 0.013292390010662285, 0.019938585015993427, 0.013292390010662285, 0.006646195005331142, 0.006646195005331142, 0.15950868012794742, 0.0063787331512228295, 0.005467485558190996, 0.004556237965159164, 0.0009112475930318327, 0.0009112475930318327, 0.002733742779095498, 0.7399330455418481, 0.05649735076797363, 0.019136199453668488, 0.029159922977018648, 0.0009112475930318327, 0.010934971116381993, 0.003644990372127331, 0.09932598764046977, 0.017313704267604823, 0.0018224951860636655, 0.9905602418563386, 0.9776586628509051, 0.049215875760933066, 0.006151984470116633, 0.050753871878462226, 0.02922192623305401, 0.5859765207786093, 0.006151984470116633, 0.07074782140634128, 0.013841965057762425, 0.0015379961175291583, 0.007689980587645792, 0.0030759922350583166, 0.01999394952787906, 0.03383591458564148, 0.07074782140634128, 0.0030759922350583166, 0.04460188740834559, 0.0030759922350583166, 0.0184508996581866, 0.9594467822257032, 0.01745592265177025, 0.07730480031498253, 0.4391688476675531, 0.019395469613078056, 0.10196475453732463, 0.04987406471934357, 0.01607053196512182, 0.014130985003814012, 0.0024937032359671784, 0.07370278452969661, 0.009697734806539028, 0.007481109707901536, 0.015239297553132757, 0.03768262667683736, 0.02299748539836398, 0.0041561720599452975, 0.05707809628991542, 0.00554156274659373, 0.022720407261034293, 0.006095719021253103, 0.032155051488024576, 0.9217781426567045, 0.021436700992016385, 0.010718350496008193, 0.9301104795063955, 0.9821633107037525, 0.0064455439079625755, 0.019336631723887724, 0.9152672349306857, 0.045118807355738026, 0.0064455439079625755, 0.977801154002179, 0.9709344327808185, 0.015170850512200289, 0.937418791799755, 0.9849062831633411, 0.12184835112388172, 0.006413071111783249, 0.025652284447132995, 0.8208731023082558, 0.006413071111783249, 0.012826142223566497, 0.013199882417167876, 0.003299970604291969, 0.03629967664721166, 0.0016499853021459845, 0.006599941208583938, 0.013199882417167876, 0.0016499853021459845, 0.008249926510729923, 0.9074919161802916, 0.003299970604291969, 0.004949955906437954, 0.9683362787602878, 0.07800020310914434, 0.9067523611438029, 0.9898150366840922, 0.0012768051972947565, 0.014044857170242321, 0.026812909143189886, 0.002553610394589513, 0.5375349880610925, 0.0012768051972947565, 0.002553610394589513, 0.3830415591884269, 0.010214441578358052, 0.005107220789179026, 0.0012768051972947565, 0.0012768051972947565, 0.0012768051972947565, 0.0012768051972947565, 0.006384025986473782, 0.0012768051972947565, 0.9813624110833389, 0.0010411790303333913, 0.040605982183002265, 0.5955544053506999, 0.08641785951767149, 0.05049718297116949, 0.005205895151666957, 0.027070654788668175, 0.006247074182000349, 0.018741222546001045, 0.004685305636500261, 0.0015617685455000872, 0.05466189909250305, 0.005726484666833653, 0.053620720062169655, 0.009370611273000522, 0.00728825321233374, 0.011973558848834002, 0.006767663697167044, 0.009891200788167218, 0.0031235370910001744, 0.0017996967859809393, 0.03779363250559972, 0.946640509425974, 0.0035993935719618787, 0.0017996967859809393, 0.0035993935719618787, 0.9643038286844294, 0.9693222901303461, 0.021400988528008705, 0.014267325685339137, 0.0071336628426695685, 0.14624008827472615, 0.7989702383789916, 0.0035668314213347842, 0.011962621849562505, 0.04785048739825002, 0.011962621849562505, 0.9091592605667503, 0.9790937141060011, 0.02175763809124447, 0.021872751296801395, 0.007290917098933799, 0.9696919741581952, 0.9601870354160937, 0.017532625934471892, 0.08265380797679606, 0.02504660847781699, 0.04007457356450718, 0.05009321695563398, 0.017532625934471892, 0.02003728678225359, 0.09016779052014116, 0.007513982543345096, 0.0025046608477816987, 0.5009321695563398, 0.0025046608477816987, 0.010018643391126795, 0.12272838154130325, 0.0025046608477816987, 0.007513982543345096, 0.1277916494419815, 0.16875051144261657, 0.10280674362159407, 0.06799171092105424, 0.053656109220831964, 0.06512459058100979, 0.029080792020450913, 0.03850133028059698, 0.05857117266090817, 0.028671203400444562, 0.008191772400127018, 0.029899969260463614, 0.061028704380946285, 0.026213671680406458, 0.02744243754042551, 0.012697247220196878, 0.020889019620323895, 0.016383544800254037, 0.02662326030041281, 0.029899969260463614, 0.13932737419317803, 0.19338815345425342, 0.06329066840321021, 0.06285114987263236, 0.04527040864951841, 0.03955666775200638, 0.018459778284269642, 0.035161482446227896, 0.043951853057784866, 0.043951853057784866, 0.010108926203290519, 0.02988726007929371, 0.0641697054643659, 0.048347038363563355, 0.038238112160272834, 0.030326778609871558, 0.014064592978491157, 0.021536407998314584, 0.027689667426404465, 0.02988726007929371, 0.005518614640683355, 0.004138960980512516, 0.0027593073203416776, 0.0027593073203416776, 0.002069480490256258, 0.06622337568820026, 0.7560502057736197, 0.002069480490256258, 0.004138960980512516, 0.01172705611145213, 0.01103722928136671, 0.028282900033502194, 0.002069480490256258, 0.005518614640683355, 0.0013796536601708388, 0.031732034183929295, 0.0006898268300854194, 0.042769263465296005, 0.017935497582220905, 0.0013796536601708388, 0.9870780812878224, 0.02271781707521892, 0.965507225696804, 0.0064782081403946985, 0.0008097760175493373, 0.002429328052648012, 0.600044029004059, 0.0064782081403946985, 0.17086273970291016, 0.038059472824818856, 0.0016195520350986746, 0.09717312210592048, 0.002429328052648012, 0.0016195520350986746, 0.007287984157944035, 0.0016195520350986746, 0.004858656105296024, 0.0008097760175493373, 0.021863952473832108, 0.0008097760175493373, 0.027532384596677468, 0.007287984157944035, 0.9709742286303872, 0.9570173498120225, 0.9645720607523033, 0.8834675691426145, 0.036811148714275606, 0.061351914523792676, 0.009479013334799079, 0.22404940609525095, 0.17967038911869163, 0.0262827187919429, 0.2878173139838993, 0.015941976972162087, 0.09952964001539033, 0.004739506667399539, 0.0017234569699634689, 0.02326666909450683, 0.006462963637363008, 0.0012925927274726016, 0.05041111637143146, 0.0017234569699634689, 0.03274568242930591, 0.012064198789744282, 0.008186420607326477, 0.004308642424908672, 0.009048149092308212, 0.0017234569699634689, 0.9495285502154726, 0.9469527952127857, 0.6026864242250066, 0.033050545844597136, 0.03693884535572621, 0.0058324492666936125, 0.0019441497555645374, 0.16525272922298567, 0.0019441497555645374, 0.0155531980445163, 0.0058324492666936125, 0.0058324492666936125, 0.003888299511129075, 0.00777659902225815, 0.10109578728935595, 0.003888299511129075, 0.003888299511129075, 0.03837943314222581, 0.025374831829570788, 0.0637542649717966, 0.059630854799491345, 0.09103220918858519, 0.07136671452066784, 0.09547280475876008, 0.029815427399745673, 0.1202132657925916, 0.053604332239968286, 0.034256022969920565, 0.01776238228069955, 0.03330446677631166, 0.008564005742480141, 0.05836211320801281, 0.06058241099310025, 0.00983274733395868, 0.037110691550747275, 0.07771042247806054, 0.013638972108394298, 0.025148701353381642, 0.9556506514285024, 0.988515915174453, 0.9821266631158095, 0.012766524606740758, 0.9702558701122975, 0.009954927773735578, 0.07466195830301683, 0.057240834698979566, 0.1766999679838065, 0.019909855547471156, 0.007466195830301683, 0.02488731943433894, 0.06968449441614905, 0.0024887319434338945, 0.004977463886867789, 0.027376051377772836, 0.007466195830301683, 0.027376051377772836, 0.0024887319434338945, 0.4181069664968942, 0.02986478332120673, 0.03733097915150842, 0.9794390007863565, 0.9844392979716919, 0.8852009075404368, 0.019526490607509633, 0.013017660405006423, 0.006508830202503211, 0.006508830202503211, 0.04556181141752248, 0.006508830202503211, 0.013017660405006423, 0.9444644925255423, 0.07827597632176476, 0.9132197237539222, 0.005691210915062678, 0.990270699220906, 0.17917849154109217, 0.13827905325453851, 0.06037536128015062, 0.04479462288527304, 0.058427768980790926, 0.05063739978335213, 0.003895184598719395, 0.019475922993596975, 0.0019475922993596976, 0.07206091507630881, 0.009737961496798488, 0.02337110759231637, 0.011685553796158186, 0.01558073839487758, 0.00779036919743879, 0.04284703058591335, 0.00779036919743879, 0.2473442220186816, 0.005466384890855367, 0.016399154672566103, 0.8172245411828774, 0.0027331924454276836, 0.0027331924454276836, 0.0027331924454276836, 0.0027331924454276836, 0.0027331924454276836, 0.010932769781710735, 0.03826469423598757, 0.03553150179055989, 0.0027331924454276836, 0.013665962227138418, 0.040997886681415255, 0.005466384890855367, 0.02409415936820777, 0.06539843257084965, 0.06253008026511064, 0.03212554582427703, 0.09637663747283108, 0.23463121860945185, 0.06654577349314526, 0.018931125217877532, 0.0998186602397179, 0.028109852596242397, 0.057940716575928204, 0.011473409222956081, 0.01262075014525169, 0.030404534440833613, 0.004015693228034628, 0.021225807062468748, 0.01835745475672973, 0.04015693228034628, 0.06769311441544087, 0.008031386456069257, 0.9871528728512539, 0.9579708042437916, 0.012058601479695277, 0.9767467198553175, 0.01978838564810977, 0.008480736706332757, 0.014134561177221262, 0.04523059576710804, 0.028269122354442525, 0.11024957718232585, 0.0028269122354442526, 0.0028269122354442526, 0.02261529788355402, 0.03674985906077528, 0.0028269122354442526, 0.02261529788355402, 0.008480736706332757, 0.6784589365066206, 0.9549317767809138, 0.024425970531773873, 0.012212985265886937, 0.15876880845653016, 0.7816310570167639, 0.018421686442636732, 0.23180622106984555, 0.04758935664347822, 0.01688654590575034, 0.1350923672460027, 0.018421686442636732, 0.032237951274614284, 0.003070281073772789, 0.07368674577054693, 0.053729918791023804, 0.0015351405368863944, 0.02456224859018231, 0.004605421610659183, 0.01074598375820476, 0.0015351405368863944, 0.2947469830821877, 0.003070281073772789, 0.01381626483197755, 0.015351405368863943, 0.04368445189675116, 0.02184222594837558, 0.006341291404367104, 0.005636703470548537, 0.018319286279282743, 0.007045879338185671, 0.008455055205822804, 0.039456924293839755, 0.5742391660621322, 0.007750467272004238, 0.02395598974983128, 0.01197799487491564, 0.005636703470548537, 0.01197799487491564, 0.010568819007278506, 0.14655429023426195, 0.002113763801455701, 0.033115632889472654, 0.01479634661018991, 0.009159643139641372, 0.9263354074925134, 0.007850300063495876, 0.007850300063495876, 0.03925150031747938, 0.007850300063495876, 0.986098063267218, 0.9662485941911054, 0.020090619926966865, 0.9643497564944096, 0.9703684037067625, 0.9816284122679163, 0.9816943567797517, 0.003142355228297354, 0.06598945979424443, 0.003142355228297354, 0.02199648659808148, 0.009427065684892062, 0.003142355228297354, 0.8013005832158253, 0.012569420913189416, 0.006284710456594708, 0.01571177614148677, 0.05970474933764973, 0.03352497711584853, 0.2939282877366255, 0.09979528071694446, 0.043660435313663204, 0.010915108828415801, 0.04444008594426433, 0.031186025224045143, 0.024948820179236116, 0.07406680990710722, 0.10603248576175349, 0.013254060720219186, 0.014813361981421443, 0.05535519477268013, 0.027287772071039502, 0.054575544142079005, 0.027287772071039502, 0.0054575544142079005, 0.014813361981421443, 0.012474410089618058, 0.012474410089618058, 0.9515698188181211, 0.9634943969342327, 0.0018693952046350667, 0.03551850888806627, 0.07290641298076761, 0.0112163712278104, 0.0056081856139052, 0.0037387904092701335, 0.0224327424556208, 0.0018693952046350667, 0.3589238792899328, 0.0018693952046350667, 0.03177971847879613, 0.013085766432445467, 0.0018693952046350667, 0.0392572992973364, 0.3439687176528523, 0.0224327424556208, 0.0018693952046350667, 0.013085766432445467, 0.013085766432445467, 0.006264769455001679, 0.0031323847275008393, 0.015661923637504196, 0.03758861673001007, 0.27564985602007386, 0.6358740996826704, 0.0031323847275008393, 0.006264769455001679, 0.006264769455001679, 0.0031323847275008393, 0.006277006105542849, 0.9792129524646843, 0.9502096915550095, 0.9755895191946574, 0.034522068940048785, 0.9493568958513416, 0.9791308090106827, 0.015063550907856656, 0.02002045019624367, 0.02002045019624367, 0.056724608889357056, 0.016683708496869724, 0.026693933594991556, 0.013346966797495778, 0.010010225098121835, 0.0033367416993739444, 0.05005112549060917, 0.016683708496869724, 0.7040524985679023, 0.016683708496869724, 0.04337764209186128, 0.0033367416993739444, 0.0033367416993739444, 0.5860910833042546, 0.010753964831270727, 0.07527775381889508, 0.021507929662541454, 0.002688491207817682, 0.005376982415635364, 0.008065473623453044, 0.002688491207817682, 0.2607836471583151, 0.029573403285994497, 0.9841929035195374, 0.006158054821263786, 0.11802938407422256, 0.007184397291474416, 0.0010263424702106308, 0.004105369880842523, 0.0010263424702106308, 0.7030445920942822, 0.0020526849404212616, 0.0010263424702106308, 0.003079027410631893, 0.003079027410631893, 0.014368794582948832, 0.0051317123510531545, 0.047211753629689025, 0.05747517833179533, 0.0010263424702106308, 0.0051317123510531545, 0.018474164463791357, 0.003079027410631893, 0.9779567071989717, 0.014940905182030154, 0.08964543109218093, 0.8217497850116585, 0.044822715546090464, 0.09005305174375357, 0.004502652587187679, 0.8780172545015973, 0.018010610348750716, 0.0029680950261435396, 0.005936190052287079, 0.0029680950261435396, 0.20183046177776068, 0.7628004217188896, 0.011872380104574158, 0.0029680950261435396, 0.48962550690271534, 0.06163118268705508, 0.018831750265489052, 0.01711977296862641, 0.03423954593725282, 0.11641445618665959, 0.013695818374901128, 0.005135931890587923, 0.013695818374901128, 0.003423954593725282, 0.01540779567176377, 0.003423954593725282, 0.010271863781175845, 0.12839829726469806, 0.011983841078038487, 0.001711977296862641, 0.025679659452939617, 0.025679659452939617, 0.006847909187450564, 0.8990476984486313, 0.008814193122045405, 0.07932773809840865, 0.9926756467384946, 0.9710625182480298, 0.905131618929289, 0.03549535760507015, 0.053243036407605235, 0.9726988206577397, 0.9961951180597767, 0.10002613906236316, 0.010392326136349418, 0.08054052755670799, 0.0025980815340873546, 0.011691366903393096, 0.4988316545447721, 0.009093285369305742, 0.006495203835218386, 0.0012990407670436773, 0.015588489204524127, 0.020784652272698836, 0.02468177457382987, 0.014289448437480451, 0.03507410071017929, 0.04936354914765974, 0.08443764985783903, 0.022083693039742513, 0.006495203835218386, 0.003897122301131032, 0.0025980815340873546, 0.011729465859265325, 0.0027598743198271355, 0.005519748639654271, 0.018629151658833165, 0.0006899685799567839, 0.006899685799567838, 0.004139811479740703, 0.8058833013895236, 0.0006899685799567839, 0.01586927733900603, 0.04622789485710452, 0.005519748639654271, 0.013799371599135676, 0.0020699057398703515, 0.003449842899783919, 0.0027598743198271355, 0.026218806038357786, 0.02000908881874673, 0.0027598743198271355, 0.004139811479740703, 0.022253873714692694, 0.0010115397143042133, 0.0010115397143042133, 0.0010115397143042133, 0.00303461914291264, 0.0010115397143042133, 0.0010115397143042133, 0.0010115397143042133, 0.00303461914291264, 0.1749963705746289, 0.7778740402999401, 0.0010115397143042133, 0.0010115397143042133, 0.008092317714433707, 0.9308348420075586, 0.02515769843263672, 0.02515769843263672, 0.8291499330237925, 0.011055332440317233, 0.005527666220158617, 0.06080432842174478, 0.011055332440317233, 0.07185966086206202, 0.011055332440317233, 0.010872179096229381, 0.45119543249351934, 0.099661641715436, 0.016308268644344072, 0.11596991035978006, 0.032616537288688144, 0.0018120298493715635, 0.005436089548114691, 0.09060149246857818, 0.0018120298493715635, 0.048924805933032216, 0.010872179096229381, 0.007248119397486254, 0.06342104472800472, 0.005436089548114691, 0.009060149246857817, 0.009060149246857817, 0.016308268644344072, 0.003624059698743127, 0.9825926230162851, 0.012130773123657842, 0.8615871200474206, 0.021326413862559915, 0.04691811049763182, 0.01279584831753595, 0.0255916966350719, 0.004265282772511983, 0.004265282772511983, 0.008530565545023966, 0.004265282772511983, 0.2738765373710804, 0.060139061618575525, 0.034132980918650975, 0.021129940568688697, 0.015441110415580203, 0.07070403190291988, 0.08533245229662743, 0.003250760087490569, 0.014628420393707561, 0.009752280262471706, 0.034132980918650975, 0.11784005317153312, 0.023568010634306625, 0.15278572411205674, 0.03982181107175947, 0.029256840787415122, 0.004063450109363211, 0.008939590240599064, 0.0008126900218726423, 0.9702002064641522, 0.038571306322864554, 0.007232119935537104, 0.04339271961322262, 0.07232119935537104, 0.009642826580716139, 0.6991049271019201, 0.0024107066451790346, 0.016874946516253243, 0.0024107066451790346, 0.10607109238787753, 0.030560426107588176, 0.03463514958859993, 0.05908349047467047, 0.028523064367082296, 0.01222417044303527, 0.004074723481011757, 0.6784414595884575, 0.032597787848094056, 0.004074723481011757, 0.004074723481011757, 0.044821958291129324, 0.02444834088607054, 0.020373617405058782, 0.016298893924047028, 0.004074723481011757, 0.004074723481011757, 0.9561864378104569, 0.9779661137296229, 0.04102788540531293, 0.002807171106679306, 0.002807171106679306, 0.12783425347339608, 0.006046214691309274, 0.001943426150777981, 0.02526453996011375, 0.04685816385764688, 0.0004318724779506624, 0.0021593623897533123, 0.5031314368125217, 0.009285258275939243, 0.022889241331385108, 0.0012956174338519873, 0.11466214289590088, 0.02137768765855779, 0.005182469735407949, 0.05679123085051211, 0.006694023408235268, 0.0015115536728273185, 0.04700352462694868, 0.015667841542316225, 0.9244026509966573, 0.9853625320282526, 0.9879376498680297, 0.0040580805461916825, 0.1826136245786257, 0.0040580805461916825, 0.07710353037764196, 0.02029040273095841, 0.0040580805461916825, 0.0040580805461916825, 0.6533509679368609, 0.03652272491572514, 0.04621563962427676, 0.17330864859103784, 0.7625580538005665, 0.986879853323708, 0.009510350807476283, 0.058647163312770416, 0.007925292339563569, 0.0015850584679127139, 0.0015850584679127139, 0.0031701169358254277, 0.46125201416259975, 0.0015850584679127139, 0.007925292339563569, 0.39626461697817844, 0.0015850584679127139, 0.0015850584679127139, 0.0015850584679127139, 0.0459666955694687, 0.01608977039811672, 0.00402244259952918, 0.00201122129976459, 0.02212343429741049, 0.00201122129976459, 0.14782476553269736, 0.0030168319496468848, 0.025140266247057372, 0.6838152419199606, 0.0060336638992937695, 0.00201122129976459, 0.02212343429741049, 0.00201122129976459, 0.011061717148705245, 0.00201122129976459, 0.02614587689693967, 0.00201122129976459, 0.005028053249411475, 0.0030168319496468848, 0.011061717148705245, 0.045123709430247766, 0.8799123338898314, 0.06768556414537165, 0.9654232753325879, 0.9655327675325867, 0.9553009675505227, 0.028243945723290056, 0.11580017746548923, 0.04236591858493508, 0.06213668059123812, 0.09602941545918618, 0.0028243945723290054, 0.005648789144658011, 0.008473183716987017, 0.0028243945723290054, 0.0028243945723290054, 0.6128936221953942, 0.005648789144658011, 0.011297578289316022, 0.9787144845765265, 0.009321090329300253, 0.9567602044711409, 0.9466435201770612, 0.9462315426270489, 0.0270351869322014, 0.9800186822455842, 0.03247540535617828, 0.9417867553291701, 0.009683321581503819, 0.014524982372255728, 0.0048416607907519095, 0.03389162553526336, 0.6439408851700039, 0.2808163258636107, 0.0048416607907519095, 0.9609692243058987, 0.9604458776979922, 0.07361110181532768, 0.15932265872358592, 0.016133940123907436, 0.03226788024781487, 0.01915905389714008, 0.042351592825257016, 0.005041856288721074, 0.05142693414495495, 0.016133940123907436, 0.272260239590938, 0.09882038325893304, 0.012100455092930576, 0.059493904206908664, 0.029242766474582228, 0.03025113773232644, 0.02319253892811694, 0.011092083835186362, 0.005041856288721074, 0.007058598804209503, 0.037309736536535944, 0.9709631006958578, 0.022135565293972093, 0.007378521764657363, 0.044271130587944185, 0.08854226117588837, 0.8337729594062822, 0.09955674097316604, 0.8752696810557514, 0.004148197540548585, 0.012444592621645755, 0.9692022125971662, 0.9725015048186472, 0.9814083334391339, 0.9705039975160789, 0.9327058333366715, 0.8708174498600119, 0.11540954154771241, 0.9548122452522885, 0.9665404808848735, 0.1634343725734262, 0.045583736568098464, 0.083940783192474, 0.013897480661005629, 0.046695535020978916, 0.008338488396603378, 0.0016676976793206756, 0.2534900472567427, 0.003335395358641351, 0.09617056617415895, 0.038357046624375536, 0.0027794961322011257, 0.1039531553443221, 0.05058682960606049, 0.018344674472527432, 0.003891294585081576, 0.03780114739793531, 0.011117984528804503, 0.014453379887445855, 0.0016676976793206756, 0.003425103008140171, 0.04110123609768205, 0.006850206016280342, 0.7226967347175761, 0.003425103008140171, 0.010275309024420512, 0.03767613308954188, 0.003425103008140171, 0.0719271631709436, 0.06507695715466325, 0.027400824065121367, 0.003425103008140171, 0.005617129535086129, 0.013106635581867634, 0.003744753023390753, 0.0014042823837715323, 0.0004680941279238441, 0.0032766588954669085, 0.3566877254779692, 0.0004680941279238441, 0.06319270726971896, 0.0028085647675430646, 0.005617129535086129, 0.006553317790933817, 0.007021411918857661, 0.006553317790933817, 0.01263854145394379, 0.49945643449474164, 0.0009361882558476882, 0.0032766588954669085, 0.0028085647675430646, 0.004680941279238441, 0.9640585997640027, 0.03291134518591214, 0.005877025926055739, 0.050542422964079355, 0.01645567259295607, 0.135171596299282, 0.07757674222393575, 0.015280267407744921, 0.0023508103704222958, 0.0811029577795692, 0.039963776297179024, 0.08697998370562494, 0.15632888963308267, 0.0035262155556334434, 0.01057864666690033, 0.01057864666690033, 0.2409580629682853, 0.0011754051852111479, 0.005877025926055739, 0.018806482963378366, 0.008227836296478035, 0.08174157201756904, 0.8828089777897457, 0.011316333743558777, 0.013579600492270532, 0.029422467733252817, 0.058844935466505634, 0.018106133989694042, 0.040738801476811595, 0.018106133989694042, 0.03168573448196457, 0.04979186847165862, 0.4503900829936393, 0.0022632667487117552, 0.11995313768172303, 0.02489593423582931, 0.03847553472809984, 0.0022632667487117552, 0.0045265334974235105, 0.05658166871779388, 0.009053066994847021, 0.020369400738405798, 0.9753214464032719, 0.046810780622245085, 0.010030881561909661, 0.6531218439198957, 0.04903986541378057, 0.00445816958307096, 0.006687254374606441, 0.00111454239576774, 0.02897810228996124, 0.01783267833228384, 0.020061763123819323, 0.015603593540748362, 0.016718135936516103, 0.007801796770374181, 0.08136159489104502, 0.006687254374606441, 0.032321729477264464, 0.00111454239576774, 0.010414391114345199, 0.9789527647484487, 0.001693275191698622, 0.003386550383397244, 0.805998991248544, 0.1693275191698622, 0.010159651150191731, 0.001693275191698622, 0.006773100766794488, 0.010908124860514408, 0.03817843701180043, 0.20725437234977376, 0.016362187290771612, 0.016362187290771612, 0.7035740535031794, 0.023476351623177807, 0.04192205646996037, 0.0016768822587984148, 0.010061293552790488, 0.0033537645175968295, 0.011738175811588904, 0.3990979775940227, 0.015091940329185732, 0.025153233881976222, 0.011738175811588904, 0.008384411293992073, 0.0033537645175968295, 0.3622065679004576, 0.0016768822587984148, 0.06539840809313817, 0.013415058070387318, 0.02220022411036502, 0.0074000747034550065, 0.03700037351727503, 0.0074000747034550065, 0.1110011205518251, 0.08140082173800507, 0.06660067233109505, 0.05180052292418504, 0.0074000747034550065, 0.6142062003867655, 0.02254031076609677, 0.9466930521760644, 0.948276982247759, 0.9767934176339694, 0.00804594468502942, 0.013409907808382367, 0.11800718871376484, 0.03946344297895382, 0.034865760301794155, 0.019540151377928593, 0.02490411450128154, 0.09386935465867657, 0.003831402230966391, 0.0735629228345547, 0.011877346915995811, 0.0421454245406303, 0.023371553608894983, 0.018007590485542038, 0.006130243569546225, 0.0011494206692899173, 0.0157087491469622, 0.017241310039348756, 0.4164734225060467, 0.018773870931735315, 0.9731855901268163, 0.002038846811671443, 0.029359394088068782, 0.05341778646579182, 0.11213657464192939, 0.002446616174005732, 0.097456877597895, 0.07584510139417769, 0.002446616174005732, 0.2564869289082676, 0.002446616174005732, 0.17085536281806696, 0.01834962130504299, 0.00611654043501433, 0.00897092597135435, 0.00897092597135435, 0.09297141461221782, 0.0016310774493371546, 0.050563400929451795, 0.005708771072680041, 0.001223308087002866, 0.9771389920237201, 0.9273677758003936, 0.9800300026974298, 0.9428890133792415, 0.041750685928042645, 0.9491322600975027, 0.005566758123739019, 0.9821912523430292, 0.8350223740373457, 0.004371844890247883, 0.13989903648793225, 0.01311553467074365, 0.004371844890247883, 0.1630512747379434, 0.2330220973617065, 0.061625678641112465, 0.09372238626669188, 0.03851604915069529, 0.043651522370787996, 0.02054189288037082, 0.052638600505950234, 0.03145477347306782, 0.019258024575347647, 0.007703209830139058, 0.011554814745208588, 0.057774073726042936, 0.044293456523299586, 0.043009588218276405, 0.023109629490417175, 0.012838683050231763, 0.011554814745208588, 0.016690287965301292, 0.014764485507766528, 0.933323021542673, 0.01866646043085346, 0.01866646043085346, 0.18121672428506483, 0.03624334485701297, 0.4100028386949592, 0.09740398930322235, 0.003020278738084414, 0.005285487791647725, 0.07173162002950484, 0.0007550696845211035, 0.011326045267816552, 0.0430389720177029, 0.028692648011801932, 0.036998414541534075, 0.03171292674988635, 0.017366602743985382, 0.005285487791647725, 0.0022652090535633107, 0.009060836214253243, 0.003020278738084414, 0.005285487791647725, 0.10026157437966954, 0.0015914535615820563, 0.011140174931074394, 0.06365814246328225, 0.04615215328587963, 0.006365814246328225, 0.23553512711414432, 0.0015914535615820563, 0.01273162849265645, 0.047743606847461685, 0.3135163516316651, 0.009548721369492337, 0.044560699724297576, 0.09707866725650542, 0.006365814246328225, 0.0015914535615820563, 0.9701534118095473, 0.051837338038898555, 0.933072084700174, 0.955545425204276, 0.954312172988304, 0.16194649267397707, 0.18772573028330403, 0.07105815494878585, 0.023796219331686425, 0.038338353367717015, 0.023465716285413003, 0.04164338383045124, 0.023465716285413003, 0.010576097480749523, 0.026109740655600382, 0.012228612712116635, 0.052219481311200765, 0.14409932817521223, 0.10080342911339388, 0.016194649267397707, 0.019499679730131933, 0.009254085295655832, 0.0102455944344761, 0.015533643174850861, 0.011898109665843213, 0.029485467967715586, 0.0073713669919288965, 0.06634230292736007, 0.04422820195157338, 0.7445080661848186, 0.029485467967715586, 0.07371366991928896, 0.014702032912198057, 0.014702032912198057, 0.9556321392928737, 0.956931425005822, 0.9692146214450578, 0.9929254923173966, 0.6143523079240348, 0.07157502616590698, 0.24454800606684884, 0.04771668411060465, 0.005964585513825582, 0.002982292756912791, 0.008946878270738373, 0.9612868170988185, 0.9865064152573066, 0.9802558269990463, 0.009486787427193001, 0.014230181140789501, 0.0079056561893275, 0.0205547060922515, 0.03162262475731, 0.192898011019591, 0.017392443616520502, 0.46485258393245704, 0.009486787427193001, 0.004743393713596501, 0.12332823655350901, 0.006324524951462001, 0.009486787427193001, 0.0110679186650585, 0.0110679186650585, 0.0110679186650585, 0.0015811312378655002, 0.028460362281579003, 0.022135837330117, 0.0035448184844506896, 0.007089636968901379, 0.6522466011389269, 0.23041320148929484, 0.08153082514236586, 0.0035448184844506896, 0.010634455453352069, 0.010420303876287602, 0.010420303876287602, 0.052101519381438005, 0.9169867411133089, 0.010420303876287602, 0.1128532998158496, 0.4839670357487396, 0.2539199245856616, 0.03689434801672006, 0.015191790359825907, 0.004340511531378831, 0.008681023062757661, 0.008681023062757661, 0.004340511531378831, 0.0282133249539624, 0.0021702557656894154, 0.0021702557656894154, 0.019532301891204737, 0.004340511531378831, 0.0065107672970682465, 0.0065107672970682465, 0.0021702557656894154, 0.01054513499618325, 0.2319929699160315, 0.7487045847290108, 0.9735906255070608, 0.9745967238032757, 0.9848821218387483, 0.9665578562612882, 0.03656696704215659, 0.032153712399137696, 0.011348369082048598, 0.062416029951267285, 0.031523247450134996, 0.055480915512237584, 0.07250346913531049, 0.10654857638145628, 0.0031523247450134994, 0.029631852603126892, 0.21057529296690175, 0.19733552903784504, 0.012609298980053998, 0.018283483521078295, 0.008196044337035097, 0.006935114439029698, 0.011978834031051298, 0.06367695984927269, 0.025849062909110695, 0.003782789694016199, 0.04268466948010548, 0.0744929568330687, 0.14611290706651492, 0.07059387644786676, 0.11327854592797224, 0.055202769664174874, 0.04986718597916169, 0.017443254354850796, 0.057665346749565576, 0.06300093043457876, 0.04494203180838029, 0.03406564968123803, 0.029345710267572517, 0.07079909120498265, 0.020931905225820956, 0.015391106783691879, 0.03652822676662873, 0.02339448231121166, 0.026472703667950032, 0.008003375527519778, 0.0802411869592209, 0.8987012939432741, 0.9683968937822818, 0.0156193047384239, 0.9735025672941096, 0.9659056512771804, 0.012213668842437742, 0.8500713514336669, 0.01465640261092529, 0.0024427337684875482, 0.0048854675369750964, 0.0024427337684875482, 0.03419827275882568, 0.024427337684875483, 0.0024427337684875482, 0.01465640261092529, 0.026870071453363033, 0.0024427337684875482, 0.0024427337684875482, 0.028565503276570366, 0.04878602806785051, 0.04782314593493241, 0.1701091768155314, 0.015406114126689635, 0.02631877829976146, 0.11490393452822686, 0.15213537700106014, 0.007061135641399416, 0.016048035548635035, 0.007061135641399416, 0.03979912816061489, 0.007061135641399416, 0.015406114126689635, 0.015727074837662336, 0.09564629186986481, 0.02663973901073416, 0.1303100486549165, 0.007703057063344817, 0.027602621143652264, 0.43216497845191426, 0.5585528495086062, 0.9692098410920942, 0.0022160438513958124, 0.013296263108374874, 0.006648131554187437, 0.09750592946141574, 0.33462262156076766, 0.0022160438513958124, 0.0022160438513958124, 0.0022160438513958124, 0.47644942805009965, 0.05096900858210368, 0.006648131554187437, 0.9647613056583099, 0.02128529911242564, 0.9578384600591536, 0.9899511650168609, 0.9907020171808476, 0.9542557715956506, 0.03976065714981877, 0.9804269736261141, 0.02389199535649572, 0.9556798142598288, 0.028765143196123007, 0.9492497254720592, 0.01544263238849271, 0.03603280890648299, 0.921410399180065, 0.00514754412949757, 0.01544263238849271, 0.00514754412949757, 0.9711584400025449, 0.011381059989888647, 0.005690529994944324, 0.011381059989888647, 0.9389374491658135, 0.02845264997472162, 0.005690529994944324, 0.9399623061412938, 0.03615239639004977, 0.025343002965284137, 0.7277062280031588, 0.003620428995040591, 0.10499244085617714, 0.003620428995040591, 0.007240857990081182, 0.04706557693552768, 0.010861286985121774, 0.043445147940487094, 0.007240857990081182, 0.010861286985121774, 0.3905454055549123, 0.0906738918369614, 0.029792850175001603, 0.09261690380489629, 0.01943011967934887, 0.008419718527717845, 0.020077790335327167, 0.07966349068533038, 0.02266847295924035, 0.017487107711413985, 0.003886023935869774, 0.014896425087500801, 0.027849838207066716, 0.03497421542282797, 0.04339393395054581, 0.026554496895110125, 0.018782449023370576, 0.017487107711413985, 0.01230574246358762, 0.027849838207066716, 0.9896023646536714, 0.0078952285543576, 0.055266599880503205, 0.0236856856630728, 0.0236856856630728, 0.0236856856630728, 0.0157904571087152, 0.8132085410988328, 0.0236856856630728, 0.0157904571087152, 0.022234900616208263, 0.04446980123241653, 0.0031764143737440377, 0.0031764143737440377, 0.09211601683857709, 0.019058486242464225, 0.0031764143737440377, 0.006352828747488075, 0.009529243121232113, 0.06352828747488075, 0.0031764143737440377, 0.0031764143737440377, 0.08258677371734498, 0.6352828747488075, 0.006352828747488075, 0.005520781400398605, 0.04416625120318884, 0.016562344201195813, 0.005520781400398605, 0.005520781400398605, 0.005520781400398605, 0.04968703260358744, 0.027603907001993024, 0.016562344201195813, 0.8170756472589935, 0.9389164946935623, 0.9551618842287132, 0.9658719415439724, 0.004917605322946925, 0.06884647452125695, 0.05409365855241617, 0.0196704212917877, 0.004917605322946925, 0.004917605322946925, 0.8409105102239242, 0.9732180972059203, 0.9525260865144873, 0.9581015200287801, 0.01451668969740576, 0.01451668969740576, 0.9684124141592156, 0.9639419828623331, 0.9577588301971968, 0.9906558408348951, 0.015096391991806849, 0.03496006566523691, 0.028603690089739293, 0.1779785161139334, 0.09852382142021313, 0.41236986546040816, 0.015096391991806849, 0.09931836836715033, 0.017480032832618456, 0.01191820420405804, 0.007150922522434823, 0.004767281681623216, 0.03813825345298573, 0.002383640840811608, 0.003972734734686013, 0.002383640840811608, 0.0055618286285604186, 0.02065822062036727, 0.0015890938938744052, 0.002383640840811608, 0.9320351640350675, 0.9711966942079343, 0.014941487603198989, 0.951817995274605, 0.16464311988549218, 0.11158802854295229, 0.07539731658307587, 0.06930398242656606, 0.04456135282134443, 0.047331050165212524, 0.03360566110559953, 0.05533239804749813, 0.031143707911050113, 0.05816364422122995, 0.011571180014382254, 0.03465199121328303, 0.06628808976324303, 0.015879598104843733, 0.043576571543524664, 0.02794316875813587, 0.02929724301513805, 0.023942494816993072, 0.029112596525546843, 0.026712192160861164, 0.029180731179535374, 0.04277175666041486, 0.03357782765864344, 0.061559350707512984, 0.056762518184849634, 0.2738191898353662, 0.3333798603251028, 0.006395776696884466, 0.006395776696884466, 0.005196568566218629, 0.00839445691466086, 0.004796832522663349, 0.03317809161508817, 0.004397096479108071, 0.016389177785766443, 0.010792873175992536, 0.03557650787641984, 0.024383898656872027, 0.011992081306658374, 0.0011992081306658373, 0.9746771395186516, 0.005853125538463245, 0.020485939384621357, 0.020485939384621357, 0.13462188738465464, 0.7609063200002218, 0.008779688307694867, 0.0029265627692316226, 0.029265627692316224, 0.014632813846158112, 0.006322347373134841, 0.030031150022390492, 0.0015805868432837101, 0.34298734499256506, 0.0015805868432837101, 0.01106410790298597, 0.02054762896268823, 0.00474176052985113, 0.0015805868432837101, 0.5547859819925822, 0.00948352105970226, 0.01106410790298597, 0.07197817963027389, 0.015995151028949755, 0.007997575514474877, 0.8797333065922365, 0.007997575514474877, 0.005623294718946995, 0.09278436286262541, 0.059044594548943445, 0.016869884156840986, 0.005623294718946995, 0.025304826235261476, 0.0028116473594734974, 0.3092812095420847, 0.0028116473594734974, 0.37957239352892214, 0.059044594548943445, 0.039363063032628966, 0.9735015504807025, 0.011589304172389316, 0.0164591536392008, 0.006777298557317977, 0.00387274203275313, 0.010650040590071106, 0.17524157698207912, 0.009681855081882825, 0.02420463770470706, 0.041631976852096145, 0.027109194229271907, 0.11618226098259389, 0.16168697986744315, 0.014522782622824236, 0.001936371016376565, 0.19944621468678617, 0.009681855081882825, 0.0029045565245648473, 0.10262766386795794, 0.0329183072784016, 0.00387274203275313, 0.03775923481934301, 0.06576932142220797, 0.07234625356442877, 0.02301926249777279, 0.14798097319996792, 0.016442330355551992, 0.0032884660711103983, 0.032884660711103984, 0.01973079642666239, 0.07563471963553917, 0.0065769321422207965, 0.04275005892443518, 0.4011928606754686, 0.0065769321422207965, 0.03617312678221438, 0.013153864284441593, 0.013153864284441593, 0.0032884660711103983, 0.01973079642666239, 0.9547158092541245, 0.04781248153177661, 0.014656087303710418, 0.0038442196206453557, 0.09730680914758556, 0.004805274525806694, 0.006006593157258368, 0.3760127316443739, 0.028831647154840167, 0.01633793338774276, 0.004805274525806694, 0.03315639422806619, 0.1638598613300083, 0.006246856883548703, 0.015136614756291088, 0.03315639422806619, 0.047572217805486275, 0.0031234284417743516, 0.08985863363258519, 0.0038442196206453557, 0.0038442196206453557, 0.01807921642831806, 0.003287130259694193, 0.01890099899324161, 0.5099160815350616, 0.055881214414801275, 0.0020544564123088707, 0.01807921642831806, 0.019311890275703382, 0.01890099899324161, 0.0012326738473853224, 0.0012326738473853224, 0.16435651298470963, 0.003698021542155967, 0.002876238977232419, 0.006163369236926611, 0.0020544564123088707, 0.009861390779082579, 0.10970797241729369, 0.010683173344006126, 0.022599020535397574, 0.02170024702700992, 0.005208059286482381, 0.029512335956733495, 0.43574096030235926, 0.006944079048643175, 0.026908306313492305, 0.20311431217281287, 0.0026040296432411907, 0.026040296432411906, 0.012152138335125556, 0.023436266789170716, 0.03211636559997468, 0.1380135710917831, 0.004340049405401984, 0.0008680098810803969, 0.013020148216205953, 0.01649218774052754, 0.06488256160838575, 0.0031650030052871097, 0.06171755860309864, 0.40828538768203715, 0.004747504507930664, 0.004747504507930664, 0.1392601322326328, 0.050640048084593756, 0.0031650030052871097, 0.0174075165290791, 0.1297651232167715, 0.028485027047583985, 0.026902525544940433, 0.05222254958723731, 0.0063300060105742195, 0.9642912760331868, 0.967983771764481, 0.019235017132848555, 0.9617508566424278, 0.006693017078599516, 0.022310056928665053, 0.0022310056928665054, 0.022310056928665053, 0.011155028464332526, 0.004462011385733011, 0.0022310056928665054, 0.029003074007264568, 0.7897760152747428, 0.062468159400262145, 0.03792709677873059, 0.0022310056928665054, 0.004462011385733011, 0.9709864666316366, 0.02094015097575258, 0.03452295160867318, 0.07810110363929341, 0.005093550237345223, 0.24505636141894238, 0.020374200949380892, 0.005093550237345223, 0.010753050501062136, 0.0198082509230092, 0.3220255650054924, 0.029429401371327952, 0.0022638001054867654, 0.054331202531682374, 0.0328251015295581, 0.014148750659292286, 0.01584660073840736, 0.02320395108123935, 0.030561301424071336, 0.013582800632920593, 0.022072051028495965, 0.9712928421568081, 0.010792142690631201, 0.010792142690631201, 0.966827869359308, 0.9224908554278738, 0.9688801725111785, 0.09443896057054245, 0.002284813562190543, 0.002284813562190543, 0.0034272203432858146, 0.006854440686571629, 0.21439167258554595, 0.0019040113018254524, 0.0011424067810952715, 0.2844592884927226, 0.014089683633508349, 0.2696080003384841, 0.006473638426206538, 0.0019040113018254524, 0.0011424067810952715, 0.000761604520730181, 0.002284813562190543, 0.018278508497524344, 0.0026656158225556335, 0.04455386446271559, 0.026656158225556333, 0.9888712258188356, 0.03400960676694576, 0.006801921353389153, 0.9454670681210923, 0.006801921353389153, 0.991101629928163, 0.9731641421860269, 0.9449850771780836, 0.9601537098877254, 0.007882076521915686, 0.9616133356737137, 0.023646229565747058, 0.01723690369733911, 0.0478802880481642, 0.019152115219265683, 0.0019152115219265682, 0.0038304230438531363, 0.23365580567504132, 0.009576057609632841, 0.5745634565779705, 0.0038304230438531363, 0.0038304230438531363, 0.0019152115219265682, 0.08235409544284243, 0.9832682607406799, 0.9638756098519975, 0.007376669047047838, 0.0006147224205873198, 0.0012294448411746396, 0.015368060514682995, 0.0006147224205873198, 0.03442445555288991, 0.0012294448411746396, 0.5175962781345232, 0.0012294448411746396, 0.0018441672617619594, 0.32395871564951756, 0.007991391467635157, 0.002458889682349279, 0.0018441672617619594, 0.0012294448411746396, 0.021515284720556194, 0.02520361924408011, 0.02643306408525475, 0.008606113888222477, 0.0006147224205873198, 0.989297730543575, 0.8726115068870683, 0.017110029546805263, 0.008555014773402632, 0.017110029546805263, 0.017110029546805263, 0.025665044320207893, 0.025665044320207893, 0.49950475478657824, 0.03856470533278729, 0.010100279968110958, 0.06702913069746362, 0.009182072698282688, 0.004591036349141344, 0.028464425364676332, 0.085393276094029, 0.0009182072698282689, 0.0560106434595244, 0.0018364145396565377, 0.020200559936221916, 0.017445938126737108, 0.028464425364676332, 0.04499215622158517, 0.025709803555191528, 0.00826386542845442, 0.004591036349141344, 0.014691316317252302, 0.03305546171381768, 0.9569032446562816, 0.024631600640489422, 0.046526356765368905, 0.6705269063244342, 0.021894756124879487, 0.002736844515609936, 0.08210533546829807, 0.005473689031219872, 0.027368445156099357, 0.010947378062439743, 0.002736844515609936, 0.052000045796588776, 0.008210533546829806, 0.002736844515609936, 0.030105289671709293, 0.008210533546829806, 0.05168776176156825, 0.07521726525004335, 0.14368426310585203, 0.08042461438273865, 0.06460970220196031, 0.11012579091737117, 0.08042461438273865, 0.020443666965396397, 0.07348148220581158, 0.03973014523463828, 0.01870788392116463, 0.054387868719262114, 0.027579663925015895, 0.027386799142323476, 0.03336560740578846, 0.030665500448094598, 0.008678915221158849, 0.024493827401937195, 0.02700106957693864, 0.007907456090389172, 0.0562970338853494, 0.10675585684925515, 0.11217705270488139, 0.11572168076432932, 0.04316105931210121, 0.04795673256900134, 0.05775658661571031, 0.03106762240339652, 0.05379494349044498, 0.030859114870487817, 0.025020903949044177, 0.04879076270063615, 0.06088419960934083, 0.041284491515922894, 0.0700585310573237, 0.03148463746921392, 0.006255225987261044, 0.04024195385137939, 0.013135974573248194, 0.0075062711847132535, 0.9620952270216996, 0.016566649927819505, 0.9608656958135313, 0.016566649927819505, 0.041142206362057725, 0.42742181053915523, 0.04723734804532553, 0.025904352153888196, 0.057141953280635725, 0.1668545035794563, 0.0076189271040847635, 0.0060951416832678105, 0.0289519229955221, 0.0967603742218765, 0.0030475708416339052, 0.0015237854208169526, 0.042665991782874675, 0.0030475708416339052, 0.01447596149776105, 0.0007618927104084763, 0.0060951416832678105, 0.009904605235310192, 0.011428390656127144, 0.0030475708416339052, 0.9361390515295729, 0.9880431061952544, 0.01857286184277737, 0.9657888158244233, 0.007619354360528907, 0.007619354360528907, 0.02285806308158672, 0.007619354360528907, 0.038096771802644536, 0.9143225232634689, 0.9734735804669175, 0.02076696800311642, 0.02076696800311642, 0.934513560140239, 0.01001522008385235, 0.9214002477144163, 0.0600913205031141, 0.038406998024856, 0.009601749506214, 0.038406998024856, 0.009601749506214, 0.902564453584116, 0.9701916312739154, 0.0063050837226471595, 0.0063050837226471595, 0.907932056061191, 0.0063050837226471595, 0.037830502335882955, 0.018915251167941478, 0.0063050837226471595, 0.36320429254348685, 0.6023137851346156, 0.00908010731358717, 0.0030267024378623905, 0.01816021462717434, 0.0007141426763938282, 0.0007141426763938282, 0.009283854793119767, 0.847687356879474, 0.0007141426763938282, 0.1264032537217076, 0.004284856058362969, 0.0007141426763938282, 0.0014282853527876564, 0.0007141426763938282, 0.004284856058362969, 0.0007141426763938282, 0.0007141426763938282, 0.0014282853527876564, 0.0007141426763938282, 0.9094732745863685, 0.014210519915412008, 0.014210519915412008, 0.042631559746236024, 0.9513985260519932, 0.9800515062023617, 0.042946103564529034, 0.32502392015882203, 0.21473051782264518, 0.004880239041423754, 0.12591016726873286, 0.010736525891132258, 0.0019520956165695017, 0.0029281434248542523, 0.0029281434248542523, 0.059538916305369796, 0.0009760478082847508, 0.0009760478082847508, 0.015616764932556013, 0.007808382466278007, 0.15323950590070587, 0.0029281434248542523, 0.009760478082847508, 0.0019520956165695017, 0.0029281434248542523, 0.01268862150770176, 0.9742315222622222, 0.018735221581965812, 0.04876426350725728, 0.1005263300989771, 0.14289528035938098, 0.08253951159220188, 0.09912735532622792, 0.08653658237148526, 0.03737261178629964, 0.04176938964351136, 0.06655122847506834, 0.04316836441626055, 0.013789894188527675, 0.03537407639665795, 0.025781106526377825, 0.02897876314980453, 0.044967046266938066, 0.020385060974345257, 0.017986818506775228, 0.02757978837705535, 0.01978550035745275, 0.015788429578169366, 0.970899508289514, 0.07776414812994789, 0.025921382709982628, 0.037441997247752684, 0.24769321256205623, 0.011520614537770058, 0.017280921806655088, 0.0028801536344425145, 0.005760307268885029, 0.014400768172212572, 0.005760307268885029, 0.005760307268885029, 0.017280921806655088, 0.04608245815108023, 0.3801802797464119, 0.011520614537770058, 0.017280921806655088, 0.017280921806655088, 0.037441997247752684, 0.0201610754410976, 0.12805440388044745, 0.2160401717079807, 0.07476724871729351, 0.07869149657814593, 0.035937848830964285, 0.04399288391376662, 0.053906773246446424, 0.058037560468396344, 0.032839758414501846, 0.0301547467202344, 0.009707349971582306, 0.03717708499754926, 0.04089479349730418, 0.020240857387554597, 0.04130787221949918, 0.0351116913865743, 0.006402720194022373, 0.02209971163743206, 0.019414699943164613, 0.015283912721214696, 0.9915495026482407, 0.016004402868842565, 0.0586828105190894, 0.014226135883415612, 0.02133920382512342, 0.003556533970853903, 0.0017782669854269515, 0.007113067941707806, 0.028452271766831225, 0.17782669854269514, 0.01244786889798866, 0.6277282458557139, 0.008891334927134757, 0.01066960191256171, 0.005334800956280855, 0.003556533970853903, 0.0017782669854269515, 0.0017782669854269515, 0.16024715562112424, 0.19957161098827128, 0.1056844737992077, 0.08258135627100881, 0.013763559378501468, 0.025069340296556247, 0.025069340296556247, 0.07569957658175808, 0.006390223997161396, 0.02408622891237757, 0.018679116299394852, 0.017696004915216175, 0.05652890459027389, 0.025069340296556247, 0.0889715802681702, 0.02113689475984154, 0.016712893531037498, 0.012288892302233454, 0.01622133783894816, 0.009831113841786763, 0.0062734592076279724, 0.06963539720467049, 0.025407509790893287, 0.025721182751274687, 0.014742629137925735, 0.005332440326483777, 0.04109115780996322, 0.04234584965148881, 0.0451689062949214, 0.01819303170212112, 0.0012546918415255945, 0.02070241538517231, 0.007528151049153567, 0.5796676307848246, 0.007214478088772168, 0.010351207692586155, 0.006587132168009371, 0.007214478088772168, 0.04987400070064238, 0.015369975058688532, 0.9919015389211959, 0.9297579396060681, 0.0546916435062393, 0.015404069506468047, 0.03851017376617012, 0.0025673449177446746, 0.005134689835489349, 0.025673449177446746, 0.017971414424212722, 0.012836724588723373, 0.0025673449177446746, 0.0025673449177446746, 0.8728972720331893, 0.9742896704384516, 0.9851451998568251, 0.9882437008134572, 0.006274040397875531, 0.06650482821748063, 0.0037644242387253183, 0.047682707023854035, 0.020076929273201698, 0.030115393909802547, 0.0037644242387253183, 0.010038464636600849, 0.43541840361256184, 0.33001452492825295, 0.008783656557025744, 0.002509616159150212, 0.001254808079575106, 0.02635096967107723, 0.001254808079575106, 0.0037644242387253183, 0.002509616159150212, 0.9788892937025303, 0.01553792529686556, 0.9576089333985406, 0.01841737641133446, 0.9761209498007264, 0.9612890794908424, 0.9823187294222769, 0.9526974212127657, 0.006417128298600739, 0.006417128298600739, 0.006417128298600739, 0.9304836032971072, 0.025668513194402956, 0.012834256597201478, 0.9063644229425191, 0.06631934802018433, 0.01151511852195262, 0.04030291482683417, 0.03454535556585786, 0.10939362595854989, 0.002878779630488155, 0.002878779630488155, 0.7312100261439913, 0.04606047408781048, 0.002878779630488155, 0.01151511852195262, 0.017844792116722175, 0.017844792116722175, 0.9636187743029975, 0.021633046211847137, 0.010816523105923568, 0.951854033321274, 0.02078188825521128, 0.955966859739719, 0.021165691082921483, 0.016462204175605597, 0.06349707324876445, 0.007055230360973827, 0.5879358634144857, 0.00940697381463177, 0.0023517434536579427, 0.023517434536579427, 0.007055230360973827, 0.051738355980474736, 0.025869177990237368, 0.004703486907315885, 0.09406973814631771, 0.011758717268289713, 0.07290404706339622, 0.012306090667192949, 0.984487253375436, 0.042998650874843454, 0.9459703192465561, 0.01862710515381274, 0.9779230205751688], \"Term\": [\"#\", \"#\", \"#\", \"#\", \"#\", \"#\", \"#\", \"#\", \"#\", \"#\", \"#\", \"#\", \"#\", \"#\", \"#\", \"#\", \"#\", \"#\", \"#\", \"#import\", \"#include\", \"#include\", \"#include\", \"#include\", \"#include\", \"#include\", \"#include\", \"#include\", \"#include\", \"#include\", \"#include\", \"#pragma\", \"+\", \"+\", \"+\", \"+\", \"+\", \"+\", \"+\", \"+\", \"+\", \"+\", \"+\", \"+\", \"+\", \"+\", \"+\", \"+\", \"+\", \"+\", \"+\", \"+\", \"@\", \"@\", \"@\", \"@\", \"@\", \"@\", \"@\", \"@\", \"@\", \"@\", \"@\", \"@\", \"@\", \"@\", \"@\", \"@\", \"@\", \"@+id\", \"@color\", \"@dimen\", \"@end\", \"@implementation\", \"@interface\", \"@onetomany\", \"@override\", \"@override\", \"@override\", \"@override\", \"@override\", \"@override\", \"@override\", \"@override\", \"@override\", \"@selector\", \"@synthesize\", \"@test\", \"\\\\\\\\\\\\\\\\\", \"abstract\", \"abstract\", \"abstract\", \"abstract\", \"abstract\", \"abstract\", \"abstract\", \"accent\", \"activate\", \"activate\", \"activate\", \"activities\", \"activities\", \"activities\", \"activities\", \"activities\", \"activities\", \"activity\", \"activity\", \"activity\", \"activity\", \"activity\", \"activity\", \"activity\", \"activity\", \"activity\", \"activity\", \"activity\", \"activity\", \"activitythread\", \"activitythread\", \"adapter\", \"adapter\", \"adapter\", \"adapter\", \"add\", \"add\", \"add\", \"add\", \"add\", \"add\", \"add\", \"add\", \"add\", \"add\", \"add\", \"add\", \"add\", \"add\", \"add\", \"add\", \"add\", \"add\", \"add\", \"add\", \"addeventlistener\", \"advise\", \"africa\", \"age\", \"age\", \"age\", \"age\", \"age\", \"age\", \"age\", \"age\", \"age\", \"age\", \"age\", \"age\", \"ajax\", \"ajax\", \"ajax\", \"ajax\", \"ajax\", \"ajax\", \"ajax\", \"ajax\", \"ajax\", \"ajax\", \"ajax\", \"ajax\", \"ajax\", \"alarm\", \"alarm\", \"alert\", \"alert\", \"alert\", \"alert\", \"alert\", \"alert\", \"alert\", \"alert\", \"alert\", \"alert\", \"alert\", \"alert\", \"alertdialog\", \"align\", \"align\", \"align\", \"align\", \"align\", \"align\", \"align\", \"allocate\", \"allocate\", \"allocate\", \"allocate\", \"allocate\", \"allocate\", \"allocate\", \"allocate\", \"allocate\", \"allocate\", \"allocate\", \"allocation\", \"allocation\", \"allocation\", \"allow\", \"allow\", \"allow\", \"allow\", \"allow\", \"allow\", \"allow\", \"allow\", \"allow\", \"allow\", \"allow\", \"allow\", \"allow\", \"allow\", \"allow\", \"allow\", \"allow\", \"allow\", \"allow\", \"allow\", \"also\", \"also\", \"also\", \"also\", \"also\", \"also\", \"also\", \"also\", \"also\", \"also\", \"also\", \"also\", \"also\", \"also\", \"also\", \"also\", \"also\", \"also\", \"also\", \"also\", \"analyse\", \"anchor\", \"android\", \"android\", \"android\", \"android\", \"android\", \"android\", \"android\", \"android\", \"android\", \"android\", \"android\", \"android\", \"android\", \"android\", \"android\", \"android\", \"android\", \"android\", \"android\", \"androidmanifest\", \"androidruntime\", \"androidruntime\", \"androidruntime\", \"angular\", \"angular\", \"angular\", \"angular\", \"angular\", \"angular\", \"angularjs\", \"angularjs\", \"angularjs\", \"angularjs\", \"angularjs\", \"angularjs\", \"angularjs\", \"animal\", \"animal\", \"animal\", \"answer\", \"answer\", \"answer\", \"answer\", \"answer\", \"answer\", \"answer\", \"answer\", \"answer\", \"answer\", \"answer\", \"answer\", \"answer\", \"answer\", \"answer\", \"answer\", \"answer\", \"answer\", \"answer\", \"answer\", \"ant\", \"apache\", \"apache\", \"apache\", \"apache\", \"apache\", \"apache\", \"apache\", \"apache\", \"apache\", \"apache\", \"apache\", \"apache\", \"apache\", \"apache\", \"apache\", \"api\", \"api\", \"api\", \"api\", \"api\", \"api\", \"api\", \"api\", \"api\", \"api\", \"api\", \"api\", \"api\", \"api\", \"api\", \"api\", \"api\", \"api\", \"api\", \"api\", \"apk\", \"apk\", \"apk\", \"apk\", \"apk\", \"app\", \"app\", \"app\", \"app\", \"app\", \"app\", \"app\", \"app\", \"app\", \"app\", \"app\", \"app\", \"app\", \"app\", \"app\", \"app\", \"app\", \"app\", \"app\", \"app\", \"appcompat\", \"appcompat\", \"application\", \"application\", \"application\", \"application\", \"application\", \"application\", \"application\", \"application\", \"application\", \"application\", \"application\", \"application\", \"application\", \"application\", \"application\", \"application\", \"application\", \"application\", \"application\", \"application\", \"approve\", \"arc\", \"arc\", \"args\", \"args\", \"args\", \"args\", \"args\", \"args\", \"args\", \"args\", \"args\", \"args\", \"args\", \"args\", \"args\", \"args\", \"args\", \"args\", \"argue\", \"arr\", \"arr\", \"arr\", \"arr\", \"arr\", \"arr\", \"array\", \"array\", \"array\", \"array\", \"array\", \"array\", \"array\", \"array\", \"array\", \"array\", \"array\", \"array\", \"array\", \"array\", \"array\", \"array\", \"array\", \"array\", \"array\", \"arrow\", \"arrow\", \"arrow\", \"arrow\", \"artifactid\", \"artifactid\", \"artist\", \"ascii\", \"ascii\", \"ascii\", \"ascii\", \"ascii\", \"asia\", \"aslist\", \"assemblies\", \"assembly\", \"assembly\", \"assembly\", \"assembly\", \"assoc\", \"async\", \"async\", \"async\", \"async\", \"async\", \"async\", \"async\", \"async\", \"async\", \"async\", \"asynctask\", \"asynctask\", \"asynctask\", \"atomic\", \"attacker\", \"attr\", \"attr\", \"attr\", \"attr\", \"attr\", \"attr\", \"attr\", \"attr\", \"attr\", \"attribute\", \"attribute\", \"attribute\", \"attribute\", \"attribute\", \"attribute\", \"attribute\", \"attribute\", \"attribute\", \"attribute\", \"attribute\", \"attribute\", \"attribute\", \"attribute\", \"attribute\", \"attribute\", \"attribute\", \"attribute\", \"attribute\", \"authorization\", \"authorization\", \"authorization\", \"authorization\", \"autocrlf\", \"autoload\", \"autoload\", \"await\", \"await\", \"ax\", \"axis\", \"axis\", \"axis\", \"axis\", \"b\", \"b\", \"b\", \"b\", \"b\", \"b\", \"b\", \"b\", \"b\", \"b\", \"b\", \"b\", \"b\", \"b\", \"b\", \"b\", \"b\", \"b\", \"b\", \"b\", \"babel\", \"babel\", \"backbone\", \"backbone\", \"backbone\", \"backbone\", \"backend\", \"backend\", \"backend\", \"backend\", \"background\", \"background\", \"background\", \"background\", \"background\", \"background\", \"background\", \"background\", \"background\", \"background\", \"background\", \"background\", \"background\", \"background\", \"background\", \"background\", \"background\", \"background\", \"background\", \"badge\", \"bar\", \"bar\", \"bar\", \"bar\", \"bar\", \"bar\", \"bar\", \"bar\", \"bar\", \"bar\", \"bar\", \"bar\", \"bar\", \"bar\", \"bar\", \"bar\", \"bar\", \"bar\", \"bash\", \"bash\", \"bash\", \"bash\", \"bash\", \"bash\", \"bash\", \"bash\", \"bash\", \"bash\", \"bash\", \"bash\", \"bash\", \"bash\", \"bashrc\", \"basics\", \"bat\", \"bat\", \"baz\", \"baz\", \"baz\", \"bean\", \"bean\", \"bean\", \"bean\", \"bean\", \"beat\", \"beep\", \"bet\", \"biggest\", \"bin\", \"bin\", \"bin\", \"bin\", \"bin\", \"bin\", \"bin\", \"bin\", \"bin\", \"bin\", \"bin\", \"bin\", \"bin\", \"bitcode\", \"bitcode\", \"bitcode\", \"bitcode\", \"bite\", \"bite\", \"bite\", \"bite\", \"bite\", \"bite\", \"bite\", \"bite\", \"bite\", \"bite\", \"bite\", \"bite\", \"bite\", \"bite\", \"bite\", \"bite\", \"bite\", \"bite\", \"bite\", \"bite\", \"bitmap\", \"bitmap\", \"bitmap\", \"bitmap\", \"bitmap\", \"bitmap\", \"bitmap\", \"blabla\", \"black\", \"black\", \"black\", \"black\", \"blah\", \"blah\", \"blah\", \"blah\", \"blah\", \"blame\", \"blas\", \"bmp\", \"bold\", \"bold\", \"book\", \"book\", \"book\", \"book\", \"book\", \"book\", \"book\", \"book\", \"book\", \"book\", \"boot\", \"border\", \"border\", \"border\", \"border\", \"border\", \"border\", \"bottom\", \"bottom\", \"bottom\", \"bottom\", \"bottom\", \"bottom\", \"bottom\", \"bottom\", \"bottom\", \"bottom\", \"bottom\", \"bottom\", \"bottom\", \"boundary\", \"boundary\", \"bower\", \"branch\", \"branch\", \"branch\", \"branch\", \"branch\", \"branch\", \"branch\", \"branch\", \"brand\", \"brief\", \"brief\", \"browser\", \"browser\", \"browser\", \"browser\", \"browser\", \"browser\", \"browser\", \"browser\", \"browser\", \"browser\", \"browser\", \"browser\", \"browser\", \"browser\", \"browser\", \"browser\", \"browser\", \"browser\", \"browser\", \"bs\", \"bss\", \"bubble\", \"bufferedreader\", \"build\", \"build\", \"build\", \"build\", \"build\", \"build\", \"build\", \"build\", \"build\", \"build\", \"build\", \"build\", \"build\", \"build\", \"build\", \"build\", \"build\", \"build\", \"build\", \"build\", \"builder\", \"builder\", \"builder\", \"builder\", \"bulk\", \"bullet\", \"button\", \"button\", \"button\", \"button\", \"button\", \"button\", \"button\", \"button\", \"button\", \"button\", \"button\", \"button\", \"button\", \"button\", \"button\", \"bye\", \"byte\", \"byte\", \"byte\", \"byte\", \"byte\", \"byte\", \"byte\", \"byte\", \"byte\", \"byte\", \"byte\", \"byte\", \"bytes\", \"bytes\", \"bytes\", \"bytes\", \"bytes\", \"bytes\", \"bytes\", \"bytes\", \"bytes\", \"bytes\", \"bytes\", \"bytes\", \"c\", \"c\", \"c\", \"c\", \"c\", \"c\", \"c\", \"c\", \"c\", \"c\", \"c\", \"c\", \"c\", \"c\", \"c\", \"c\", \"c\", \"c\", \"c\", \"c\", \"c++\", \"c++\", \"c++\", \"c++\", \"c++\", \"c++\", \"c++\", \"c++\", \"c++\", \"c++\", \"c++\", \"c++\", \"c++\", \"c++\", \"c++\", \"c++\", \"c++\", \"c++\", \"call\", \"call\", \"call\", \"call\", \"call\", \"call\", \"call\", \"call\", \"call\", \"call\", \"call\", \"call\", \"call\", \"call\", \"call\", \"call\", \"call\", \"call\", \"call\", \"call\", \"callback\", \"callback\", \"callback\", \"callback\", \"callback\", \"callback\", \"camera\", \"camera\", \"camera\", \"camera\", \"camera\", \"candidate\", \"canvas\", \"canvas\", \"canvas\", \"carat\", \"cascadetype\", \"case\", \"case\", \"case\", \"case\", \"case\", \"case\", \"case\", \"case\", \"case\", \"case\", \"case\", \"case\", \"case\", \"case\", \"case\", \"case\", \"case\", \"case\", \"case\", \"case\", \"cast\", \"cast\", \"cast\", \"cast\", \"cast\", \"cast\", \"cast\", \"cast\", \"cast\", \"cast\", \"cast\", \"catch\", \"catch\", \"catch\", \"catch\", \"catch\", \"catch\", \"catch\", \"catch\", \"catch\", \"catch\", \"catch\", \"catch\", \"catch\", \"catch\", \"catch\", \"categories\", \"center\", \"center\", \"center\", \"center\", \"center\", \"center\", \"center\", \"certificate\", \"certificate\", \"certificate\", \"certificate\", \"certificate\", \"certificate\", \"certificate\", \"certificate\", \"ch\", \"ch\", \"ch\", \"ch\", \"ch\", \"ch\", \"change\", \"change\", \"change\", \"change\", \"change\", \"change\", \"change\", \"change\", \"change\", \"change\", \"change\", \"change\", \"change\", \"change\", \"change\", \"change\", \"change\", \"change\", \"change\", \"change\", \"char\", \"char\", \"char\", \"char\", \"char\", \"char\", \"char\", \"char\", \"char\", \"char\", \"char\", \"char\", \"char\", \"character\", \"character\", \"character\", \"character\", \"character\", \"character\", \"character\", \"character\", \"character\", \"character\", \"character\", \"character\", \"character\", \"character\", \"character\", \"character\", \"character\", \"chart\", \"chart\", \"chart\", \"checkbox\", \"checkbox\", \"checkbox\", \"checkbox\", \"checkbox\", \"checkbox\", \"checkout\", \"checkout\", \"checkout\", \"checkout\", \"checkout\", \"cheer\", \"children\", \"children\", \"children\", \"children\", \"children\", \"children\", \"chmod\", \"chrome\", \"chrome\", \"chrome\", \"chrome\", \"chrome\", \"chrome\", \"chrome\", \"chrome\", \"chrome\", \"chrome\", \"chrome\", \"chrome\", \"chrome\", \"cin\", \"cin\", \"cin\", \"cipher\", \"cipher\", \"clang\", \"class\", \"class\", \"class\", \"class\", \"class\", \"class\", \"class\", \"class\", \"class\", \"class\", \"class\", \"class\", \"class\", \"class\", \"class\", \"class\", \"class\", \"class\", \"class\", \"class\", \"classic\", \"classpath\", \"click\", \"click\", \"click\", \"click\", \"click\", \"click\", \"click\", \"click\", \"click\", \"click\", \"click\", \"click\", \"click\", \"click\", \"click\", \"click\", \"click\", \"click\", \"clock\", \"clock\", \"clone\", \"clone\", \"clone\", \"clone\", \"clone\", \"clone\", \"clone\", \"clone\", \"clone\", \"clone\", \"closure\", \"closure\", \"cloud\", \"cloud\", \"cm\", \"cmake\", \"cmd\", \"cmd\", \"cmd\", \"cmd\", \"cmd\", \"cmd\", \"cmd\", \"cmd\", \"cocoa\", \"cocoa\", \"cocoa\", \"cocoa\", \"cocoapods\", \"cocoapods\", \"code\", \"code\", \"code\", \"code\", \"code\", \"code\", \"code\", \"code\", \"code\", \"code\", \"code\", \"code\", \"code\", \"code\", \"code\", \"code\", \"code\", \"code\", \"code\", \"code\", \"col\", \"col\", \"col\", \"col\", \"col\", \"collation\", \"color\", \"color\", \"color\", \"color\", \"color\", \"color\", \"color\", \"color\", \"color\", \"color\", \"color\", \"color\", \"color\", \"color\", \"color\", \"column\", \"column\", \"column\", \"column\", \"column\", \"column\", \"column\", \"column\", \"column\", \"column\", \"column\", \"column\", \"column\", \"column\", \"column\", \"column\", \"columns\", \"columns\", \"columns\", \"columns\", \"columns\", \"columns\", \"columns\", \"columns\", \"columns\", \"columns\", \"columns\", \"columns\", \"columns\", \"columns\", \"com\", \"com\", \"com\", \"com\", \"com\", \"com\", \"com\", \"com\", \"com\", \"com\", \"com\", \"com\", \"com\", \"com\", \"com\", \"com\", \"com\", \"com\", \"com\", \"com\", \"comic\", \"command\", \"command\", \"command\", \"command\", \"command\", \"command\", \"command\", \"command\", \"command\", \"command\", \"command\", \"command\", \"command\", \"command\", \"command\", \"command\", \"command\", \"command\", \"command\", \"command\", \"commas\", \"commit\", \"commit\", \"commit\", \"commit\", \"commit\", \"commit\", \"commit\", \"commit\", \"commit\", \"commit\", \"commit\", \"commit\", \"commons\", \"commons\", \"commons\", \"commons\", \"commons\", \"communicate\", \"communicate\", \"communicate\", \"communicate\", \"communication\", \"communication\", \"comparisons\", \"compile\", \"compile\", \"compile\", \"compile\", \"compile\", \"compile\", \"compile\", \"compile\", \"compile\", \"compile\", \"compile\", \"compile\", \"compile\", \"compile\", \"compile\", \"compile\", \"compile\", \"compile\", \"compile\", \"compile\", \"compression\", \"computers\", \"concepts\", \"concepts\", \"concepts\", \"concepts\", \"conda\", \"config\", \"config\", \"config\", \"config\", \"config\", \"config\", \"config\", \"config\", \"config\", \"config\", \"config\", \"config\", \"config\", \"config\", \"config\", \"config\", \"config\", \"config\", \"configuration\", \"configuration\", \"configuration\", \"configuration\", \"configuration\", \"configuration\", \"configuration\", \"configuration\", \"configuration\", \"configuration\", \"configuration\", \"configuration\", \"configuration\", \"configuration\", \"configurations\", \"configurations\", \"conn\", \"conn\", \"conn\", \"conn\", \"conn\", \"connect\", \"connect\", \"connect\", \"connect\", \"connect\", \"connect\", \"connect\", \"connect\", \"connect\", \"connect\", \"connect\", \"connect\", \"connect\", \"connect\", \"connection\", \"connection\", \"connection\", \"connection\", \"connection\", \"connection\", \"connection\", \"connection\", \"connection\", \"connection\", \"connection\", \"connection\", \"connection\", \"connection\", \"connection\", \"connection\", \"connection\", \"connections\", \"connections\", \"connections\", \"connections\", \"connections\", \"connections\", \"connections\", \"connections\", \"connections\", \"console\", \"console\", \"console\", \"console\", \"console\", \"console\", \"console\", \"console\", \"console\", \"console\", \"console\", \"console\", \"console\", \"console\", \"console\", \"console\", \"console\", \"const\", \"const\", \"const\", \"const\", \"const\", \"const\", \"const\", \"const\", \"const\", \"const\", \"const\", \"const\", \"const\", \"const\", \"const&\", \"constants\", \"constants\", \"construction\", \"constructor\", \"constructor\", \"constructor\", \"constructor\", \"constructor\", \"constructor\", \"constructor\", \"constructor\", \"constructor\", \"constructor\", \"constructor\", \"constructor\", \"constructor\", \"constructor\", \"consumer\", \"consumer\", \"content\", \"content\", \"content\", \"content\", \"content\", \"content\", \"content\", \"content\", \"content\", \"content\", \"content\", \"content\", \"content\", \"content\", \"content\", \"content\", \"content\", \"content\", \"content\", \"content\", \"contexts\", \"contexts\", \"contour\", \"contributions\", \"control\", \"control\", \"control\", \"control\", \"control\", \"control\", \"control\", \"control\", \"control\", \"control\", \"control\", \"control\", \"control\", \"control\", \"control\", \"control\", \"control\", \"control\", \"control\", \"controller\", \"controller\", \"controller\", \"controller\", \"controller\", \"controller\", \"controller\", \"controller\", \"controller\", \"controller\", \"controller\", \"controller\", \"controller\", \"controller\", \"convert\", \"convert\", \"convert\", \"convert\", \"convert\", \"convert\", \"convert\", \"convert\", \"convert\", \"convert\", \"convert\", \"convert\", \"convert\", \"convert\", \"convert\", \"convert\", \"convert\", \"convert\", \"convert\", \"convertview\", \"cookie\", \"cookie\", \"cookie\", \"cookie\", \"cookie\", \"cookies\", \"cookies\", \"cookies\", \"cookies\", \"coordinate\", \"coordinate\", \"coordinate\", \"could\", \"could\", \"could\", \"could\", \"could\", \"could\", \"could\", \"could\", \"could\", \"could\", \"could\", \"could\", \"could\", \"could\", \"could\", \"could\", \"could\", \"could\", \"could\", \"could\", \"count\", \"count\", \"count\", \"count\", \"count\", \"count\", \"count\", \"count\", \"count\", \"count\", \"count\", \"count\", \"count\", \"count\", \"count\", \"count\", \"count\", \"counter\", \"counter\", \"counter\", \"counter\", \"counter\", \"cout\", \"cout\", \"cout\", \"cout\", \"cout\", \"cout\", \"cout\", \"cpp\", \"cpp\", \"cpp\", \"cpp\", \"cpp\", \"cpp\", \"cpp\", \"cpp\", \"cpp\", \"cpython\", \"create\", \"create\", \"create\", \"create\", \"create\", \"create\", \"create\", \"create\", \"create\", \"create\", \"create\", \"create\", \"create\", \"create\", \"create\", \"create\", \"create\", \"create\", \"create\", \"create\", \"createserver\", \"credit\", \"credit\", \"cron\", \"crontab\", \"crud\", \"cryptography\", \"cryptography\", \"css\", \"css\", \"css\", \"css\", \"css\", \"css\", \"css\", \"css\", \"css\", \"css\", \"css\", \"css\", \"css\", \"css\", \"css\", \"css\", \"css\", \"csv\", \"csv\", \"csv\", \"csv\", \"ctl\", \"ctrl\", \"ctrl\", \"cur\", \"cur\", \"custom\", \"custom\", \"custom\", \"custom\", \"custom\", \"custom\", \"custom\", \"custom\", \"custom\", \"custom\", \"custom\", \"custom\", \"custom\", \"custom\", \"custom\", \"custom\", \"custom\", \"custom\", \"custom\", \"custom\", \"customer\", \"customer\", \"customer\", \"customer\", \"customer\", \"cv\", \"cv\", \"cv\", \"cv\", \"cv\", \"cv\", \"cv\", \"cython\", \"dashboard\", \"data\", \"data\", \"data\", \"data\", \"data\", \"data\", \"data\", \"data\", \"data\", \"data\", \"data\", \"data\", \"data\", \"data\", \"data\", \"data\", \"data\", \"data\", \"data\", \"data\", \"database\", \"database\", \"database\", \"database\", \"database\", \"database\", \"database\", \"database\", \"database\", \"database\", \"database\", \"database\", \"database\", \"database\", \"database\", \"database\", \"database\", \"database\", \"database\", \"database\", \"dataframe\", \"dataframe\", \"dataframe\", \"dataframe\", \"dataframe\", \"dataframe\", \"dataframe\", \"dataset\", \"dataset\", \"datasets\", \"date\", \"date\", \"date\", \"date\", \"date\", \"date\", \"date\", \"date\", \"date\", \"date\", \"date\", \"date\", \"date\", \"date\", \"date\", \"date\", \"date\", \"date\", \"date\", \"datepicker\", \"datetime\", \"datetime\", \"datetime\", \"datetime\", \"datetime\", \"datetime\", \"datetime\", \"datetime\", \"datetime\", \"datetime\", \"datetime\", \"day\", \"day\", \"day\", \"day\", \"day\", \"day\", \"day\", \"day\", \"day\", \"day\", \"day\", \"day\", \"days\", \"days\", \"days\", \"days\", \"days\", \"days\", \"days\", \"days\", \"days\", \"days\", \"days\", \"days\", \"days\", \"days\", \"db\", \"db\", \"db\", \"db\", \"db\", \"db\", \"db\", \"db\", \"db\", \"db\", \"db\", \"db\", \"db\", \"db\", \"db\", \"db\", \"db\", \"db\", \"dbcontext\", \"dc\", \"debug\", \"debug\", \"debug\", \"debug\", \"debug\", \"debug\", \"debug\", \"debug\", \"debug\", \"debug\", \"debug\", \"debug\", \"debug\", \"debug\", \"debug\", \"debug\", \"debug\", \"dec\", \"decimal\", \"decimal\", \"decimal\", \"decimal\", \"decimal\", \"decimal\", \"decimal\", \"declarations\", \"decode\", \"decode\", \"decode\", \"decode\", \"decode\", \"decorator\", \"decorators\", \"decrypt\", \"decrypt\", \"def\", \"def\", \"def\", \"def\", \"def\", \"def\", \"def\", \"def\", \"def\", \"def\", \"def\", \"def\", \"defer\", \"defer\", \"defer\", \"del\", \"delegate\", \"delegate\", \"delegate\", \"delegate\", \"delegate\", \"delegate\", \"delegate\", \"delegate\", \"delegate\", \"density\", \"dep\", \"dependencies\", \"dependencies\", \"dependencies\", \"dependencies\", \"dependencies\", \"dependencies\", \"dependencies\", \"dependencies\", \"dependencies\", \"dependencies\", \"dependencies\", \"dependencies\", \"descend\", \"deserialize\", \"deserialize\", \"deserialize\", \"designer\", \"dest\", \"detach\", \"detach\", \"detach\", \"detect\", \"detect\", \"detect\", \"detect\", \"detect\", \"detect\", \"detect\", \"detect\", \"detect\", \"detect\", \"detect\", \"detect\", \"detect\", \"detect\", \"detect\", \"detect\", \"detection\", \"detection\", \"developer\", \"developer\", \"developer\", \"developer\", \"developer\", \"developer\", \"developer\", \"developer\", \"developer\", \"developer\", \"developer\", \"developer\", \"developer\", \"developer\", \"developer\", \"developer\", \"device\", \"device\", \"device\", \"device\", \"device\", \"device\", \"device\", \"device\", \"device\", \"device\", \"device\", \"device\", \"device\", \"device\", \"device\", \"device\", \"devtools\", \"dex\", \"df\", \"df\", \"df\", \"df\", \"df\", \"dialog\", \"dialog\", \"dialog\", \"dialog\", \"dialog\", \"dialog\", \"dialog\", \"dialog\", \"dialog\", \"dialogfragment\", \"diff\", \"diff\", \"diff\", \"diff\", \"diff\", \"difference\", \"difference\", \"difference\", \"difference\", \"difference\", \"difference\", \"difference\", \"difference\", \"difference\", \"difference\", \"difference\", \"difference\", \"difference\", \"difference\", \"difference\", \"difference\", \"difference\", \"difference\", \"difference\", \"difference\", \"dip\", \"dip\", \"dip\", \"directive\", \"directive\", \"directive\", \"directive\", \"directives\", \"directives\", \"directives\", \"directives\", \"directory\", \"directory\", \"directory\", \"directory\", \"directory\", \"directory\", \"directory\", \"directory\", \"directory\", \"directory\", \"directory\", \"directory\", \"directory\", \"directory\", \"directory\", \"directory\", \"directory\", \"dispatch\", \"dispatch\", \"dispatch\", \"display\", \"display\", \"display\", \"display\", \"display\", \"display\", \"display\", \"display\", \"display\", \"display\", \"display\", \"display\", \"display\", \"display\", \"display\", \"display\", \"display\", \"display\", \"display\", \"display\", \"distance\", \"distance\", \"distance\", \"distance\", \"div\", \"div\", \"div\", \"div\", \"div\", \"div\", \"div\", \"div\", \"div\", \"div\", \"div\", \"div\", \"div\", \"div\", \"div\", \"divider\", \"division\", \"django\", \"django\", \"django\", \"django\", \"django\", \"django\", \"django\", \"django\", \"django\", \"django\", \"dl\", \"dll\", \"dll\", \"dll\", \"dll\", \"dll\", \"dll\", \"dll\", \"docker\", \"doinbackground\", \"dolor\", \"don\\u2019t\", \"double\", \"double\", \"double\", \"double\", \"double\", \"double\", \"double\", \"double\", \"double\", \"double\", \"double\", \"double\", \"double\", \"double\", \"double\", \"dp\", \"dp\", \"dp\", \"draggable\", \"draw\", \"draw\", \"draw\", \"draw\", \"draw\", \"draw\", \"draw\", \"draw\", \"draw\", \"draw\", \"draw\", \"draw\", \"draw\", \"draw\", \"drawer\", \"drawer\", \"dropbox\", \"drwxr\", \"dt\", \"dt\", \"dylib\", \"e\", \"e\", \"e\", \"e\", \"e\", \"e\", \"e\", \"e\", \"e\", \"e\", \"e\", \"e\", \"e\", \"e\", \"e\", \"e\", \"e\", \"e\", \"e\", \"e\", \"eacces\", \"ease\", \"ease\", \"ease\", \"eax\", \"eclipse\", \"eclipse\", \"eclipse\", \"eclipse\", \"eclipse\", \"eclipse\", \"eclipse\", \"ecmascript\", \"ecx\", \"edittext\", \"edittext\", \"edittext\", \"edittext\", \"edx\", \"egg\", \"egg\", \"egg\", \"egg\", \"elastic\", \"element\", \"element\", \"element\", \"element\", \"element\", \"element\", \"element\", \"element\", \"element\", \"element\", \"element\", \"element\", \"element\", \"element\", \"element\", \"element\", \"element\", \"element\", \"element\", \"element\", \"elements\", \"elements\", \"elements\", \"elements\", \"elements\", \"elements\", \"elements\", \"elements\", \"elements\", \"elements\", \"elements\", \"elements\", \"elements\", \"elements\", \"elements\", \"elements\", \"elements\", \"elevation\", \"ellipsis\", \"emacs\", \"ember\", \"employee\", \"employee\", \"encapsulation\", \"encapsulation\", \"encode\", \"encode\", \"encode\", \"encode\", \"encode\", \"encode\", \"encode\", \"encode\", \"encode\", \"encode\", \"encode\", \"encode\", \"encode\", \"encode\", \"encrypt\", \"encrypt\", \"encrypt\", \"encrypt\", \"encrypt\", \"enctype\", \"end\", \"end\", \"end\", \"end\", \"end\", \"end\", \"end\", \"end\", \"end\", \"end\", \"end\", \"end\", \"end\", \"end\", \"end\", \"end\", \"end\", \"end\", \"end\", \"end\", \"endl\", \"endl\", \"endl\", \"endl\", \"endl\", \"endl\", \"endl\", \"enhance\", \"entity\", \"entity\", \"entity\", \"entity\", \"entity\", \"entity\", \"entity\", \"entity\", \"entity\", \"entity\", \"entity\", \"entity\", \"entity\", \"enum\", \"enum\", \"enum\", \"enum\", \"enum\", \"enum\", \"enum\", \"enum\", \"enum\", \"enums\", \"enums\", \"envelope\", \"equinox\", \"erasure\", \"err\", \"err\", \"err\", \"err\", \"err\", \"err\", \"error\", \"error\", \"error\", \"error\", \"error\", \"error\", \"error\", \"error\", \"error\", \"error\", \"error\", \"error\", \"error\", \"error\", \"error\", \"error\", \"error\", \"error\", \"error\", \"error\", \"es\", \"es\", \"es\", \"es\", \"es\", \"euler\", \"euler\", \"event\", \"event\", \"event\", \"event\", \"event\", \"event\", \"event\", \"event\", \"event\", \"event\", \"event\", \"event\", \"event\", \"event\", \"event\", \"event\", \"event\", \"event\", \"event\", \"evil\", \"example\", \"example\", \"example\", \"example\", \"example\", \"example\", \"example\", \"example\", \"example\", \"example\", \"example\", \"example\", \"example\", \"example\", \"example\", \"example\", \"example\", \"example\", \"example\", \"example\", \"exception\", \"exception\", \"exception\", \"exception\", \"exception\", \"exception\", \"exception\", \"exception\", \"exception\", \"exception\", \"exception\", \"exception\", \"exception\", \"exception\", \"exception\", \"exchange\", \"exe\", \"exe\", \"exe\", \"exe\", \"exe\", \"exe\", \"exec\", \"exec\", \"exec\", \"exec\", \"exec\", \"exec\", \"exec\", \"exec\", \"exec\", \"exec\", \"execute\", \"execute\", \"execute\", \"execute\", \"execute\", \"execute\", \"execute\", \"execute\", \"execute\", \"execute\", \"execute\", \"execute\", \"execute\", \"execute\", \"execute\", \"execute\", \"execute\", \"execute\", \"execute\", \"execute\", \"exif\", \"explorer\", \"explorer\", \"explorer\", \"explorer\", \"explorer\", \"explorer\", \"explorer\", \"export\", \"export\", \"export\", \"export\", \"export\", \"export\", \"export\", \"export\", \"export\", \"export\", \"export\", \"express\", \"express\", \"express\", \"express\", \"express\", \"express\", \"express\", \"express\", \"express\", \"express\", \"express\", \"express\", \"expression\", \"expression\", \"expression\", \"expression\", \"expression\", \"expression\", \"expression\", \"expression\", \"expression\", \"expression\", \"expression\", \"expression\", \"expression\", \"expression\", \"f\", \"f\", \"f\", \"f\", \"f\", \"f\", \"f\", \"f\", \"f\", \"f\", \"f\", \"f\", \"f\", \"f\", \"f\", \"f\", \"f\", \"fa\", \"fa\", \"fa\", \"fa\", \"facebook\", \"facebook\", \"facebook\", \"facebook\", \"facebook\", \"facebook\", \"facebook\", \"facebook\", \"facebook\", \"facts\", \"fair\", \"false\", \"false\", \"false\", \"false\", \"false\", \"false\", \"false\", \"false\", \"false\", \"false\", \"false\", \"false\", \"false\", \"false\", \"false\", \"false\", \"false\", \"false\", \"false\", \"false\", \"fatal\", \"fatal\", \"fatal\", \"fatal\", \"fatal\", \"fatal\", \"fatal\", \"feature\", \"feature\", \"feature\", \"feature\", \"feature\", \"feature\", \"feature\", \"feature\", \"feature\", \"feature\", \"feature\", \"feature\", \"feature\", \"feature\", \"feature\", \"feature\", \"feature\", \"feature\", \"feature\", \"feature\", \"fetchtype\", \"fg\", \"fig\", \"figure\", \"figure\", \"figure\", \"figure\", \"figure\", \"figure\", \"figure\", \"figure\", \"figure\", \"figure\", \"figure\", \"figure\", \"figure\", \"figure\", \"figure\", \"figure\", \"figure\", \"figure\", \"figure\", \"figure\", \"file\", \"file\", \"file\", \"file\", \"file\", \"file\", \"file\", \"file\", \"file\", \"file\", \"file\", \"file\", \"file\", \"file\", \"file\", \"file\", \"file\", \"file\", \"file\", \"file\", \"find\", \"find\", \"find\", \"find\", \"find\", \"find\", \"find\", \"find\", \"find\", \"find\", \"find\", \"find\", \"find\", \"find\", \"find\", \"find\", \"find\", \"find\", \"find\", \"find\", \"findviewbyid\", \"findviewbyid\", \"findviewbyid\", \"firebase\", \"firebase\", \"firebug\", \"firebug\", \"firebug\", \"firebug\", \"firebug\", \"firstname\", \"flash\", \"flash\", \"flash\", \"flash\", \"flask\", \"flask\", \"flatmap\", \"flavor\", \"flavor\", \"flex\", \"flex\", \"flex\", \"flex\", \"flex\", \"flickr\", \"floor\", \"flux\", \"folder\", \"folder\", \"folder\", \"folder\", \"folder\", \"folder\", \"folder\", \"folder\", \"folder\", \"folder\", \"folders\", \"folders\", \"folders\", \"folders\", \"folders\", \"folders\", \"folders\", \"font\", \"font\", \"font\", \"font\", \"font\", \"font\", \"font\", \"font\", \"font\", \"foo\", \"foo\", \"foo\", \"foo\", \"foo\", \"foo\", \"foo\", \"foo\", \"foo\", \"foo\", \"foo\", \"foo\", \"foo\", \"foo\", \"foo\", \"foo\", \"foo\", \"foo\", \"foo\", \"footer\", \"footer\", \"footer\", \"forbid\", \"foreach\", \"foreach\", \"foreach\", \"foreach\", \"foreach\", \"foreach\", \"foreach\", \"foreach\", \"foreach\", \"foreach\", \"foreach\", \"foreach\", \"foreach\", \"foreign\", \"foreign\", \"foreign\", \"foreign\", \"form\", \"form\", \"form\", \"form\", \"form\", \"form\", \"form\", \"form\", \"form\", \"form\", \"form\", \"form\", \"form\", \"form\", \"form\", \"form\", \"form\", \"form\", \"form\", \"format\", \"format\", \"format\", \"format\", \"format\", \"format\", \"format\", \"format\", \"format\", \"format\", \"format\", \"format\", \"format\", \"format\", \"format\", \"format\", \"format\", \"format\", \"formatter\", \"formatter\", \"formula\", \"formula\", \"forums\", \"fragment\", \"fragment\", \"fragment\", \"fragment\", \"fragment\", \"fragment\", \"fragment\", \"fragment\", \"fragment\", \"fragment\", \"fragment\", \"framelayout\", \"free\", \"free\", \"free\", \"free\", \"free\", \"free\", \"free\", \"free\", \"free\", \"free\", \"free\", \"free\", \"free\", \"free\", \"free\", \"free\", \"freeze\", \"fruit\", \"fstream\", \"fullscreen\", \"function\", \"function\", \"function\", \"function\", \"function\", \"function\", \"function\", \"function\", \"function\", \"function\", \"function\", \"function\", \"function\", \"function\", \"function\", \"function\", \"function\", \"function\", \"function\", \"function\", \"g\", \"g\", \"g\", \"g\", \"g\", \"g\", \"g\", \"g\", \"g\", \"g\", \"g\", \"g\", \"g\", \"g\", \"g\", \"g\", \"g\", \"g\", \"g\", \"g\", \"g++\", \"g++\", \"g++\", \"g++\", \"gallery\", \"gallery\", \"gcc\", \"gcc\", \"gcc\", \"gcc\", \"gcc\", \"gcc\", \"gcc\", \"gcc\", \"gcc\", \"gcc\", \"gcc\", \"gcc\", \"gcc\", \"gem\", \"gem\", \"gem\", \"gem\", \"gems\", \"gems\", \"gems\", \"gems\", \"generation\", \"generation\", \"generation\", \"generation\", \"generation\", \"generation\", \"generation\", \"generation\", \"generation\", \"generation\", \"geom\", \"gesture\", \"get\", \"get\", \"get\", \"get\", \"get\", \"get\", \"get\", \"get\", \"get\", \"get\", \"get\", \"get\", \"get\", \"get\", \"get\", \"get\", \"get\", \"get\", \"get\", \"get\", \"getapplicationcontext\", \"getapplicationcontext\", \"getattribute\", \"getmessage\", \"getresourceasstream\", \"getresources\", \"getstring\", \"getstring\", \"getters\", \"gettime\", \"getvalue\", \"getview\", \"getview\", \"ggplot\", \"ggplot\", \"ggplot\", \"git\", \"git\", \"git\", \"git\", \"git\", \"git\", \"git\", \"git\", \"git\", \"git\", \"git\", \"git\", \"git\", \"git\", \"git\", \"git@github\", \"github\", \"github\", \"github\", \"github\", \"github\", \"github\", \"github\", \"github\", \"github\", \"github\", \"github\", \"github\", \"github\", \"glibc\", \"glibc\", \"gmt\", \"gmt\", \"gmt\", \"gmt+\", \"good\", \"good\", \"good\", \"good\", \"good\", \"good\", \"good\", \"good\", \"good\", \"good\", \"good\", \"good\", \"good\", \"good\", \"good\", \"good\", \"good\", \"good\", \"good\", \"good\", \"google\", \"google\", \"google\", \"google\", \"google\", \"google\", \"google\", \"google\", \"google\", \"google\", \"google\", \"google\", \"google\", \"google\", \"google\", \"google\", \"google\", \"google\", \"google\", \"google\", \"gps\", \"gradle\", \"gravity\", \"gray\", \"greater\", \"grep\", \"grep\", \"grep\", \"grep\", \"grep\", \"grep\", \"grey\", \"group\", \"group\", \"group\", \"group\", \"group\", \"group\", \"group\", \"group\", \"group\", \"group\", \"group\", \"group\", \"group\", \"group\", \"group\", \"group\", \"group\", \"group\", \"group\", \"group\", \"groupby\", \"groupby\", \"groupby\", \"groupid\", \"groupid\", \"grunt\", \"gson\", \"gson\", \"guidance\", \"guidance\", \"gulp\", \"h\", \"h\", \"h\", \"h\", \"h\", \"h\", \"h\", \"h\", \"h\", \"h\", \"h\", \"h\", \"h\", \"h\", \"h\", \"h\", \"h\", \"h\", \"h\", \"h\", \"handlebars\", \"handler\", \"handler\", \"handler\", \"handler\", \"handler\", \"handler\", \"handler\", \"handler\", \"handler\", \"handler\", \"handler\", \"handler\", \"handler\", \"handler\", \"handler\", \"hashcode\", \"hashcode\", \"haskell\", \"hdpi\", \"head^\", \"headers\", \"headers\", \"headers\", \"headers\", \"headers\", \"headers\", \"headers\", \"headers\", \"headers\", \"height\", \"height\", \"height\", \"height\", \"height\", \"height\", \"height\", \"height\", \"height\", \"height\", \"height\", \"hello\", \"hello\", \"hello\", \"hello\", \"hello\", \"hello\", \"hello\", \"hello\", \"hello\", \"hello\", \"hello\", \"hello\", \"hello\", \"hello\", \"hello\", \"hello\", \"hello\", \"hello\", \"helper\", \"helper\", \"helper\", \"helper\", \"helper\", \"helper\", \"helper\", \"heroku\", \"hey\", \"hh\", \"hibernate\", \"hibernate\", \"hibernate\", \"hibernate\", \"hibernate\", \"hibernate\", \"hint\", \"hint\", \"hint\", \"hint\", \"hint\", \"history\", \"history\", \"history\", \"history\", \"history\", \"history\", \"history\", \"history\", \"history\", \"holder\", \"holo\", \"homepage\", \"host\", \"host\", \"host\", \"host\", \"host\", \"host\", \"host\", \"host\", \"host\", \"host\", \"host\", \"host\", \"host\", \"howto\", \"hr\", \"href\", \"href\", \"href\", \"href\", \"href\", \"href\", \"href\", \"href\", \"html\", \"html\", \"html\", \"html\", \"html\", \"html\", \"html\", \"html\", \"html\", \"html\", \"html\", \"html\", \"html\", \"html\", \"html\", \"html\", \"html\", \"html\", \"html\", \"html\", \"http\", \"http\", \"http\", \"http\", \"http\", \"http\", \"http\", \"http\", \"http\", \"http\", \"http\", \"http\", \"http\", \"http\", \"http\", \"http\", \"http\", \"http\", \"http\", \"http\", \"httpclient\", \"httpclient\", \"httpclient\", \"httpclient\", \"httpclient\", \"httpclient\", \"httpclient\", \"https\", \"https\", \"https\", \"https\", \"https\", \"https\", \"https\", \"https\", \"https\", \"https\", \"https\", \"https\", \"https\", \"https\", \"https\", \"https\", \"https\", \"https\", \"hyperlink\", \"ib\", \"id\", \"id\", \"id\", \"id\", \"id\", \"id\", \"id\", \"id\", \"id\", \"id\", \"id\", \"id\", \"id\", \"id\", \"id\", \"id\", \"id\", \"id\", \"id\", \"id\", \"idx\", \"ii\", \"iis\", \"iis\", \"iis\", \"iis\", \"illegalstateexception\", \"image\", \"image\", \"image\", \"image\", \"image\", \"image\", \"image\", \"image\", \"image\", \"image\", \"image\", \"image\", \"image\", \"image\", \"image\", \"image\", \"image\", \"image\", \"image\", \"image\", \"imagebutton\", \"imageview\", \"imageview\", \"img\", \"img\", \"img\", \"img\", \"img\", \"img\", \"img\", \"immediate\", \"import\", \"import\", \"import\", \"import\", \"import\", \"import\", \"import\", \"import\", \"import\", \"import\", \"import\", \"import\", \"import\", \"import\", \"import\", \"import\", \"import\", \"import\", \"import\", \"import\", \"incompatible\", \"inconsistent\", \"increment\", \"increment\", \"increment\", \"increment\", \"index\", \"index\", \"index\", \"index\", \"index\", \"index\", \"index\", \"index\", \"index\", \"index\", \"index\", \"index\", \"index\", \"index\", \"index\", \"index\", \"index\", \"index\", \"indicator\", \"indices\", \"inf\", \"inflate\", \"inflate\", \"information\", \"information\", \"information\", \"information\", \"information\", \"information\", \"information\", \"information\", \"information\", \"information\", \"information\", \"information\", \"information\", \"information\", \"information\", \"information\", \"information\", \"information\", \"information\", \"information\", \"initializer\", \"inject\", \"inject\", \"inject\", \"inject\", \"inject\", \"inject\", \"innodb\", \"innodb\", \"innodb\", \"input\", \"input\", \"input\", \"input\", \"input\", \"input\", \"input\", \"input\", \"input\", \"input\", \"input\", \"input\", \"input\", \"input\", \"input\", \"input\", \"input\", \"input\", \"input\", \"input\", \"inputstream\", \"inputstreamreader\", \"insert\", \"insert\", \"insert\", \"insert\", \"insert\", \"insert\", \"insert\", \"insert\", \"insert\", \"insert\", \"insert\", \"insert\", \"insert\", \"insert\", \"insert\", \"insert\", \"inspector\", \"instal\", \"instal\", \"instal\", \"instal\", \"instal\", \"instal\", \"instal\", \"instal\", \"instal\", \"instal\", \"instal\", \"instal\", \"instal\", \"instal\", \"instal\", \"install\", \"install\", \"install\", \"install\", \"install\", \"install\", \"install\", \"install\", \"install\", \"install\", \"install\", \"install\", \"install\", \"install\", \"install\", \"install\", \"int\", \"int\", \"int\", \"int\", \"int\", \"int\", \"int\", \"int\", \"int\", \"int\", \"int\", \"int\", \"int\", \"int\", \"int\", \"int\", \"int\", \"int\", \"int\", \"int\", \"intact\", \"integer\", \"integer\", \"integer\", \"integer\", \"integer\", \"integer\", \"integer\", \"integer\", \"integer\", \"integer\", \"integer\", \"integer\", \"integer\", \"integer\", \"integer\", \"integer\", \"integrity\", \"intellij\", \"intellij\", \"intellisense\", \"intent\", \"intent\", \"intent\", \"intent\", \"intent\", \"intent\", \"intent\", \"interact\", \"interact\", \"interactions\", \"interface\", \"interface\", \"interface\", \"interface\", \"interface\", \"interface\", \"interface\", \"interface\", \"interface\", \"interface\", \"interface\", \"interface\", \"interface\", \"interface\", \"interface\", \"interface\", \"internal\", \"internal\", \"internal\", \"internal\", \"internal\", \"internal\", \"internal\", \"internal\", \"internal\", \"internal\", \"internal\", \"internal\", \"internal\", \"internal\", \"internal\", \"internal\", \"intersection\", \"ints\", \"ints\", \"ints\", \"io\", \"io\", \"io\", \"io\", \"io\", \"io\", \"io\", \"io\", \"io\", \"io\", \"io\", \"io\", \"io\", \"io\", \"io\", \"io\", \"ios\", \"ios\", \"ios\", \"ios\", \"ios\", \"ios\", \"ios\", \"ios\", \"ios\", \"ios\", \"ios\", \"ios\", \"ios\", \"ios\", \"ipad\", \"ipad\", \"ipad\", \"ipad\", \"iphone\", \"iphone\", \"iphone\", \"iphone\", \"iphone\", \"iphone\", \"iphone\", \"iphone\", \"iphone\", \"iphone\", \"iphone\", \"iphone\", \"iphone\", \"iphoneos\", \"ipython\", \"isolation\", \"italic\", \"item\", \"item\", \"item\", \"item\", \"item\", \"item\", \"item\", \"item\", \"item\", \"item\", \"item\", \"item\", \"item\", \"item\", \"item\", \"item\", \"item\", \"item\", \"items\", \"items\", \"items\", \"items\", \"items\", \"items\", \"items\", \"items\", \"items\", \"items\", \"items\", \"items\", \"items\", \"items\", \"items\", \"items\", \"items\", \"items\", \"items\", \"iter\", \"iter\", \"iter\", \"iteration\", \"iteration\", \"iterators\", \"it\\u2019s\", \"jack\", \"jackson\", \"jackson\", \"jam\", \"jar\", \"jar\", \"jar\", \"jar\", \"java\", \"java\", \"java\", \"java\", \"java\", \"java\", \"java\", \"java\", \"java\", \"java\", \"java\", \"java\", \"java\", \"java\", \"java\", \"java\", \"java\", \"java\", \"java\", \"java\", \"javascript\", \"javascript\", \"javascript\", \"javascript\", \"javascript\", \"javascript\", \"javascript\", \"javascript\", \"javascript\", \"javascript\", \"javascript\", \"javascript\", \"javascript\", \"javascript\", \"javascript\", \"javascript\", \"javascript\", \"javascript\", \"javascript\", \"javascript\", \"javavirtualmachines\", \"jdbc\", \"jdbc\", \"jdk\", \"jdk\", \"jdk\", \"jdk\", \"jdk\", \"jdk\", \"jdk\", \"jdk\", \"jenkins\", \"john\", \"john\", \"john\", \"john\", \"john\", \"join\", \"join\", \"join\", \"join\", \"join\", \"join\", \"join\", \"join\", \"join\", \"join\", \"join\", \"join\", \"join\", \"jpa\", \"jpa\", \"jpa\", \"jpa\", \"jquery\", \"jquery\", \"jquery\", \"jquery\", \"jquery\", \"jquery\", \"jquery\", \"jquery\", \"jquery\", \"jquery\", \"jquery\", \"jquery\", \"jquery\", \"jquery\", \"jquery\", \"jquery\", \"jquery\", \"jquery\", \"jre\", \"js\", \"js\", \"js\", \"js\", \"js\", \"js\", \"js\", \"js\", \"js\", \"js\", \"js\", \"js\", \"js\", \"js\", \"js\", \"js\", \"js\", \"js\", \"js\", \"jsf\", \"jsfiddle\", \"jsfiddle\", \"jsfiddle\", \"jsfiddle\", \"json\", \"json\", \"json\", \"json\", \"json\", \"json\", \"json\", \"json\", \"json\", \"json\", \"json\", \"json\", \"json\", \"jsoup\", \"jsx\", \"jul\", \"jul\", \"jul\", \"jun\", \"k\", \"k\", \"k\", \"k\", \"kafka\", \"kb\", \"kb\", \"kb\", \"kb\", \"key\", \"key\", \"key\", \"key\", \"key\", \"key\", \"key\", \"key\", \"key\", \"key\", \"key\", \"key\", \"key\", \"key\", \"key\", \"key\", \"key\", \"key\", \"key\", \"key\", \"keyboard\", \"keyboard\", \"keyboard\", \"keyboard\", \"keyboard\", \"keyboard\", \"keyboard\", \"keychain\", \"keychain\", \"keychain\", \"keystore\", \"keystore\", \"keystore\", \"knockoutjs\", \"know\", \"know\", \"know\", \"know\", \"know\", \"know\", \"know\", \"know\", \"know\", \"know\", \"know\", \"know\", \"know\", \"know\", \"know\", \"know\", \"know\", \"know\", \"know\", \"know\", \"knowledge\", \"knowledge\", \"knowledge\", \"knowledge\", \"knowledge\", \"knowledge\", \"knowledge\", \"knowledge\", \"knowledge\", \"knowledge\", \"knowledge\", \"l\", \"l\", \"l\", \"l\", \"l\", \"l\", \"l\", \"l\", \"l\", \"l\", \"l\", \"l\", \"l\", \"l\", \"l\", \"l\", \"label\", \"label\", \"label\", \"label\", \"label\", \"label\", \"label\", \"label\", \"label\", \"label\", \"label\", \"label\", \"label\", \"label\", \"label\", \"lambda\", \"lambda\", \"lambda\", \"lambda\", \"lambda\", \"lambda\", \"lambdas\", \"landscape\", \"landscape\", \"landscape\", \"lang\", \"lang\", \"lang\", \"lang\", \"lang\", \"lang\", \"lang\", \"lang\", \"lang\", \"lang\", \"lang\", \"lang\", \"lapply\", \"laravel\", \"lastname\", \"lastname\", \"lastname\", \"lately\", \"lately\", \"lately\", \"latitude\", \"latitude\", \"latitude\", \"layout\", \"layout\", \"layout\", \"layout\", \"layout\", \"layout\", \"layout\", \"layout\", \"layout\", \"layout\", \"layout\", \"layout\", \"layout\", \"layout\", \"layoutinflater\", \"layoutinflater\", \"layoutinflater\", \"lazy\", \"lazy\", \"lazy\", \"lazy\", \"lazy\", \"ld\", \"ld\", \"ld\", \"ldpi\", \"lea\", \"leak\", \"leak\", \"leak\", \"leak\", \"leak\", \"learn\", \"learn\", \"learn\", \"learn\", \"learn\", \"learn\", \"learn\", \"learn\", \"learn\", \"learn\", \"learn\", \"learn\", \"learn\", \"learn\", \"learn\", \"learn\", \"learn\", \"learn\", \"learn\", \"leave\", \"leave\", \"leave\", \"leave\", \"leave\", \"leave\", \"leave\", \"leave\", \"leave\", \"leave\", \"leave\", \"leave\", \"leave\", \"leave\", \"leave\", \"leave\", \"leave\", \"leave\", \"leave\", \"leave\", \"legend\", \"legend\", \"legend\", \"length\", \"length\", \"length\", \"length\", \"length\", \"length\", \"length\", \"length\", \"length\", \"length\", \"length\", \"length\", \"length\", \"length\", \"length\", \"length\", \"length\", \"letter\", \"letter\", \"letter\", \"letter\", \"letter\", \"letter\", \"letter\", \"letter\", \"li\", \"li\", \"li\", \"li\", \"li\", \"li\", \"lib\", \"lib\", \"lib\", \"lib\", \"lib\", \"lib\", \"lib\", \"lib\", \"lib\", \"lib\", \"lib\", \"lib\", \"libc\", \"library\", \"library\", \"library\", \"library\", \"library\", \"library\", \"library\", \"library\", \"library\", \"library\", \"library\", \"library\", \"library\", \"library\", \"library\", \"library\", \"library\", \"library\", \"library\", \"library\", \"libstdc++\", \"lie\", \"like\", \"like\", \"like\", \"like\", \"like\", \"like\", \"like\", \"like\", \"like\", \"like\", \"like\", \"like\", \"like\", \"like\", \"like\", \"like\", \"like\", \"like\", \"like\", \"like\", \"line\", \"line\", \"line\", \"line\", \"line\", \"line\", \"line\", \"line\", \"line\", \"line\", \"line\", \"line\", \"line\", \"line\", \"line\", \"line\", \"line\", \"line\", \"line\", \"line\", \"linear\", \"linearlayout\", \"linearlayout\", \"linearlayout\", \"linearlayout\", \"linearlayout\", \"linux\", \"linux\", \"linux\", \"linux\", \"linux\", \"linux\", \"linux\", \"linux\", \"linux\", \"linux\", \"linux\", \"linux\", \"linux\", \"linux\", \"linux\", \"linux\", \"linux\", \"linux\", \"linux\", \"list\", \"list\", \"list\", \"list\", \"list\", \"list\", \"list\", \"list\", \"list\", \"list\", \"list\", \"list\", \"list\", \"list\", \"list\", \"list\", \"list\", \"list\", \"list\", \"list\", \"lng\", \"load\", \"load\", \"load\", \"load\", \"load\", \"load\", \"load\", \"load\", \"load\", \"load\", \"load\", \"load\", \"load\", \"load\", \"load\", \"load\", \"load\", \"load\", \"load\", \"load\", \"loaders\", \"local\", \"local\", \"local\", \"local\", \"local\", \"local\", \"local\", \"local\", \"local\", \"local\", \"local\", \"local\", \"local\", \"local\", \"local\", \"local\", \"local\", \"local\", \"local\", \"locale\", \"localstorage\", \"location\", \"location\", \"location\", \"location\", \"location\", \"location\", \"location\", \"location\", \"location\", \"location\", \"location\", \"location\", \"location\", \"location\", \"location\", \"location\", \"location\", \"log\", \"log\", \"log\", \"log\", \"log\", \"log\", \"log\", \"log\", \"log\", \"log\", \"log\", \"log\", \"log\", \"log\", \"log\", \"log\", \"log\", \"log\", \"log\", \"log\", \"logcat\", \"logcat\", \"login\", \"login\", \"login\", \"login\", \"login\", \"login\", \"login\", \"login\", \"login\", \"login\", \"login\", \"login\", \"logj\", \"logj\", \"logj\", \"logo\", \"logo\", \"lon\", \"lon\", \"longitude\", \"longitude\", \"longitude\", \"look\", \"look\", \"look\", \"look\", \"look\", \"look\", \"look\", \"look\", \"look\", \"look\", \"look\", \"look\", \"look\", \"look\", \"look\", \"look\", \"look\", \"look\", \"look\", \"look\", \"loop\", \"loop\", \"loop\", \"loop\", \"loop\", \"loop\", \"loop\", \"loop\", \"loop\", \"loop\", \"loop\", \"loop\", \"loop\", \"loop\", \"loop\", \"loop\", \"loop\", \"loop\", \"loop\", \"looper\", \"lorem\", \"lorem\", \"lot\", \"lot\", \"lot\", \"lot\", \"lot\", \"lot\", \"lot\", \"lot\", \"lot\", \"lot\", \"lot\", \"lot\", \"lot\", \"lot\", \"lot\", \"lot\", \"lot\", \"lot\", \"lot\", \"lot\", \"lxml\", \"lxml\", \"macos\", \"macos\", \"macos\", \"macos\", \"macros\", \"macros\", \"macros\", \"mail\", \"mail\", \"mail\", \"mail\", \"mail\", \"mail\", \"main\", \"main\", \"main\", \"main\", \"main\", \"main\", \"main\", \"main\", \"main\", \"main\", \"main\", \"main\", \"main\", \"main\", \"main\", \"main\", \"main\", \"main\", \"main\", \"main\", \"make\", \"make\", \"make\", \"make\", \"make\", \"make\", \"make\", \"make\", \"make\", \"make\", \"make\", \"make\", \"make\", \"make\", \"make\", \"make\", \"make\", \"make\", \"make\", \"make\", \"maketext\", \"malloc\", \"malloc\", \"malloc\", \"malloc\", \"mappedby\", \"march\", \"margin\", \"margin\", \"margin\", \"margin\", \"margin\", \"margin\", \"margin\", \"margin\", \"margin\", \"marginright\", \"marginright\", \"margintop\", \"markdown\", \"marker\", \"master\", \"master\", \"master\", \"master\", \"master\", \"master\", \"master\", \"master\", \"master\", \"mat\", \"match\", \"match\", \"match\", \"match\", \"match\", \"match\", \"match\", \"match\", \"match\", \"match\", \"match\", \"match\", \"match\", \"match\", \"match\", \"match\", \"match\", \"match\", \"matplotlib\", \"maven\", \"maven\", \"maven\", \"maven\", \"maven\", \"maven\", \"maxheight\", \"mcontext\", \"mdpi\", \"mean\", \"mean\", \"mean\", \"mean\", \"mean\", \"mean\", \"mean\", \"mean\", \"mean\", \"mean\", \"mean\", \"mean\", \"mean\", \"mean\", \"mean\", \"mean\", \"mean\", \"mean\", \"mean\", \"mean\", \"meaningful\", \"member\", \"member\", \"member\", \"member\", \"member\", \"member\", \"member\", \"member\", \"member\", \"member\", \"memcache\", \"memory\", \"memory\", \"memory\", \"memory\", \"memory\", \"memory\", \"memory\", \"memory\", \"memory\", \"memory\", \"memory\", \"memory\", \"memory\", \"memory\", \"memory\", \"memory\", \"memory\", \"memory\", \"memory\", \"merge\", \"merge\", \"merge\", \"merge\", \"merge\", \"merge\", \"merge\", \"merge\", \"merge\", \"merge\", \"merge\", \"merge\", \"merge\", \"merge\", \"method\", \"method\", \"method\", \"method\", \"method\", \"method\", \"method\", \"method\", \"method\", \"method\", \"method\", \"method\", \"method\", \"method\", \"method\", \"method\", \"method\", \"method\", \"method\", \"method\", \"methods\", \"methods\", \"methods\", \"methods\", \"methods\", \"methods\", \"methods\", \"methods\", \"methods\", \"methods\", \"methods\", \"methods\", \"methods\", \"methods\", \"methods\", \"methods\", \"methods\", \"methods\", \"methods\", \"methods\", \"mfc\", \"migration\", \"migration\", \"migration\", \"mime\", \"mime\", \"mimic\", \"mirror\", \"mirror\", \"mm\", \"mm\", \"mm\", \"mobile\", \"mobile\", \"mobile\", \"mobile\", \"mobile\", \"mobile\", \"mobile\", \"mobile\", \"mobile\", \"mobile\", \"mobile\", \"mock\", \"mock\", \"mock\", \"mock\", \"mock\", \"mockito\", \"mockito\", \"modal\", \"modal\", \"modal\", \"modal\", \"modal\", \"model\", \"model\", \"model\", \"model\", \"model\", \"model\", \"model\", \"model\", \"model\", \"model\", \"model\", \"model\", \"model\", \"model\", \"model\", \"model\", \"model\", \"model\", \"model\", \"model\", \"modifier\", \"module\", \"module\", \"module\", \"module\", \"module\", \"module\", \"module\", \"module\", \"module\", \"module\", \"module\", \"module\", \"module\", \"module\", \"module\", \"module\", \"module\", \"module\", \"module\", \"module\", \"modules\", \"modules\", \"modules\", \"modules\", \"modules\", \"modules\", \"modules\", \"modules\", \"modules\", \"modules\", \"modules\", \"modules\", \"modules\", \"mongoose\", \"month\", \"month\", \"movie\", \"movie\", \"moz\", \"msbuild\", \"msg\", \"msg\", \"msg\", \"msg\", \"msg\", \"msg\", \"msysgit\", \"mul\", \"mul\", \"multiline\", \"multipart\", \"multiplication\", \"multiprocessing\", \"multiprocessing\", \"multithreading\", \"muse\", \"muse\", \"muse\", \"muse\", \"muse\", \"muse\", \"muse\", \"music\", \"mutex\", \"mvc\", \"mvc\", \"mvc\", \"mvc\", \"mvc\", \"mvc\", \"mvc\", \"mvc\", \"mvc\", \"mvc\", \"mvc\", \"mvc\", \"mvc\", \"mvc\", \"myclass\", \"myclass\", \"myclass\", \"myclass\", \"myclass\", \"myclass\", \"mydata\", \"mydate\", \"myfile\", \"myfile\", \"myfile\", \"myfunction\", \"mylib\", \"mylist\", \"myobject\", \"myproject\", \"myscript\", \"mysql\", \"mysql\", \"mysql\", \"mysql\", \"mysql\", \"mysql\", \"mysql\", \"mysql\", \"mysql\", \"mysql\", \"mysql\", \"mysql\", \"mysql\", \"mysql\", \"mysql\", \"mysql\", \"mysqldb\", \"mysqldump\", \"mystring\", \"mytest\", \"n\", \"n\", \"n\", \"n\", \"n\", \"n\", \"n\", \"n\", \"n\", \"n\", \"n\", \"n\", \"n\", \"n\", \"n\", \"n\", \"n\", \"n\", \"n\", \"na\", \"name\", \"name\", \"name\", \"name\", \"name\", \"name\", \"name\", \"name\", \"name\", \"name\", \"name\", \"name\", \"name\", \"name\", \"name\", \"name\", \"name\", \"name\", \"name\", \"name\", \"nan\", \"navbar\", \"nb\", \"neat\", \"need\", \"need\", \"need\", \"need\", \"need\", \"need\", \"need\", \"need\", \"need\", \"need\", \"need\", \"need\", \"need\", \"need\", \"need\", \"need\", \"need\", \"need\", \"need\", \"need\", \"needle\", \"needle\", \"net\", \"net\", \"net\", \"net\", \"net\", \"net\", \"net\", \"net\", \"net\", \"net\", \"net\", \"net\", \"net\", \"net\", \"net\", \"net\", \"net\", \"net\", \"net\", \"net\", \"new\", \"new\", \"new\", \"new\", \"new\", \"new\", \"new\", \"new\", \"new\", \"new\", \"new\", \"new\", \"new\", \"new\", \"new\", \"new\", \"new\", \"new\", \"new\", \"new\", \"nexttick\", \"nexttick\", \"ng\", \"ng\", \"ng\", \"node\", \"node\", \"node\", \"node\", \"node\", \"node\", \"node\", \"node\", \"node\", \"node\", \"node\", \"node\", \"node\", \"node\", \"node\", \"node\", \"node\", \"node\", \"nonatomic\", \"notification\", \"notification\", \"notification\", \"notification\", \"notification\", \"notification\", \"notification\", \"notification\", \"npm\", \"npm\", \"npm\", \"npm\", \"ns\", \"nsinteger\", \"nsmutableurlrequest\", \"nsstring\", \"nsstring\", \"nsstring\", \"nsstring\", \"nsstring\", \"nsstring\", \"nsurl\", \"nsurl\", \"nsutfstringencoding\", \"nth\", \"null\", \"null\", \"null\", \"null\", \"null\", \"null\", \"null\", \"null\", \"null\", \"null\", \"null\", \"null\", \"null\", \"null\", \"null\", \"null\", \"null\", \"null\", \"null\", \"null\", \"nullable\", \"nullpointerexception\", \"nullptr\", \"number\", \"number\", \"number\", \"number\", \"number\", \"number\", \"number\", \"number\", \"number\", \"number\", \"number\", \"number\", \"number\", \"number\", \"number\", \"number\", \"number\", \"number\", \"number\", \"number\", \"numpy\", \"numpy\", \"numpy\", \"numpy\", \"numpy\", \"numpy\", \"numpy\", \"numpy\", \"nvm\", \"nvm\", \"oauth\", \"oauth\", \"oauth\", \"obj\", \"obj\", \"obj\", \"obj\", \"obj\", \"obj\", \"obj\", \"obj\", \"obj\", \"obj\", \"obj\", \"obj\", \"objc\", \"object\", \"object\", \"object\", \"object\", \"object\", \"object\", \"object\", \"object\", \"object\", \"object\", \"object\", \"object\", \"object\", \"object\", \"object\", \"object\", \"object\", \"object\", \"object\", \"object\", \"objective\", \"objective\", \"objective\", \"objective\", \"objective\", \"objective\", \"objective\", \"objective\", \"observable\", \"om\", \"onchange\", \"onclick\", \"onclick\", \"onclick\", \"onclick\", \"onclick\", \"onclicklistener\", \"onclicklistener\", \"oncreate\", \"oncreate\", \"oncreate\", \"oncreate\", \"oncreate\", \"oncreateoptionsmenu\", \"one\", \"one\", \"one\", \"one\", \"one\", \"one\", \"one\", \"one\", \"one\", \"one\", \"one\", \"one\", \"one\", \"one\", \"one\", \"one\", \"one\", \"one\", \"one\", \"one\", \"onerror\", \"onoptionsitemselected\", \"open\", \"open\", \"open\", \"open\", \"open\", \"open\", \"open\", \"open\", \"open\", \"open\", \"open\", \"open\", \"open\", \"open\", \"open\", \"open\", \"open\", \"open\", \"open\", \"open\", \"operable\", \"optimal\", \"option\", \"option\", \"option\", \"option\", \"option\", \"option\", \"option\", \"option\", \"option\", \"option\", \"option\", \"option\", \"option\", \"option\", \"option\", \"option\", \"option\", \"option\", \"option\", \"options\", \"options\", \"options\", \"options\", \"options\", \"options\", \"options\", \"options\", \"options\", \"options\", \"options\", \"options\", \"options\", \"options\", \"options\", \"options\", \"options\", \"options\", \"options\", \"options\", \"oracle\", \"oracle\", \"oracle\", \"oracle\", \"oracle\", \"oracle\", \"org\", \"org\", \"org\", \"org\", \"org\", \"org\", \"org\", \"org\", \"org\", \"org\", \"org\", \"org\", \"org\", \"org\", \"org\", \"org\", \"org\", \"org\", \"origin\", \"origin\", \"origin\", \"origin\", \"origin\", \"origin\", \"orm\", \"orm\", \"orm\", \"osgi\", \"overload\", \"overload\", \"overload\", \"p\", \"p\", \"p\", \"p\", \"p\", \"p\", \"p\", \"p\", \"p\", \"p\", \"p\", \"p\", \"p\", \"p\", \"p\", \"p\", \"p\", \"p\", \"p\", \"p\", \"pac\", \"package\", \"package\", \"package\", \"package\", \"package\", \"package\", \"package\", \"package\", \"package\", \"package\", \"package\", \"package\", \"package\", \"package\", \"package\", \"package\", \"package\", \"package\", \"package\", \"pad\", \"pad\", \"pad\", \"pad\", \"pad\", \"pad\", \"pad\", \"page\", \"page\", \"page\", \"page\", \"page\", \"page\", \"page\", \"page\", \"page\", \"page\", \"page\", \"page\", \"page\", \"page\", \"page\", \"page\", \"page\", \"page\", \"page\", \"page\", \"pager\", \"paint\", \"paint\", \"pair\", \"pair\", \"pair\", \"pair\", \"pair\", \"pair\", \"pair\", \"pair\", \"pair\", \"pair\", \"pair\", \"pair\", \"pandas\", \"pandas\", \"pandas\", \"pandas\", \"pandas\", \"pandas\", \"pandas\", \"pandas\", \"pandas\", \"pandas\", \"param\", \"param\", \"param\", \"param\", \"param\", \"param\", \"param\", \"param\", \"param\", \"parent\", \"parent\", \"parent\", \"parent\", \"parent\", \"parent\", \"parent\", \"parent\", \"parent\", \"parent\", \"parent\", \"parent\", \"parent\", \"parent\", \"parent\", \"parentheses\", \"parentheses\", \"parseint\", \"parser\", \"parser\", \"parser\", \"parser\", \"parser\", \"parser\", \"pass\", \"pass\", \"pass\", \"pass\", \"pass\", \"pass\", \"pass\", \"pass\", \"pass\", \"pass\", \"pass\", \"pass\", \"pass\", \"pass\", \"pass\", \"pass\", \"pass\", \"pass\", \"pass\", \"pass\", \"password\", \"password\", \"password\", \"password\", \"password\", \"password\", \"password\", \"password\", \"password\", \"password\", \"password\", \"password\", \"path\", \"path\", \"path\", \"path\", \"path\", \"path\", \"path\", \"path\", \"path\", \"path\", \"path\", \"path\", \"path\", \"path\", \"path\", \"path\", \"path\", \"path\", \"path\", \"path\", \"payload\", \"pd\", \"pd\", \"pd\", \"pd\", \"pdo\", \"pdo\", \"pem\", \"pem\", \"pep\", \"percentage\", \"percentage\", \"percentage\", \"performance\", \"performance\", \"performance\", \"performance\", \"performance\", \"performance\", \"performance\", \"performance\", \"performance\", \"performance\", \"performance\", \"performance\", \"performance\", \"performance\", \"performance\", \"performance\", \"performance\", \"performance\", \"performance\", \"persistence\", \"persistent\", \"pg\", \"pg\", \"pg\", \"phase\", \"phase\", \"phase\", \"phase\", \"phone\", \"phone\", \"phone\", \"phone\", \"phone\", \"phone\", \"phone\", \"phone\", \"phone\", \"phone\", \"phone\", \"phone\", \"phone\", \"phonegap\", \"phonegap\", \"phonewindow\", \"photo\", \"photo\", \"php\", \"php\", \"php\", \"php\", \"php\", \"php\", \"php\", \"php\", \"php\", \"php\", \"php\", \"php\", \"php\", \"php\", \"php\", \"php\", \"php\", \"php\", \"php\", \"php\", \"pi\", \"picker\", \"pid\", \"pid\", \"pie\", \"pink\", \"pip\", \"pip\", \"pip\", \"pip\", \"pip\", \"pip\", \"pip\", \"pixel\", \"pixel\", \"pixel\", \"pk\", \"pk\", \"pkg\", \"placeholders\", \"player\", \"player\", \"player\", \"players\", \"plenty\", \"plenty\", \"plist\", \"plot\", \"plot\", \"plot\", \"plot\", \"plt\", \"plt\", \"plugin\", \"plugin\", \"plugin\", \"plugin\", \"plugin\", \"plugin\", \"plugin\", \"plugin\", \"plugin\", \"plugin\", \"plugin\", \"plugin\", \"poco\", \"pod\", \"pod\", \"pod\", \"point\", \"point\", \"point\", \"point\", \"point\", \"point\", \"point\", \"point\", \"point\", \"point\", \"point\", \"point\", \"point\", \"point\", \"point\", \"point\", \"point\", \"point\", \"point\", \"point\", \"pointers\", \"pointers\", \"pointers\", \"pointers\", \"pointers\", \"pointers\", \"pointers\", \"pointers\", \"pointers\", \"pointers\", \"pointers\", \"pointers\", \"pointers\", \"pointers\", \"pojo\", \"polymorphism\", \"pom\", \"pom\", \"popen\", \"popover\", \"port\", \"port\", \"port\", \"port\", \"port\", \"port\", \"port\", \"port\", \"port\", \"port\", \"port\", \"portrait\", \"portrait\", \"position\", \"position\", \"position\", \"position\", \"position\", \"position\", \"position\", \"position\", \"position\", \"position\", \"position\", \"position\", \"position\", \"position\", \"position\", \"position\", \"position\", \"position\", \"posix\", \"post\", \"post\", \"post\", \"post\", \"post\", \"post\", \"post\", \"post\", \"post\", \"post\", \"post\", \"post\", \"post\", \"post\", \"post\", \"post\", \"post\", \"post\", \"post\", \"post\", \"postgres\", \"ppa\", \"practice\", \"practice\", \"practice\", \"practice\", \"practice\", \"practice\", \"practice\", \"practice\", \"practice\", \"practice\", \"practice\", \"practice\", \"practice\", \"practice\", \"practice\", \"practice\", \"practice\", \"practice\", \"practice\", \"practice\", \"preferences\", \"preferences\", \"preferences\", \"press\", \"press\", \"press\", \"press\", \"press\", \"press\", \"press\", \"press\", \"press\", \"press\", \"press\", \"preventdefault\", \"primary\", \"primary\", \"primary\", \"primary\", \"primary\", \"primary\", \"primary\", \"primary\", \"primary\", \"primary\", \"prime\", \"principal\", \"print\", \"print\", \"print\", \"print\", \"print\", \"print\", \"print\", \"print\", \"print\", \"print\", \"print\", \"print\", \"print\", \"print\", \"print\", \"print\", \"print\", \"print\", \"printf\", \"printf\", \"printf\", \"printf\", \"printf\", \"printf\", \"printf\", \"println\", \"println\", \"println\", \"println\", \"println\", \"println\", \"println\", \"println\", \"priv\", \"priv\", \"priv\", \"private\", \"private\", \"private\", \"private\", \"private\", \"private\", \"private\", \"private\", \"private\", \"private\", \"private\", \"private\", \"private\", \"private\", \"private\", \"private\", \"private\", \"private\", \"private\", \"privilege\", \"privilege\", \"privilege\", \"prod\", \"producer\", \"producer\", \"producer\", \"product\", \"product\", \"product\", \"product\", \"product\", \"product\", \"product\", \"product\", \"product\", \"profile\", \"profile\", \"profile\", \"profile\", \"profile\", \"profile\", \"profile\", \"profile\", \"profile\", \"profile\", \"profile\", \"profile\", \"profile\", \"profile\", \"profile\", \"program\", \"program\", \"program\", \"program\", \"program\", \"program\", \"program\", \"program\", \"program\", \"program\", \"program\", \"program\", \"program\", \"program\", \"program\", \"program\", \"program\", \"program\", \"program\", \"program\", \"progressbar\", \"progressdialog\", \"progressdialog\", \"progressdialog\", \"project\", \"project\", \"project\", \"project\", \"project\", \"project\", \"project\", \"project\", \"project\", \"project\", \"project\", \"project\", \"project\", \"project\", \"project\", \"project\", \"project\", \"project\", \"project\", \"project\", \"prompt\", \"prompt\", \"prompt\", \"prompt\", \"prompt\", \"prompt\", \"prompt\", \"prompt\", \"prompt\", \"prompt\", \"prompt\", \"prop\", \"prop\", \"prop\", \"prop\", \"prop\", \"properties\", \"properties\", \"properties\", \"properties\", \"properties\", \"properties\", \"properties\", \"properties\", \"properties\", \"properties\", \"properties\", \"properties\", \"properties\", \"properties\", \"properties\", \"properties\", \"properties\", \"properties\", \"property\", \"property\", \"property\", \"property\", \"property\", \"property\", \"property\", \"property\", \"property\", \"property\", \"property\", \"property\", \"property\", \"property\", \"property\", \"property\", \"property\", \"property\", \"property\", \"proto\", \"prototype\", \"prototype\", \"prototype\", \"prototype\", \"prototype\", \"prototype\", \"prototype\", \"prototype\", \"prototype\", \"prototype\", \"prove\", \"providers\", \"psycopg\", \"psycopg\", \"pthread\", \"pthread\", \"pthread\", \"ptr\", \"ptr\", \"ptr\", \"ptr\", \"ptr\", \"ptr\", \"public\", \"public\", \"public\", \"public\", \"public\", \"public\", \"public\", \"public\", \"public\", \"public\", \"public\", \"public\", \"public\", \"public\", \"public\", \"public\", \"public\", \"public\", \"public\", \"public\", \"publickey\", \"pull\", \"pull\", \"pull\", \"pull\", \"pull\", \"pull\", \"pull\", \"pull\", \"pull\", \"pull\", \"pull\", \"pull\", \"pull\", \"push\", \"push\", \"push\", \"push\", \"push\", \"push\", \"push\", \"push\", \"push\", \"push\", \"push\", \"push\", \"push\", \"push\", \"push\", \"push\", \"putextra\", \"pwd\", \"px\", \"px\", \"px\", \"px\", \"px\", \"px\", \"px\", \"px\", \"px\", \"py\", \"py\", \"py\", \"py\", \"py\", \"py\", \"py\", \"py\", \"py\", \"py\", \"py\", \"py\", \"py\", \"py\", \"pyplot\", \"python\", \"python\", \"python\", \"python\", \"python\", \"python\", \"python\", \"python\", \"python\", \"python\", \"python\", \"python\", \"python\", \"python\", \"python\", \"python\", \"python\", \"python\", \"python\", \"python\", \"pythonpath\", \"query\", \"query\", \"query\", \"query\", \"query\", \"query\", \"query\", \"query\", \"query\", \"query\", \"query\", \"query\", \"query\", \"query\", \"query\", \"query\", \"query\", \"query\", \"query\", \"question\", \"question\", \"question\", \"question\", \"question\", \"question\", \"question\", \"question\", \"question\", \"question\", \"question\", \"question\", \"question\", \"question\", \"question\", \"question\", \"question\", \"question\", \"question\", \"question\", \"queue\", \"queue\", \"queue\", \"queue\", \"queue\", \"queue\", \"queue\", \"queue\", \"queue\", \"queue\", \"queue\", \"r\", \"r\", \"r\", \"r\", \"r\", \"r\", \"r\", \"r\", \"r\", \"r\", \"r\", \"r\", \"r\", \"r\", \"r\", \"r\", \"r\", \"r\", \"r\", \"r\", \"radio\", \"radio\", \"radio\", \"radio\", \"radius\", \"radius\", \"radius\", \"radius\", \"radius\", \"rake\", \"ram\", \"ram\", \"ram\", \"ram\", \"ram\", \"ram\", \"ram\", \"random\", \"random\", \"random\", \"random\", \"random\", \"random\", \"random\", \"random\", \"random\", \"random\", \"random\", \"random\", \"range\", \"range\", \"range\", \"range\", \"range\", \"range\", \"range\", \"range\", \"range\", \"range\", \"range\", \"range\", \"range\", \"range\", \"range\", \"rax\", \"rax\", \"rax\", \"rb\", \"rb\", \"rb\", \"rb\", \"rbenv\", \"rcx\", \"rdx\", \"reachable\", \"react\", \"react\", \"react\", \"react\", \"react\", \"react\", \"react\", \"react\", \"react\", \"read\", \"read\", \"read\", \"read\", \"read\", \"read\", \"read\", \"read\", \"read\", \"read\", \"read\", \"read\", \"read\", \"read\", \"read\", \"read\", \"read\", \"read\", \"read\", \"read\", \"reader\", \"reader\", \"reader\", \"reader\", \"reader\", \"reader\", \"rebase\", \"rebase\", \"rebase\", \"rebase\", \"receiver\", \"recognition\", \"rect\", \"rect\", \"recycler\", \"recyclerview\", \"redis\", \"reducers\", \"reduction\", \"redux\", \"redux\", \"reflection\", \"reflection\", \"reflection\", \"reflection\", \"refs\", \"refs\", \"regex\", \"regex\", \"regex\", \"regex\", \"regex\", \"regex\", \"regex\", \"regexp\", \"regexp\", \"regression\", \"relativelayout\", \"relativelayout\", \"remote\", \"remote\", \"remote\", \"remote\", \"remote\", \"remote\", \"remote\", \"remote\", \"remote\", \"remote\", \"remote\", \"remote\", \"remotes\", \"rename\", \"rename\", \"rename\", \"rename\", \"rename\", \"rename\", \"repo\", \"repo\", \"repo\", \"repo\", \"repo\", \"repo\", \"repo\", \"repo\", \"repository\", \"repository\", \"repository\", \"repository\", \"repository\", \"repository\", \"repository\", \"repository\", \"repository\", \"repository\", \"repository\", \"repository\", \"request\", \"request\", \"request\", \"request\", \"request\", \"request\", \"request\", \"request\", \"request\", \"request\", \"request\", \"request\", \"request\", \"request\", \"request\", \"request\", \"request\", \"request\", \"request\", \"request\", \"research\", \"research\", \"research\", \"research\", \"research\", \"research\", \"reset\", \"reset\", \"reset\", \"reset\", \"reset\", \"reset\", \"reset\", \"reset\", \"reset\", \"reset\", \"reset\", \"reshape\", \"resharper\", \"resize\", \"resize\", \"resize\", \"resize\", \"resize\", \"resolutions\", \"response\", \"response\", \"response\", \"response\", \"response\", \"response\", \"response\", \"response\", \"response\", \"response\", \"response\", \"response\", \"response\", \"response\", \"response\", \"response\", \"responseentity\", \"responsetext\", \"result\", \"result\", \"result\", \"result\", \"result\", \"result\", \"result\", \"result\", \"result\", \"result\", \"result\", \"result\", \"result\", \"result\", \"result\", \"result\", \"result\", \"result\", \"result\", \"result\", \"retina\", \"retrofit\", \"return\", \"return\", \"return\", \"return\", \"return\", \"return\", \"return\", \"return\", \"return\", \"return\", \"return\", \"return\", \"return\", \"return\", \"return\", \"return\", \"return\", \"return\", \"return\", \"return\", \"rgba\", \"rjava\", \"round\", \"round\", \"round\", \"round\", \"round\", \"round\", \"round\", \"round\", \"round\", \"route\", \"route\", \"route\", \"route\", \"route\", \"route\", \"route\", \"row\", \"row\", \"row\", \"row\", \"row\", \"row\", \"row\", \"row\", \"row\", \"row\", \"row\", \"row\", \"row\", \"row\", \"row\", \"row\", \"rsa\", \"rstudio\", \"ruby\", \"ruby\", \"ruby\", \"ruby\", \"ruby\", \"ruby\", \"ruby\", \"ruby\", \"ruby\", \"ruby\", \"ruby\", \"ruby\", \"ruby\", \"ruby\", \"ruby\", \"ruby\", \"ruby\", \"rubygems\", \"rubygems\", \"run\", \"run\", \"run\", \"run\", \"run\", \"run\", \"run\", \"run\", \"run\", \"run\", \"run\", \"run\", \"run\", \"run\", \"run\", \"run\", \"run\", \"run\", \"run\", \"run\", \"rvm\", \"rvm\", \"rvm\", \"rvm\", \"safestring\", \"sass\", \"savedinstancestate\", \"savedinstancestate\", \"savedinstancestate\", \"savedinstancestate\", \"savedinstancestate\", \"sb\", \"scala\", \"scala\", \"scalability\", \"schedule\", \"schemas\", \"schemas\", \"schemas\", \"schemas\", \"schemas\", \"schemas\", \"scope\", \"scope\", \"scope\", \"scope\", \"scope\", \"scope\", \"scope\", \"scope\", \"scope\", \"scope\", \"scope\", \"scopes\", \"score\", \"score\", \"scrapy\", \"screen\", \"screen\", \"screen\", \"screen\", \"screen\", \"screen\", \"screen\", \"screen\", \"screen\", \"screen\", \"screen\", \"screen\", \"screen\", \"screen\", \"screen\", \"screen\", \"screw\", \"script\", \"script\", \"script\", \"script\", \"script\", \"script\", \"script\", \"script\", \"script\", \"script\", \"script\", \"script\", \"script\", \"script\", \"script\", \"script\", \"script\", \"script\", \"script\", \"script\", \"scroll\", \"scroll\", \"scroll\", \"scroll\", \"scroll\", \"scroll\", \"scrollable\", \"scrollbar\", \"sdk\", \"sdk\", \"sdk\", \"sdk\", \"sdk\", \"sdk\", \"sdl\", \"sdl\", \"sdl\", \"sdl\", \"se\", \"se\", \"sec\", \"sec\", \"sec\", \"secondary\", \"security\", \"security\", \"security\", \"security\", \"security\", \"security\", \"security\", \"security\", \"security\", \"security\", \"security\", \"security\", \"security\", \"security\", \"security\", \"security\", \"see\", \"see\", \"see\", \"see\", \"see\", \"see\", \"see\", \"see\", \"see\", \"see\", \"see\", \"see\", \"see\", \"see\", \"see\", \"see\", \"see\", \"see\", \"see\", \"see\", \"seem\", \"seem\", \"seem\", \"seem\", \"seem\", \"seem\", \"seem\", \"seem\", \"seem\", \"seem\", \"seem\", \"seem\", \"seem\", \"seem\", \"seem\", \"seem\", \"seem\", \"seem\", \"seem\", \"seem\", \"select\", \"select\", \"select\", \"select\", \"select\", \"select\", \"select\", \"select\", \"select\", \"select\", \"select\", \"select\", \"select\", \"select\", \"select\", \"select\", \"select\", \"select\", \"select\", \"select\", \"selectors\", \"selenium\", \"selenium\", \"self\", \"self\", \"self\", \"self\", \"self\", \"self\", \"self\", \"self\", \"self\", \"self\", \"self\", \"self\", \"self\", \"self\", \"self\", \"self\", \"self\", \"self\", \"self\", \"semicolon\", \"sendmail\", \"sep\", \"serialize\", \"serialize\", \"serialize\", \"server\", \"server\", \"server\", \"server\", \"server\", \"server\", \"server\", \"server\", \"server\", \"server\", \"server\", \"server\", \"server\", \"server\", \"server\", \"server\", \"server\", \"server\", \"server\", \"server\", \"serviceregistry\", \"servlets\", \"session\", \"session\", \"session\", \"session\", \"session\", \"session\", \"session\", \"session\", \"session\", \"session\", \"session\", \"session\", \"session\", \"session\", \"session\", \"set\", \"set\", \"set\", \"set\", \"set\", \"set\", \"set\", \"set\", \"set\", \"set\", \"set\", \"set\", \"set\", \"set\", \"set\", \"set\", \"set\", \"set\", \"set\", \"set\", \"setimmediate\", \"setimmediate\", \"setonclicklistener\", \"setters\", \"settext\", \"settext\", \"setup\", \"setup\", \"setup\", \"setup\", \"setup\", \"setup\", \"setup\", \"setup\", \"setup\", \"setup\", \"setup\", \"setup\", \"setup\", \"setup\", \"setup\", \"setup\", \"setup\", \"setuptools\", \"setvisibility\", \"sh\", \"sh\", \"sh\", \"sh\", \"sh\", \"sh\", \"sh\", \"sh\", \"shade\", \"shadow\", \"shadow\", \"shape\", \"shape\", \"share\", \"share\", \"share\", \"share\", \"share\", \"share\", \"share\", \"share\", \"share\", \"share\", \"share\", \"share\", \"share\", \"share\", \"share\", \"share\", \"share\", \"share\", \"shell\", \"shell\", \"shell\", \"shell\", \"shell\", \"shell\", \"shell\", \"shell\", \"shell\", \"shell\", \"shell\", \"shell\", \"shell\", \"shell\", \"shell\", \"show\", \"show\", \"show\", \"show\", \"show\", \"show\", \"show\", \"show\", \"show\", \"show\", \"show\", \"show\", \"show\", \"show\", \"show\", \"show\", \"show\", \"show\", \"show\", \"show\", \"shrink\", \"shuffle\", \"shutdown\", \"shutdown\", \"sign\", \"sign\", \"sign\", \"sign\", \"sign\", \"sign\", \"sign\", \"sign\", \"sign\", \"sign\", \"sign\", \"sign\", \"sign\", \"sign\", \"similarity\", \"sin\", \"sin\", \"sin\", \"sin\", \"site\", \"site\", \"site\", \"site\", \"site\", \"site\", \"site\", \"site\", \"site\", \"site\", \"site\", \"site\", \"site\", \"site\", \"site\", \"site\", \"site\", \"site\", \"site\", \"size\", \"size\", \"size\", \"size\", \"size\", \"size\", \"size\", \"size\", \"size\", \"size\", \"size\", \"size\", \"size\", \"size\", \"size\", \"size\", \"size\", \"size\", \"size\", \"size\", \"sleep\", \"sleep\", \"sleep\", \"sleep\", \"sleep\", \"slfj\", \"smith\", \"sms\", \"sms\", \"smtp\", \"smtplib\", \"soap\", \"socket\", \"socket\", \"socket\", \"socket\", \"socket\", \"socket\", \"socket\", \"socket\", \"socket\", \"socket\", \"socket\", \"solution\", \"solution\", \"solution\", \"solution\", \"solution\", \"solution\", \"solution\", \"solution\", \"solution\", \"solution\", \"solution\", \"solution\", \"solution\", \"solution\", \"solution\", \"solution\", \"solution\", \"solution\", \"solution\", \"solution\", \"someobject\", \"spa\", \"space\", \"space\", \"space\", \"space\", \"space\", \"space\", \"space\", \"space\", \"space\", \"space\", \"space\", \"space\", \"space\", \"space\", \"space\", \"space\", \"space\", \"space\", \"space\", \"span\", \"span\", \"span\", \"span\", \"span\", \"span\", \"span\", \"span\", \"span\", \"span\", \"spark\", \"spark\", \"speech\", \"spin\", \"spinner\", \"spinner\", \"splash\", \"splash\", \"split\", \"split\", \"split\", \"split\", \"split\", \"split\", \"split\", \"split\", \"split\", \"split\", \"split\", \"split\", \"split\", \"split\", \"split\", \"spring\", \"spring\", \"spring\", \"spring\", \"spring\", \"spring\", \"spring\", \"spring\", \"spring\", \"spring\", \"springframework\", \"sql\", \"sql\", \"sql\", \"sql\", \"sql\", \"sql\", \"sql\", \"sql\", \"sql\", \"sql\", \"sql\", \"sql\", \"sql\", \"sql\", \"sql\", \"sql\", \"sql\", \"sql\", \"sql\", \"sqlplus\", \"sqrt\", \"sqrt\", \"sqrt\", \"sqrt\", \"ssh\", \"ssh\", \"ssh\", \"ssh\", \"ssl\", \"ssl\", \"ssl\", \"ssl\", \"ssl\", \"ssl\", \"ssl\", \"stack\", \"stack\", \"stack\", \"stack\", \"stack\", \"stack\", \"stack\", \"stack\", \"stack\", \"stack\", \"stack\", \"stack\", \"stack\", \"stack\", \"stack\", \"stack\", \"stack\", \"stack\", \"stack\", \"stag\", \"stag\", \"stag\", \"stage\", \"standalone\", \"standards\", \"standards\", \"standards\", \"startactivity\", \"stash\", \"state\", \"state\", \"state\", \"state\", \"state\", \"state\", \"state\", \"state\", \"state\", \"state\", \"state\", \"state\", \"state\", \"state\", \"state\", \"state\", \"state\", \"state\", \"state\", \"state\", \"static\", \"static\", \"static\", \"static\", \"static\", \"static\", \"static\", \"static\", \"static\", \"static\", \"static\", \"static\", \"static\", \"static\", \"static\", \"static\", \"static\", \"static\", \"static\", \"static\", \"std\", \"std\", \"std\", \"std\", \"std\", \"std\", \"std\", \"std\", \"std\", \"std\", \"std\", \"std\", \"std\", \"std\", \"stderr\", \"stderr\", \"stderr\", \"stdout\", \"stdout\", \"stdout\", \"stdout\", \"stdout\", \"stdout\", \"stdout\", \"step\", \"step\", \"step\", \"step\", \"step\", \"step\", \"step\", \"step\", \"step\", \"step\", \"step\", \"step\", \"step\", \"step\", \"step\", \"step\", \"step\", \"step\", \"step\", \"stmt\", \"stmt\", \"storage\", \"storage\", \"storage\", \"storage\", \"storage\", \"storage\", \"storage\", \"storage\", \"storage\", \"store\", \"store\", \"store\", \"store\", \"store\", \"store\", \"store\", \"store\", \"store\", \"store\", \"store\", \"store\", \"store\", \"store\", \"store\", \"store\", \"store\", \"store\", \"store\", \"story\", \"str\", \"str\", \"str\", \"str\", \"str\", \"str\", \"str\", \"str\", \"str\", \"str\", \"stream\", \"stream\", \"stream\", \"stream\", \"stream\", \"stream\", \"stream\", \"stream\", \"stream\", \"stream\", \"stream\", \"stream\", \"stream\", \"stream\", \"stream\", \"stream\", \"stretch\", \"strictly\", \"string\", \"string\", \"string\", \"string\", \"string\", \"string\", \"string\", \"string\", \"string\", \"string\", \"string\", \"string\", \"string\", \"string\", \"string\", \"string\", \"string\", \"string\", \"string\", \"string\", \"stringbuilder\", \"stringbuilder\", \"stringbuilder\", \"stringify\", \"stringwithformat\", \"struct\", \"struct\", \"struct\", \"struct\", \"struct\", \"struct\", \"struct\", \"struct\", \"struct\", \"stub\", \"stub\", \"stub\", \"student\", \"studio\", \"studio\", \"studio\", \"studio\", \"studio\", \"studio\", \"studio\", \"studio\", \"studio\", \"studio\", \"studio\", \"studio\", \"studio\", \"studio\", \"style\", \"style\", \"style\", \"style\", \"style\", \"style\", \"style\", \"style\", \"style\", \"style\", \"style\", \"style\", \"style\", \"style\", \"style\", \"style\", \"style\", \"style\", \"style\", \"style\", \"stylesheet\", \"stylesheet\", \"stylesheet\", \"stylesheets\", \"subfolder\", \"sublime\", \"submit\", \"submit\", \"submit\", \"submit\", \"submit\", \"submit\", \"submit\", \"submit\", \"submit\", \"submit\", \"submit\", \"submit\", \"submit\", \"submodule\", \"submodule\", \"submodules\", \"subplot\", \"subprocess\", \"subprocess\", \"subview\", \"succeed\", \"succeed\", \"sum\", \"sum\", \"sum\", \"sum\", \"sum\", \"sum\", \"sum\", \"superclass\", \"superview\", \"support\", \"support\", \"support\", \"support\", \"support\", \"support\", \"support\", \"support\", \"support\", \"support\", \"support\", \"support\", \"support\", \"support\", \"support\", \"support\", \"support\", \"support\", \"support\", \"support\", \"survey\", \"svg\", \"svg\", \"svg\", \"svg\", \"svg\", \"svn\", \"svn\", \"svn\", \"svn\", \"sw\", \"swing\", \"swipe\", \"swt\", \"symbolic\", \"symbols\", \"symbols\", \"symfony\", \"synchronous\", \"system\", \"system\", \"system\", \"system\", \"system\", \"system\", \"system\", \"system\", \"system\", \"system\", \"system\", \"system\", \"system\", \"system\", \"system\", \"system\", \"system\", \"system\", \"system\", \"system\", \"tab\", \"tab\", \"tab\", \"tab\", \"tab\", \"tab\", \"tab\", \"tab\", \"tab\", \"tab\", \"tab\", \"tab\", \"table\", \"table\", \"table\", \"table\", \"table\", \"table\", \"table\", \"table\", \"table\", \"table\", \"table\", \"table\", \"table\", \"table\", \"table\", \"table\", \"table\", \"table\", \"table\", \"table\", \"tablet\", \"tag\", \"tag\", \"tag\", \"tag\", \"tag\", \"tag\", \"tag\", \"tag\", \"tag\", \"tag\", \"tag\", \"tag\", \"tag\", \"tag\", \"tag\", \"tag\", \"tag\", \"tag\", \"tag\", \"tag\", \"tail\", \"tail\", \"target\", \"target\", \"target\", \"target\", \"target\", \"target\", \"target\", \"target\", \"target\", \"target\", \"target\", \"target\", \"target\", \"target\", \"target\", \"target\", \"target\", \"target\", \"target\", \"targetsdkversion\", \"task\", \"task\", \"task\", \"task\", \"task\", \"task\", \"task\", \"task\", \"task\", \"task\", \"task\", \"task\", \"task\", \"task\", \"task\", \"task\", \"task\", \"tchar\", \"tchar\", \"td\", \"td\", \"td\", \"td\", \"td\", \"td\", \"td\", \"temp\", \"temp\", \"temp\", \"temp\", \"temp\", \"temp\", \"template\", \"template\", \"template\", \"template\", \"template\", \"template\", \"template\", \"template\", \"template\", \"template\", \"template\", \"template\", \"template\", \"template\", \"template\", \"template\", \"templates\", \"templates\", \"templates\", \"templates\", \"templates\", \"templates\", \"templates\", \"templates\", \"templates\", \"templates\", \"templateurl\", \"templateurl\", \"temporarily\", \"ternary\", \"test\", \"test\", \"test\", \"test\", \"test\", \"test\", \"test\", \"test\", \"test\", \"test\", \"test\", \"test\", \"test\", \"test\", \"test\", \"test\", \"test\", \"test\", \"test\", \"test\", \"testobject\", \"text\", \"text\", \"text\", \"text\", \"text\", \"text\", \"text\", \"text\", \"text\", \"text\", \"text\", \"text\", \"text\", \"text\", \"text\", \"text\", \"text\", \"text\", \"text\", \"text\", \"textcontent\", \"texts\", \"textsize\", \"texture\", \"textview\", \"textview\", \"textview\", \"tf\", \"theme\", \"theme\", \"theme\", \"theme\", \"theme\", \"think\", \"think\", \"think\", \"think\", \"think\", \"think\", \"think\", \"think\", \"think\", \"think\", \"think\", \"think\", \"think\", \"think\", \"think\", \"think\", \"think\", \"think\", \"think\", \"think\", \"thousands\", \"thousands\", \"thousands\", \"thread\", \"thread\", \"thread\", \"thread\", \"thread\", \"thread\", \"thread\", \"thread\", \"thread\", \"thread\", \"thread\", \"thread\", \"thread\", \"thread\", \"thread\", \"thread\", \"thread\", \"thread\", \"thread\", \"throw\", \"throw\", \"throw\", \"throw\", \"throw\", \"throw\", \"throw\", \"throw\", \"throw\", \"throw\", \"throw\", \"throw\", \"throw\", \"throw\", \"throw\", \"throw\", \"thumbnails\", \"tick\", \"tick\", \"ticket\", \"tid\", \"time\", \"time\", \"time\", \"time\", \"time\", \"time\", \"time\", \"time\", \"time\", \"time\", \"time\", \"time\", \"time\", \"time\", \"time\", \"time\", \"time\", \"time\", \"time\", \"time\", \"timestamp\", \"timestamp\", \"timestamp\", \"timestamp\", \"timestamp\", \"timestamp\", \"timestamp\", \"timezone\", \"timezone\", \"timezone\", \"tk\", \"tkinter\", \"toast\", \"token\", \"token\", \"token\", \"token\", \"token\", \"token\", \"token\", \"tons\", \"toolbar\", \"toolkit\", \"top\", \"top\", \"top\", \"top\", \"top\", \"top\", \"top\", \"top\", \"top\", \"top\", \"top\", \"top\", \"top\", \"top\", \"top\", \"top\", \"top\", \"top\", \"top\", \"tr\", \"tr\", \"tr\", \"tr\", \"tr\", \"tr\", \"tr\", \"traceback\", \"traceback\", \"traceback\", \"traceback\", \"traceback\", \"track\", \"track\", \"track\", \"track\", \"track\", \"track\", \"track\", \"track\", \"track\", \"track\", \"track\", \"track\", \"track\", \"track\", \"track\", \"track\", \"track\", \"train\", \"train\", \"train\", \"traits\", \"transport\", \"triangle\", \"truck\", \"true\", \"true\", \"true\", \"true\", \"true\", \"true\", \"true\", \"true\", \"true\", \"true\", \"true\", \"true\", \"true\", \"true\", \"true\", \"true\", \"true\", \"true\", \"true\", \"true\", \"try\", \"try\", \"try\", \"try\", \"try\", \"try\", \"try\", \"try\", \"try\", \"try\", \"try\", \"try\", \"try\", \"try\", \"try\", \"try\", \"try\", \"try\", \"try\", \"try\", \"ts\", \"ts\", \"tuples\", \"tuples\", \"tweak\", \"tweet\", \"txt\", \"txt\", \"txt\", \"txt\", \"txt\", \"txt\", \"txt\", \"txt\", \"txt\", \"txt\", \"txt\", \"txt\", \"txt\", \"type\", \"type\", \"type\", \"type\", \"type\", \"type\", \"type\", \"type\", \"type\", \"type\", \"type\", \"type\", \"type\", \"type\", \"type\", \"type\", \"type\", \"type\", \"type\", \"type\", \"typename\", \"typename\", \"typescript\", \"u\", \"u\", \"u\", \"u\", \"u\", \"u\", \"u\", \"u\", \"u\", \"u\", \"u\", \"uiimagepickercontroller\", \"uikit\", \"uikit\", \"uint\", \"uiscrollview\", \"uitableview\", \"uitableview\", \"uitableviewcell\", \"uitextfield\", \"uitextfield\", \"uitextview\", \"uitextview\", \"uiview\", \"uiview\", \"uiview\", \"uiview\", \"uiview\", \"uiview\", \"uiwebview\", \"ul\", \"ul\", \"ul\", \"ul\", \"ul\", \"ul\", \"unclear\", \"unclear\", \"undefined\", \"undefined\", \"undefined\", \"undefined\", \"undefined\", \"undefined\", \"undefined\", \"undefined\", \"undefined\", \"undefined\", \"undefined\", \"understand\", \"understand\", \"understand\", \"understand\", \"understand\", \"understand\", \"understand\", \"understand\", \"understand\", \"understand\", \"understand\", \"understand\", \"understand\", \"understand\", \"understand\", \"understand\", \"understand\", \"understand\", \"understand\", \"understand\", \"unexpected\", \"unicode\", \"unicode\", \"unicode\", \"unicode\", \"unicode\", \"unicode\", \"unicode\", \"unicode\", \"unicode\", \"unique\", \"unique\", \"unique\", \"unique\", \"unique\", \"unique\", \"unique\", \"unique\", \"unique\", \"unique\", \"unique\", \"unique\", \"unique\", \"unique\", \"unique\", \"unit\", \"unit\", \"unit\", \"unit\", \"unit\", \"unit\", \"unit\", \"unit\", \"unit\", \"unit\", \"unity\", \"unroll\", \"unset\", \"unsigned\", \"unsigned\", \"unsigned\", \"unsigned\", \"unsigned\", \"unsigned\", \"unsigned\", \"untracked\", \"untyped\", \"unused\", \"unused\", \"unused\", \"unzip\", \"upper\", \"uppercase\", \"upstream\", \"url\", \"url\", \"url\", \"url\", \"url\", \"url\", \"url\", \"url\", \"url\", \"url\", \"url\", \"url\", \"url\", \"url\", \"url\", \"url\", \"url\", \"url\", \"url\", \"url\", \"urlencode\", \"urllib\", \"urllib\", \"urlwithstring\", \"use\", \"use\", \"use\", \"use\", \"use\", \"use\", \"use\", \"use\", \"use\", \"use\", \"use\", \"use\", \"use\", \"use\", \"use\", \"use\", \"use\", \"use\", \"use\", \"use\", \"user\", \"user\", \"user\", \"user\", \"user\", \"user\", \"user\", \"user\", \"user\", \"user\", \"user\", \"user\", \"user\", \"user\", \"user\", \"user\", \"user\", \"user\", \"user\", \"user\", \"userinfo\", \"username\", \"username\", \"username\", \"username\", \"username\", \"username\", \"username\", \"username\", \"username\", \"usr\", \"usr\", \"usr\", \"usr\", \"usr\", \"usr\", \"usr\", \"usr\", \"usr\", \"usr\", \"usr\", \"usr\", \"utc\", \"utc\", \"utc\", \"utc\", \"utc\", \"utf\", \"utf\", \"utf\", \"utf\", \"utf\", \"utf\", \"utf\", \"utf\", \"utf\", \"utf\", \"utf\", \"utf\", \"uuid\", \"uuid\", \"v\", \"v\", \"v\", \"v\", \"v\", \"v\", \"v\", \"v\", \"v\", \"v\", \"v\", \"v\", \"v\", \"v\", \"v\", \"v\", \"v\", \"v\", \"v\", \"v\", \"valid\", \"valid\", \"valid\", \"valid\", \"valid\", \"valid\", \"valid\", \"valid\", \"valid\", \"valid\", \"valid\", \"valid\", \"valid\", \"valid\", \"valid\", \"valid\", \"valid\", \"valid\", \"validatorexception\", \"value\", \"value\", \"value\", \"value\", \"value\", \"value\", \"value\", \"value\", \"value\", \"value\", \"value\", \"value\", \"value\", \"value\", \"value\", \"value\", \"value\", \"value\", \"value\", \"value\", \"var\", \"var\", \"var\", \"var\", \"var\", \"var\", \"var\", \"var\", \"var\", \"var\", \"var\", \"var\", \"var\", \"var\", \"var\", \"var\", \"var\", \"var\", \"var\", \"var\", \"variable\", \"variable\", \"variable\", \"variable\", \"variable\", \"variable\", \"variable\", \"variable\", \"variable\", \"variable\", \"variable\", \"variable\", \"variable\", \"variable\", \"variable\", \"variable\", \"variable\", \"variables\", \"variables\", \"variables\", \"variables\", \"variables\", \"variables\", \"variables\", \"variables\", \"variables\", \"variables\", \"variables\", \"variables\", \"variables\", \"variables\", \"variables\", \"variety\", \"vc\", \"vec\", \"vec\", \"vector\", \"vector\", \"vector\", \"vector\", \"vector\", \"vector\", \"vector\", \"vector\", \"vector\", \"vector\", \"vector\", \"vector\", \"vector\", \"vehicle\", \"version\", \"version\", \"version\", \"version\", \"version\", \"version\", \"version\", \"version\", \"version\", \"version\", \"version\", \"version\", \"version\", \"version\", \"version\", \"version\", \"version\", \"version\", \"version\", \"version\", \"vertically\", \"vertically\", \"vertically\", \"vhosts\", \"vi\", \"videos\", \"view\", \"view\", \"view\", \"view\", \"view\", \"view\", \"view\", \"view\", \"view\", \"view\", \"view\", \"view\", \"view\", \"view\", \"view\", \"view\", \"view\", \"view\", \"view\", \"view\", \"viewdidload\", \"viewgroup\", \"viewgroup\", \"viewgroup\", \"viewgroup\", \"viewpager\", \"viewport\", \"violation\", \"virtualbox\", \"virtualenv\", \"virtualenv\", \"virtualenv\", \"visual\", \"visual\", \"visual\", \"visual\", \"visual\", \"visual\", \"visual\", \"visual\", \"visual\", \"visual\", \"visual\", \"visual\", \"visualization\", \"voice\", \"void\", \"void\", \"void\", \"void\", \"void\", \"void\", \"void\", \"void\", \"void\", \"void\", \"void\", \"void\", \"void\", \"void\", \"void\", \"void\", \"void\", \"void\", \"void\", \"void\", \"volatile\", \"vote\", \"vote\", \"vote\", \"vote\", \"vote\", \"vote\", \"vote\", \"vs\", \"vs\", \"vs\", \"vs\", \"vs\", \"vs\", \"vs\", \"vs\", \"vs\", \"vs\", \"vs\", \"vs\", \"vs\", \"vs\", \"vs\", \"vs\", \"vs\", \"vs\", \"vs\", \"vs\", \"vulnerability\", \"wait\", \"wait\", \"wait\", \"wait\", \"wait\", \"wait\", \"wait\", \"wait\", \"wait\", \"wait\", \"wait\", \"wait\", \"wait\", \"wait\", \"wait\", \"want\", \"want\", \"want\", \"want\", \"want\", \"want\", \"want\", \"want\", \"want\", \"want\", \"want\", \"want\", \"want\", \"want\", \"want\", \"want\", \"want\", \"want\", \"want\", \"want\", \"way\", \"way\", \"way\", \"way\", \"way\", \"way\", \"way\", \"way\", \"way\", \"way\", \"way\", \"way\", \"way\", \"way\", \"way\", \"way\", \"way\", \"way\", \"way\", \"way\", \"wchar\", \"weak\", \"weak\", \"weak\", \"web\", \"web\", \"web\", \"web\", \"web\", \"web\", \"web\", \"web\", \"web\", \"web\", \"web\", \"web\", \"web\", \"web\", \"web\", \"web\", \"web\", \"web\", \"web\", \"web\", \"webbrowser\", \"webclient\", \"webdriver\", \"webdriver\", \"webpack\", \"webpack\", \"webpack\", \"webpack\", \"webpack\", \"webpack\", \"webservice\", \"websocket\", \"websocket\", \"websocket\", \"webview\", \"webview\", \"webview\", \"wformat\", \"wformat\", \"wformat\", \"wformat\", \"wformat\", \"what\\u2019s\", \"white\", \"white\", \"white\", \"white\", \"white\", \"white\", \"white\", \"widget\", \"widget\", \"widget\", \"widget\", \"widget\", \"width\", \"width\", \"width\", \"width\", \"width\", \"width\", \"width\", \"width\", \"width\", \"width\", \"width\", \"width\", \"width\", \"width\", \"width\", \"wiki\", \"wiki\", \"wiki\", \"wiki\", \"wildcard\", \"windowmanagerimpl\", \"windows\", \"windows\", \"windows\", \"windows\", \"windows\", \"windows\", \"windows\", \"windows\", \"windows\", \"windows\", \"windows\", \"windows\", \"windows\", \"windows\", \"windows\", \"windows\", \"windows\", \"windows\", \"windows\", \"windows\", \"wordpress\", \"wordpress\", \"work\", \"work\", \"work\", \"work\", \"work\", \"work\", \"work\", \"work\", \"work\", \"work\", \"work\", \"work\", \"work\", \"work\", \"work\", \"work\", \"work\", \"work\", \"work\", \"work\", \"workbench\", \"world\", \"world\", \"world\", \"world\", \"world\", \"world\", \"world\", \"world\", \"world\", \"world\", \"world\", \"world\", \"world\", \"world\", \"world\", \"world\", \"world\", \"world\", \"world\", \"would\", \"would\", \"would\", \"would\", \"would\", \"would\", \"would\", \"would\", \"would\", \"would\", \"would\", \"would\", \"would\", \"would\", \"would\", \"would\", \"would\", \"would\", \"would\", \"would\", \"wp\", \"wrap\", \"wrap\", \"wrap\", \"wrap\", \"wrap\", \"wrap\", \"wrap\", \"wrap\", \"wrap\", \"wrap\", \"wrap\", \"wrap\", \"wrap\", \"wrap\", \"wrap\", \"wrap\", \"wrap\", \"write\", \"write\", \"write\", \"write\", \"write\", \"write\", \"write\", \"write\", \"write\", \"write\", \"write\", \"write\", \"write\", \"write\", \"write\", \"write\", \"write\", \"write\", \"write\", \"write\", \"x\", \"x\", \"x\", \"x\", \"x\", \"x\", \"x\", \"x\", \"x\", \"x\", \"x\", \"x\", \"x\", \"x\", \"x\", \"x\", \"x\", \"x\", \"x\", \"x\", \"xampp\", \"xargs\", \"xargs\", \"xcode\", \"xcode\", \"xcode\", \"xcode\", \"xcode\", \"xcode\", \"xcode\", \"xcode\", \"xcode\", \"xcode\", \"xcodebuild\", \"xhr\", \"xib\", \"xml\", \"xml\", \"xml\", \"xml\", \"xml\", \"xml\", \"xml\", \"xml\", \"xml\", \"xml\", \"xml\", \"xml\", \"xml\", \"xml\", \"xml\", \"xml\", \"xml\", \"xmlhttprequest\", \"xmlhttprequest\", \"xmlserializer\", \"xpath\", \"xpath\", \"xsl\", \"xy\", \"yahoo\", \"year\", \"year\", \"year\", \"year\", \"year\", \"year\", \"yellow\", \"yellow\", \"z\", \"z\", \"z\", \"z\", \"z\", \"z\", \"z\", \"z\", \"z\", \"z\", \"zone\", \"zone\", \"zone\", \"zoom\", \"zoom\", \"zoom\", \"zygoteinit\", \"zygoteinit\", \"~\", \"~\", \"~\", \"~\", \"~\", \"~\", \"~\", \"~\", \"~\", \"~\", \"~\", \"~\", \"~\", \"~\", \"~\", \"\\u2502\", \"\\u2502\", \"\\u2514\\u2500\\u2500\", \"\\u2514\\u2500\\u2500\", \"\\u251c\\u2500\\u2500\", \"\\u251c\\u2500\\u2500\"]}, \"R\": 30, \"lambda.step\": 0.01, \"plot.opts\": {\"xlab\": \"PC1\", \"ylab\": \"PC2\"}, \"topic.order\": [15, 5, 7, 17, 14, 10, 1, 20, 9, 18, 6, 2, 19, 3, 4, 13, 12, 8, 16, 11]};\n",
       "\n",
       "function LDAvis_load_lib(url, callback){\n",
       "  var s = document.createElement('script');\n",
       "  s.src = url;\n",
       "  s.async = true;\n",
       "  s.onreadystatechange = s.onload = callback;\n",
       "  s.onerror = function(){console.warn(\"failed to load library \" + url);};\n",
       "  document.getElementsByTagName(\"head\")[0].appendChild(s);\n",
       "}\n",
       "\n",
       "if(typeof(LDAvis) !== \"undefined\"){\n",
       "   // already loaded: just create the visualization\n",
       "   !function(LDAvis){\n",
       "       new LDAvis(\"#\" + \"ldavis_el711401302441029929616575083\", ldavis_el711401302441029929616575083_data);\n",
       "   }(LDAvis);\n",
       "}else if(typeof define === \"function\" && define.amd){\n",
       "   // require.js is available: use it to load d3/LDAvis\n",
       "   require.config({paths: {d3: \"https://cdnjs.cloudflare.com/ajax/libs/d3/3.5.5/d3.min\"}});\n",
       "   require([\"d3\"], function(d3){\n",
       "      window.d3 = d3;\n",
       "      LDAvis_load_lib(\"https://cdn.rawgit.com/bmabey/pyLDAvis/files/ldavis.v1.0.0.js\", function(){\n",
       "        new LDAvis(\"#\" + \"ldavis_el711401302441029929616575083\", ldavis_el711401302441029929616575083_data);\n",
       "      });\n",
       "    });\n",
       "}else{\n",
       "    // require.js not available: dynamically load d3 & LDAvis\n",
       "    LDAvis_load_lib(\"https://cdnjs.cloudflare.com/ajax/libs/d3/3.5.5/d3.min.js\", function(){\n",
       "         LDAvis_load_lib(\"https://cdn.rawgit.com/bmabey/pyLDAvis/files/ldavis.v1.0.0.js\", function(){\n",
       "                 new LDAvis(\"#\" + \"ldavis_el711401302441029929616575083\", ldavis_el711401302441029929616575083_data);\n",
       "            })\n",
       "         });\n",
       "}\n",
       "</script>"
      ],
      "text/plain": [
       "PreparedData(topic_coordinates=              x         y  topics  cluster      Freq\n",
       "topic                                               \n",
       "14     0.041694  0.094358  1       1        8.244779\n",
       "4      0.093238  0.040930  2       1        7.872806\n",
       "6      0.130915 -0.018743  3       1        7.459946\n",
       "16    -0.043224  0.063935  4       1        7.171583\n",
       "13     0.164421 -0.075824  5       1        6.460104\n",
       "9     -0.023554 -0.172546  6       1        5.692504\n",
       "0     -0.091083  0.080313  7       1        5.515188\n",
       "19    -0.074555  0.080649  8       1        5.328092\n",
       "8     -0.123084 -0.163300  9       1        5.265722\n",
       "17     0.130980 -0.088377  10      1        5.165849\n",
       "5     -0.174160 -0.182058  11      1        4.820662\n",
       "1     -0.145736  0.047176  12      1        4.588652\n",
       "18     0.084176  0.042724  13      1        4.002186\n",
       "2      0.012683  0.068763  14      1        3.750293\n",
       "3      0.024461  0.094170  15      1        3.745838\n",
       "12    -0.098829  0.098034  16      1        3.581162\n",
       "11     0.137853 -0.075283  17      1        3.389823\n",
       "7     -0.124038  0.025539  18      1        3.262110\n",
       "15     0.026852 -0.011946  19      1        2.445857\n",
       "10     0.050987  0.051488  20      1        2.236841, topic_info=        Term         Freq        Total Category  logprob  loglift\n",
       "274  android  6660.000000  6660.000000  Default  30.0000  30.0000\n",
       "293  file     8212.000000  8212.000000  Default  29.0000  29.0000\n",
       "19   git      3961.000000  3961.000000  Default  28.0000  28.0000\n",
       "587  class    5550.000000  5550.000000  Default  27.0000  27.0000\n",
       "86   string   4630.000000  4630.000000  Default  26.0000  26.0000\n",
       "..      ...           ...          ...      ...      ...      ...\n",
       "50   add      110.517063   3176.425296  Topic20 -5.3685   0.4418 \n",
       "222  new      106.432217   4924.846743  Topic20 -5.4062  -0.0344 \n",
       "427  draw     84.169826    273.794954   Topic20 -5.6409   2.6206 \n",
       "130  c        88.092892    3511.759382  Topic20 -5.5953   0.1146 \n",
       "41   type     85.733042    3115.646139  Topic20 -5.6225   0.2072 \n",
       "\n",
       "[1582 rows x 6 columns], token_table=      Topic      Freq Term\n",
       "term                      \n",
       "126   2      0.034645  #  \n",
       "126   3      0.121740  #  \n",
       "126   4      0.054855  #  \n",
       "126   5      0.329130  #  \n",
       "126   6      0.010105  #  \n",
       "...  ..           ... ..  \n",
       "3737  19     0.984487  │  \n",
       "3738  10     0.042999  └──\n",
       "3738  19     0.945970  └──\n",
       "3739  10     0.018627  ├──\n",
       "3739  19     0.977923  ├──\n",
       "\n",
       "[8326 rows x 3 columns], R=30, lambda_step=0.01, plot_opts={'xlab': 'PC1', 'ylab': 'PC2'}, topic_order=[15, 5, 7, 17, 14, 10, 1, 20, 9, 18, 6, 2, 19, 3, 4, 13, 12, 8, 16, 11])"
      ]
     },
     "execution_count": 137,
     "metadata": {},
     "output_type": "execute_result"
    }
   ],
   "source": [
    "pyLDAvis.enable_notebook()\n",
    "vis = pyLDAvis.gensim.prepare(ldaModel, bow, dictionary)\n",
    "vis"
   ]
  },
  {
   "cell_type": "markdown",
   "metadata": {},
   "source": [
    "##### Sauvegarde du dictionnaire et du modéle LDA: fichier PKL"
   ]
  },
  {
   "cell_type": "code",
   "execution_count": 138,
   "metadata": {
    "id": "2Epgxy6X_URG"
   },
   "outputs": [],
   "source": [
    "#Sauvegarde du dico\n",
    "filename = 'API/dictionnary.pkl'\n",
    "pickle.dump(dictionary, open(filename, 'wb'))"
   ]
  },
  {
   "cell_type": "code",
   "execution_count": 139,
   "metadata": {
    "id": "-Rrbcrxe_fR2"
   },
   "outputs": [],
   "source": [
    "#Sauvegarde du modèle LDA\n",
    "filename = 'API/model_lda.pkl'\n",
    "pickle.dump(ldaModel, open(filename, 'wb'))"
   ]
  },
  {
   "cell_type": "markdown",
   "metadata": {},
   "source": [
    "## 3 Fonction de prediction"
   ]
  },
  {
   "cell_type": "code",
   "execution_count": 140,
   "metadata": {
    "id": "kH1AOXEY_isV"
   },
   "outputs": [],
   "source": [
    "\n",
    "import pandas as pd\n",
    "import numpy as np\n",
    "from operator import itemgetter\n",
    "import pickle\n",
    "from sklearn.feature_extraction.text import CountVectorizer\n",
    "from sklearn.preprocessing import MultiLabelBinarizer\n",
    "from sklearn.linear_model import LogisticRegression\n",
    "from sklearn.multiclass import OneVsRestClassifier\n",
    "from gensim.models.ldamodel import LdaModel\n",
    "from gensim.corpora.dictionary import Dictionary\n",
    "\n",
    "import re\n",
    "import nltk\n",
    "from nltk.stem.snowball import EnglishStemmer\n",
    "from nltk.stem import WordNetLemmatizer\n",
    "from nltk.corpus import stopwords\n",
    "from bs4 import BeautifulSoup\n",
    "import spacy\n",
    "import en_core_web_sm\n",
    "nlp = en_core_web_sm.load()"
   ]
  },
  {
   "cell_type": "code",
   "execution_count": 141,
   "metadata": {
    "id": "EJkIyHWb_pM7"
   },
   "outputs": [],
   "source": [
    "def lower_case(text):\n",
    "  return text.lower()\n",
    "\n",
    "def rm_bad_character(text):\n",
    "  char = [\",\", \";\", \".\", \"?\", \"!\", \"'\", \":\", \"*\", \"/\", \"\\n\", \"(\", \")\", \"|\", \"_\", \"`\",\">\",\"<\",\"=\", \"$\", \"%\", '\"', \"[\",\"]\",\"{\",\"}\",\"-\"]\n",
    "  dig = [\"0\", \"1\", \"2\", \"3\", \"4\", \"5\", \"6\", \"7\", \"8\", \"9\"]\n",
    "  for word in char:\n",
    "    text = text.replace(word,'')\n",
    "  for num in dig:\n",
    "    text = text.replace(num,'')\n",
    "  return text\n",
    "\n",
    "def rm_stopwords(text):\n",
    "  stop_list = stopwords.words('english')\n",
    "  tokenizer = nltk.RegexpTokenizer('\\s+', gaps=True)\n",
    "  doc = tokenizer.tokenize(text)\n",
    "  words = [item for item in doc if item not in stop_list]\n",
    "  return ' '.join(words)\n",
    "\n",
    "def lem(text):\n",
    "  tokenizer = nltk.RegexpTokenizer('\\s+', gaps=True)\n",
    "  lemmatizer = WordNetLemmatizer()\n",
    "  doc = tokenizer.tokenize(text)\n",
    "  words = [lemmatizer.lemmatize(y, pos='v') for y in doc]\n",
    "  return ' '.join(words)\n"
   ]
  },
  {
   "cell_type": "code",
   "execution_count": 142,
   "metadata": {
    "id": "2haeX7NF_sen"
   },
   "outputs": [],
   "source": [
    "def cleansing(text):\n",
    "    text = lower_case(text)\n",
    "    text = rm_bad_character(text)\n",
    "    text = rm_stopwords(text)\n",
    "    text = lem(text)\n",
    "    return text"
   ]
  },
  {
   "cell_type": "code",
   "execution_count": 143,
   "metadata": {
    "colab": {
     "base_uri": "https://localhost:8080/"
    },
    "id": "2r4gokG-_vjV",
    "outputId": "6053b5b4-b282-4f6a-b846-435495a7e670"
   },
   "outputs": [
    {
     "name": "stdout",
     "output_type": "stream",
     "text": [
      "[nltk_data] Downloading package stopwords to /root/nltk_data...\n",
      "[nltk_data]   Unzipping corpora/stopwords.zip.\n"
     ]
    },
    {
     "data": {
      "text/plain": [
       "True"
      ]
     },
     "execution_count": 143,
     "metadata": {},
     "output_type": "execute_result"
    }
   ],
   "source": [
    "nltk.download('stopwords')"
   ]
  },
  {
   "cell_type": "code",
   "execution_count": 144,
   "metadata": {
    "colab": {
     "base_uri": "https://localhost:8080/"
    },
    "id": "6hC_QEWF_yX4",
    "outputId": "555f2ae6-4c72-4815-c577-c0d25f981598"
   },
   "outputs": [
    {
     "name": "stdout",
     "output_type": "stream",
     "text": [
      "[nltk_data] Downloading package wordnet to /root/nltk_data...\n",
      "[nltk_data]   Unzipping corpora/wordnet.zip.\n"
     ]
    },
    {
     "data": {
      "text/plain": [
       "True"
      ]
     },
     "execution_count": 144,
     "metadata": {},
     "output_type": "execute_result"
    }
   ],
   "source": [
    "nltk.download('wordnet')"
   ]
  },
  {
   "cell_type": "code",
   "execution_count": 145,
   "metadata": {
    "id": "BJu9A2BE_49f"
   },
   "outputs": [],
   "source": [
    "clf = pickle.load(open('API/model_lr.pkl', 'rb'))\n",
    "mlb = pickle.load(open('API/multiLabBin.pkl', 'rb'))\n",
    "vector = pickle.load(open('API/vectorization.pkl', 'rb'))\n",
    "ldaModel = pickle.load(open('API/model_lda.pkl', 'rb'))\n",
    "dictionnary = pickle.load(open('API/dictionnary.pkl', 'rb'))"
   ]
  },
  {
   "cell_type": "code",
   "execution_count": 146,
   "metadata": {
    "id": "0bAvaZvD__52"
   },
   "outputs": [],
   "source": [
    "def make_prediction(title,body):\n",
    "  #on fusionne le title et le body\n",
    "  full_text = title+' '+body\n",
    "\n",
    "  #on nettoie notre data\n",
    "  text_clean = cleansing(full_text)\n",
    "\n",
    "  #Partie prédiction supervisée\n",
    "  #on insère notre résultat dans une liste pour effectuer les opérations suivantes\n",
    "  l = []\n",
    "  l.append(text_clean)\n",
    "\n",
    "  #on vectorise\n",
    "  input_to_pred = vector.transform(l)\n",
    "\n",
    "  #on passe à la prédiction\n",
    "  input_pred = clf.predict(input_to_pred)\n",
    "\n",
    "  #on récupère la ou les valeurs prédites\n",
    "  output = mlb.inverse_transform(input_pred)\n",
    "\n",
    "  #Partie prédiction non supervisée\n",
    "  #création du BOW à partir du dictionnaire\n",
    "  bow = dictionnary.doc2bow(text_clean.split())\n",
    "\n",
    "  #on récupère le meilleur topic\n",
    "  best_topic = max(ldaModel.get_document_topics(bow),key=itemgetter(1))[0]\n",
    "\n",
    "  #on récupère les 3 premiers keywors\n",
    "  keywords = [x[0] for x in ldaModel.show_topic(best_topic, topn=3)]\n",
    "\n",
    "  print(output)\n",
    "  print(keywords)"
   ]
  },
  {
   "cell_type": "markdown",
   "metadata": {},
   "source": [
    "#### Test par tournage à la main"
   ]
  },
  {
   "cell_type": "code",
   "execution_count": 147,
   "metadata": {
    "id": "8r7FI0QQADk2"
   },
   "outputs": [],
   "source": [
    "body='I have been developing a private python package (my first py package) and want to change the name while retainng all my git commits.I formatted it in a similar way to Cookie Cutter Data Science where all the code lives in the src dir. This has been fine while building but when upload it to a server or another computer I don''t want to have to call it like... from src.data import * I have tried just renaming it using git mv src/ newname/ but when I push this change to Github all my files are lost (i know they are there but I would prefer to easily see all my past changes). I shared it in the form of a .whl file. So do I just have to rename it and deal with loosing the changes? Or is there a different git command to use. Or is there some configuration in the setup.py file i can do? Here is my setup.py for reference.'\n",
    "title='Change private python package name while retaining git history'"
   ]
  },
  {
   "cell_type": "code",
   "execution_count": 148,
   "metadata": {
    "colab": {
     "base_uri": "https://localhost:8080/"
    },
    "id": "1-cueKxvAMoc",
    "outputId": "87b9936c-bafc-4d69-8865-ed1b93e3bc28"
   },
   "outputs": [
    {
     "name": "stdout",
     "output_type": "stream",
     "text": [
      "[('git', 'python')]\n",
      "['file', 'run', 'use']\n"
     ]
    }
   ],
   "source": [
    "make_prediction(title,body)"
   ]
  }
 ],
 "metadata": {
  "accelerator": "GPU",
  "colab": {
   "collapsed_sections": [],
   "machine_shape": "hm",
   "name": "P5_02_notebooktest_colab (2).ipynb",
   "provenance": []
  },
  "kernelspec": {
   "display_name": "Python 3 (ipykernel)",
   "language": "python",
   "name": "python3"
  },
  "language_info": {
   "codemirror_mode": {
    "name": "ipython",
    "version": 3
   },
   "file_extension": ".py",
   "mimetype": "text/x-python",
   "name": "python",
   "nbconvert_exporter": "python",
   "pygments_lexer": "ipython3",
   "version": "3.9.7"
  },
  "widgets": {
   "application/vnd.jupyter.widget-state+json": {
    "001a05bacf8e4bc4b2d6c8aeb1d76db3": {
     "model_module": "@jupyter-widgets/controls",
     "model_module_version": "1.5.0",
     "model_name": "FloatProgressModel",
     "state": {
      "_dom_classes": [],
      "_model_module": "@jupyter-widgets/controls",
      "_model_module_version": "1.5.0",
      "_model_name": "FloatProgressModel",
      "_view_count": null,
      "_view_module": "@jupyter-widgets/controls",
      "_view_module_version": "1.5.0",
      "_view_name": "ProgressView",
      "bar_style": "success",
      "description": "",
      "description_tooltip": null,
      "layout": "IPY_MODEL_5ad8b4b993f2485989e157e0ff2082c5",
      "max": 267967963,
      "min": 0,
      "orientation": "horizontal",
      "style": "IPY_MODEL_47508aefbf3145a69c3761f0308379c3",
      "value": 267967963
     }
    },
    "03ec75f4515645209de820407d7ba6e1": {
     "model_module": "@jupyter-widgets/base",
     "model_module_version": "1.2.0",
     "model_name": "LayoutModel",
     "state": {
      "_model_module": "@jupyter-widgets/base",
      "_model_module_version": "1.2.0",
      "_model_name": "LayoutModel",
      "_view_count": null,
      "_view_module": "@jupyter-widgets/base",
      "_view_module_version": "1.2.0",
      "_view_name": "LayoutView",
      "align_content": null,
      "align_items": null,
      "align_self": null,
      "border": null,
      "bottom": null,
      "display": null,
      "flex": null,
      "flex_flow": null,
      "grid_area": null,
      "grid_auto_columns": null,
      "grid_auto_flow": null,
      "grid_auto_rows": null,
      "grid_column": null,
      "grid_gap": null,
      "grid_row": null,
      "grid_template_areas": null,
      "grid_template_columns": null,
      "grid_template_rows": null,
      "height": null,
      "justify_content": null,
      "justify_items": null,
      "left": null,
      "margin": null,
      "max_height": null,
      "max_width": null,
      "min_height": null,
      "min_width": null,
      "object_fit": null,
      "object_position": null,
      "order": null,
      "overflow": null,
      "overflow_x": null,
      "overflow_y": null,
      "padding": null,
      "right": null,
      "top": null,
      "visibility": null,
      "width": null
     }
    },
    "095826e5df0544b9ac405cae477568ee": {
     "model_module": "@jupyter-widgets/base",
     "model_module_version": "1.2.0",
     "model_name": "LayoutModel",
     "state": {
      "_model_module": "@jupyter-widgets/base",
      "_model_module_version": "1.2.0",
      "_model_name": "LayoutModel",
      "_view_count": null,
      "_view_module": "@jupyter-widgets/base",
      "_view_module_version": "1.2.0",
      "_view_name": "LayoutView",
      "align_content": null,
      "align_items": null,
      "align_self": null,
      "border": null,
      "bottom": null,
      "display": null,
      "flex": null,
      "flex_flow": null,
      "grid_area": null,
      "grid_auto_columns": null,
      "grid_auto_flow": null,
      "grid_auto_rows": null,
      "grid_column": null,
      "grid_gap": null,
      "grid_row": null,
      "grid_template_areas": null,
      "grid_template_columns": null,
      "grid_template_rows": null,
      "height": null,
      "justify_content": null,
      "justify_items": null,
      "left": null,
      "margin": null,
      "max_height": null,
      "max_width": null,
      "min_height": null,
      "min_width": null,
      "object_fit": null,
      "object_position": null,
      "order": null,
      "overflow": null,
      "overflow_x": null,
      "overflow_y": null,
      "padding": null,
      "right": null,
      "top": null,
      "visibility": null,
      "width": null
     }
    },
    "096feaef27b142e2bd7273056765aa85": {
     "model_module": "@jupyter-widgets/base",
     "model_module_version": "1.2.0",
     "model_name": "LayoutModel",
     "state": {
      "_model_module": "@jupyter-widgets/base",
      "_model_module_version": "1.2.0",
      "_model_name": "LayoutModel",
      "_view_count": null,
      "_view_module": "@jupyter-widgets/base",
      "_view_module_version": "1.2.0",
      "_view_name": "LayoutView",
      "align_content": null,
      "align_items": null,
      "align_self": null,
      "border": null,
      "bottom": null,
      "display": null,
      "flex": null,
      "flex_flow": null,
      "grid_area": null,
      "grid_auto_columns": null,
      "grid_auto_flow": null,
      "grid_auto_rows": null,
      "grid_column": null,
      "grid_gap": null,
      "grid_row": null,
      "grid_template_areas": null,
      "grid_template_columns": null,
      "grid_template_rows": null,
      "height": null,
      "justify_content": null,
      "justify_items": null,
      "left": null,
      "margin": null,
      "max_height": null,
      "max_width": null,
      "min_height": null,
      "min_width": null,
      "object_fit": null,
      "object_position": null,
      "order": null,
      "overflow": null,
      "overflow_x": null,
      "overflow_y": null,
      "padding": null,
      "right": null,
      "top": null,
      "visibility": null,
      "width": null
     }
    },
    "0a19f32063c241b0843f9ec778a08cd1": {
     "model_module": "@jupyter-widgets/controls",
     "model_module_version": "1.5.0",
     "model_name": "HTMLModel",
     "state": {
      "_dom_classes": [],
      "_model_module": "@jupyter-widgets/controls",
      "_model_module_version": "1.5.0",
      "_model_name": "HTMLModel",
      "_view_count": null,
      "_view_module": "@jupyter-widgets/controls",
      "_view_module_version": "1.5.0",
      "_view_name": "HTMLView",
      "description": "",
      "description_tooltip": null,
      "layout": "IPY_MODEL_095826e5df0544b9ac405cae477568ee",
      "placeholder": "​",
      "style": "IPY_MODEL_a40994f8c11648429d26e5db30bd8155",
      "value": " 455k/455k [00:00&lt;00:00, 1.76MB/s]"
     }
    },
    "0cd7f748ac3c4498a4d50b4aee2630e9": {
     "model_module": "@jupyter-widgets/controls",
     "model_module_version": "1.5.0",
     "model_name": "HTMLModel",
     "state": {
      "_dom_classes": [],
      "_model_module": "@jupyter-widgets/controls",
      "_model_module_version": "1.5.0",
      "_model_name": "HTMLModel",
      "_view_count": null,
      "_view_module": "@jupyter-widgets/controls",
      "_view_module_version": "1.5.0",
      "_view_name": "HTMLView",
      "description": "",
      "description_tooltip": null,
      "layout": "IPY_MODEL_ba02a5cf0fa943a897d15c6735c18df6",
      "placeholder": "​",
      "style": "IPY_MODEL_a798ae487ae34bfaa0f9043c6eac5c31",
      "value": " 28.0/28.0 [00:00&lt;00:00, 555B/s]"
     }
    },
    "1a154bc65f9641a5bc93eaa925a41c03": {
     "model_module": "@jupyter-widgets/controls",
     "model_module_version": "1.5.0",
     "model_name": "FloatProgressModel",
     "state": {
      "_dom_classes": [],
      "_model_module": "@jupyter-widgets/controls",
      "_model_module_version": "1.5.0",
      "_model_name": "FloatProgressModel",
      "_view_count": null,
      "_view_module": "@jupyter-widgets/controls",
      "_view_module_version": "1.5.0",
      "_view_name": "ProgressView",
      "bar_style": "success",
      "description": "",
      "description_tooltip": null,
      "layout": "IPY_MODEL_c34e8e2c986946bf8eca93de5e7e6621",
      "max": 483,
      "min": 0,
      "orientation": "horizontal",
      "style": "IPY_MODEL_9586b97ccc304cdd98c8688761ae3a2b",
      "value": 483
     }
    },
    "1e4f7da95d3d48dda69eaafe4814a5a9": {
     "model_module": "@jupyter-widgets/controls",
     "model_module_version": "1.5.0",
     "model_name": "HBoxModel",
     "state": {
      "_dom_classes": [],
      "_model_module": "@jupyter-widgets/controls",
      "_model_module_version": "1.5.0",
      "_model_name": "HBoxModel",
      "_view_count": null,
      "_view_module": "@jupyter-widgets/controls",
      "_view_module_version": "1.5.0",
      "_view_name": "HBoxView",
      "box_style": "",
      "children": [
       "IPY_MODEL_7e1efeee29694542a019c7e604f9387d",
       "IPY_MODEL_1a154bc65f9641a5bc93eaa925a41c03",
       "IPY_MODEL_73c6418d411847dca3c4bd0f9ef7fcbc"
      ],
      "layout": "IPY_MODEL_6f3167ba59fa4a6e940bb3a67877170f"
     }
    },
    "1f68d4a5887442ac8bfad388b6f739fd": {
     "model_module": "@jupyter-widgets/base",
     "model_module_version": "1.2.0",
     "model_name": "LayoutModel",
     "state": {
      "_model_module": "@jupyter-widgets/base",
      "_model_module_version": "1.2.0",
      "_model_name": "LayoutModel",
      "_view_count": null,
      "_view_module": "@jupyter-widgets/base",
      "_view_module_version": "1.2.0",
      "_view_name": "LayoutView",
      "align_content": null,
      "align_items": null,
      "align_self": null,
      "border": null,
      "bottom": null,
      "display": null,
      "flex": null,
      "flex_flow": null,
      "grid_area": null,
      "grid_auto_columns": null,
      "grid_auto_flow": null,
      "grid_auto_rows": null,
      "grid_column": null,
      "grid_gap": null,
      "grid_row": null,
      "grid_template_areas": null,
      "grid_template_columns": null,
      "grid_template_rows": null,
      "height": null,
      "justify_content": null,
      "justify_items": null,
      "left": null,
      "margin": null,
      "max_height": null,
      "max_width": null,
      "min_height": null,
      "min_width": null,
      "object_fit": null,
      "object_position": null,
      "order": null,
      "overflow": null,
      "overflow_x": null,
      "overflow_y": null,
      "padding": null,
      "right": null,
      "top": null,
      "visibility": null,
      "width": null
     }
    },
    "259a38ecc5c34a54ab78c7546a36df39": {
     "model_module": "@jupyter-widgets/controls",
     "model_module_version": "1.5.0",
     "model_name": "FloatProgressModel",
     "state": {
      "_dom_classes": [],
      "_model_module": "@jupyter-widgets/controls",
      "_model_module_version": "1.5.0",
      "_model_name": "FloatProgressModel",
      "_view_count": null,
      "_view_module": "@jupyter-widgets/controls",
      "_view_module_version": "1.5.0",
      "_view_name": "ProgressView",
      "bar_style": "success",
      "description": "",
      "description_tooltip": null,
      "layout": "IPY_MODEL_c5d7a1aaa852473f881aea47c41ac0dc",
      "max": 466062,
      "min": 0,
      "orientation": "horizontal",
      "style": "IPY_MODEL_8ce0d736b089421d9238897bfa9a468b",
      "value": 466062
     }
    },
    "38187d48113f46538bd6176067195793": {
     "model_module": "@jupyter-widgets/controls",
     "model_module_version": "1.5.0",
     "model_name": "ProgressStyleModel",
     "state": {
      "_model_module": "@jupyter-widgets/controls",
      "_model_module_version": "1.5.0",
      "_model_name": "ProgressStyleModel",
      "_view_count": null,
      "_view_module": "@jupyter-widgets/base",
      "_view_module_version": "1.2.0",
      "_view_name": "StyleView",
      "bar_color": null,
      "description_width": ""
     }
    },
    "3e96164236804fec9564697612e06c87": {
     "model_module": "@jupyter-widgets/controls",
     "model_module_version": "1.5.0",
     "model_name": "DescriptionStyleModel",
     "state": {
      "_model_module": "@jupyter-widgets/controls",
      "_model_module_version": "1.5.0",
      "_model_name": "DescriptionStyleModel",
      "_view_count": null,
      "_view_module": "@jupyter-widgets/base",
      "_view_module_version": "1.2.0",
      "_view_name": "StyleView",
      "description_width": ""
     }
    },
    "47508aefbf3145a69c3761f0308379c3": {
     "model_module": "@jupyter-widgets/controls",
     "model_module_version": "1.5.0",
     "model_name": "ProgressStyleModel",
     "state": {
      "_model_module": "@jupyter-widgets/controls",
      "_model_module_version": "1.5.0",
      "_model_name": "ProgressStyleModel",
      "_view_count": null,
      "_view_module": "@jupyter-widgets/base",
      "_view_module_version": "1.2.0",
      "_view_name": "StyleView",
      "bar_color": null,
      "description_width": ""
     }
    },
    "4e5761165db24fda922ff3eeaa5de5eb": {
     "model_module": "@jupyter-widgets/controls",
     "model_module_version": "1.5.0",
     "model_name": "DescriptionStyleModel",
     "state": {
      "_model_module": "@jupyter-widgets/controls",
      "_model_module_version": "1.5.0",
      "_model_name": "DescriptionStyleModel",
      "_view_count": null,
      "_view_module": "@jupyter-widgets/base",
      "_view_module_version": "1.2.0",
      "_view_name": "StyleView",
      "description_width": ""
     }
    },
    "59155b92bc5941a499c11db387332911": {
     "model_module": "@jupyter-widgets/base",
     "model_module_version": "1.2.0",
     "model_name": "LayoutModel",
     "state": {
      "_model_module": "@jupyter-widgets/base",
      "_model_module_version": "1.2.0",
      "_model_name": "LayoutModel",
      "_view_count": null,
      "_view_module": "@jupyter-widgets/base",
      "_view_module_version": "1.2.0",
      "_view_name": "LayoutView",
      "align_content": null,
      "align_items": null,
      "align_self": null,
      "border": null,
      "bottom": null,
      "display": null,
      "flex": null,
      "flex_flow": null,
      "grid_area": null,
      "grid_auto_columns": null,
      "grid_auto_flow": null,
      "grid_auto_rows": null,
      "grid_column": null,
      "grid_gap": null,
      "grid_row": null,
      "grid_template_areas": null,
      "grid_template_columns": null,
      "grid_template_rows": null,
      "height": null,
      "justify_content": null,
      "justify_items": null,
      "left": null,
      "margin": null,
      "max_height": null,
      "max_width": null,
      "min_height": null,
      "min_width": null,
      "object_fit": null,
      "object_position": null,
      "order": null,
      "overflow": null,
      "overflow_x": null,
      "overflow_y": null,
      "padding": null,
      "right": null,
      "top": null,
      "visibility": null,
      "width": null
     }
    },
    "5ad8b4b993f2485989e157e0ff2082c5": {
     "model_module": "@jupyter-widgets/base",
     "model_module_version": "1.2.0",
     "model_name": "LayoutModel",
     "state": {
      "_model_module": "@jupyter-widgets/base",
      "_model_module_version": "1.2.0",
      "_model_name": "LayoutModel",
      "_view_count": null,
      "_view_module": "@jupyter-widgets/base",
      "_view_module_version": "1.2.0",
      "_view_name": "LayoutView",
      "align_content": null,
      "align_items": null,
      "align_self": null,
      "border": null,
      "bottom": null,
      "display": null,
      "flex": null,
      "flex_flow": null,
      "grid_area": null,
      "grid_auto_columns": null,
      "grid_auto_flow": null,
      "grid_auto_rows": null,
      "grid_column": null,
      "grid_gap": null,
      "grid_row": null,
      "grid_template_areas": null,
      "grid_template_columns": null,
      "grid_template_rows": null,
      "height": null,
      "justify_content": null,
      "justify_items": null,
      "left": null,
      "margin": null,
      "max_height": null,
      "max_width": null,
      "min_height": null,
      "min_width": null,
      "object_fit": null,
      "object_position": null,
      "order": null,
      "overflow": null,
      "overflow_x": null,
      "overflow_y": null,
      "padding": null,
      "right": null,
      "top": null,
      "visibility": null,
      "width": null
     }
    },
    "6389ee95f7b94bc4be4ac231c98ef275": {
     "model_module": "@jupyter-widgets/controls",
     "model_module_version": "1.5.0",
     "model_name": "HTMLModel",
     "state": {
      "_dom_classes": [],
      "_model_module": "@jupyter-widgets/controls",
      "_model_module_version": "1.5.0",
      "_model_name": "HTMLModel",
      "_view_count": null,
      "_view_module": "@jupyter-widgets/controls",
      "_view_module_version": "1.5.0",
      "_view_name": "HTMLView",
      "description": "",
      "description_tooltip": null,
      "layout": "IPY_MODEL_1f68d4a5887442ac8bfad388b6f739fd",
      "placeholder": "​",
      "style": "IPY_MODEL_f21ecde03d5b4cd0978c92960d7e0c36",
      "value": "Downloading: 100%"
     }
    },
    "694aed22def84151848ae3da8116a38b": {
     "model_module": "@jupyter-widgets/base",
     "model_module_version": "1.2.0",
     "model_name": "LayoutModel",
     "state": {
      "_model_module": "@jupyter-widgets/base",
      "_model_module_version": "1.2.0",
      "_model_name": "LayoutModel",
      "_view_count": null,
      "_view_module": "@jupyter-widgets/base",
      "_view_module_version": "1.2.0",
      "_view_name": "LayoutView",
      "align_content": null,
      "align_items": null,
      "align_self": null,
      "border": null,
      "bottom": null,
      "display": null,
      "flex": null,
      "flex_flow": null,
      "grid_area": null,
      "grid_auto_columns": null,
      "grid_auto_flow": null,
      "grid_auto_rows": null,
      "grid_column": null,
      "grid_gap": null,
      "grid_row": null,
      "grid_template_areas": null,
      "grid_template_columns": null,
      "grid_template_rows": null,
      "height": null,
      "justify_content": null,
      "justify_items": null,
      "left": null,
      "margin": null,
      "max_height": null,
      "max_width": null,
      "min_height": null,
      "min_width": null,
      "object_fit": null,
      "object_position": null,
      "order": null,
      "overflow": null,
      "overflow_x": null,
      "overflow_y": null,
      "padding": null,
      "right": null,
      "top": null,
      "visibility": null,
      "width": null
     }
    },
    "6f24d2d53f7e448198da84f56825c3a1": {
     "model_module": "@jupyter-widgets/controls",
     "model_module_version": "1.5.0",
     "model_name": "DescriptionStyleModel",
     "state": {
      "_model_module": "@jupyter-widgets/controls",
      "_model_module_version": "1.5.0",
      "_model_name": "DescriptionStyleModel",
      "_view_count": null,
      "_view_module": "@jupyter-widgets/base",
      "_view_module_version": "1.2.0",
      "_view_name": "StyleView",
      "description_width": ""
     }
    },
    "6f3167ba59fa4a6e940bb3a67877170f": {
     "model_module": "@jupyter-widgets/base",
     "model_module_version": "1.2.0",
     "model_name": "LayoutModel",
     "state": {
      "_model_module": "@jupyter-widgets/base",
      "_model_module_version": "1.2.0",
      "_model_name": "LayoutModel",
      "_view_count": null,
      "_view_module": "@jupyter-widgets/base",
      "_view_module_version": "1.2.0",
      "_view_name": "LayoutView",
      "align_content": null,
      "align_items": null,
      "align_self": null,
      "border": null,
      "bottom": null,
      "display": null,
      "flex": null,
      "flex_flow": null,
      "grid_area": null,
      "grid_auto_columns": null,
      "grid_auto_flow": null,
      "grid_auto_rows": null,
      "grid_column": null,
      "grid_gap": null,
      "grid_row": null,
      "grid_template_areas": null,
      "grid_template_columns": null,
      "grid_template_rows": null,
      "height": null,
      "justify_content": null,
      "justify_items": null,
      "left": null,
      "margin": null,
      "max_height": null,
      "max_width": null,
      "min_height": null,
      "min_width": null,
      "object_fit": null,
      "object_position": null,
      "order": null,
      "overflow": null,
      "overflow_x": null,
      "overflow_y": null,
      "padding": null,
      "right": null,
      "top": null,
      "visibility": null,
      "width": null
     }
    },
    "73c6418d411847dca3c4bd0f9ef7fcbc": {
     "model_module": "@jupyter-widgets/controls",
     "model_module_version": "1.5.0",
     "model_name": "HTMLModel",
     "state": {
      "_dom_classes": [],
      "_model_module": "@jupyter-widgets/controls",
      "_model_module_version": "1.5.0",
      "_model_name": "HTMLModel",
      "_view_count": null,
      "_view_module": "@jupyter-widgets/controls",
      "_view_module_version": "1.5.0",
      "_view_name": "HTMLView",
      "description": "",
      "description_tooltip": null,
      "layout": "IPY_MODEL_694aed22def84151848ae3da8116a38b",
      "placeholder": "​",
      "style": "IPY_MODEL_df95da193c9944f1bba8607cb1089fe0",
      "value": " 483/483 [00:00&lt;00:00, 12.2kB/s]"
     }
    },
    "7454506a1ef04847a3364680106e88dc": {
     "model_module": "@jupyter-widgets/controls",
     "model_module_version": "1.5.0",
     "model_name": "HTMLModel",
     "state": {
      "_dom_classes": [],
      "_model_module": "@jupyter-widgets/controls",
      "_model_module_version": "1.5.0",
      "_model_name": "HTMLModel",
      "_view_count": null,
      "_view_module": "@jupyter-widgets/controls",
      "_view_module_version": "1.5.0",
      "_view_name": "HTMLView",
      "description": "",
      "description_tooltip": null,
      "layout": "IPY_MODEL_85875ed826b14940a427bf1b9225d387",
      "placeholder": "​",
      "style": "IPY_MODEL_4e5761165db24fda922ff3eeaa5de5eb",
      "value": "Downloading: 100%"
     }
    },
    "777980fee491418aa8af96ceaa3966e3": {
     "model_module": "@jupyter-widgets/controls",
     "model_module_version": "1.5.0",
     "model_name": "HBoxModel",
     "state": {
      "_dom_classes": [],
      "_model_module": "@jupyter-widgets/controls",
      "_model_module_version": "1.5.0",
      "_model_name": "HBoxModel",
      "_view_count": null,
      "_view_module": "@jupyter-widgets/controls",
      "_view_module_version": "1.5.0",
      "_view_name": "HBoxView",
      "box_style": "",
      "children": [
       "IPY_MODEL_7454506a1ef04847a3364680106e88dc",
       "IPY_MODEL_7c7b7548287c4e7293472a7dc48e8a18",
       "IPY_MODEL_cd4d019492284a54a111d1f168352c10"
      ],
      "layout": "IPY_MODEL_e0d1c41847c14d55962a8e77e56fef98"
     }
    },
    "791b1f4a95b14dbeb25bae9c14b8ff6b": {
     "model_module": "@jupyter-widgets/controls",
     "model_module_version": "1.5.0",
     "model_name": "DescriptionStyleModel",
     "state": {
      "_model_module": "@jupyter-widgets/controls",
      "_model_module_version": "1.5.0",
      "_model_name": "DescriptionStyleModel",
      "_view_count": null,
      "_view_module": "@jupyter-widgets/base",
      "_view_module_version": "1.2.0",
      "_view_name": "StyleView",
      "description_width": ""
     }
    },
    "7c5e6054687a48f4b4b350fe60aff007": {
     "model_module": "@jupyter-widgets/controls",
     "model_module_version": "1.5.0",
     "model_name": "DescriptionStyleModel",
     "state": {
      "_model_module": "@jupyter-widgets/controls",
      "_model_module_version": "1.5.0",
      "_model_name": "DescriptionStyleModel",
      "_view_count": null,
      "_view_module": "@jupyter-widgets/base",
      "_view_module_version": "1.2.0",
      "_view_name": "StyleView",
      "description_width": ""
     }
    },
    "7c7b7548287c4e7293472a7dc48e8a18": {
     "model_module": "@jupyter-widgets/controls",
     "model_module_version": "1.5.0",
     "model_name": "FloatProgressModel",
     "state": {
      "_dom_classes": [],
      "_model_module": "@jupyter-widgets/controls",
      "_model_module_version": "1.5.0",
      "_model_name": "FloatProgressModel",
      "_view_count": null,
      "_view_module": "@jupyter-widgets/controls",
      "_view_module_version": "1.5.0",
      "_view_name": "ProgressView",
      "bar_style": "success",
      "description": "",
      "description_tooltip": null,
      "layout": "IPY_MODEL_096feaef27b142e2bd7273056765aa85",
      "max": 231508,
      "min": 0,
      "orientation": "horizontal",
      "style": "IPY_MODEL_38187d48113f46538bd6176067195793",
      "value": 231508
     }
    },
    "7e1efeee29694542a019c7e604f9387d": {
     "model_module": "@jupyter-widgets/controls",
     "model_module_version": "1.5.0",
     "model_name": "HTMLModel",
     "state": {
      "_dom_classes": [],
      "_model_module": "@jupyter-widgets/controls",
      "_model_module_version": "1.5.0",
      "_model_name": "HTMLModel",
      "_view_count": null,
      "_view_module": "@jupyter-widgets/controls",
      "_view_module_version": "1.5.0",
      "_view_name": "HTMLView",
      "description": "",
      "description_tooltip": null,
      "layout": "IPY_MODEL_03ec75f4515645209de820407d7ba6e1",
      "placeholder": "​",
      "style": "IPY_MODEL_6f24d2d53f7e448198da84f56825c3a1",
      "value": "Downloading: 100%"
     }
    },
    "85875ed826b14940a427bf1b9225d387": {
     "model_module": "@jupyter-widgets/base",
     "model_module_version": "1.2.0",
     "model_name": "LayoutModel",
     "state": {
      "_model_module": "@jupyter-widgets/base",
      "_model_module_version": "1.2.0",
      "_model_name": "LayoutModel",
      "_view_count": null,
      "_view_module": "@jupyter-widgets/base",
      "_view_module_version": "1.2.0",
      "_view_name": "LayoutView",
      "align_content": null,
      "align_items": null,
      "align_self": null,
      "border": null,
      "bottom": null,
      "display": null,
      "flex": null,
      "flex_flow": null,
      "grid_area": null,
      "grid_auto_columns": null,
      "grid_auto_flow": null,
      "grid_auto_rows": null,
      "grid_column": null,
      "grid_gap": null,
      "grid_row": null,
      "grid_template_areas": null,
      "grid_template_columns": null,
      "grid_template_rows": null,
      "height": null,
      "justify_content": null,
      "justify_items": null,
      "left": null,
      "margin": null,
      "max_height": null,
      "max_width": null,
      "min_height": null,
      "min_width": null,
      "object_fit": null,
      "object_position": null,
      "order": null,
      "overflow": null,
      "overflow_x": null,
      "overflow_y": null,
      "padding": null,
      "right": null,
      "top": null,
      "visibility": null,
      "width": null
     }
    },
    "8ce0d736b089421d9238897bfa9a468b": {
     "model_module": "@jupyter-widgets/controls",
     "model_module_version": "1.5.0",
     "model_name": "ProgressStyleModel",
     "state": {
      "_model_module": "@jupyter-widgets/controls",
      "_model_module_version": "1.5.0",
      "_model_name": "ProgressStyleModel",
      "_view_count": null,
      "_view_module": "@jupyter-widgets/base",
      "_view_module_version": "1.2.0",
      "_view_name": "StyleView",
      "bar_color": null,
      "description_width": ""
     }
    },
    "94c426401b9e437dba06b010ffb6eeda": {
     "model_module": "@jupyter-widgets/base",
     "model_module_version": "1.2.0",
     "model_name": "LayoutModel",
     "state": {
      "_model_module": "@jupyter-widgets/base",
      "_model_module_version": "1.2.0",
      "_model_name": "LayoutModel",
      "_view_count": null,
      "_view_module": "@jupyter-widgets/base",
      "_view_module_version": "1.2.0",
      "_view_name": "LayoutView",
      "align_content": null,
      "align_items": null,
      "align_self": null,
      "border": null,
      "bottom": null,
      "display": null,
      "flex": null,
      "flex_flow": null,
      "grid_area": null,
      "grid_auto_columns": null,
      "grid_auto_flow": null,
      "grid_auto_rows": null,
      "grid_column": null,
      "grid_gap": null,
      "grid_row": null,
      "grid_template_areas": null,
      "grid_template_columns": null,
      "grid_template_rows": null,
      "height": null,
      "justify_content": null,
      "justify_items": null,
      "left": null,
      "margin": null,
      "max_height": null,
      "max_width": null,
      "min_height": null,
      "min_width": null,
      "object_fit": null,
      "object_position": null,
      "order": null,
      "overflow": null,
      "overflow_x": null,
      "overflow_y": null,
      "padding": null,
      "right": null,
      "top": null,
      "visibility": null,
      "width": null
     }
    },
    "9586b97ccc304cdd98c8688761ae3a2b": {
     "model_module": "@jupyter-widgets/controls",
     "model_module_version": "1.5.0",
     "model_name": "ProgressStyleModel",
     "state": {
      "_model_module": "@jupyter-widgets/controls",
      "_model_module_version": "1.5.0",
      "_model_name": "ProgressStyleModel",
      "_view_count": null,
      "_view_module": "@jupyter-widgets/base",
      "_view_module_version": "1.2.0",
      "_view_name": "StyleView",
      "bar_color": null,
      "description_width": ""
     }
    },
    "9795a6a169854ac1accf26416b79642d": {
     "model_module": "@jupyter-widgets/controls",
     "model_module_version": "1.5.0",
     "model_name": "HTMLModel",
     "state": {
      "_dom_classes": [],
      "_model_module": "@jupyter-widgets/controls",
      "_model_module_version": "1.5.0",
      "_model_name": "HTMLModel",
      "_view_count": null,
      "_view_module": "@jupyter-widgets/controls",
      "_view_module_version": "1.5.0",
      "_view_name": "HTMLView",
      "description": "",
      "description_tooltip": null,
      "layout": "IPY_MODEL_eaf058e9b0484eefb92e968d33b76944",
      "placeholder": "​",
      "style": "IPY_MODEL_791b1f4a95b14dbeb25bae9c14b8ff6b",
      "value": " 256M/256M [00:08&lt;00:00, 28.4MB/s]"
     }
    },
    "99aeb31040f5453aa988964792a97331": {
     "model_module": "@jupyter-widgets/base",
     "model_module_version": "1.2.0",
     "model_name": "LayoutModel",
     "state": {
      "_model_module": "@jupyter-widgets/base",
      "_model_module_version": "1.2.0",
      "_model_name": "LayoutModel",
      "_view_count": null,
      "_view_module": "@jupyter-widgets/base",
      "_view_module_version": "1.2.0",
      "_view_name": "LayoutView",
      "align_content": null,
      "align_items": null,
      "align_self": null,
      "border": null,
      "bottom": null,
      "display": null,
      "flex": null,
      "flex_flow": null,
      "grid_area": null,
      "grid_auto_columns": null,
      "grid_auto_flow": null,
      "grid_auto_rows": null,
      "grid_column": null,
      "grid_gap": null,
      "grid_row": null,
      "grid_template_areas": null,
      "grid_template_columns": null,
      "grid_template_rows": null,
      "height": null,
      "justify_content": null,
      "justify_items": null,
      "left": null,
      "margin": null,
      "max_height": null,
      "max_width": null,
      "min_height": null,
      "min_width": null,
      "object_fit": null,
      "object_position": null,
      "order": null,
      "overflow": null,
      "overflow_x": null,
      "overflow_y": null,
      "padding": null,
      "right": null,
      "top": null,
      "visibility": null,
      "width": null
     }
    },
    "a36c2b97628543a9b5c6b8e81d602102": {
     "model_module": "@jupyter-widgets/base",
     "model_module_version": "1.2.0",
     "model_name": "LayoutModel",
     "state": {
      "_model_module": "@jupyter-widgets/base",
      "_model_module_version": "1.2.0",
      "_model_name": "LayoutModel",
      "_view_count": null,
      "_view_module": "@jupyter-widgets/base",
      "_view_module_version": "1.2.0",
      "_view_name": "LayoutView",
      "align_content": null,
      "align_items": null,
      "align_self": null,
      "border": null,
      "bottom": null,
      "display": null,
      "flex": null,
      "flex_flow": null,
      "grid_area": null,
      "grid_auto_columns": null,
      "grid_auto_flow": null,
      "grid_auto_rows": null,
      "grid_column": null,
      "grid_gap": null,
      "grid_row": null,
      "grid_template_areas": null,
      "grid_template_columns": null,
      "grid_template_rows": null,
      "height": null,
      "justify_content": null,
      "justify_items": null,
      "left": null,
      "margin": null,
      "max_height": null,
      "max_width": null,
      "min_height": null,
      "min_width": null,
      "object_fit": null,
      "object_position": null,
      "order": null,
      "overflow": null,
      "overflow_x": null,
      "overflow_y": null,
      "padding": null,
      "right": null,
      "top": null,
      "visibility": null,
      "width": null
     }
    },
    "a40994f8c11648429d26e5db30bd8155": {
     "model_module": "@jupyter-widgets/controls",
     "model_module_version": "1.5.0",
     "model_name": "DescriptionStyleModel",
     "state": {
      "_model_module": "@jupyter-widgets/controls",
      "_model_module_version": "1.5.0",
      "_model_name": "DescriptionStyleModel",
      "_view_count": null,
      "_view_module": "@jupyter-widgets/base",
      "_view_module_version": "1.2.0",
      "_view_name": "StyleView",
      "description_width": ""
     }
    },
    "a798ae487ae34bfaa0f9043c6eac5c31": {
     "model_module": "@jupyter-widgets/controls",
     "model_module_version": "1.5.0",
     "model_name": "DescriptionStyleModel",
     "state": {
      "_model_module": "@jupyter-widgets/controls",
      "_model_module_version": "1.5.0",
      "_model_name": "DescriptionStyleModel",
      "_view_count": null,
      "_view_module": "@jupyter-widgets/base",
      "_view_module_version": "1.2.0",
      "_view_name": "StyleView",
      "description_width": ""
     }
    },
    "aded8f663e364dcb8f60c4c5401033c2": {
     "model_module": "@jupyter-widgets/controls",
     "model_module_version": "1.5.0",
     "model_name": "HBoxModel",
     "state": {
      "_dom_classes": [],
      "_model_module": "@jupyter-widgets/controls",
      "_model_module_version": "1.5.0",
      "_model_name": "HBoxModel",
      "_view_count": null,
      "_view_module": "@jupyter-widgets/controls",
      "_view_module_version": "1.5.0",
      "_view_name": "HBoxView",
      "box_style": "",
      "children": [
       "IPY_MODEL_e7878b941a984171934e25bbc5afc756",
       "IPY_MODEL_f20392faa31444b5bbdb61acc82295fe",
       "IPY_MODEL_0cd7f748ac3c4498a4d50b4aee2630e9"
      ],
      "layout": "IPY_MODEL_d8dcd4fc33c24b5aa6dc208c8b4f90a7"
     }
    },
    "b12b64cb0d2445b3bec5135574930889": {
     "model_module": "@jupyter-widgets/base",
     "model_module_version": "1.2.0",
     "model_name": "LayoutModel",
     "state": {
      "_model_module": "@jupyter-widgets/base",
      "_model_module_version": "1.2.0",
      "_model_name": "LayoutModel",
      "_view_count": null,
      "_view_module": "@jupyter-widgets/base",
      "_view_module_version": "1.2.0",
      "_view_name": "LayoutView",
      "align_content": null,
      "align_items": null,
      "align_self": null,
      "border": null,
      "bottom": null,
      "display": null,
      "flex": null,
      "flex_flow": null,
      "grid_area": null,
      "grid_auto_columns": null,
      "grid_auto_flow": null,
      "grid_auto_rows": null,
      "grid_column": null,
      "grid_gap": null,
      "grid_row": null,
      "grid_template_areas": null,
      "grid_template_columns": null,
      "grid_template_rows": null,
      "height": null,
      "justify_content": null,
      "justify_items": null,
      "left": null,
      "margin": null,
      "max_height": null,
      "max_width": null,
      "min_height": null,
      "min_width": null,
      "object_fit": null,
      "object_position": null,
      "order": null,
      "overflow": null,
      "overflow_x": null,
      "overflow_y": null,
      "padding": null,
      "right": null,
      "top": null,
      "visibility": null,
      "width": null
     }
    },
    "ba02a5cf0fa943a897d15c6735c18df6": {
     "model_module": "@jupyter-widgets/base",
     "model_module_version": "1.2.0",
     "model_name": "LayoutModel",
     "state": {
      "_model_module": "@jupyter-widgets/base",
      "_model_module_version": "1.2.0",
      "_model_name": "LayoutModel",
      "_view_count": null,
      "_view_module": "@jupyter-widgets/base",
      "_view_module_version": "1.2.0",
      "_view_name": "LayoutView",
      "align_content": null,
      "align_items": null,
      "align_self": null,
      "border": null,
      "bottom": null,
      "display": null,
      "flex": null,
      "flex_flow": null,
      "grid_area": null,
      "grid_auto_columns": null,
      "grid_auto_flow": null,
      "grid_auto_rows": null,
      "grid_column": null,
      "grid_gap": null,
      "grid_row": null,
      "grid_template_areas": null,
      "grid_template_columns": null,
      "grid_template_rows": null,
      "height": null,
      "justify_content": null,
      "justify_items": null,
      "left": null,
      "margin": null,
      "max_height": null,
      "max_width": null,
      "min_height": null,
      "min_width": null,
      "object_fit": null,
      "object_position": null,
      "order": null,
      "overflow": null,
      "overflow_x": null,
      "overflow_y": null,
      "padding": null,
      "right": null,
      "top": null,
      "visibility": null,
      "width": null
     }
    },
    "c34e8e2c986946bf8eca93de5e7e6621": {
     "model_module": "@jupyter-widgets/base",
     "model_module_version": "1.2.0",
     "model_name": "LayoutModel",
     "state": {
      "_model_module": "@jupyter-widgets/base",
      "_model_module_version": "1.2.0",
      "_model_name": "LayoutModel",
      "_view_count": null,
      "_view_module": "@jupyter-widgets/base",
      "_view_module_version": "1.2.0",
      "_view_name": "LayoutView",
      "align_content": null,
      "align_items": null,
      "align_self": null,
      "border": null,
      "bottom": null,
      "display": null,
      "flex": null,
      "flex_flow": null,
      "grid_area": null,
      "grid_auto_columns": null,
      "grid_auto_flow": null,
      "grid_auto_rows": null,
      "grid_column": null,
      "grid_gap": null,
      "grid_row": null,
      "grid_template_areas": null,
      "grid_template_columns": null,
      "grid_template_rows": null,
      "height": null,
      "justify_content": null,
      "justify_items": null,
      "left": null,
      "margin": null,
      "max_height": null,
      "max_width": null,
      "min_height": null,
      "min_width": null,
      "object_fit": null,
      "object_position": null,
      "order": null,
      "overflow": null,
      "overflow_x": null,
      "overflow_y": null,
      "padding": null,
      "right": null,
      "top": null,
      "visibility": null,
      "width": null
     }
    },
    "c5d7a1aaa852473f881aea47c41ac0dc": {
     "model_module": "@jupyter-widgets/base",
     "model_module_version": "1.2.0",
     "model_name": "LayoutModel",
     "state": {
      "_model_module": "@jupyter-widgets/base",
      "_model_module_version": "1.2.0",
      "_model_name": "LayoutModel",
      "_view_count": null,
      "_view_module": "@jupyter-widgets/base",
      "_view_module_version": "1.2.0",
      "_view_name": "LayoutView",
      "align_content": null,
      "align_items": null,
      "align_self": null,
      "border": null,
      "bottom": null,
      "display": null,
      "flex": null,
      "flex_flow": null,
      "grid_area": null,
      "grid_auto_columns": null,
      "grid_auto_flow": null,
      "grid_auto_rows": null,
      "grid_column": null,
      "grid_gap": null,
      "grid_row": null,
      "grid_template_areas": null,
      "grid_template_columns": null,
      "grid_template_rows": null,
      "height": null,
      "justify_content": null,
      "justify_items": null,
      "left": null,
      "margin": null,
      "max_height": null,
      "max_width": null,
      "min_height": null,
      "min_width": null,
      "object_fit": null,
      "object_position": null,
      "order": null,
      "overflow": null,
      "overflow_x": null,
      "overflow_y": null,
      "padding": null,
      "right": null,
      "top": null,
      "visibility": null,
      "width": null
     }
    },
    "cd4d019492284a54a111d1f168352c10": {
     "model_module": "@jupyter-widgets/controls",
     "model_module_version": "1.5.0",
     "model_name": "HTMLModel",
     "state": {
      "_dom_classes": [],
      "_model_module": "@jupyter-widgets/controls",
      "_model_module_version": "1.5.0",
      "_model_name": "HTMLModel",
      "_view_count": null,
      "_view_module": "@jupyter-widgets/controls",
      "_view_module_version": "1.5.0",
      "_view_name": "HTMLView",
      "description": "",
      "description_tooltip": null,
      "layout": "IPY_MODEL_94c426401b9e437dba06b010ffb6eeda",
      "placeholder": "​",
      "style": "IPY_MODEL_3e96164236804fec9564697612e06c87",
      "value": " 226k/226k [00:00&lt;00:00, 1.11MB/s]"
     }
    },
    "cf364b2282fe4c1a87cf4e90021e8753": {
     "model_module": "@jupyter-widgets/controls",
     "model_module_version": "1.5.0",
     "model_name": "HTMLModel",
     "state": {
      "_dom_classes": [],
      "_model_module": "@jupyter-widgets/controls",
      "_model_module_version": "1.5.0",
      "_model_name": "HTMLModel",
      "_view_count": null,
      "_view_module": "@jupyter-widgets/controls",
      "_view_module_version": "1.5.0",
      "_view_name": "HTMLView",
      "description": "",
      "description_tooltip": null,
      "layout": "IPY_MODEL_a36c2b97628543a9b5c6b8e81d602102",
      "placeholder": "​",
      "style": "IPY_MODEL_7c5e6054687a48f4b4b350fe60aff007",
      "value": "Downloading: 100%"
     }
    },
    "d8dcd4fc33c24b5aa6dc208c8b4f90a7": {
     "model_module": "@jupyter-widgets/base",
     "model_module_version": "1.2.0",
     "model_name": "LayoutModel",
     "state": {
      "_model_module": "@jupyter-widgets/base",
      "_model_module_version": "1.2.0",
      "_model_name": "LayoutModel",
      "_view_count": null,
      "_view_module": "@jupyter-widgets/base",
      "_view_module_version": "1.2.0",
      "_view_name": "LayoutView",
      "align_content": null,
      "align_items": null,
      "align_self": null,
      "border": null,
      "bottom": null,
      "display": null,
      "flex": null,
      "flex_flow": null,
      "grid_area": null,
      "grid_auto_columns": null,
      "grid_auto_flow": null,
      "grid_auto_rows": null,
      "grid_column": null,
      "grid_gap": null,
      "grid_row": null,
      "grid_template_areas": null,
      "grid_template_columns": null,
      "grid_template_rows": null,
      "height": null,
      "justify_content": null,
      "justify_items": null,
      "left": null,
      "margin": null,
      "max_height": null,
      "max_width": null,
      "min_height": null,
      "min_width": null,
      "object_fit": null,
      "object_position": null,
      "order": null,
      "overflow": null,
      "overflow_x": null,
      "overflow_y": null,
      "padding": null,
      "right": null,
      "top": null,
      "visibility": null,
      "width": null
     }
    },
    "d92a1ad6a54b40c4a4093e0a9fb9a398": {
     "model_module": "@jupyter-widgets/controls",
     "model_module_version": "1.5.0",
     "model_name": "HBoxModel",
     "state": {
      "_dom_classes": [],
      "_model_module": "@jupyter-widgets/controls",
      "_model_module_version": "1.5.0",
      "_model_name": "HBoxModel",
      "_view_count": null,
      "_view_module": "@jupyter-widgets/controls",
      "_view_module_version": "1.5.0",
      "_view_name": "HBoxView",
      "box_style": "",
      "children": [
       "IPY_MODEL_6389ee95f7b94bc4be4ac231c98ef275",
       "IPY_MODEL_259a38ecc5c34a54ab78c7546a36df39",
       "IPY_MODEL_0a19f32063c241b0843f9ec778a08cd1"
      ],
      "layout": "IPY_MODEL_e6e654b089ac4726aac574ed7a57b07a"
     }
    },
    "df95da193c9944f1bba8607cb1089fe0": {
     "model_module": "@jupyter-widgets/controls",
     "model_module_version": "1.5.0",
     "model_name": "DescriptionStyleModel",
     "state": {
      "_model_module": "@jupyter-widgets/controls",
      "_model_module_version": "1.5.0",
      "_model_name": "DescriptionStyleModel",
      "_view_count": null,
      "_view_module": "@jupyter-widgets/base",
      "_view_module_version": "1.2.0",
      "_view_name": "StyleView",
      "description_width": ""
     }
    },
    "e0d1c41847c14d55962a8e77e56fef98": {
     "model_module": "@jupyter-widgets/base",
     "model_module_version": "1.2.0",
     "model_name": "LayoutModel",
     "state": {
      "_model_module": "@jupyter-widgets/base",
      "_model_module_version": "1.2.0",
      "_model_name": "LayoutModel",
      "_view_count": null,
      "_view_module": "@jupyter-widgets/base",
      "_view_module_version": "1.2.0",
      "_view_name": "LayoutView",
      "align_content": null,
      "align_items": null,
      "align_self": null,
      "border": null,
      "bottom": null,
      "display": null,
      "flex": null,
      "flex_flow": null,
      "grid_area": null,
      "grid_auto_columns": null,
      "grid_auto_flow": null,
      "grid_auto_rows": null,
      "grid_column": null,
      "grid_gap": null,
      "grid_row": null,
      "grid_template_areas": null,
      "grid_template_columns": null,
      "grid_template_rows": null,
      "height": null,
      "justify_content": null,
      "justify_items": null,
      "left": null,
      "margin": null,
      "max_height": null,
      "max_width": null,
      "min_height": null,
      "min_width": null,
      "object_fit": null,
      "object_position": null,
      "order": null,
      "overflow": null,
      "overflow_x": null,
      "overflow_y": null,
      "padding": null,
      "right": null,
      "top": null,
      "visibility": null,
      "width": null
     }
    },
    "e6e654b089ac4726aac574ed7a57b07a": {
     "model_module": "@jupyter-widgets/base",
     "model_module_version": "1.2.0",
     "model_name": "LayoutModel",
     "state": {
      "_model_module": "@jupyter-widgets/base",
      "_model_module_version": "1.2.0",
      "_model_name": "LayoutModel",
      "_view_count": null,
      "_view_module": "@jupyter-widgets/base",
      "_view_module_version": "1.2.0",
      "_view_name": "LayoutView",
      "align_content": null,
      "align_items": null,
      "align_self": null,
      "border": null,
      "bottom": null,
      "display": null,
      "flex": null,
      "flex_flow": null,
      "grid_area": null,
      "grid_auto_columns": null,
      "grid_auto_flow": null,
      "grid_auto_rows": null,
      "grid_column": null,
      "grid_gap": null,
      "grid_row": null,
      "grid_template_areas": null,
      "grid_template_columns": null,
      "grid_template_rows": null,
      "height": null,
      "justify_content": null,
      "justify_items": null,
      "left": null,
      "margin": null,
      "max_height": null,
      "max_width": null,
      "min_height": null,
      "min_width": null,
      "object_fit": null,
      "object_position": null,
      "order": null,
      "overflow": null,
      "overflow_x": null,
      "overflow_y": null,
      "padding": null,
      "right": null,
      "top": null,
      "visibility": null,
      "width": null
     }
    },
    "e7878b941a984171934e25bbc5afc756": {
     "model_module": "@jupyter-widgets/controls",
     "model_module_version": "1.5.0",
     "model_name": "HTMLModel",
     "state": {
      "_dom_classes": [],
      "_model_module": "@jupyter-widgets/controls",
      "_model_module_version": "1.5.0",
      "_model_name": "HTMLModel",
      "_view_count": null,
      "_view_module": "@jupyter-widgets/controls",
      "_view_module_version": "1.5.0",
      "_view_name": "HTMLView",
      "description": "",
      "description_tooltip": null,
      "layout": "IPY_MODEL_99aeb31040f5453aa988964792a97331",
      "placeholder": "​",
      "style": "IPY_MODEL_fe3faae201474b05972ee1c2842d9159",
      "value": "Downloading: 100%"
     }
    },
    "e88eed63858940efb5b8de38d2e43f91": {
     "model_module": "@jupyter-widgets/controls",
     "model_module_version": "1.5.0",
     "model_name": "ProgressStyleModel",
     "state": {
      "_model_module": "@jupyter-widgets/controls",
      "_model_module_version": "1.5.0",
      "_model_name": "ProgressStyleModel",
      "_view_count": null,
      "_view_module": "@jupyter-widgets/base",
      "_view_module_version": "1.2.0",
      "_view_name": "StyleView",
      "bar_color": null,
      "description_width": ""
     }
    },
    "eaf058e9b0484eefb92e968d33b76944": {
     "model_module": "@jupyter-widgets/base",
     "model_module_version": "1.2.0",
     "model_name": "LayoutModel",
     "state": {
      "_model_module": "@jupyter-widgets/base",
      "_model_module_version": "1.2.0",
      "_model_name": "LayoutModel",
      "_view_count": null,
      "_view_module": "@jupyter-widgets/base",
      "_view_module_version": "1.2.0",
      "_view_name": "LayoutView",
      "align_content": null,
      "align_items": null,
      "align_self": null,
      "border": null,
      "bottom": null,
      "display": null,
      "flex": null,
      "flex_flow": null,
      "grid_area": null,
      "grid_auto_columns": null,
      "grid_auto_flow": null,
      "grid_auto_rows": null,
      "grid_column": null,
      "grid_gap": null,
      "grid_row": null,
      "grid_template_areas": null,
      "grid_template_columns": null,
      "grid_template_rows": null,
      "height": null,
      "justify_content": null,
      "justify_items": null,
      "left": null,
      "margin": null,
      "max_height": null,
      "max_width": null,
      "min_height": null,
      "min_width": null,
      "object_fit": null,
      "object_position": null,
      "order": null,
      "overflow": null,
      "overflow_x": null,
      "overflow_y": null,
      "padding": null,
      "right": null,
      "top": null,
      "visibility": null,
      "width": null
     }
    },
    "f20392faa31444b5bbdb61acc82295fe": {
     "model_module": "@jupyter-widgets/controls",
     "model_module_version": "1.5.0",
     "model_name": "FloatProgressModel",
     "state": {
      "_dom_classes": [],
      "_model_module": "@jupyter-widgets/controls",
      "_model_module_version": "1.5.0",
      "_model_name": "FloatProgressModel",
      "_view_count": null,
      "_view_module": "@jupyter-widgets/controls",
      "_view_module_version": "1.5.0",
      "_view_name": "ProgressView",
      "bar_style": "success",
      "description": "",
      "description_tooltip": null,
      "layout": "IPY_MODEL_59155b92bc5941a499c11db387332911",
      "max": 28,
      "min": 0,
      "orientation": "horizontal",
      "style": "IPY_MODEL_e88eed63858940efb5b8de38d2e43f91",
      "value": 28
     }
    },
    "f21ecde03d5b4cd0978c92960d7e0c36": {
     "model_module": "@jupyter-widgets/controls",
     "model_module_version": "1.5.0",
     "model_name": "DescriptionStyleModel",
     "state": {
      "_model_module": "@jupyter-widgets/controls",
      "_model_module_version": "1.5.0",
      "_model_name": "DescriptionStyleModel",
      "_view_count": null,
      "_view_module": "@jupyter-widgets/base",
      "_view_module_version": "1.2.0",
      "_view_name": "StyleView",
      "description_width": ""
     }
    },
    "f4b3a5824d044a1a8a9749e9bf76c843": {
     "model_module": "@jupyter-widgets/controls",
     "model_module_version": "1.5.0",
     "model_name": "HBoxModel",
     "state": {
      "_dom_classes": [],
      "_model_module": "@jupyter-widgets/controls",
      "_model_module_version": "1.5.0",
      "_model_name": "HBoxModel",
      "_view_count": null,
      "_view_module": "@jupyter-widgets/controls",
      "_view_module_version": "1.5.0",
      "_view_name": "HBoxView",
      "box_style": "",
      "children": [
       "IPY_MODEL_cf364b2282fe4c1a87cf4e90021e8753",
       "IPY_MODEL_001a05bacf8e4bc4b2d6c8aeb1d76db3",
       "IPY_MODEL_9795a6a169854ac1accf26416b79642d"
      ],
      "layout": "IPY_MODEL_b12b64cb0d2445b3bec5135574930889"
     }
    },
    "fe3faae201474b05972ee1c2842d9159": {
     "model_module": "@jupyter-widgets/controls",
     "model_module_version": "1.5.0",
     "model_name": "DescriptionStyleModel",
     "state": {
      "_model_module": "@jupyter-widgets/controls",
      "_model_module_version": "1.5.0",
      "_model_name": "DescriptionStyleModel",
      "_view_count": null,
      "_view_module": "@jupyter-widgets/base",
      "_view_module_version": "1.2.0",
      "_view_name": "StyleView",
      "description_width": ""
     }
    }
   }
  }
 },
 "nbformat": 4,
 "nbformat_minor": 1
}
