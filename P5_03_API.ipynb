{
 "cells": [
  {
   "cell_type": "markdown",
   "metadata": {
    "colab_type": "text",
    "id": "moanVpuHKupQ"
   },
   "source": [
    "**Import des packages, chargement des modèles et définition des fonctions**"
   ]
  },
  {
   "cell_type": "code",
   "execution_count": 1,
   "metadata": {
    "colab": {
     "base_uri": "https://localhost:8080/",
     "height": 293
    },
    "colab_type": "code",
    "executionInfo": {
     "elapsed": 6792,
     "status": "ok",
     "timestamp": 1586694864969,
     "user": {
      "displayName": "Guillaume Paris",
      "photoUrl": "https://lh3.googleusercontent.com/a-/AOh14GhFgth5dZ7cMcdqkhYtJQvs-5Wrpf-CGcwSFJo1eg=s64",
      "userId": "14849193279139033796"
     },
     "user_tz": -120
    },
    "id": "wGyGnuy4obxC",
    "outputId": "2caff1db-856d-4202-b170-a3efe8b3f277"
   },
   "outputs": [
    {
     "name": "stdout",
     "output_type": "stream",
     "text": [
      "Requirement already satisfied: flask-ngrok in c:\\users\\mejdi\\anaconda3\\lib\\site-packages (0.0.25)\n",
      "Requirement already satisfied: requests in c:\\users\\mejdi\\anaconda3\\lib\\site-packages (from flask-ngrok) (2.27.1)\n",
      "Requirement already satisfied: Flask>=0.8 in c:\\users\\mejdi\\anaconda3\\lib\\site-packages (from flask-ngrok) (1.1.2)\n",
      "Requirement already satisfied: click>=5.1 in c:\\users\\mejdi\\anaconda3\\lib\\site-packages (from Flask>=0.8->flask-ngrok) (8.0.3)\n",
      "Requirement already satisfied: Jinja2>=2.10.1 in c:\\users\\mejdi\\anaconda3\\lib\\site-packages (from Flask>=0.8->flask-ngrok) (2.11.3)\n",
      "Requirement already satisfied: itsdangerous>=0.24 in c:\\users\\mejdi\\anaconda3\\lib\\site-packages (from Flask>=0.8->flask-ngrok) (2.0.1)\n",
      "Requirement already satisfied: Werkzeug>=0.15 in c:\\users\\mejdi\\anaconda3\\lib\\site-packages (from Flask>=0.8->flask-ngrok) (2.0.2)\n",
      "Requirement already satisfied: idna<4,>=2.5 in c:\\users\\mejdi\\anaconda3\\lib\\site-packages (from requests->flask-ngrok) (2.6)\n",
      "Requirement already satisfied: urllib3<1.27,>=1.21.1 in c:\\users\\mejdi\\anaconda3\\lib\\site-packages (from requests->flask-ngrok) (1.26.9)\n",
      "Requirement already satisfied: charset-normalizer~=2.0.0 in c:\\users\\mejdi\\anaconda3\\lib\\site-packages (from requests->flask-ngrok) (2.0.4)\n",
      "Requirement already satisfied: certifi>=2017.4.17 in c:\\users\\mejdi\\anaconda3\\lib\\site-packages (from requests->flask-ngrok) (2021.10.8)\n",
      "Requirement already satisfied: colorama in c:\\users\\mejdi\\anaconda3\\lib\\site-packages (from click>=5.1->Flask>=0.8->flask-ngrok) (0.4.4)\n",
      "Requirement already satisfied: MarkupSafe>=0.23 in c:\\users\\mejdi\\anaconda3\\lib\\site-packages (from Jinja2>=2.10.1->Flask>=0.8->flask-ngrok) (1.1.1)\n"
     ]
    }
   ],
   "source": [
    "!pip install flask-ngrok"
   ]
  },
  {
   "cell_type": "code",
   "execution_count": 6,
   "metadata": {
    "colab": {},
    "colab_type": "code",
    "id": "CSpNz812IzX4"
   },
   "outputs": [],
   "source": [
    "import pandas as pd\n",
    "import numpy as np\n",
    "from operator import itemgetter\n",
    "import pickle\n",
    "from sklearn.feature_extraction.text import CountVectorizer\n",
    "from sklearn.preprocessing import MultiLabelBinarizer\n",
    "from sklearn.linear_model import LogisticRegression\n",
    "from sklearn.multiclass import OneVsRestClassifier\n",
    "from gensim.models.ldamodel import LdaModel\n",
    "from gensim.corpora.dictionary import Dictionary\n",
    "\n",
    "import re\n",
    "import nltk\n",
    "from nltk.stem.snowball import EnglishStemmer\n",
    "from nltk.stem import WordNetLemmatizer\n",
    "from nltk.corpus import stopwords\n",
    "from bs4 import BeautifulSoup\n",
    "import spacy\n",
    "import en_core_web_sm\n",
    "nlp = en_core_web_sm.load()\n",
    "\n",
    "from flask import Flask, render_template, url_for, request\n",
    "from flask_ngrok import run_with_ngrok"
   ]
  },
  {
   "cell_type": "code",
   "execution_count": 9,
   "metadata": {
    "colab": {},
    "colab_type": "code",
    "id": "EaX25s4VJEt-"
   },
   "outputs": [],
   "source": [
    "def lower_case(text):\n",
    "  return text.lower()\n",
    "\n",
    "def rm_bad_character(text):\n",
    "  char = [\",\", \";\", \".\", \"?\", \"!\", \"'\", \":\", \"*\", \"/\", \"\\n\", \"(\", \")\", \"|\", \"_\", \"`\",\">\",\"<\",\"=\", \"$\", \"%\", '\"', \"[\",\"]\",\"{\",\"}\",\"-\"]\n",
    "  dig = [\"0\", \"1\", \"2\", \"3\", \"4\", \"5\", \"6\", \"7\", \"8\", \"9\"]\n",
    "  for word in char:\n",
    "    text = text.replace(word,'')\n",
    "  for num in dig:\n",
    "    text = text.replace(num,'')\n",
    "  return text\n",
    "\n",
    "def rm_stopwords(text):\n",
    "  stop_list = stopwords.words('english')\n",
    "  tokenizer = nltk.RegexpTokenizer('\\s+', gaps=True)\n",
    "  doc = tokenizer.tokenize(text)\n",
    "  words = [item for item in doc if item not in stop_list]\n",
    "  return ' '.join(words)\n",
    "\n",
    "def lem(text):\n",
    "  tokenizer = nltk.RegexpTokenizer('\\s+', gaps=True)\n",
    "  lemmatizer = WordNetLemmatizer()\n",
    "  doc = tokenizer.tokenize(text)\n",
    "  words = [lemmatizer.lemmatize(y, pos='v') for y in doc]\n",
    "  return ' '.join(words)\n"
   ]
  },
  {
   "cell_type": "code",
   "execution_count": 10,
   "metadata": {
    "colab": {},
    "colab_type": "code",
    "id": "EzylR-GfJHHN"
   },
   "outputs": [],
   "source": [
    "def cleansing(text):\n",
    "    text = lower_case(text)\n",
    "    text = rm_bad_character(text)\n",
    "    text = rm_stopwords(text)\n",
    "    text = lem(text)\n",
    "    return text"
   ]
  },
  {
   "cell_type": "code",
   "execution_count": 5,
   "metadata": {
    "colab": {
     "base_uri": "https://localhost:8080/",
     "height": 68
    },
    "colab_type": "code",
    "executionInfo": {
     "elapsed": 10991,
     "status": "ok",
     "timestamp": 1586694869346,
     "user": {
      "displayName": "Guillaume Paris",
      "photoUrl": "https://lh3.googleusercontent.com/a-/AOh14GhFgth5dZ7cMcdqkhYtJQvs-5Wrpf-CGcwSFJo1eg=s64",
      "userId": "14849193279139033796"
     },
     "user_tz": -120
    },
    "id": "aW41JVdqJJbc",
    "outputId": "fb0e8ae3-3dd0-4f45-8d92-31d154e59175"
   },
   "outputs": [
    {
     "name": "stdout",
     "output_type": "stream",
     "text": [
      "[nltk_data] Downloading package stopwords to /root/nltk_data...\n",
      "[nltk_data]   Unzipping corpora/stopwords.zip.\n"
     ]
    },
    {
     "data": {
      "text/plain": [
       "True"
      ]
     },
     "execution_count": 5,
     "metadata": {
      "tags": []
     },
     "output_type": "execute_result"
    }
   ],
   "source": [
    "nltk.download('stopwords')"
   ]
  },
  {
   "cell_type": "code",
   "execution_count": 6,
   "metadata": {
    "colab": {
     "base_uri": "https://localhost:8080/",
     "height": 68
    },
    "colab_type": "code",
    "executionInfo": {
     "elapsed": 12147,
     "status": "ok",
     "timestamp": 1586694870521,
     "user": {
      "displayName": "Guillaume Paris",
      "photoUrl": "https://lh3.googleusercontent.com/a-/AOh14GhFgth5dZ7cMcdqkhYtJQvs-5Wrpf-CGcwSFJo1eg=s64",
      "userId": "14849193279139033796"
     },
     "user_tz": -120
    },
    "id": "LxoSUIQwJJRr",
    "outputId": "33c55db2-9ae2-493a-cc4d-dfd05a218345"
   },
   "outputs": [
    {
     "name": "stdout",
     "output_type": "stream",
     "text": [
      "[nltk_data] Downloading package wordnet to /root/nltk_data...\n",
      "[nltk_data]   Unzipping corpora/wordnet.zip.\n"
     ]
    },
    {
     "data": {
      "text/plain": [
       "True"
      ]
     },
     "execution_count": 6,
     "metadata": {
      "tags": []
     },
     "output_type": "execute_result"
    }
   ],
   "source": [
    "nltk.download('wordnet')"
   ]
  },
  {
   "cell_type": "code",
   "execution_count": 11,
   "metadata": {
    "colab": {},
    "colab_type": "code",
    "id": "4Aj_iW4aJJH2"
   },
   "outputs": [],
   "source": [
    "clf = pickle.load(open('API/model_lr.pkl', 'rb'))\n",
    "mlb = pickle.load(open('API/multiLabBin.pkl', 'rb'))\n",
    "vector = pickle.load(open('API/vectorization.pkl', 'rb'))\n",
    "ldaModel = pickle.load(open('API/model_lda.pkl', 'rb'))\n",
    "dictionnary = pickle.load(open('API/dictionnary.pkl', 'rb'))"
   ]
  },
  {
   "cell_type": "code",
   "execution_count": 12,
   "metadata": {
    "colab": {},
    "colab_type": "code",
    "id": "TmzbuId5JI6_"
   },
   "outputs": [],
   "source": [
    "def make_prediction(title,body):\n",
    "  #on fusionne le title et le body\n",
    "  full_text = title+' '+body\n",
    "\n",
    "  #on nettoie notre data\n",
    "  text_clean = cleansing(full_text)\n",
    "\n",
    "  #Partie prédiction supervisée\n",
    "  #on insère notre résultat dans une liste pour effectuer les opérations suivantes\n",
    "  l = []\n",
    "  l.append(text_clean)\n",
    "\n",
    "  #on vectorise\n",
    "  input_to_pred = vector.transform(l)\n",
    "\n",
    "  #on passe à la prédiction\n",
    "  input_pred = clf.predict(input_to_pred)\n",
    "\n",
    "  #on récupère la ou les valeurs prédites\n",
    "  output = mlb.inverse_transform(input_pred)\n",
    "  tags = str(output).replace(\"[(\",'').replace(\")]\",'').replace(\",\",\" \")\n",
    "\n",
    "  #Partie prédiction non supervisée\n",
    "  #création du BOW à partir du dictionnaire\n",
    "  bow = dictionnary.doc2bow(text_clean.split())\n",
    "\n",
    "  #on récupère le meilleur topic\n",
    "  best_topic = max(ldaModel.get_document_topics(bow),key=itemgetter(1))[0]\n",
    "\n",
    "  #on récupère les 5 premiers keywors\n",
    "  keywords = [x[0] for x in ldaModel.show_topic(best_topic, topn=5)]\n",
    "  \n",
    "  return (keywords, tags)"
   ]
  },
  {
   "cell_type": "code",
   "execution_count": 13,
   "metadata": {
    "colab": {},
    "colab_type": "code",
    "id": "NkW3YBzoJQXk"
   },
   "outputs": [],
   "source": [
    "Body='I have been developing a private python package (my first py package) and want to change the name while retainng all my git commits.I formatted it in a similar way to Cookie Cutter Data Science where all the code lives in the src dir. This has been fine while building but when upload it to a server or another computer I don''t want to have to call it like... from src.data import * I have tried just renaming it using git mv src/ newname/ but when I push this change to Github all my files are lost (i know they are there but I would prefer to easily see all my past changes). I shared it in the form of a .whl file. So do I just have to rename it and deal with loosing the changes? Or is there a different git command to use. Or is there some configuration in the setup.py file i can do? Here is my setup.py for reference.'"
   ]
  },
  {
   "cell_type": "code",
   "execution_count": 14,
   "metadata": {
    "colab": {},
    "colab_type": "code",
    "id": "rrWBCn2sJQVn"
   },
   "outputs": [],
   "source": [
    "Title='Change private python package name while retaining git history'"
   ]
  },
  {
   "cell_type": "code",
   "execution_count": 15,
   "metadata": {
    "colab": {},
    "colab_type": "code",
    "id": "jEXL2HLYJQJY"
   },
   "outputs": [],
   "source": [
    "keywords, output = make_prediction(Title,Body)"
   ]
  },
  {
   "cell_type": "code",
   "execution_count": 16,
   "metadata": {
    "colab": {
     "base_uri": "https://localhost:8080/",
     "height": 51
    },
    "colab_type": "code",
    "executionInfo": {
     "elapsed": 871,
     "status": "ok",
     "timestamp": 1586694923538,
     "user": {
      "displayName": "Guillaume Paris",
      "photoUrl": "https://lh3.googleusercontent.com/a-/AOh14GhFgth5dZ7cMcdqkhYtJQvs-5Wrpf-CGcwSFJo1eg=s64",
      "userId": "14849193279139033796"
     },
     "user_tz": -120
    },
    "id": "W5hl2mMLYsND",
    "outputId": "fae34cf6-38bd-4cc5-ec2b-7e186acfee47"
   },
   "outputs": [
    {
     "name": "stdout",
     "output_type": "stream",
     "text": [
      "'git' \n",
      "['git', 'branch', 'commit', 'change', 'date']\n"
     ]
    }
   ],
   "source": [
    "print(output)\n",
    "print(keywords)"
   ]
  },
  {
   "cell_type": "markdown",
   "metadata": {
    "colab_type": "text",
    "id": "ggpxEqrTKpJq"
   },
   "source": [
    "**API**"
   ]
  },
  {
   "cell_type": "code",
   "execution_count": 17,
   "metadata": {
    "colab": {
     "base_uri": "https://localhost:8080/",
     "height": 153
    },
    "colab_type": "code",
    "executionInfo": {
     "elapsed": 57970,
     "status": "ok",
     "timestamp": 1586694916441,
     "user": {
      "displayName": "Guillaume Paris",
      "photoUrl": "https://lh3.googleusercontent.com/a-/AOh14GhFgth5dZ7cMcdqkhYtJQvs-5Wrpf-CGcwSFJo1eg=s64",
      "userId": "14849193279139033796"
     },
     "user_tz": -120
    },
    "id": "a4Uc1QdHKs_s",
    "outputId": "2a86ffe8-c0ac-443b-ce0c-8baeac3d71f1"
   },
   "outputs": [
    {
     "name": "stdout",
     "output_type": "stream",
     "text": [
      " * Serving Flask app \"__main__\" (lazy loading)\n",
      " * Environment: production\n",
      "\u001b[31m   WARNING: This is a development server. Do not use it in a production deployment.\u001b[0m\n",
      "\u001b[2m   Use a production WSGI server instead.\u001b[0m\n",
      " * Debug mode: off\n"
     ]
    },
    {
     "name": "stderr",
     "output_type": "stream",
     "text": [
      " * Running on http://127.0.0.1:5000/ (Press CTRL+C to quit)\n",
      "127.0.0.1 - - [08/May/2022 16:56:28] \"GET / HTTP/1.1\" 200 -\n"
     ]
    },
    {
     "name": "stdout",
     "output_type": "stream",
     "text": [
      " * Running on http://e729-41-62-14-19.ngrok.io\n",
      " * Traffic stats available on http://127.0.0.1:4040\n"
     ]
    },
    {
     "name": "stderr",
     "output_type": "stream",
     "text": [
      "127.0.0.1 - - [08/May/2022 16:56:43] \"POST /predict HTTP/1.1\" 200 -\n"
     ]
    }
   ],
   "source": [
    "app = Flask(__name__)\n",
    "run_with_ngrok(app)\n",
    " \n",
    "@app.route('/', methods = ['GET','POST'])\n",
    "def main():\n",
    "    return \"\"\"<!DOCTYPE html>\n",
    "                <html>\n",
    "                    <head>\n",
    "                         <title>Catégoriser questions</title>\n",
    "                    </head>\n",
    "                    <body>\n",
    "                        <div align=\"center\" class=\"bg-info\">\n",
    "                            <h1>Prediction de Tags</h1>\n",
    "                        </div>\n",
    "                        <div class=\"big\" align=\"center\">\n",
    "                            <form action=\"predict\" method=\"POST\">\n",
    "                                <h3>Entrez un titre</h3>\n",
    "                                <textarea name=\"title\" rows=\"1\" cols=\"70\"></textarea>\n",
    "                                <br>\n",
    "                                <h3>Entez un contenu</h3>\n",
    "                                <textarea name=\"body\" rows=\"20\" cols=\"70\"></textarea>\n",
    "                                   <br><br><br>\n",
    "                               <input type=\"submit\" name=\"\" value=\"Predict\" class=\"btn btn-info\">\n",
    "                              </form>\n",
    "                         </div>\n",
    "                    </body>\n",
    "                </html>\n",
    "                \"\"\"\n",
    "\n",
    "@app.route('/predict', methods = ['POST'])\n",
    "def predict():\n",
    "    title = \"\"\n",
    "    body = \"\"\n",
    "    if request.method == 'POST':\n",
    "        title = str(request.form['title'])\n",
    "        body = str(request.form['body'])\n",
    "    keywords, tags = make_prediction(title, body)\n",
    "    return \"\"\"\n",
    "            <!DOCTYPE html>\n",
    "            <html>\n",
    "                <head>\n",
    "                     <title>Catégoriser questions</title>\n",
    "                </head>\n",
    "                <body>\n",
    "                    <div class=\"big\" align=\"center\">\n",
    "                                <h4>Titre saisi</h4>\n",
    "                                <textarea name=\"title\" rows=\"1\" cols=\"100\"disabled>\"\"\"+ title +\"\"\"</textarea>\n",
    "                                <br>\n",
    "                                <h4>Contenu saisi</h4>\n",
    "                                <textarea name=\"body\" rows=\"7\" cols=\"100\" disabled>\"\"\"+ body +\"\"\"</textarea>\n",
    "                                <br><br>\n",
    "                    </div>\n",
    "                     <div class=\"bg-info\" align=\"center\">\n",
    "                         <h2>Mots clés proposes :</h2>\n",
    "                     </div>\n",
    "                     <div align=\"center\">\n",
    "                          <textarea rows=\"1\" cols=\"10\" disabled>\"\"\"+ keywords[0] +\"\"\"</textarea>\n",
    "                          <textarea rows=\"1\" cols=\"10\" disabled>\"\"\"+ keywords[1] +\"\"\"</textarea>\n",
    "                          <textarea rows=\"1\" cols=\"10\" disabled>\"\"\"+ keywords[2] +\"\"\"</textarea>\n",
    "                          <textarea rows=\"1\" cols=\"10\" disabled>\"\"\"+ keywords[3] +\"\"\"</textarea>\n",
    "                          <textarea rows=\"1\" cols=\"10\" disabled>\"\"\"+ keywords[4] +\"\"\"</textarea>\n",
    "                          <h2>Tags proposes :</h2>\n",
    "                          <textarea rows=\"1\" cols=\"10\" disabled>\"\"\"+ str(tags) +\"\"\"</textarea>\n",
    "                     </div>\n",
    "                     <br><br><br>\n",
    "                     <form action=\"/\" method=\"POST\" align=\"center\">\n",
    "                         <input type=\"submit\" name=\"\" value=\"Try again\" class=\"btn btn-info\">\n",
    "                     </form>\n",
    "                </body>\n",
    "            </html>\n",
    "        \"\"\"\n",
    "if __name__ == '__main__':\n",
    "    app.run()"
   ]
  }
 ],
 "metadata": {
  "accelerator": "GPU",
  "colab": {
   "authorship_tag": "ABX9TyMdtudwnrzkrOf53bGcyD3j",
   "mount_file_id": "14AIW6qxbvTbdENpqsB4kbPk-gnWioh4r",
   "name": "Projet5_API.ipynb",
   "provenance": []
  },
  "kernelspec": {
   "display_name": "Python 3 (ipykernel)",
   "language": "python",
   "name": "python3"
  },
  "language_info": {
   "codemirror_mode": {
    "name": "ipython",
    "version": 3
   },
   "file_extension": ".py",
   "mimetype": "text/x-python",
   "name": "python",
   "nbconvert_exporter": "python",
   "pygments_lexer": "ipython3",
   "version": "3.9.7"
  }
 },
 "nbformat": 4,
 "nbformat_minor": 1
}
